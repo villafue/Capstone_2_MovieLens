{
  "nbformat": 4,
  "nbformat_minor": 0,
  "metadata": {
    "kernelspec": {
      "display_name": "Python 2",
      "language": "python",
      "name": "python2"
    },
    "language_info": {
      "codemirror_mode": {
        "name": "ipython",
        "version": 2
      },
      "file_extension": ".py",
      "mimetype": "text/x-python",
      "name": "python",
      "nbconvert_exporter": "python",
      "pygments_lexer": "ipython2",
      "version": "2.7.9"
    },
    "colab": {
      "name": "questions.ipynb",
      "provenance": [],
      "include_colab_link": true
    }
  },
  "cells": [
    {
      "cell_type": "markdown",
      "metadata": {
        "id": "view-in-github",
        "colab_type": "text"
      },
      "source": [
        "<a href=\"https://colab.research.google.com/github/villafue/Capstone_2_Netflix/blob/main/Springboard/Tutorial/Springboard/pycon2015_tutorial322/questions.ipynb\" target=\"_parent\"><img src=\"https://colab.research.google.com/assets/colab-badge.svg\" alt=\"Open In Colab\"/></a>"
      ]
    },
    {
      "cell_type": "markdown",
      "metadata": {
        "id": "KNmmdyEYuqwR"
      },
      "source": [
        "# Exercises for \"Hands-on with Pydata: How to Build a Minimal Recommendation Engine\""
      ]
    },
    {
      "cell_type": "markdown",
      "metadata": {
        "id": "9WRPd4dLuqwT"
      },
      "source": [
        "# Systems check: imports and files"
      ]
    },
    {
      "cell_type": "code",
      "metadata": {
        "id": "-5QrbNX-uqwU"
      },
      "source": [
        "import numpy as np\n",
        "import pandas as pd"
      ],
      "execution_count": 1,
      "outputs": []
    },
    {
      "cell_type": "markdown",
      "metadata": {
        "id": "YGad6gXvuqwU"
      },
      "source": [
        "# Pandas questions: Series and DataFrames\n",
        "## 1. Adding a column in a DataFrame"
      ]
    },
    {
      "cell_type": "code",
      "metadata": {
        "id": "dLgcIdBauqwV",
        "outputId": "e94c636b-01d9-403d-9d52-0968da84e466",
        "colab": {
          "base_uri": "https://localhost:8080/",
          "height": 166
        }
      },
      "source": [
        "# given the following DataFrame, add a new column to it\n",
        "df = pd.DataFrame({'col1': [1,2,3,4], 'col2': [5,6,7,8]})\n",
        "df"
      ],
      "execution_count": 4,
      "outputs": [
        {
          "output_type": "execute_result",
          "data": {
            "text/plain": [
              "   col1  col2\n",
              "0     1     5\n",
              "1     2     6\n",
              "2     3     7\n",
              "3     4     8"
            ],
            "text/html": [
              "<div>\n",
              "<style scoped>\n",
              "    .dataframe tbody tr th:only-of-type {\n",
              "        vertical-align: middle;\n",
              "    }\n",
              "\n",
              "    .dataframe tbody tr th {\n",
              "        vertical-align: top;\n",
              "    }\n",
              "\n",
              "    .dataframe thead th {\n",
              "        text-align: right;\n",
              "    }\n",
              "</style>\n",
              "<table border=\"1\" class=\"dataframe\">\n",
              "  <thead>\n",
              "    <tr style=\"text-align: right;\">\n",
              "      <th></th>\n",
              "      <th>col1</th>\n",
              "      <th>col2</th>\n",
              "    </tr>\n",
              "  </thead>\n",
              "  <tbody>\n",
              "    <tr>\n",
              "      <th>0</th>\n",
              "      <td>1</td>\n",
              "      <td>5</td>\n",
              "    </tr>\n",
              "    <tr>\n",
              "      <th>1</th>\n",
              "      <td>2</td>\n",
              "      <td>6</td>\n",
              "    </tr>\n",
              "    <tr>\n",
              "      <th>2</th>\n",
              "      <td>3</td>\n",
              "      <td>7</td>\n",
              "    </tr>\n",
              "    <tr>\n",
              "      <th>3</th>\n",
              "      <td>4</td>\n",
              "      <td>8</td>\n",
              "    </tr>\n",
              "  </tbody>\n",
              "</table>\n",
              "</div>"
            ]
          },
          "metadata": {
            "tags": []
          },
          "execution_count": 4
        }
      ]
    },
    {
      "cell_type": "code",
      "metadata": {
        "id": "kRlSX0CWR3qj",
        "outputId": "12326da3-c00a-49d8-b177-40f40a81e0d6",
        "colab": {
          "base_uri": "https://localhost:8080/",
          "height": 166
        }
      },
      "source": [
        "# given the following DataFrame, delete row 'd' from it\n",
        "df = pd.DataFrame({'col1': [1,2,3,4]}, index = ['a','b','c','d'])\n",
        "df['new_col'] = [9,10,11,12]\n",
        "df"
      ],
      "execution_count": 6,
      "outputs": [
        {
          "output_type": "execute_result",
          "data": {
            "text/plain": [
              "   col1  new_col\n",
              "a     1        9\n",
              "b     2       10\n",
              "c     3       11\n",
              "d     4       12"
            ],
            "text/html": [
              "<div>\n",
              "<style scoped>\n",
              "    .dataframe tbody tr th:only-of-type {\n",
              "        vertical-align: middle;\n",
              "    }\n",
              "\n",
              "    .dataframe tbody tr th {\n",
              "        vertical-align: top;\n",
              "    }\n",
              "\n",
              "    .dataframe thead th {\n",
              "        text-align: right;\n",
              "    }\n",
              "</style>\n",
              "<table border=\"1\" class=\"dataframe\">\n",
              "  <thead>\n",
              "    <tr style=\"text-align: right;\">\n",
              "      <th></th>\n",
              "      <th>col1</th>\n",
              "      <th>new_col</th>\n",
              "    </tr>\n",
              "  </thead>\n",
              "  <tbody>\n",
              "    <tr>\n",
              "      <th>a</th>\n",
              "      <td>1</td>\n",
              "      <td>9</td>\n",
              "    </tr>\n",
              "    <tr>\n",
              "      <th>b</th>\n",
              "      <td>2</td>\n",
              "      <td>10</td>\n",
              "    </tr>\n",
              "    <tr>\n",
              "      <th>c</th>\n",
              "      <td>3</td>\n",
              "      <td>11</td>\n",
              "    </tr>\n",
              "    <tr>\n",
              "      <th>d</th>\n",
              "      <td>4</td>\n",
              "      <td>12</td>\n",
              "    </tr>\n",
              "  </tbody>\n",
              "</table>\n",
              "</div>"
            ]
          },
          "metadata": {
            "tags": []
          },
          "execution_count": 6
        }
      ]
    },
    {
      "cell_type": "markdown",
      "metadata": {
        "id": "xHs3Akk9uqwX"
      },
      "source": [
        "## 2. Deleting a row in a DataFrame"
      ]
    },
    {
      "cell_type": "code",
      "metadata": {
        "colab": {
          "base_uri": "https://localhost:8080/",
          "height": 136
        },
        "id": "rWHnldTxuqwX",
        "outputId": "34ea84eb-947e-4276-9fda-6d4f313b764b"
      },
      "source": [
        "# given the following DataFrame, delete row 'd' from it\n",
        "df = pd.DataFrame({'col1': [1,2,3,4]}, index = ['a','b','c','d'])\n",
        "df.drop('d', inplace=True)\n",
        "df"
      ],
      "execution_count": 9,
      "outputs": [
        {
          "output_type": "execute_result",
          "data": {
            "text/plain": [
              "   col1\n",
              "a     1\n",
              "b     2\n",
              "c     3"
            ],
            "text/html": [
              "<div>\n",
              "<style scoped>\n",
              "    .dataframe tbody tr th:only-of-type {\n",
              "        vertical-align: middle;\n",
              "    }\n",
              "\n",
              "    .dataframe tbody tr th {\n",
              "        vertical-align: top;\n",
              "    }\n",
              "\n",
              "    .dataframe thead th {\n",
              "        text-align: right;\n",
              "    }\n",
              "</style>\n",
              "<table border=\"1\" class=\"dataframe\">\n",
              "  <thead>\n",
              "    <tr style=\"text-align: right;\">\n",
              "      <th></th>\n",
              "      <th>col1</th>\n",
              "    </tr>\n",
              "  </thead>\n",
              "  <tbody>\n",
              "    <tr>\n",
              "      <th>a</th>\n",
              "      <td>1</td>\n",
              "    </tr>\n",
              "    <tr>\n",
              "      <th>b</th>\n",
              "      <td>2</td>\n",
              "    </tr>\n",
              "    <tr>\n",
              "      <th>c</th>\n",
              "      <td>3</td>\n",
              "    </tr>\n",
              "  </tbody>\n",
              "</table>\n",
              "</div>"
            ]
          },
          "metadata": {
            "tags": []
          },
          "execution_count": 9
        }
      ]
    },
    {
      "cell_type": "markdown",
      "metadata": {
        "id": "MuHonsWCuqwX"
      },
      "source": [
        "## 3. Creating a DataFrame from a few Series"
      ]
    },
    {
      "cell_type": "code",
      "metadata": {
        "id": "YNONi8LguqwX",
        "outputId": "f686c2c4-7aa2-4e35-f743-d383dab2ec87",
        "colab": {
          "base_uri": "https://localhost:8080/",
          "height": 136
        }
      },
      "source": [
        "# given the following three Series, create a DataFrame such that it holds them as its columns\n",
        "ser_1 = pd.Series(np.random.randn(6))\n",
        "ser_2 = pd.Series(np.random.randn(6))\n",
        "ser_3 = pd.Series(np.random.randn(6))\n",
        "\n",
        "ser_df = pd.DataFrame(data = [ser_1, ser_2, ser_3])\n",
        "ser_df"
      ],
      "execution_count": 12,
      "outputs": [
        {
          "output_type": "execute_result",
          "data": {
            "text/plain": [
              "          0         1         2         3         4         5\n",
              "0 -0.999653 -0.253890 -1.121598  1.010978  2.274891 -0.644782\n",
              "1  2.381978 -0.523126 -0.242981 -1.708476  1.864009 -0.107700\n",
              "2  0.017161  2.023731 -0.076905 -0.966549  0.915938 -0.083090"
            ],
            "text/html": [
              "<div>\n",
              "<style scoped>\n",
              "    .dataframe tbody tr th:only-of-type {\n",
              "        vertical-align: middle;\n",
              "    }\n",
              "\n",
              "    .dataframe tbody tr th {\n",
              "        vertical-align: top;\n",
              "    }\n",
              "\n",
              "    .dataframe thead th {\n",
              "        text-align: right;\n",
              "    }\n",
              "</style>\n",
              "<table border=\"1\" class=\"dataframe\">\n",
              "  <thead>\n",
              "    <tr style=\"text-align: right;\">\n",
              "      <th></th>\n",
              "      <th>0</th>\n",
              "      <th>1</th>\n",
              "      <th>2</th>\n",
              "      <th>3</th>\n",
              "      <th>4</th>\n",
              "      <th>5</th>\n",
              "    </tr>\n",
              "  </thead>\n",
              "  <tbody>\n",
              "    <tr>\n",
              "      <th>0</th>\n",
              "      <td>-0.999653</td>\n",
              "      <td>-0.253890</td>\n",
              "      <td>-1.121598</td>\n",
              "      <td>1.010978</td>\n",
              "      <td>2.274891</td>\n",
              "      <td>-0.644782</td>\n",
              "    </tr>\n",
              "    <tr>\n",
              "      <th>1</th>\n",
              "      <td>2.381978</td>\n",
              "      <td>-0.523126</td>\n",
              "      <td>-0.242981</td>\n",
              "      <td>-1.708476</td>\n",
              "      <td>1.864009</td>\n",
              "      <td>-0.107700</td>\n",
              "    </tr>\n",
              "    <tr>\n",
              "      <th>2</th>\n",
              "      <td>0.017161</td>\n",
              "      <td>2.023731</td>\n",
              "      <td>-0.076905</td>\n",
              "      <td>-0.966549</td>\n",
              "      <td>0.915938</td>\n",
              "      <td>-0.083090</td>\n",
              "    </tr>\n",
              "  </tbody>\n",
              "</table>\n",
              "</div>"
            ]
          },
          "metadata": {
            "tags": []
          },
          "execution_count": 12
        }
      ]
    },
    {
      "cell_type": "code",
      "metadata": {
        "id": "TTUDnzOUTZPZ",
        "outputId": "413d5e9d-2f7c-4a5b-f103-e63919d048b7",
        "colab": {
          "base_uri": "https://localhost:8080/",
          "height": 225
        }
      },
      "source": [
        "# given the following three Series, create a DataFrame such that it holds them as its columns\r\n",
        "ser_1 = pd.Series(np.random.randn(6))\r\n",
        "ser_2 = pd.Series(np.random.randn(6))\r\n",
        "ser_3 = pd.Series(np.random.randn(6))\r\n",
        "\r\n",
        "ser_df = pd.DataFrame({'col1':ser_1, 'col2':ser_2, 'col3':ser_3})\r\n",
        "ser_df"
      ],
      "execution_count": 14,
      "outputs": [
        {
          "output_type": "execute_result",
          "data": {
            "text/plain": [
              "       col1      col2      col3\n",
              "0  0.045396  0.605526  0.264433\n",
              "1 -0.857743 -0.072877  0.310639\n",
              "2 -0.503632  1.711126 -1.099815\n",
              "3 -0.488894 -0.372545 -0.233504\n",
              "4 -1.115007 -0.144076  0.255747\n",
              "5  0.656288  0.461408 -0.140778"
            ],
            "text/html": [
              "<div>\n",
              "<style scoped>\n",
              "    .dataframe tbody tr th:only-of-type {\n",
              "        vertical-align: middle;\n",
              "    }\n",
              "\n",
              "    .dataframe tbody tr th {\n",
              "        vertical-align: top;\n",
              "    }\n",
              "\n",
              "    .dataframe thead th {\n",
              "        text-align: right;\n",
              "    }\n",
              "</style>\n",
              "<table border=\"1\" class=\"dataframe\">\n",
              "  <thead>\n",
              "    <tr style=\"text-align: right;\">\n",
              "      <th></th>\n",
              "      <th>col1</th>\n",
              "      <th>col2</th>\n",
              "      <th>col3</th>\n",
              "    </tr>\n",
              "  </thead>\n",
              "  <tbody>\n",
              "    <tr>\n",
              "      <th>0</th>\n",
              "      <td>0.045396</td>\n",
              "      <td>0.605526</td>\n",
              "      <td>0.264433</td>\n",
              "    </tr>\n",
              "    <tr>\n",
              "      <th>1</th>\n",
              "      <td>-0.857743</td>\n",
              "      <td>-0.072877</td>\n",
              "      <td>0.310639</td>\n",
              "    </tr>\n",
              "    <tr>\n",
              "      <th>2</th>\n",
              "      <td>-0.503632</td>\n",
              "      <td>1.711126</td>\n",
              "      <td>-1.099815</td>\n",
              "    </tr>\n",
              "    <tr>\n",
              "      <th>3</th>\n",
              "      <td>-0.488894</td>\n",
              "      <td>-0.372545</td>\n",
              "      <td>-0.233504</td>\n",
              "    </tr>\n",
              "    <tr>\n",
              "      <th>4</th>\n",
              "      <td>-1.115007</td>\n",
              "      <td>-0.144076</td>\n",
              "      <td>0.255747</td>\n",
              "    </tr>\n",
              "    <tr>\n",
              "      <th>5</th>\n",
              "      <td>0.656288</td>\n",
              "      <td>0.461408</td>\n",
              "      <td>-0.140778</td>\n",
              "    </tr>\n",
              "  </tbody>\n",
              "</table>\n",
              "</div>"
            ]
          },
          "metadata": {
            "tags": []
          },
          "execution_count": 14
        }
      ]
    },
    {
      "cell_type": "markdown",
      "metadata": {
        "id": "7DsAmmFUuqwY"
      },
      "source": [
        "# Pandas questions: Indexing"
      ]
    },
    {
      "cell_type": "markdown",
      "metadata": {
        "id": "rOTVsC8LuqwY"
      },
      "source": [
        "## 1. Indexing into a specific column"
      ]
    },
    {
      "cell_type": "code",
      "metadata": {
        "id": "ZqZdT7cquqwY",
        "outputId": "a353ffe5-d02a-4410-b272-72ef5823a444",
        "colab": {
          "base_uri": "https://localhost:8080/",
          "height": 166
        }
      },
      "source": [
        "# given the following DataFrame, try to index into the 'col_2' column\n",
        "df = pd.DataFrame(data={'col_1': [0.12, 7, 45, 10], 'col_2': [0.9, 9, 34, 11]},\n",
        "                  columns=['col_1', 'col_2', 'col_3'],\n",
        "                  index=['obs1', 'obs2', 'obs3', 'obs4'])\n",
        "df"
      ],
      "execution_count": 15,
      "outputs": [
        {
          "output_type": "execute_result",
          "data": {
            "text/plain": [
              "      col_1  col_2 col_3\n",
              "obs1   0.12    0.9   NaN\n",
              "obs2   7.00    9.0   NaN\n",
              "obs3  45.00   34.0   NaN\n",
              "obs4  10.00   11.0   NaN"
            ],
            "text/html": [
              "<div>\n",
              "<style scoped>\n",
              "    .dataframe tbody tr th:only-of-type {\n",
              "        vertical-align: middle;\n",
              "    }\n",
              "\n",
              "    .dataframe tbody tr th {\n",
              "        vertical-align: top;\n",
              "    }\n",
              "\n",
              "    .dataframe thead th {\n",
              "        text-align: right;\n",
              "    }\n",
              "</style>\n",
              "<table border=\"1\" class=\"dataframe\">\n",
              "  <thead>\n",
              "    <tr style=\"text-align: right;\">\n",
              "      <th></th>\n",
              "      <th>col_1</th>\n",
              "      <th>col_2</th>\n",
              "      <th>col_3</th>\n",
              "    </tr>\n",
              "  </thead>\n",
              "  <tbody>\n",
              "    <tr>\n",
              "      <th>obs1</th>\n",
              "      <td>0.12</td>\n",
              "      <td>0.9</td>\n",
              "      <td>NaN</td>\n",
              "    </tr>\n",
              "    <tr>\n",
              "      <th>obs2</th>\n",
              "      <td>7.00</td>\n",
              "      <td>9.0</td>\n",
              "      <td>NaN</td>\n",
              "    </tr>\n",
              "    <tr>\n",
              "      <th>obs3</th>\n",
              "      <td>45.00</td>\n",
              "      <td>34.0</td>\n",
              "      <td>NaN</td>\n",
              "    </tr>\n",
              "    <tr>\n",
              "      <th>obs4</th>\n",
              "      <td>10.00</td>\n",
              "      <td>11.0</td>\n",
              "      <td>NaN</td>\n",
              "    </tr>\n",
              "  </tbody>\n",
              "</table>\n",
              "</div>"
            ]
          },
          "metadata": {
            "tags": []
          },
          "execution_count": 15
        }
      ]
    },
    {
      "cell_type": "code",
      "metadata": {
        "id": "x280R5ZLTqzJ",
        "outputId": "a837af76-e0aa-4f4a-8757-14ee396bcdfd",
        "colab": {
          "base_uri": "https://localhost:8080/"
        }
      },
      "source": [
        "df.col_2"
      ],
      "execution_count": 17,
      "outputs": [
        {
          "output_type": "execute_result",
          "data": {
            "text/plain": [
              "obs1     0.9\n",
              "obs2     9.0\n",
              "obs3    34.0\n",
              "obs4    11.0\n",
              "Name: col_2, dtype: float64"
            ]
          },
          "metadata": {
            "tags": []
          },
          "execution_count": 17
        }
      ]
    },
    {
      "cell_type": "markdown",
      "metadata": {
        "id": "dll1ketsuqwZ"
      },
      "source": [
        "## 2. Label-based indexing"
      ]
    },
    {
      "cell_type": "code",
      "metadata": {
        "id": "AsfUa_HHuqwZ",
        "outputId": "dec2b8dc-4524-4b0c-c764-315c9ac94449",
        "colab": {
          "base_uri": "https://localhost:8080/"
        }
      },
      "source": [
        "# using the same DataFrame, index into the row whose index is 'obs3'\n",
        "df.loc['obs3']"
      ],
      "execution_count": 20,
      "outputs": [
        {
          "output_type": "execute_result",
          "data": {
            "text/plain": [
              "col_1     45\n",
              "col_2     34\n",
              "col_3    NaN\n",
              "Name: obs3, dtype: object"
            ]
          },
          "metadata": {
            "tags": []
          },
          "execution_count": 20
        }
      ]
    },
    {
      "cell_type": "markdown",
      "metadata": {
        "id": "YZkDMfDbuqwZ"
      },
      "source": [
        "## 2. Position-based indexing"
      ]
    },
    {
      "cell_type": "code",
      "metadata": {
        "id": "g9IvIiiguqwZ",
        "outputId": "9f4c625e-4c78-4dbc-a524-25d543c5f0cc",
        "colab": {
          "base_uri": "https://localhost:8080/"
        }
      },
      "source": [
        "# using the same DataFrame, index into into its first row\n",
        "df.iloc[0]"
      ],
      "execution_count": 21,
      "outputs": [
        {
          "output_type": "execute_result",
          "data": {
            "text/plain": [
              "col_1    0.12\n",
              "col_2     0.9\n",
              "col_3     NaN\n",
              "Name: obs1, dtype: object"
            ]
          },
          "metadata": {
            "tags": []
          },
          "execution_count": 21
        }
      ]
    },
    {
      "cell_type": "markdown",
      "metadata": {
        "id": "6IY9NKi3uqwZ"
      },
      "source": [
        "# Mini-Challenge prep: data loading\n",
        "\n",
        "## 1. How to load the `users` and `movies` portions of MovieLens"
      ]
    },
    {
      "cell_type": "code",
      "metadata": {
        "id": "mOKZeI4huqwa",
        "outputId": "b7dad068-7e5b-411c-f665-b4e3a324af28"
      },
      "source": [
        "import pandas as pd\n",
        "\n",
        "users = pd.read_table('data/ml-1m/users.dat',\n",
        "                      sep='::', header=None,\n",
        "                      names=['user_id', 'gender', 'age', 'occupation', 'zip'])\n",
        "\n",
        "movies = pd.read_table('data/ml-1m/movies.dat',\n",
        "                       sep='::', header=None,\n",
        "                       names=['movie_id', 'title', 'genres'])"
      ],
      "execution_count": null,
      "outputs": [
        {
          "output_type": "stream",
          "text": [
            "/data/virtualenv/pycon2015/lib/python2.7/site-packages/pandas/io/parsers.py:644: ParserWarning: Falling back to the 'python' engine because the 'c' engine does not support regex separators; you can avoid this warning by specifying engine='python'.\n",
            "  ParserWarning)\n"
          ],
          "name": "stderr"
        }
      ]
    },
    {
      "cell_type": "markdown",
      "metadata": {
        "id": "imXSG8rzuqwa"
      },
      "source": [
        "## 2. How to load the training and testing subsets"
      ]
    },
    {
      "cell_type": "code",
      "metadata": {
        "id": "VfGS8u2suqwa"
      },
      "source": [
        "# subset version (hosted notebook)\n",
        "movielens_train = pd.read_csv('https://raw.githubusercontent.com/villafue/Capstone_2_Netflix/main/Springboard/Tutorial/Springboard/pycon2015_tutorial322/data/movielens_train.csv', index_col=0)\n",
        "movielens_test = pd.read_csv('https://raw.githubusercontent.com/villafue/Capstone_2_Netflix/main/Springboard/Tutorial/Springboard/pycon2015_tutorial322/data/movielens_test.csv', index_col=0)"
      ],
      "execution_count": 25,
      "outputs": []
    },
    {
      "cell_type": "code",
      "metadata": {
        "id": "sWVrXExLuqwa",
        "outputId": "cf367752-0788-4cd3-cd5a-e0fee38be7cd",
        "colab": {
          "base_uri": "https://localhost:8080/",
          "height": 195
        }
      },
      "source": [
        "movielens_train.head()"
      ],
      "execution_count": 23,
      "outputs": [
        {
          "output_type": "execute_result",
          "data": {
            "text/plain": [
              "        user_id  movie_id  rating  timestamp gender  age  occupation    zip  \\\n",
              "593263     3562      3798       4  967332344      F   25           6  32812   \n",
              "235597     1051      3793       4  974958593      F   25           0  60513   \n",
              "219003     3727      2366       3  966309522      M   35           7  74401   \n",
              "685090     4666      1094       3  963843918      M   35           1  53704   \n",
              "312377     3261      1095       4  968251750      M   45          20  87505   \n",
              "\n",
              "                             title                   genres  for_testing  \n",
              "593263    What Lies Beneath (2000)                 Thriller        False  \n",
              "235597                X-Men (2000)            Action|Sci-Fi        False  \n",
              "219003            King Kong (1933)  Action|Adventure|Horror        False  \n",
              "685090     Crying Game, The (1992)        Drama|Romance|War        False  \n",
              "312377  Glengarry Glen Ross (1992)                    Drama        False  "
            ],
            "text/html": [
              "<div>\n",
              "<style scoped>\n",
              "    .dataframe tbody tr th:only-of-type {\n",
              "        vertical-align: middle;\n",
              "    }\n",
              "\n",
              "    .dataframe tbody tr th {\n",
              "        vertical-align: top;\n",
              "    }\n",
              "\n",
              "    .dataframe thead th {\n",
              "        text-align: right;\n",
              "    }\n",
              "</style>\n",
              "<table border=\"1\" class=\"dataframe\">\n",
              "  <thead>\n",
              "    <tr style=\"text-align: right;\">\n",
              "      <th></th>\n",
              "      <th>user_id</th>\n",
              "      <th>movie_id</th>\n",
              "      <th>rating</th>\n",
              "      <th>timestamp</th>\n",
              "      <th>gender</th>\n",
              "      <th>age</th>\n",
              "      <th>occupation</th>\n",
              "      <th>zip</th>\n",
              "      <th>title</th>\n",
              "      <th>genres</th>\n",
              "      <th>for_testing</th>\n",
              "    </tr>\n",
              "  </thead>\n",
              "  <tbody>\n",
              "    <tr>\n",
              "      <th>593263</th>\n",
              "      <td>3562</td>\n",
              "      <td>3798</td>\n",
              "      <td>4</td>\n",
              "      <td>967332344</td>\n",
              "      <td>F</td>\n",
              "      <td>25</td>\n",
              "      <td>6</td>\n",
              "      <td>32812</td>\n",
              "      <td>What Lies Beneath (2000)</td>\n",
              "      <td>Thriller</td>\n",
              "      <td>False</td>\n",
              "    </tr>\n",
              "    <tr>\n",
              "      <th>235597</th>\n",
              "      <td>1051</td>\n",
              "      <td>3793</td>\n",
              "      <td>4</td>\n",
              "      <td>974958593</td>\n",
              "      <td>F</td>\n",
              "      <td>25</td>\n",
              "      <td>0</td>\n",
              "      <td>60513</td>\n",
              "      <td>X-Men (2000)</td>\n",
              "      <td>Action|Sci-Fi</td>\n",
              "      <td>False</td>\n",
              "    </tr>\n",
              "    <tr>\n",
              "      <th>219003</th>\n",
              "      <td>3727</td>\n",
              "      <td>2366</td>\n",
              "      <td>3</td>\n",
              "      <td>966309522</td>\n",
              "      <td>M</td>\n",
              "      <td>35</td>\n",
              "      <td>7</td>\n",
              "      <td>74401</td>\n",
              "      <td>King Kong (1933)</td>\n",
              "      <td>Action|Adventure|Horror</td>\n",
              "      <td>False</td>\n",
              "    </tr>\n",
              "    <tr>\n",
              "      <th>685090</th>\n",
              "      <td>4666</td>\n",
              "      <td>1094</td>\n",
              "      <td>3</td>\n",
              "      <td>963843918</td>\n",
              "      <td>M</td>\n",
              "      <td>35</td>\n",
              "      <td>1</td>\n",
              "      <td>53704</td>\n",
              "      <td>Crying Game, The (1992)</td>\n",
              "      <td>Drama|Romance|War</td>\n",
              "      <td>False</td>\n",
              "    </tr>\n",
              "    <tr>\n",
              "      <th>312377</th>\n",
              "      <td>3261</td>\n",
              "      <td>1095</td>\n",
              "      <td>4</td>\n",
              "      <td>968251750</td>\n",
              "      <td>M</td>\n",
              "      <td>45</td>\n",
              "      <td>20</td>\n",
              "      <td>87505</td>\n",
              "      <td>Glengarry Glen Ross (1992)</td>\n",
              "      <td>Drama</td>\n",
              "      <td>False</td>\n",
              "    </tr>\n",
              "  </tbody>\n",
              "</table>\n",
              "</div>"
            ]
          },
          "metadata": {
            "tags": []
          },
          "execution_count": 23
        }
      ]
    },
    {
      "cell_type": "code",
      "metadata": {
        "id": "JrYvVeUduqwa",
        "outputId": "879efb28-7350-4cc4-f64f-e87a2d9a5208",
        "colab": {
          "base_uri": "https://localhost:8080/",
          "height": 195
        }
      },
      "source": [
        "movielens_test.head()"
      ],
      "execution_count": 26,
      "outputs": [
        {
          "output_type": "execute_result",
          "data": {
            "text/plain": [
              "        user_id  movie_id  rating   timestamp gender  age  occupation    zip  \\\n",
              "693323     4653      2648       4   975532459      M   35          12  95051   \n",
              "24177      2259      1270       4   974591524      F   56          16  70503   \n",
              "202202     3032      1378       5   970343147      M   25           0  47303   \n",
              "262003     3029      2289       4   972846393      M   18           4  92037   \n",
              "777848     4186      2403       3  1017931262      M   25           7  33308   \n",
              "\n",
              "                            title                 genres  for_testing  \n",
              "693323        Frankenstein (1931)                 Horror        False  \n",
              "24177   Back to the Future (1985)          Comedy|Sci-Fi        False  \n",
              "202202          Young Guns (1988)  Action|Comedy|Western        False  \n",
              "262003         Player, The (1992)           Comedy|Drama        False  \n",
              "777848         First Blood (1982)                 Action        False  "
            ],
            "text/html": [
              "<div>\n",
              "<style scoped>\n",
              "    .dataframe tbody tr th:only-of-type {\n",
              "        vertical-align: middle;\n",
              "    }\n",
              "\n",
              "    .dataframe tbody tr th {\n",
              "        vertical-align: top;\n",
              "    }\n",
              "\n",
              "    .dataframe thead th {\n",
              "        text-align: right;\n",
              "    }\n",
              "</style>\n",
              "<table border=\"1\" class=\"dataframe\">\n",
              "  <thead>\n",
              "    <tr style=\"text-align: right;\">\n",
              "      <th></th>\n",
              "      <th>user_id</th>\n",
              "      <th>movie_id</th>\n",
              "      <th>rating</th>\n",
              "      <th>timestamp</th>\n",
              "      <th>gender</th>\n",
              "      <th>age</th>\n",
              "      <th>occupation</th>\n",
              "      <th>zip</th>\n",
              "      <th>title</th>\n",
              "      <th>genres</th>\n",
              "      <th>for_testing</th>\n",
              "    </tr>\n",
              "  </thead>\n",
              "  <tbody>\n",
              "    <tr>\n",
              "      <th>693323</th>\n",
              "      <td>4653</td>\n",
              "      <td>2648</td>\n",
              "      <td>4</td>\n",
              "      <td>975532459</td>\n",
              "      <td>M</td>\n",
              "      <td>35</td>\n",
              "      <td>12</td>\n",
              "      <td>95051</td>\n",
              "      <td>Frankenstein (1931)</td>\n",
              "      <td>Horror</td>\n",
              "      <td>False</td>\n",
              "    </tr>\n",
              "    <tr>\n",
              "      <th>24177</th>\n",
              "      <td>2259</td>\n",
              "      <td>1270</td>\n",
              "      <td>4</td>\n",
              "      <td>974591524</td>\n",
              "      <td>F</td>\n",
              "      <td>56</td>\n",
              "      <td>16</td>\n",
              "      <td>70503</td>\n",
              "      <td>Back to the Future (1985)</td>\n",
              "      <td>Comedy|Sci-Fi</td>\n",
              "      <td>False</td>\n",
              "    </tr>\n",
              "    <tr>\n",
              "      <th>202202</th>\n",
              "      <td>3032</td>\n",
              "      <td>1378</td>\n",
              "      <td>5</td>\n",
              "      <td>970343147</td>\n",
              "      <td>M</td>\n",
              "      <td>25</td>\n",
              "      <td>0</td>\n",
              "      <td>47303</td>\n",
              "      <td>Young Guns (1988)</td>\n",
              "      <td>Action|Comedy|Western</td>\n",
              "      <td>False</td>\n",
              "    </tr>\n",
              "    <tr>\n",
              "      <th>262003</th>\n",
              "      <td>3029</td>\n",
              "      <td>2289</td>\n",
              "      <td>4</td>\n",
              "      <td>972846393</td>\n",
              "      <td>M</td>\n",
              "      <td>18</td>\n",
              "      <td>4</td>\n",
              "      <td>92037</td>\n",
              "      <td>Player, The (1992)</td>\n",
              "      <td>Comedy|Drama</td>\n",
              "      <td>False</td>\n",
              "    </tr>\n",
              "    <tr>\n",
              "      <th>777848</th>\n",
              "      <td>4186</td>\n",
              "      <td>2403</td>\n",
              "      <td>3</td>\n",
              "      <td>1017931262</td>\n",
              "      <td>M</td>\n",
              "      <td>25</td>\n",
              "      <td>7</td>\n",
              "      <td>33308</td>\n",
              "      <td>First Blood (1982)</td>\n",
              "      <td>Action</td>\n",
              "      <td>False</td>\n",
              "    </tr>\n",
              "  </tbody>\n",
              "</table>\n",
              "</div>"
            ]
          },
          "metadata": {
            "tags": []
          },
          "execution_count": 26
        }
      ]
    },
    {
      "cell_type": "markdown",
      "metadata": {
        "id": "pPT0M1Bouqwb"
      },
      "source": [
        "# Mini-Challenge prep: evaluation functions\n",
        "\n",
        "These are the two functions that you will need to test your `estimate` method."
      ]
    },
    {
      "cell_type": "code",
      "metadata": {
        "id": "JXIjfVDNuqwb"
      },
      "source": [
        "def compute_rmse(y_pred, y_true):\n",
        "    \"\"\" Compute Root Mean Squared Error. \"\"\"\n",
        "    \n",
        "    return np.sqrt(np.mean(np.power(y_pred - y_true, 2)))"
      ],
      "execution_count": 27,
      "outputs": []
    },
    {
      "cell_type": "code",
      "metadata": {
        "id": "2DD-HgTwuqwb"
      },
      "source": [
        "def evaluate(estimate_f):\n",
        "    \"\"\" RMSE-based predictive performance evaluation with pandas. \"\"\"\n",
        "    \n",
        "    ids_to_estimate = zip(movielens_test.user_id, movielens_test.movie_id)\n",
        "    estimated = np.array([estimate_f(u,i) for (u,i) in ids_to_estimate])\n",
        "    real = movielens_test.rating.values\n",
        "    return compute_rmse(estimated, real)"
      ],
      "execution_count": 28,
      "outputs": []
    },
    {
      "cell_type": "markdown",
      "metadata": {
        "id": "F2fcVUNYuqwb"
      },
      "source": [
        "Test a dummy solution!"
      ]
    },
    {
      "cell_type": "code",
      "metadata": {
        "id": "FIzQJxMwuqwc"
      },
      "source": [
        "def my_estimate_func(user_id, movie_id):\n",
        "    return 3.0"
      ],
      "execution_count": 29,
      "outputs": []
    },
    {
      "cell_type": "markdown",
      "metadata": {
        "id": "EG-H8TF5uqwc"
      },
      "source": [
        "You can test for performance with the following line, which assumes that your function is called `my_estimate_func`:"
      ]
    },
    {
      "cell_type": "code",
      "metadata": {
        "id": "3dud9c_huqwc",
        "outputId": "4ddea14c-4785-4cf8-9634-0965a0066cdd"
      },
      "source": [
        "print 'RMSE for my estimate function: %s' % evaluate(my_estimate_func)"
      ],
      "execution_count": null,
      "outputs": [
        {
          "output_type": "stream",
          "text": [
            "RMSE for my estimate function: 1.23237195265\n"
          ],
          "name": "stdout"
        }
      ]
    },
    {
      "cell_type": "markdown",
      "metadata": {
        "id": "wD8qg9-6uqwc"
      },
      "source": [
        "# Reco systems questions: Minimal reco engine v1.0"
      ]
    },
    {
      "cell_type": "markdown",
      "metadata": {
        "id": "PeNAv0p3uqwd"
      },
      "source": [
        "## 1. Simple collaborative filtering using mean ratings"
      ]
    },
    {
      "cell_type": "code",
      "metadata": {
        "id": "X2-fclm7uqwd"
      },
      "source": [
        "# write an 'estimate' function that computes the mean rating of a particular user\n",
        "def collab_mean(user_id, movie_id):\n",
        "    # first, index into all ratings of this movie\n",
        "    item_condition == movielens_train.movie_id == movie_id\n",
        "    # second, compute the mean of those ratings\n",
        "    return movielens_train.loc[item_condition, 'rating'].mean()\n",
        "    \n",
        "# try it out for a user_id, movie_id pair\n",
        "collab_mean(4653, 2648)"
      ],
      "execution_count": null,
      "outputs": []
    },
    {
      "cell_type": "code",
      "metadata": {
        "id": "X7s5RxRFuFRA"
      },
      "source": [
        "def collab_mean(user_id, movie_id):\r\n",
        "  \"\"\" Simple colaborative filter based on mean ratings. \"\"\"\r\n",
        "\r\n",
        "  user_condition = movielens_train.user_id != user_id\r\n",
        "  movie_condition = movielens_train.movie_id == movie_id\r\n",
        "  ratings_by_others = movielens_train.loc[user_condition & movie_condition]\r\n",
        "  if ratings_by_others.empty:\r\n",
        "    return 3.0\r\n",
        "  else:\r\n",
        "    return ratings_by_others.rating.mean\r\n",
        "\r\n",
        "print('RMSE for estimate2: %s' % evaluate(collab_mean))"
      ],
      "execution_count": null,
      "outputs": []
    },
    {
      "cell_type": "markdown",
      "metadata": {
        "id": "4nILtfZ9uqwd"
      },
      "source": [
        "# Mini-Challenge: first round\n",
        "Implement an `estimate` function of your own using other similarity notions, eg.:\n",
        "\n",
        "- collaborative filter based on age similarities\n",
        "- collaborative filter based on zip code similarities\n",
        "- collaborative filter based on occupation similarities\n",
        "- content filter based on movie genre"
      ]
    },
    {
      "cell_type": "code",
      "metadata": {
        "id": "4eK1Fvaaj_Y1"
      },
      "source": [
        "def collab_zip(user_id, movie_id):\r\n",
        "  \"\"\" Collaborative filtering using an implicit sim(u,u') based on gender. \"\"\"\r\n",
        "\r\n",
        "  user_condition = movielens_train.user_id != user_id\r\n",
        "  movie_condition = movielens_train.movie_id == movie_id\r\n",
        "  ratings_by_others = movielens_train.loc[user_condition & movie_condition]\r\n",
        "  if ratings_by_others.empty:\r\n",
        "    return 3.0\r\n",
        "  \r\n",
        "  means_by_zip = ratings_by_others.pivot_table('rating', index = 'movie_id', columns = 'zip')\r\n",
        "  user_zip = user_info.ix[user_id, 'zip']\r\n",
        "  if user_zip in means_by_zip.columns:\r\n",
        "    return means_by_zip.ix[movie_id, user_zip]\r\n",
        "  else:\r\n",
        "    return means_by_zip.ix[movie_id].mean()\r\n",
        "\r\n",
        "print(evaluate(collab_zip))"
      ],
      "execution_count": null,
      "outputs": []
    },
    {
      "cell_type": "markdown",
      "metadata": {
        "id": "g0fuhOXouqwd"
      },
      "source": [
        "# Mini-Challenge: second round\n",
        "Implement an `estimate` function of your own using other custom similarity notions, eg.:\n",
        "\n",
        "- euclidean\n",
        "- cosine"
      ]
    }
  ]
}