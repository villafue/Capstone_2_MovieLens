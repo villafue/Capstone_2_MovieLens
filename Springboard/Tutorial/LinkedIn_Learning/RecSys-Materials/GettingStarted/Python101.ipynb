{
  "nbformat": 4,
  "nbformat_minor": 0,
  "metadata": {
    "kernelspec": {
      "display_name": "Python 3",
      "language": "python",
      "name": "python3"
    },
    "language_info": {
      "codemirror_mode": {
        "name": "ipython",
        "version": 3
      },
      "file_extension": ".py",
      "mimetype": "text/x-python",
      "name": "python",
      "nbconvert_exporter": "python",
      "pygments_lexer": "ipython3",
      "version": "3.6.5"
    },
    "colab": {
      "name": "Python101.ipynb",
      "provenance": [],
      "include_colab_link": true
    }
  },
  "cells": [
    {
      "cell_type": "markdown",
      "metadata": {
        "id": "view-in-github",
        "colab_type": "text"
      },
      "source": [
        "<a href=\"https://colab.research.google.com/github/villafue/Capstone_2_Netflix/blob/main/Springboard/Tutorial/LinkedIn_Learning/RecSys-Materials/GettingStarted/Python101.ipynb\" target=\"_parent\"><img src=\"https://colab.research.google.com/assets/colab-badge.svg\" alt=\"Open In Colab\"/></a>"
      ]
    },
    {
      "cell_type": "markdown",
      "metadata": {
        "id": "0pLOnogIOmcW"
      },
      "source": [
        "# Python Basics"
      ]
    },
    {
      "cell_type": "markdown",
      "metadata": {
        "id": "gUZkrMb3Omcb"
      },
      "source": [
        "## Whitespace Is Important"
      ]
    },
    {
      "cell_type": "code",
      "metadata": {
        "id": "C4bKuBVXOmcc",
        "outputId": "4be75b06-885e-4806-94de-bbed0cb6318d",
        "colab": {
          "base_uri": "https://localhost:8080/"
        }
      },
      "source": [
        "listOfNumbers = [1, 2, 3, 4, 5, 6]\n",
        "\n",
        "for number in listOfNumbers:\n",
        "    if (number % 2 == 0):\n",
        "        print(number, \"is even\")\n",
        "    else:\n",
        "        print(number, \"is odd\")\n",
        "        \n",
        "print (\"All done.\")\n",
        "        "
      ],
      "execution_count": 1,
      "outputs": [
        {
          "output_type": "stream",
          "text": [
            "1 is odd\n",
            "2 is even\n",
            "3 is odd\n",
            "4 is even\n",
            "5 is odd\n",
            "6 is even\n",
            "All done.\n"
          ],
          "name": "stdout"
        }
      ]
    },
    {
      "cell_type": "markdown",
      "metadata": {
        "id": "_sNBVw0iOmcd"
      },
      "source": [
        "## Importing Modules"
      ]
    },
    {
      "cell_type": "code",
      "metadata": {
        "id": "4LEK1B8ROmcd",
        "outputId": "3987defa-ae7a-422b-8ab5-fb691fe0f136",
        "colab": {
          "base_uri": "https://localhost:8080/"
        }
      },
      "source": [
        "import numpy as np\n",
        "\n",
        "A = np.random.normal(25.0, 5.0, 10)\n",
        "print (A)"
      ],
      "execution_count": 2,
      "outputs": [
        {
          "output_type": "stream",
          "text": [
            "[28.15299619 26.13147589 26.10964844 24.69755366 22.40852445 28.72786225\n",
            " 25.46068038 21.98408777 26.46590618 25.6297373 ]\n"
          ],
          "name": "stdout"
        }
      ]
    },
    {
      "cell_type": "markdown",
      "metadata": {
        "id": "6fmKV1-dOmce"
      },
      "source": [
        "## Lists"
      ]
    },
    {
      "cell_type": "code",
      "metadata": {
        "id": "XuKwBY64Omce",
        "outputId": "2ef954a1-6a19-4a9c-ed08-27605f8a47f2",
        "colab": {
          "base_uri": "https://localhost:8080/"
        }
      },
      "source": [
        "x = [1, 2, 3, 4, 5, 6]\n",
        "print(len(x))"
      ],
      "execution_count": 3,
      "outputs": [
        {
          "output_type": "stream",
          "text": [
            "6\n"
          ],
          "name": "stdout"
        }
      ]
    },
    {
      "cell_type": "code",
      "metadata": {
        "id": "0Ql-_AkLOmcf",
        "outputId": "be7ea41b-2d40-468b-b5fa-4ef256bce8f5",
        "colab": {
          "base_uri": "https://localhost:8080/"
        }
      },
      "source": [
        "x[:3]"
      ],
      "execution_count": 4,
      "outputs": [
        {
          "output_type": "execute_result",
          "data": {
            "text/plain": [
              "[1, 2, 3]"
            ]
          },
          "metadata": {
            "tags": []
          },
          "execution_count": 4
        }
      ]
    },
    {
      "cell_type": "code",
      "metadata": {
        "id": "RXRaGd5iOmcf",
        "outputId": "7860848e-2626-429c-8890-87b0bcf82a0d",
        "colab": {
          "base_uri": "https://localhost:8080/"
        }
      },
      "source": [
        "x[3:]"
      ],
      "execution_count": 5,
      "outputs": [
        {
          "output_type": "execute_result",
          "data": {
            "text/plain": [
              "[4, 5, 6]"
            ]
          },
          "metadata": {
            "tags": []
          },
          "execution_count": 5
        }
      ]
    },
    {
      "cell_type": "code",
      "metadata": {
        "id": "ILmXNq_ROmcf",
        "outputId": "fc729998-5851-4d04-ef07-d25f68165eba",
        "colab": {
          "base_uri": "https://localhost:8080/"
        }
      },
      "source": [
        "x[-2:]"
      ],
      "execution_count": 6,
      "outputs": [
        {
          "output_type": "execute_result",
          "data": {
            "text/plain": [
              "[5, 6]"
            ]
          },
          "metadata": {
            "tags": []
          },
          "execution_count": 6
        }
      ]
    },
    {
      "cell_type": "code",
      "metadata": {
        "id": "fNnSRJdIOmcg",
        "outputId": "c99e7feb-971d-4884-a3a6-4e7a61be2fd3",
        "colab": {
          "base_uri": "https://localhost:8080/"
        }
      },
      "source": [
        "x.extend([7,8])\n",
        "x"
      ],
      "execution_count": 7,
      "outputs": [
        {
          "output_type": "execute_result",
          "data": {
            "text/plain": [
              "[1, 2, 3, 4, 5, 6, 7, 8]"
            ]
          },
          "metadata": {
            "tags": []
          },
          "execution_count": 7
        }
      ]
    },
    {
      "cell_type": "code",
      "metadata": {
        "id": "BmGmPy3fOmcg",
        "outputId": "0963a888-5c6e-4f3d-81ba-04822829c8ac",
        "colab": {
          "base_uri": "https://localhost:8080/"
        }
      },
      "source": [
        "x.append(9)\n",
        "x"
      ],
      "execution_count": 8,
      "outputs": [
        {
          "output_type": "execute_result",
          "data": {
            "text/plain": [
              "[1, 2, 3, 4, 5, 6, 7, 8, 9]"
            ]
          },
          "metadata": {
            "tags": []
          },
          "execution_count": 8
        }
      ]
    },
    {
      "cell_type": "code",
      "metadata": {
        "id": "A-lBAlH2Omch",
        "outputId": "3feee93f-4679-4785-b10e-fc6201dfe363",
        "colab": {
          "base_uri": "https://localhost:8080/"
        }
      },
      "source": [
        "y = [10, 11, 12]\n",
        "listOfLists = [x, y]\n",
        "listOfLists"
      ],
      "execution_count": 9,
      "outputs": [
        {
          "output_type": "execute_result",
          "data": {
            "text/plain": [
              "[[1, 2, 3, 4, 5, 6, 7, 8, 9], [10, 11, 12]]"
            ]
          },
          "metadata": {
            "tags": []
          },
          "execution_count": 9
        }
      ]
    },
    {
      "cell_type": "code",
      "metadata": {
        "id": "C-lswb6OOmch",
        "outputId": "8c2071a2-4733-4914-8a0c-a8aa7be564df",
        "colab": {
          "base_uri": "https://localhost:8080/"
        }
      },
      "source": [
        "y[1]"
      ],
      "execution_count": 10,
      "outputs": [
        {
          "output_type": "execute_result",
          "data": {
            "text/plain": [
              "11"
            ]
          },
          "metadata": {
            "tags": []
          },
          "execution_count": 10
        }
      ]
    },
    {
      "cell_type": "code",
      "metadata": {
        "id": "vqvGqeLKOmci",
        "outputId": "30f1281d-3ca8-40de-8440-699c940b1a1e",
        "colab": {
          "base_uri": "https://localhost:8080/"
        }
      },
      "source": [
        "z = [3, 2, 1]\n",
        "z.sort()\n",
        "z"
      ],
      "execution_count": 11,
      "outputs": [
        {
          "output_type": "execute_result",
          "data": {
            "text/plain": [
              "[1, 2, 3]"
            ]
          },
          "metadata": {
            "tags": []
          },
          "execution_count": 11
        }
      ]
    },
    {
      "cell_type": "code",
      "metadata": {
        "id": "Th08SUAROmci",
        "outputId": "b6ad31f3-a800-42b1-d1ff-bb1d71c57b42",
        "colab": {
          "base_uri": "https://localhost:8080/"
        }
      },
      "source": [
        "z.sort(reverse=True)\n",
        "z"
      ],
      "execution_count": 12,
      "outputs": [
        {
          "output_type": "execute_result",
          "data": {
            "text/plain": [
              "[3, 2, 1]"
            ]
          },
          "metadata": {
            "tags": []
          },
          "execution_count": 12
        }
      ]
    },
    {
      "cell_type": "markdown",
      "metadata": {
        "id": "010DTA1AOmcj"
      },
      "source": [
        "## Tuples"
      ]
    },
    {
      "cell_type": "code",
      "metadata": {
        "id": "S2DIh60VOmcj",
        "outputId": "a887f372-d184-4c43-de2e-30105495305b",
        "colab": {
          "base_uri": "https://localhost:8080/"
        }
      },
      "source": [
        "#Tuples are just immutable lists. Use () instead of []\n",
        "x = (1, 2, 3)\n",
        "len(x)"
      ],
      "execution_count": 13,
      "outputs": [
        {
          "output_type": "execute_result",
          "data": {
            "text/plain": [
              "3"
            ]
          },
          "metadata": {
            "tags": []
          },
          "execution_count": 13
        }
      ]
    },
    {
      "cell_type": "code",
      "metadata": {
        "id": "LRPevdh6Omcj",
        "outputId": "41102121-ae70-4f16-ca54-9875a30ba21b",
        "colab": {
          "base_uri": "https://localhost:8080/"
        }
      },
      "source": [
        "y = (4, 5, 6)\n",
        "y[2]"
      ],
      "execution_count": 14,
      "outputs": [
        {
          "output_type": "execute_result",
          "data": {
            "text/plain": [
              "6"
            ]
          },
          "metadata": {
            "tags": []
          },
          "execution_count": 14
        }
      ]
    },
    {
      "cell_type": "code",
      "metadata": {
        "id": "odaJSBl2Omcj",
        "outputId": "4075059e-9a07-4626-cae5-250f8370e1bc",
        "colab": {
          "base_uri": "https://localhost:8080/"
        }
      },
      "source": [
        "listOfTuples = [x, y]\n",
        "listOfTuples"
      ],
      "execution_count": 15,
      "outputs": [
        {
          "output_type": "execute_result",
          "data": {
            "text/plain": [
              "[(1, 2, 3), (4, 5, 6)]"
            ]
          },
          "metadata": {
            "tags": []
          },
          "execution_count": 15
        }
      ]
    },
    {
      "cell_type": "code",
      "metadata": {
        "id": "kVzyVFkUOmck",
        "outputId": "b0a919dd-cb0a-4c41-ec5f-857d85b00fcc",
        "colab": {
          "base_uri": "https://localhost:8080/"
        }
      },
      "source": [
        "(age, income) = \"32,120000\".split(',')\n",
        "print(age)\n",
        "print(income)"
      ],
      "execution_count": 16,
      "outputs": [
        {
          "output_type": "stream",
          "text": [
            "32\n",
            "120000\n"
          ],
          "name": "stdout"
        }
      ]
    },
    {
      "cell_type": "markdown",
      "metadata": {
        "id": "4MO-s5ScOmck"
      },
      "source": [
        "## Dictionaries"
      ]
    },
    {
      "cell_type": "code",
      "metadata": {
        "id": "Zm9rIXYdOmck",
        "outputId": "aedc7895-9a9d-4186-d36f-e436f41051c9",
        "colab": {
          "base_uri": "https://localhost:8080/"
        }
      },
      "source": [
        "# Like a map or hash table in other languages\n",
        "captains = {}\n",
        "captains[\"Enterprise\"] = \"Kirk\"\n",
        "captains[\"Enterprise D\"] = \"Picard\"\n",
        "captains[\"Deep Space Nine\"] = \"Sisko\"\n",
        "captains[\"Voyager\"] = \"Janeway\"\n",
        "\n",
        "print(captains[\"Voyager\"])"
      ],
      "execution_count": 17,
      "outputs": [
        {
          "output_type": "stream",
          "text": [
            "Janeway\n"
          ],
          "name": "stdout"
        }
      ]
    },
    {
      "cell_type": "code",
      "metadata": {
        "id": "ESau5F6qOmck",
        "outputId": "5a1c324e-210b-4920-961d-673a6cf26cb9",
        "colab": {
          "base_uri": "https://localhost:8080/"
        }
      },
      "source": [
        "print(captains.get(\"Enterprise\"))"
      ],
      "execution_count": 18,
      "outputs": [
        {
          "output_type": "stream",
          "text": [
            "Kirk\n"
          ],
          "name": "stdout"
        }
      ]
    },
    {
      "cell_type": "code",
      "metadata": {
        "id": "5DFi1hy2Omcl",
        "outputId": "e10a133c-ea44-4eb9-c038-509e9aa67af6",
        "colab": {
          "base_uri": "https://localhost:8080/"
        }
      },
      "source": [
        "print(captains.get(\"NX-01\"))"
      ],
      "execution_count": 19,
      "outputs": [
        {
          "output_type": "stream",
          "text": [
            "None\n"
          ],
          "name": "stdout"
        }
      ]
    },
    {
      "cell_type": "code",
      "metadata": {
        "id": "xfMSqXWgOmcl",
        "outputId": "4b8d5aa2-f2c7-43a7-e862-11d308a3fbbd",
        "colab": {
          "base_uri": "https://localhost:8080/"
        }
      },
      "source": [
        "for ship in captains:\n",
        "    print(ship + \": \" + captains[ship])"
      ],
      "execution_count": 20,
      "outputs": [
        {
          "output_type": "stream",
          "text": [
            "Enterprise: Kirk\n",
            "Enterprise D: Picard\n",
            "Deep Space Nine: Sisko\n",
            "Voyager: Janeway\n"
          ],
          "name": "stdout"
        }
      ]
    },
    {
      "cell_type": "markdown",
      "metadata": {
        "id": "J61Jw73vOmcl"
      },
      "source": [
        "## Functions"
      ]
    },
    {
      "cell_type": "code",
      "metadata": {
        "id": "8fYcZ68dOmcl",
        "outputId": "4dfd8dbd-fa34-4ed8-cf5b-ed3d3a9b223b",
        "colab": {
          "base_uri": "https://localhost:8080/"
        }
      },
      "source": [
        "def SquareIt(x):\n",
        "    return x * x\n",
        "\n",
        "print(SquareIt(2))\n"
      ],
      "execution_count": 21,
      "outputs": [
        {
          "output_type": "stream",
          "text": [
            "4\n"
          ],
          "name": "stdout"
        }
      ]
    },
    {
      "cell_type": "code",
      "metadata": {
        "id": "SY_fagI-Omcl",
        "outputId": "7f117d7f-6f5f-4255-c468-bbf15c7fd63c",
        "colab": {
          "base_uri": "https://localhost:8080/"
        }
      },
      "source": [
        "#You can pass functions around as parameters\n",
        "def DoSomething(f, x):\n",
        "    return f(x)\n",
        "\n",
        "print(DoSomething(SquareIt, 3))"
      ],
      "execution_count": 22,
      "outputs": [
        {
          "output_type": "stream",
          "text": [
            "9\n"
          ],
          "name": "stdout"
        }
      ]
    },
    {
      "cell_type": "code",
      "metadata": {
        "id": "Q5A58-o0Omcm",
        "outputId": "317d91dd-9f14-4cff-f4a8-9828b7704ef5",
        "colab": {
          "base_uri": "https://localhost:8080/"
        }
      },
      "source": [
        "#Lambda functions let you inline simple functions\n",
        "print(DoSomething(lambda x: x * x * x, 3))"
      ],
      "execution_count": 23,
      "outputs": [
        {
          "output_type": "stream",
          "text": [
            "27\n"
          ],
          "name": "stdout"
        }
      ]
    },
    {
      "cell_type": "markdown",
      "metadata": {
        "id": "5ioTwuPDOmcm"
      },
      "source": [
        "## Boolean Expressions"
      ]
    },
    {
      "cell_type": "code",
      "metadata": {
        "id": "V1X0DVa3Omcm",
        "outputId": "4504124e-3999-4ea2-b9b0-938897c006ec",
        "colab": {
          "base_uri": "https://localhost:8080/"
        }
      },
      "source": [
        "print(1 == 3)"
      ],
      "execution_count": 24,
      "outputs": [
        {
          "output_type": "stream",
          "text": [
            "False\n"
          ],
          "name": "stdout"
        }
      ]
    },
    {
      "cell_type": "code",
      "metadata": {
        "id": "G8aojcQEOmcm",
        "outputId": "001eb108-c33e-4b09-8e38-d3d6083d554f",
        "colab": {
          "base_uri": "https://localhost:8080/"
        }
      },
      "source": [
        "print(True or False)"
      ],
      "execution_count": 25,
      "outputs": [
        {
          "output_type": "stream",
          "text": [
            "True\n"
          ],
          "name": "stdout"
        }
      ]
    },
    {
      "cell_type": "code",
      "metadata": {
        "id": "p9SaSZPfOmcn",
        "outputId": "cc033d12-68dd-4f49-b055-8931f5f8c45a",
        "colab": {
          "base_uri": "https://localhost:8080/"
        }
      },
      "source": [
        "print(1 is 3)"
      ],
      "execution_count": 26,
      "outputs": [
        {
          "output_type": "stream",
          "text": [
            "False\n"
          ],
          "name": "stdout"
        }
      ]
    },
    {
      "cell_type": "code",
      "metadata": {
        "id": "AFhNAtKhOmcn",
        "outputId": "347bf636-e6ec-4a71-e5fa-9f95a4f61240",
        "colab": {
          "base_uri": "https://localhost:8080/"
        }
      },
      "source": [
        "if 1 is 3:\n",
        "    print(\"How did that happen?\")\n",
        "elif 1 > 3:\n",
        "    print(\"Yikes\")\n",
        "else:\n",
        "    print(\"All is well with the world\")"
      ],
      "execution_count": 27,
      "outputs": [
        {
          "output_type": "stream",
          "text": [
            "All is well with the world\n"
          ],
          "name": "stdout"
        }
      ]
    },
    {
      "cell_type": "markdown",
      "metadata": {
        "id": "HUjCOF5POmcn"
      },
      "source": [
        "## Looping"
      ]
    },
    {
      "cell_type": "code",
      "metadata": {
        "id": "ffV7ClXiOmcn",
        "outputId": "75e4d940-f5d2-4507-b436-b50f08ab6f41",
        "colab": {
          "base_uri": "https://localhost:8080/"
        }
      },
      "source": [
        "for x in range(10):\n",
        "    print(x)"
      ],
      "execution_count": 28,
      "outputs": [
        {
          "output_type": "stream",
          "text": [
            "0\n",
            "1\n",
            "2\n",
            "3\n",
            "4\n",
            "5\n",
            "6\n",
            "7\n",
            "8\n",
            "9\n"
          ],
          "name": "stdout"
        }
      ]
    },
    {
      "cell_type": "code",
      "metadata": {
        "id": "JkFJeJ4YOmcn",
        "outputId": "8da67b8f-2b28-4779-c446-bc171a2337ef",
        "colab": {
          "base_uri": "https://localhost:8080/"
        }
      },
      "source": [
        "for x in range(10):\n",
        "    if (x is 1):\n",
        "        continue\n",
        "    if (x > 5):\n",
        "        break\n",
        "    print(x)"
      ],
      "execution_count": 29,
      "outputs": [
        {
          "output_type": "stream",
          "text": [
            "0\n",
            "2\n",
            "3\n",
            "4\n",
            "5\n"
          ],
          "name": "stdout"
        }
      ]
    },
    {
      "cell_type": "code",
      "metadata": {
        "id": "KNjJRM2MOmco",
        "outputId": "7d0e88ed-7f27-4d5e-b2ed-7bdc62163daa",
        "colab": {
          "base_uri": "https://localhost:8080/"
        }
      },
      "source": [
        "x = 0\n",
        "while (x < 10):\n",
        "    print(x)\n",
        "    x += 1"
      ],
      "execution_count": 30,
      "outputs": [
        {
          "output_type": "stream",
          "text": [
            "0\n",
            "1\n",
            "2\n",
            "3\n",
            "4\n",
            "5\n",
            "6\n",
            "7\n",
            "8\n",
            "9\n"
          ],
          "name": "stdout"
        }
      ]
    },
    {
      "cell_type": "markdown",
      "metadata": {
        "id": "w4HEMEReOmco"
      },
      "source": [
        "## Activity"
      ]
    },
    {
      "cell_type": "markdown",
      "metadata": {
        "id": "ylIj1Fl8Omco"
      },
      "source": [
        "Write some code that creates a list of integers, loops through each element of the list, and only prints out even numbers!"
      ]
    },
    {
      "cell_type": "code",
      "metadata": {
        "id": "h_lnsdGsOmco",
        "outputId": "860e028f-b110-4727-adee-47a23f0a347b",
        "colab": {
          "base_uri": "https://localhost:8080/"
        }
      },
      "source": [
        "x = range(11)\r\n",
        "\r\n",
        "for num in x:\r\n",
        "  if (num % 2 == 0):\r\n",
        "    print(num)"
      ],
      "execution_count": 37,
      "outputs": [
        {
          "output_type": "stream",
          "text": [
            "0\n",
            "2\n",
            "4\n",
            "6\n",
            "8\n",
            "10\n"
          ],
          "name": "stdout"
        }
      ]
    }
  ]
}