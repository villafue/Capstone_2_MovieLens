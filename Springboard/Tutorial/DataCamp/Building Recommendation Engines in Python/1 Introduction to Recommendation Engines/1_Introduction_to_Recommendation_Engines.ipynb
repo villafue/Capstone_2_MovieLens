{
  "nbformat": 4,
  "nbformat_minor": 0,
  "metadata": {
    "colab": {
      "name": "1 Introduction to Recommendation Engines.ipynb",
      "provenance": [],
      "authorship_tag": "ABX9TyMuajvoIkmXNCQzliLutqBt",
      "include_colab_link": true
    },
    "kernelspec": {
      "name": "python3",
      "display_name": "Python 3"
    }
  },
  "cells": [
    {
      "cell_type": "markdown",
      "metadata": {
        "id": "view-in-github",
        "colab_type": "text"
      },
      "source": [
        "<a href=\"https://colab.research.google.com/github/villafue/Capstone_2_Netflix/blob/main/Springboard/Tutorial/DataCamp/Building%20Recommendation%20Engines%20in%20Python/1%20Introduction%20to%20Recommendation%20Engines/1_Introduction_to_Recommendation_Engines.ipynb\" target=\"_parent\"><img src=\"https://colab.research.google.com/assets/colab-badge.svg\" alt=\"Open In Colab\"/></a>"
      ]
    },
    {
      "cell_type": "markdown",
      "metadata": {
        "id": "6RkylxX8fBUk"
      },
      "source": [
        "Introduction to Recommendation Engines\r\n",
        "\r\n",
        "What problems are recommendation engines designed to solve and what data are best suited for them? Discern what insightful recommendations can be made even with limited data, and learn how to create your own recommendations."
      ]
    },
    {
      "cell_type": "markdown",
      "metadata": {
        "id": "PbR7eZO1fBIn"
      },
      "source": [
        "# What are recommendation engines?\r\n",
        "\r\n",
        "1. What are recommendation engines?\r\n",
        "\r\n",
        "Hello, and welcome. My name is Rob O'Callaghan and I'm a Data Scientist.\r\n",
        "2. What are recommendation engines?\r\n",
        "\r\n",
        "Whether you realize it or not, recommendations drive so many of our decisions on a daily basis. Be it obvious recommendations such as suggestions of new restaurants from friends, or a certain model of camera discussed in a blog, to less direct recommendations such as Netflix promoting shows you are likely to enjoy, or Amazon proposing other purchases that go well with what you are buying. In this course, we will focus on this second group of data-driven recommendations.\r\n",
        "3. What kind of data do I need?\r\n",
        "\r\n",
        "Recommendation engines use the feedback of users to find new relevant items for them or for others with the assumption that users who have similar preferences in the past are likely to have similar preferences in the future like the example here. Recommendation engines benefit from having a many to many match between the users giving the feedback, and the items receiving the feedback. In other words, a better recommendation can be made for an item that has been given a lot of feedback, and more personalized recommendations can be given for a user that has given a lot of feedback.\r\n",
        "4. What kind of data do I need?\r\n",
        "\r\n",
        "As we see in the table here, users have rated multiple items, and each item has been rated by multiple users. This allows us to find users with similar preferences. This is valuable as users who have similar tastes in the past are likely to have similar tastes in the future.\r\n",
        "5. What are recommendation engines useful for?\r\n",
        "\r\n",
        "When should you use a recommendation engine? Machine learning can be used for many different kinds of predictions, from whether a stock price will increase, to detecting criminals laundering money. Recommendation engines target a specific kind of machine learning problem, they are designed to suggest a product, service, or entity to a user based on other users, and their own feedback. Let's take some examples. Making a suggestion as to what movie a user would like based on what genres of movies they have ranked highly in the past would be suited to a recommendation engine. Predicting whether that movie will do well in the box office on the other hand would be better suited to a different kind of statistical model. Predicting whether a user would enjoy a restaurant based on where they have enjoyed in the past could be performed with a recommendation engine. Predicting how much a house in the same area as the restaurant would cost based on its size and historic house prices would not.\r\n",
        "6. Implicit vs. explicit data\r\n",
        "\r\n",
        "Hopefully, you are beginning to see that recommendation engines rely on data that records the preferences of users. How these preferences are measured fall into two main groups, implicit and explicit. Explicit data contains direct feedback from a user as to how they feel about an item such as a numerical rating, or upvoting or downvoting. Take a dataset where users rate a restaurant out of 5 stars like Yelp, the feedback from the user is explicitly recorded. Implicit data relies not on a user's direct rating but instead uses the user's actions to summarise their preferences such as users choosing to watch certain programs, or having a specific purchase history. A user's historic choice of music on Spotify is a good example of this, based on what songs someone has listened to, you can infer what kind of music they enjoy. Here are some other examples of explicit and implicit feedback.\r\n",
        "7. Let's practice!\r\n",
        "\r\n",
        "Now we have covered the basics, let's check whether you have learned when recommendation engines might be used and what data is best suited to them! "
      ]
    },
    {
      "cell_type": "markdown",
      "metadata": {
        "id": "AXaYrfQr2OXD"
      },
      "source": [
        "# Recommendation engines vs. predictions\r\n",
        "\r\n",
        "If you have completed the prerequisites for this course, you will have worked with different machine learning models and predictive approaches. Therefore you may recognize that different tools and models are useful for different use cases.\r\n",
        "\r\n",
        "We discussed what problems are best suited for recommendation engines in the opening lesson. Now it is your turn to distinguish between data-driven use cases that would fit under recommendation engines and those that would suit other statistical models.\r\n",
        "\r\n",
        "Instructions\r\n",
        "\r\n",
        "1. Based on the description provided, classify whether the use case is suitable for a recommendation engine or a different type of statistical model.\r\n",
        "\r\n",
        "2. Drag the cards into the correct boxes to reflect these classifications.\r\n",
        "\r\n",
        "Answer\r\n",
        "\r\n",
        "1. Recommendation Engine\r\n",
        "\r\n",
        " - Present the videos that you are most likely to click on at the top of your YouTube homepage.\r\n",
        "\r\n",
        " - Suggest an article you might like to read based on previously read articles.\r\n",
        "\r\n",
        "2. Other Statistical Model\r\n",
        "\r\n",
        " - Estimate how much a meal at a restaurant will cost based on its reviews, cuisine, and its location.\r\n",
        "\r\n",
        " - Infer the genre of a movie based on its actors.\r\n",
        "\r\n",
        "Conclusion\r\n",
        "\r\n",
        " - Congratulations! By understanding this, you will be able to choose the type of model that will perform the best for each of your use cases.\r\n"
      ]
    },
    {
      "cell_type": "markdown",
      "metadata": {
        "id": "wx5l2FaX2-Tn"
      },
      "source": [
        "# Identifying the correct data for recommendation engines\r\n",
        "\r\n",
        "Sometimes whether a problem is suited to using a recommendation engine versus using a different statistical model will rely on the data available.\r\n",
        "\r\n",
        "Two datasets, restaurant_data_1 (detailing the sanitation rating a set of restaurants has received from the health inspector) and restaurant_data_2 (containing customers' ratings of restaurants), have already been loaded for you.\r\n",
        "\r\n",
        "Inspect both DataFrames in the console and select which is most applicable to a recommendation problem.\r\n",
        "\r\n",
        "In this exercise and for the rest of the course, pandas will be loaded by default with the alias pd.\r\n",
        "\r\n"
      ]
    },
    {
      "cell_type": "code",
      "metadata": {
        "id": "DBRAuhUHVS4G"
      },
      "source": [
        "In [1]:\r\n",
        "restaurant_data_1\r\n",
        "Out[1]:\r\n",
        "\r\n",
        "                    Resturant_Name        Type Price_Range Health_Rating\r\n",
        "0                     Island Grill    American           $             A\r\n",
        "1                        Flavoroso      Bakery         $$$             A\r\n",
        "2                      Green Curry        Thai           $             A\r\n",
        "3                  El Pirata Porch     Mexican           $             A\r\n",
        "4                     Sweet Escape      Bakery          $$             B\r\n",
        "5                      Salty Squid        Fish         $$$             C\r\n",
        "6                 Bangalore Spices      Indian          $$             B\r\n",
        "7                    Pancake World      Bakery           $             B\r\n",
        "8                   Veganic Corner       Vegan          $$             B\r\n",
        "9                           Masala      Indian         $$$             C\r\n",
        "10                  Grassfed Grill    American          $$             B\r\n",
        "11             Greenanic Smoothies       Vegan          $$             B\r\n",
        "12                  Freddy’s Stove    American           $             B\r\n",
        "13                Grandma’s Sweets      Bakery          $$             A\r\n",
        "14        Spicella Spanish Kitchen     Spanish          $$             A\r\n",
        "15  Xin Chao Vietnamese Restaurant  Vietnamese          $$             B\r\n",
        "16               Paterro’s Kitchen     Mexican         $$$             A\r\n",
        "17               Mediterra Seafood        Fish         $$$             A\r\n",
        "18                     Street Deli    American           $             B\r\n",
        "19               Whispering Bamboo        Thai          $$             A\r\n",
        "\r\n",
        "In [2]:\r\n",
        "restaurant_data_2\r\n",
        "Out[2]:\r\n",
        "\r\n",
        "   Reviewer_ID       Resturant_Name      Type Price_Range  Review (out of 5)\r\n",
        "0   Reviewer_A         Island Grill  American           $                4.5\r\n",
        "1   Reviewer_A            Flavoroso    Bakery         $$$                1.7\r\n",
        "2   Reviewer_A          Green Curry      Thai           $                2.2\r\n",
        "3   Reviewer_A      El Pirata Porch   Mexican           $                0.2\r\n",
        "4   Reviewer_B         Island Grill  American           $                5.0\r\n",
        "5   Reviewer_B          Green Curry      Thai           $                2.2\r\n",
        "6   Reviewer_C      El Pirata Porch   Mexican           $                4.0\r\n",
        "7   Reviewer_C         Sweet Escape    Bakery          $$                1.5\r\n",
        "8   Reviewer_D         Island Grill  American           $                4.5\r\n",
        "9   Reviewer_D          Green Curry      Thai           $                4.8\r\n",
        "10  Reviewer_D          Salty Squid      Fish         $$$                3.3\r\n",
        "11  Reviewer_D     Bangalore Spices    Indian          $$                0.4\r\n",
        "12  Reviewer_D        Pancake World    Bakery           $                2.9\r\n",
        "13  Reviewer_E       Veganic Corner     Vegan          $$                3.0\r\n",
        "14  Reviewer_E               Masala    Indian         $$$                6.0\r\n",
        "15  Reviewer_E       Grassfed Grill  American          $$                0.3\r\n",
        "16  Reviewer_E  Greenanic Smoothies     Vegan          $$                4.7\r\n",
        "17  Reviewer_E       Freddy’s Stove  American           $                2.6\r\n",
        "18  Reviewer_F       Veganic Corner     Vegan          $$                5.0\r\n",
        "19  Reviewer_F               Masala    Indian         $$$                2.5"
      ],
      "execution_count": null,
      "outputs": []
    },
    {
      "cell_type": "markdown",
      "metadata": {
        "id": "4SmW3IA039ir"
      },
      "source": [
        "Possible Answers\r\n",
        "\r\n",
        "1. restaurant_data_2\r\n",
        " - Correct! restaurant_data_2 contains reviews that detail how customers have ranked different restaurants. This data would be great for recommending new restaurants to customers based on their tastes. What makes this particularly useful is that users have given multiple ratings, and restaurants have received ratings from many different customers.\r\n",
        "\r\n",
        "2. restaurant_data_1\r\n",
        " - Incorrect. While it may not be advisable to go to a restaurant with a low health rating, the data available is not useful for a traditional recommendation system. Each restaurant only appears once, and has no common users to compare across ratings.\r\n",
        "\r\n",
        "3. Neither restaurant_data_1 nor restaurant_data_2.\r\n",
        " - Incorrect. One of these datasets contains multiple ratings from multiple users, which is ideal for a recommendation problem.\r\n",
        "\r\n",
        "4. Both restaurant_data_1 and restaurant_data_2.\r\n",
        " - Incorrect. One of these datasets contains only one occurrence of each item, which is not suitable for a recommendation problem."
      ]
    },
    {
      "cell_type": "markdown",
      "metadata": {
        "id": "rRV9rNlv4Zlb"
      },
      "source": [
        "# Implicit vs. explicit data\r\n",
        "\r\n",
        "As mentioned in the video exercise, feedback used in recommendation engines can be explicit or implicit.\r\n",
        "\r\n",
        "The dataset listening_history_df has been loaded for you. This dataset contains columns identifying the users, the songs they listen to, along with:\r\n",
        "\r\n",
        " - Skipped Track: A Boolean column recording whether the user skipped the song or listened to it to the end.\r\n",
        "\r\n",
        " - Rating: The score out of 10 the user gave the song.\r\n",
        "\r\n",
        "In this exercise, you will explore the data and from this exploration identify which columns best reflect explicit feedback versus implicit feedback.\r\n",
        "\r\n",
        "Instructions\r\n",
        "\r\n",
        "1. Inspect the first 5 rows of listening_history_df.\r\n",
        "\r\n",
        "2. Print the number of unique values in the Rating and Skipped Track columns.\r\n",
        "\r\n",
        "3. Display a histogram of the values in the Rating column\r\n"
      ]
    },
    {
      "cell_type": "code",
      "metadata": {
        "id": "kU6mDRvv4vOT"
      },
      "source": [
        "# Inspect the listening_history_df DataFrame\r\n",
        "print(listening_history_df.head())\r\n",
        "\r\n",
        "# Calculate the number of unique values\r\n",
        "print(listening_history_df[['Rating', 'Skipped Track']].nunique())\r\n",
        "\r\n",
        "# Display a histogram of the values in the Rating column\r\n",
        "listening_history_df['Rating'].hist()\r\n",
        "plt.show()\r\n",
        "\r\n",
        "'''\r\n",
        "<script.py> output:\r\n",
        "           User            Song Title  Skipped Track  Rating\r\n",
        "    0  User_001  Like a Rolling Stone           True       6\r\n",
        "    1  User_001               Imagine          False       2\r\n",
        "    2  User_001       What's Going On          False       9\r\n",
        "    3  User_002               Respect          False       6\r\n",
        "    4  User_003       Good Vibrations           True       0\r\n",
        "    \r\n",
        "    Rating           11\r\n",
        "    Skipped Track     2\r\n",
        "    dtype: int64\r\n",
        "'''"
      ],
      "execution_count": null,
      "outputs": []
    },
    {
      "cell_type": "markdown",
      "metadata": {
        "id": "R5aNvJue5-2Z"
      },
      "source": [
        "![image.png](data:image/png;base64,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)"
      ]
    },
    {
      "cell_type": "markdown",
      "metadata": {
        "id": "99EMQJFN5OQM"
      },
      "source": [
        "Question\r\n",
        "\r\n",
        "4. From the provided description and your exploration of the data, select which of its columns would be considered explicit data.\r\n",
        "\r\n",
        "Possible Answers\r\n",
        "\r\n",
        "1. User\r\n",
        " - Knowing what users have listened to a certain song would not be explicit feedback on their feelings towards it.\r\n",
        "\r\n",
        "2. Skipped Track\r\n",
        " - Not quite. Whether a listener skipped a track would be more likely to be implicit data as they did not give direct feedback on their feelings.\r\n",
        "\r\n",
        "3. Rating\r\n",
        " - Correct! A rating is a good example of explicit data as it required the user to directly give feedback, while their dislike for a song is only implied by the action of them skipping it before it ends.\r\n",
        "\r\n",
        "4. None of the columns could be used.\r\n",
        " - Incorrect, one of the above columns contains direct feedback from the listener towards the song.\r\n"
      ]
    },
    {
      "cell_type": "markdown",
      "metadata": {
        "id": "s58DaLT06GBA"
      },
      "source": [
        "# Non-personalized recommendations\r\n",
        "\r\n",
        "1. Non-personalized recommendations\r\n",
        "\r\n",
        "The first type of recommendations we will generate are called non-personalized recommendations. They are called this as they are made to all users, without taking their preferences into account.\r\n",
        "2. Non-personalized ratings\r\n",
        "\r\n",
        "One example is recommending the items most frequently seen together like you can see here on Amazon. This might not select the 'best' items or items that are most suited to you, but there is a good chance you will not hate them as they are so common.\r\n",
        "3. Finding the most popular items\r\n",
        "\r\n",
        "We can demonstrate how to find this with Python using this book rating DataFrame shown here. Each row corresponds to an instance of a reader completing a book with the book title stored in the book column.\r\n",
        "4. Finding the most popular items\r\n",
        "\r\n",
        "By specifying the column of interest, \"book\" in this case, and using pandas' DataFrame value_counts method we obtain the counts of occurrences of each of the books, from highest to lowest.\r\n",
        "5. Finding the most popular items\r\n",
        "\r\n",
        "We get just the names of the books by calling the index value.\r\n",
        "6. Finding the most liked items\r\n",
        "\r\n",
        "While this is a good start, we haven't incorporated any data about what readers thought about each book. Let's include that data here with an additional 'rating' column showing the reader's rating out of 5 for each book they read. We can use this to create alternative recommendations by finding the most highly rated books.\r\n",
        "7. Finding the most liked items\r\n",
        "\r\n",
        "This is done by averaging the rating of each of the books and examining the highest-ranked ones. We select only the columns of interest (the title and the rating) and then specify which column we will be grouping by (the book title) We then find the mean of the groupby object using dot mean. This returns a DataFrame with a row per book and the average rating it receives. Unfortunately unlike value_counts(), the groupby() method does not automatically sort the output.\r\n",
        "8. Finding the most liked items\r\n",
        "\r\n",
        "Therefore we will use the sort_values method, specifying that we want to sort by the ratings, in descending order (it is ascending by default). Examining the sorted DataFrame using the dot-head, we now see the top values do indeed have very high ratings, but the books may look very unfamiliar. This is because items with very low numbers of ratings can skew the results. A book with only one rating has a solid chance of its only rating being 5 stars pushing it to the top, while a book that has been reviewed hundreds of times is likely to have at least one non-perfect review.\r\n",
        "9. Finding the most liked items\r\n",
        "\r\n",
        "We can test our theory by seeing how many times the highest-ranked books have been reviewed. As predicted, they each occur only once in the dataset.\r\n",
        "10. Finding the most liked popular items\r\n",
        "\r\n",
        "But by combining the initial work of counting occurrences with average ratings, we can get very useful recommendations. We can use the value_counts method once again to find the counts of occurrences and store them as book_frequency. We then cut down this Series by creating a mask of only books that have been reviewed more than one hundred times in our dataset and store as frequently_reviewed_books. Note the index value is called here as we want the names of the books instead of the counts of their occurrences.\r\n",
        "11. Finding the most liked popular items\r\n",
        "\r\n",
        "We then take a subset of our overall ratings DataFrame by selecting only the rows referring to books in frequently_reviewed_books using the isin method. This subset of reviews can now be used in the same way as earlier to find the highest rated books on average. Inspecting the result we now see that the top books no longer have full marks but are more recognizable titles.\r\n",
        "12. Let's practice!\r\n",
        "\r\n",
        "Now let's put what we've learned to the test! "
      ]
    },
    {
      "cell_type": "markdown",
      "metadata": {
        "id": "mf59Ag-WBwO0"
      },
      "source": [
        "# Introduction to non-personalized recommendations\r\n",
        "\r\n",
        "One of the most basic ways to make recommendations is to go with the knowledge of the crowd and recommend what is already the most popular. In this exercise, you will calculate how often each movie in the dataset has been watched and find the most frequently watched movies.\r\n",
        "\r\n",
        "The DataFrame user_ratings_df, which is a subset of the Movie Lens dataset, has been loaded for you. This table contains identifiers for each movie and the user who watched it, along with the rating they gave it.\r\n",
        "\r\n",
        "Instructions\r\n",
        "\r\n",
        "1. Calculate the number of times each movie occurs in the dataset.\r\n",
        "\r\n",
        "2. Print the titles of the top five most frequently seen movies.\r\n"
      ]
    },
    {
      "cell_type": "code",
      "metadata": {
        "id": "gC-VxsYaCcfT"
      },
      "source": [
        "In [1]:\r\n",
        "user_ratings_df.head()\r\n",
        "Out[1]:\r\n",
        "\r\n",
        "   userId  movieId  rating             title\r\n",
        "0       1        1     4.0  Toy Story (1995)\r\n",
        "1       5        1     4.0  Toy Story (1995)\r\n",
        "2       7        1     4.5  Toy Story (1995)\r\n",
        "3      15        1     2.5  Toy Story (1995)\r\n",
        "4      17        1     4.5  Toy Story (1995)"
      ],
      "execution_count": null,
      "outputs": []
    },
    {
      "cell_type": "code",
      "metadata": {
        "id": "e26F1KM7CpL3"
      },
      "source": [
        "# Get the counts of occurrences of each movie title\r\n",
        "movie_popularity = user_ratings_df[\"title\"].value_counts()\r\n",
        "\r\n",
        "# Inspect the most common values\r\n",
        "print(movie_popularity.head().index)\r\n",
        "\r\n",
        "'''\r\n",
        "<script.py> output:\r\n",
        "    Index(['Forrest Gump (1994)', 'Shawshank Redemption, The (1994)', 'Pulp Fiction (1994)', \r\n",
        "           'Silence of the Lambs, The (1991)', 'Matrix, The (1999)'], dtype='object')\r\n",
        "'''"
      ],
      "execution_count": null,
      "outputs": []
    },
    {
      "cell_type": "markdown",
      "metadata": {
        "id": "59-2he40DXDO"
      },
      "source": [
        "Question\r\n",
        "\r\n",
        "3. Based on your analysis, what is the most frequently watched movie overall?\r\n",
        "\r\n",
        "Possible Answers\r\n",
        "\r\n",
        "1. Forrest Gump\r\n",
        " - Incorrect. While the most frequently viewed movie was viewed by 329 people in the dataset, you are looking for its name.\r\n",
        " \r\n",
        "2. Pulp Fiction\r\n",
        " - Incorrect, remember that .value_counts() orders items in descending order.\r\n",
        "\r\n",
        "3. The Matrix\r\n",
        " - Incorrect, remember that .value_counts() orders items in descending order.\r\n",
        "\r\n",
        "4. 329\r\n",
        " - Incorrect. While the most frequently viewed movie was viewed by 329 people in the dataset, you are looking for its name."
      ]
    },
    {
      "cell_type": "markdown",
      "metadata": {
        "id": "SJWZK-rWHBIA"
      },
      "source": [
        "# Improved non-personalized recommendations\r\n",
        "\r\n",
        "Just because a movie has been watched by a lot of people doesn't necessarily mean viewers enjoyed it. To understand how a viewer actually felt about a movie, more explicit data is useful. Thankfully, you also have ratings from each of the viewers in the Movie Lens dataset.\r\n",
        "\r\n",
        "In this exercise, you will find the average rating of each movie in the dataset, and then find the movie with the highest average rating.\r\n",
        "\r\n",
        "You will use the same user_ratings_df as you used in the previous exercise, which has been loaded for you.\r\n",
        "\r\n",
        "Instructions\r\n",
        "\r\n",
        "1. Find the average rating for each of the movies and store it as a DataFrame called average_rating_df.\r\n",
        "\r\n",
        "2. Sort the average_rating_df DataFrame by the average rating column from highest to lowest and store it as sorted_average_ratings.\r\n",
        "\r\n",
        "3. Print the entries for the top five highest ranked movies in sorted_average_ratings.\r\n"
      ]
    },
    {
      "cell_type": "code",
      "metadata": {
        "id": "CjVLTkONHdF1"
      },
      "source": [
        "Out[1]:\r\n",
        "\r\n",
        "   userId  movieId  rating   timestamp             title                                       genres\r\n",
        "0       1        1     4.0   964982703  Toy Story (1995)  Adventure|Animation|Children|Comedy|Fantasy\r\n",
        "1       5        1     4.0   847434962  Toy Story (1995)  Adventure|Animation|Children|Comedy|Fantasy\r\n",
        "2       7        1     4.5  1106635946  Toy Story (1995)  Adventure|Animation|Children|Comedy|Fantasy\r\n",
        "3      15        1     2.5  1510577970  Toy Story (1995)  Adventure|Animation|Children|Comedy|Fantasy\r\n",
        "4      17        1     4.5  1305696483  Toy Story (1995)  Adventure|Animation|Children|Comedy|Fantasy"
      ],
      "execution_count": null,
      "outputs": []
    },
    {
      "cell_type": "code",
      "metadata": {
        "id": "2iCtZi4LHePg"
      },
      "source": [
        "# Find the mean of the ratings given to each title\r\n",
        "average_rating_df = user_ratings_df[[\"title\", \"rating\"]].groupby('title').mean()\r\n",
        "\r\n",
        "# Order the entries by highest average rating to lowest\r\n",
        "sorted_average_ratings = average_rating_df.sort_values(by=\"rating\", ascending=False)\r\n",
        "\r\n",
        "# Inspect the top movies\r\n",
        "print(sorted_average_ratings.head())\r\n",
        "\r\n",
        "'''\r\n",
        "<script.py> output:\r\n",
        "                                         rating\r\n",
        "    title                                      \r\n",
        "    Gena the Crocodile (1969)               5.0\r\n",
        "    True Stories (1986)                     5.0\r\n",
        "    Cosmic Scrat-tastrophe (2015)           5.0\r\n",
        "    Love and Pigeons (1985)                 5.0\r\n",
        "    Red Sorghum (Hong gao liang) (1987)     5.0\r\n",
        "'''"
      ],
      "execution_count": null,
      "outputs": []
    },
    {
      "cell_type": "markdown",
      "metadata": {
        "id": "adqWdoJUHdxB"
      },
      "source": [
        "Conclusion\r\n",
        "\r\n",
        "Good work! Despite this being a real-world dataset, you might be surprised that the highest-ranked movies are not movies that most people have heard of. This is because very infrequently-viewed movies are skewing the results. You will address this issue in the next exercise."
      ]
    },
    {
      "cell_type": "markdown",
      "metadata": {
        "id": "d74S4ysAIA3k"
      },
      "source": [
        "# Combining popularity and reviews\r\n",
        "\r\n",
        "In the past two exercises, you have used the two most common non-personalized recommendation methods to find movies to suggest. As you may have noticed, they both have their weaknesses.\r\n",
        "\r\n",
        "Finding the most frequently watched movies will show you what has been watched, but not how people explicitly feel about it. However, finding the average of reviews has the opposite problem where we have customers' explicit feedback, but individual preferences are skewing the data.\r\n",
        "\r\n",
        "In this exercise, you will combine the two previous methods to find the average rating only for movies that have been reviewed more than 50 times.\r\n",
        "\r\n",
        "Instructions\r\n",
        "\r\n",
        "1. Generate a list of the names of the movies appearing more than 50 times in user_ratings_df and store it as popular_movies.\r\n"
      ]
    },
    {
      "cell_type": "code",
      "metadata": {
        "id": "jyZC1AdBIaJ0"
      },
      "source": [
        "# Create a list of only the frequently watched movies\r\n",
        "movie_popularity = user_ratings_df[\"title\"].value_counts()\r\n",
        "popular_movies = movie_popularity[movie_popularity > 50].index\r\n",
        "\r\n",
        "print(popular_movies)\r\n",
        "\r\n",
        "'''\r\n",
        "<script.py> output:\r\n",
        "    Index(['Forrest Gump (1994)', 'Shawshank Redemption, The (1994)', 'Pulp Fiction (1994)', 'Silence of the Lambs, The (1991)', 'Matrix, The (1999)', 'Star Wars: Episode IV - A New Hope (1977)',\r\n",
        "           'Jurassic Park (1993)', 'Braveheart (1995)', 'Terminator 2: Judgment Day (1991)', 'Schindler's List (1993)',\r\n",
        "           ...\r\n",
        "           'Million Dollar Baby (2004)', 'Caddyshack (1980)', 'War of the Worlds (2005)', 'Bad Boys (1995)', 'Blow (2001)', 'Army of Darkness (1993)', 'The Devil's Advocate (1997)',\r\n",
        "           'Mulholland Drive (2001)', 'Training Day (2001)', 'Splash (1984)'],\r\n",
        "          dtype='object', length=437)\r\n",
        "'''"
      ],
      "execution_count": null,
      "outputs": []
    },
    {
      "cell_type": "markdown",
      "metadata": {
        "id": "Ua524PL5I_xX"
      },
      "source": [
        " 2. Filter the original user_ratings_df DataFrame by the popular_movies list to create a popular_movies_rankings DataFrame and print the results."
      ]
    },
    {
      "cell_type": "code",
      "metadata": {
        "id": "RxL8xcYLJEyH"
      },
      "source": [
        "# Create a list of only movies appearing > 50 times in the dataset\r\n",
        "movie_popularity = user_ratings_df[\"title\"].value_counts()\r\n",
        "popular_movies = movie_popularity[movie_popularity > 50].index\r\n",
        "\r\n",
        "# Use this popular_movies list to filter the original DataFrame\r\n",
        "popular_movies_rankings = user_ratings_df[user_ratings_df[\"title\"].isin(popular_movies)]\r\n",
        "\r\n",
        "# Inspect the movies watched over 50 times\r\n",
        "print(popular_movies_rankings)\r\n",
        "\r\n",
        "'''\r\n",
        "<script.py> output:\r\n",
        "           userId  movieId  rating   timestamp                 title                                       genres\r\n",
        "    0           1        1     4.0   964982703      Toy Story (1995)  Adventure|Animation|Children|Comedy|Fantasy\r\n",
        "    1           5        1     4.0   847434962      Toy Story (1995)  Adventure|Animation|Children|Comedy|Fantasy\r\n",
        "    2           7        1     4.5  1106635946      Toy Story (1995)  Adventure|Animation|Children|Comedy|Fantasy\r\n",
        "    3          15        1     2.5  1510577970      Toy Story (1995)  Adventure|Animation|Children|Comedy|Fantasy\r\n",
        "    4          17        1     4.5  1305696483      Toy Story (1995)  Adventure|Animation|Children|Comedy|Fantasy\r\n",
        "    ...       ...      ...     ...         ...                   ...                                          ...\r\n",
        "    79246     603     1997     4.0   953925513  Exorcist, The (1973)                               Horror|Mystery\r\n",
        "    79247     606     1997     3.0  1178911117  Exorcist, The (1973)                               Horror|Mystery\r\n",
        "    79248     607     1997     5.0   963079420  Exorcist, The (1973)                               Horror|Mystery\r\n",
        "    79249     608     1997     4.5  1117502891  Exorcist, The (1973)                               Horror|Mystery\r\n",
        "    79250     610     1997     4.0  1479543021  Exorcist, The (1973)                               Horror|Mystery\r\n",
        "    \r\n",
        "    [40712 rows x 6 columns]\r\n",
        "'''"
      ],
      "execution_count": null,
      "outputs": []
    },
    {
      "cell_type": "markdown",
      "metadata": {
        "id": "UibL15EqJ-U_"
      },
      "source": [
        "\r\n",
        "3. Find the average rating given to the frequently watched films in popular_movies_rankings and store it as popular_movies_average_rankings.\r\n",
        "\r\n",
        "4. Print the entries in popular_movies_average_rankings that contain the highest-ranked movies.\r\n"
      ]
    },
    {
      "cell_type": "code",
      "metadata": {
        "id": "NrvsQKERLefi"
      },
      "source": [
        "# Create a list of only movies appearing > 50 times in the dataset\r\n",
        "movie_popularity = user_ratings_df[\"title\"].value_counts()\r\n",
        "popular_movies = movie_popularity[movie_popularity > 50].index\r\n",
        "\r\n",
        "# Use this popular_movies list to filter the original DataFrame\r\n",
        "popular_movies_rankings =  user_ratings_df[user_ratings_df[\"title\"].isin(popular_movies)]\r\n",
        "\r\n",
        "# Find the average rating given to these frequently watched films\r\n",
        "popular_movies_average_rankings = popular_movies_rankings[[\"title\", \"rating\"]].groupby('title').mean()\r\n",
        "print(popular_movies_average_rankings.sort_values(by=\"rating\", ascending=False).head())\r\n",
        "\r\n",
        "'''\r\n",
        "<script.py> output:\r\n",
        "                                                          rating\r\n",
        "    title                                                       \r\n",
        "    Shawshank Redemption, The (1994)                    4.429022\r\n",
        "    Godfather, The (1972)                               4.289062\r\n",
        "    Fight Club (1999)                                   4.272936\r\n",
        "    Cool Hand Luke (1967)                               4.271930\r\n",
        "    Dr. Strangelove or: How I Learned to Stop Worry...  4.268041\r\n",
        "'''"
      ],
      "execution_count": null,
      "outputs": []
    },
    {
      "cell_type": "markdown",
      "metadata": {
        "id": "pWAE2O9uLlMB"
      },
      "source": [
        "Conclusion\r\n",
        "\r\n",
        "Correct! You are now able to make intelligent non-personalized recommendations that combine both the ratings of an item and how frequently it has been interacted with."
      ]
    },
    {
      "cell_type": "markdown",
      "metadata": {
        "id": "i2o4Ux7bL0lL"
      },
      "source": [
        "# Non-personalized suggestions\r\n",
        "\r\n",
        "1. Non-personalized suggestions\r\n",
        "\r\n",
        "While suggesting the highest-ranked items will generally return items that most people do not object to, it lacks any understanding of user tastes, or what items are liked by the same people.\r\n",
        "2. Identifying pairs\r\n",
        "\r\n",
        "In this video we will work through a third and final type of non-personalized recommendations, making suggestions by finding the most commonly seen together items. To do this we will use the same dataset as we previously used, with users and the books they read. We will record every time two books were read by the same person, and then count how often these pairings of books occur. We can then use this lookup table to suggest books that are often read by the same people, implying that if you like one, you are likely to enjoy the other.\r\n",
        "3. Permutations versus combinations\r\n",
        "\r\n",
        "We will be looking for all permutations of pairs, or in other words, counting both item_a paired with item_b and item_b paired with item_a separately. This will allow us to independently lookup items commonly seen with item_a, or items commonly seen with item_b.\r\n",
        "4. Creating the pairing function\r\n",
        "\r\n",
        "We will need to first create a function that finds all permutations of pairs of items in a list it is applied to and apply the function to the sets of books each user has read. Let's go through this code in steps.\r\n",
        "5. Creating the pairing function\r\n",
        "\r\n",
        "The permutations function from the itertools package takes a list as its first argument, in this case, the list of books a user has read and takes the length of the permutations as its second argument, two in this case as we care about what books are read together.\r\n",
        "6. Creating the pairing function\r\n",
        "\r\n",
        "We wrap this in a list as the permutation function returns an iterable object, while we want the actual list.\r\n",
        "7. Creating the pairing function\r\n",
        "\r\n",
        "This list is then wrapped in a DataFrame for ease of use.\r\n",
        "8. Applying the function to the data\r\n",
        "\r\n",
        "We can now apply this new function to our original DataFrame. DataFrame groupby objects have some built-in grouping functions, for example, dot mean, which you have used previously. However, custom functions are applied using the apply method. Here you can see the groupby being called on the book_df DataFrame with our custom function being applied using the apply method. This returns the correct data, but due to the groupby, it's a little difficult to read the nested index.\r\n",
        "9. Cleaning up the results\r\n",
        "\r\n",
        "We will get rid of this index by using the reset_index method. As we no longer need any of the information about the user_ids we can set the drop parameter to True. If we didn't do this, the index would just be converted to a column that we do not want.\r\n",
        "10. Counting the pairings\r\n",
        "\r\n",
        "Having all these individual pairs is a great start, but we want to know how often each of these pairs occurs with each other We use a DataFrame groupby method again, this time grouping by both columns, and using the size method on the resulting groups to find how often each combination occurs. We then can then use the to_frame method to convert this into a DataFrame for ease of use. Resetting the index once more to clean up the groupby index.\r\n",
        "11. Looking up recommendations\r\n",
        "\r\n",
        "Finally, we can sort the DataFrame so that we will find the most frequently seen together pairing for each book. With our newly sorted, cleaned up DataFrame we can find the most commonly paired book with it by filtering the book_a column by the name of the book we are looking for!\r\n",
        "12. Let's practice!\r\n",
        "\r\n",
        "Now it's your turn to try this out on the movie dataset you have been working with. "
      ]
    },
    {
      "cell_type": "markdown",
      "metadata": {
        "id": "HI8znEP7QsXe"
      },
      "source": [
        "# Finding all pairs of movies\r\n",
        "\r\n",
        "In this exercise, you will work through how to find all pairs of movies or all permutations of pairs of movies that have been watched by the same person.\r\n",
        "\r\n",
        "The user_ratings_df has been loaded once again containing users, and the movies they have seen.\r\n",
        "\r\n",
        "You will need to first create a function that finds all possible pairs of items in a list it is applied to. For ease of use, you will output the values of this as a DataFrame. Since you only want to find movies that have been seen by the same person and not all possible permutations, you will group by user_id when applying the function.\r\n",
        "\r\n",
        "Instructions\r\n",
        "\r\n",
        "1. Create a function called find_movie_pairs that finds all permutations of a Series, and stores the results as a DataFrame.\r\n",
        "\r\n",
        "2. Apply this function to the user_ratings_df DataFrame and print the results.\r\n"
      ]
    },
    {
      "cell_type": "code",
      "metadata": {
        "id": "siJ0mK4hQ7I1"
      },
      "source": [
        "from itertools import permutations\r\n",
        "\r\n",
        "# Create the function to find all permutations\r\n",
        "def find_movie_pairs(x):\r\n",
        "  pairs = pd.DataFrame(list(permutations(x.values, 2)),\r\n",
        "                       columns=['movie_a', 'movie_b'])\r\n",
        "  return pairs\r\n",
        "\r\n",
        "# Apply the function to the title column and reset the index\r\n",
        "movie_combinations = user_ratings_df.groupby('userId')['title'].apply(find_movie_pairs)\r\n",
        "\r\n",
        "print(movie_combinations)\r\n",
        "\r\n",
        "'''\r\n",
        "<script.py> output:\r\n",
        "                     movie_a                          movie_b\r\n",
        "    userId                                                   \r\n",
        "    18     0        Bad Boys                             Thor\r\n",
        "           1            Thor                         Bad Boys\r\n",
        "    21     0        Bad Boys                   21 Jump Street\r\n",
        "           1  21 Jump Street                         Bad Boys\r\n",
        "    62     0            Thor  Avengers: Infinity War - Part I\r\n",
        "    ...                  ...                              ...\r\n",
        "    610    1            Thor                           Cars 2\r\n",
        "           2     Bridesmaids                             Thor\r\n",
        "           3     Bridesmaids                           Cars 2\r\n",
        "           4          Cars 2                             Thor\r\n",
        "           5          Cars 2                      Bridesmaids\r\n",
        "    \r\n",
        "    [412 rows x 2 columns]\r\n",
        "'''"
      ],
      "execution_count": null,
      "outputs": []
    },
    {
      "cell_type": "markdown",
      "metadata": {
        "id": "KUj5O8ooRaZz"
      },
      "source": [
        " 3. Remove the nested index that has been created during the aggregation."
      ]
    },
    {
      "cell_type": "code",
      "metadata": {
        "id": "Y5SXx01k5nRG"
      },
      "source": [
        "from itertools import permutations\r\n",
        "\r\n",
        "# Create the function to find all permutations\r\n",
        "def find_movie_pairs(x):\r\n",
        "  pairs = pd.DataFrame(list(permutations(x.values, 2)),\r\n",
        "                       columns=['movie_a', 'movie_b'])\r\n",
        "  return pairs\r\n",
        "\r\n",
        "# Apply the function to the title column and reset the index\r\n",
        "movie_combinations = user_ratings_df.groupby('userId')['title'].apply(\r\n",
        "  find_movie_pairs).reset_index(drop=True)\r\n",
        "\r\n",
        "print(movie_combinations)\r\n",
        "\r\n",
        "'''\r\n",
        "<script.py> output:\r\n",
        "                movie_a                          movie_b\r\n",
        "    0          Bad Boys                             Thor\r\n",
        "    1              Thor                         Bad Boys\r\n",
        "    2          Bad Boys                   21 Jump Street\r\n",
        "    3    21 Jump Street                         Bad Boys\r\n",
        "    4              Thor  Avengers: Infinity War - Part I\r\n",
        "    ..              ...                              ...\r\n",
        "    407            Thor                           Cars 2\r\n",
        "    408     Bridesmaids                             Thor\r\n",
        "    409     Bridesmaids                           Cars 2\r\n",
        "    410          Cars 2                             Thor\r\n",
        "    411          Cars 2                      Bridesmaids\r\n",
        "    \r\n",
        "    [412 rows x 2 columns]\r\n",
        "'''"
      ],
      "execution_count": null,
      "outputs": []
    },
    {
      "cell_type": "markdown",
      "metadata": {
        "id": "gtUS1NRY65-z"
      },
      "source": [
        "Conclusion\r\n",
        "\r\n",
        "Perfect! You now have a clean table of all of the movies that were watched by the same user, which can be used to find the most commonly paired movies."
      ]
    },
    {
      "cell_type": "markdown",
      "metadata": {
        "id": "lg0TtCTy7EIa"
      },
      "source": [
        "# Counting up the pairs\r\n",
        "\r\n",
        "You can now create DataFrame of all the permutations of movies that have been watched by the same user. This is of limited use unless you can find which movies are most commonly paired.\r\n",
        "\r\n",
        "In this exercise, you will work with the movie_combinations DataFrame that you created in the last exercise (that has been loaded for you), and generate a new DataFrame containing the counts of occurrences of each of the pairs within.\r\n",
        "\r\n",
        "Instructions\r\n",
        "\r\n",
        "1. Find the number of times each pair of movies occurs and assign it to combination_counts.\r\n"
      ]
    },
    {
      "cell_type": "code",
      "metadata": {
        "id": "LcP7Mypg7VNl"
      },
      "source": [
        "In [2]:\r\n",
        "movie_combinations.head()\r\n",
        "Out[2]:\r\n",
        "\r\n",
        "          movie_a                          movie_b\r\n",
        "0        Bad Boys                             Thor\r\n",
        "1            Thor                         Bad Boys\r\n",
        "2        Bad Boys                   21 Jump Street\r\n",
        "3  21 Jump Street                         Bad Boys\r\n",
        "4            Thor  Avengers: Infinity War - Part I"
      ],
      "execution_count": null,
      "outputs": []
    },
    {
      "cell_type": "code",
      "metadata": {
        "id": "oBaD0ro78Pyy"
      },
      "source": [
        "# Calculate how often each item in movies_a occurs with the items in movies_b\r\n",
        "combination_counts = movie_combinations.groupby(['movie_a', 'movie_b']).size()\r\n",
        "\r\n",
        "# Inspect the results\r\n",
        "print(combination_counts.head())\r\n",
        "\r\n",
        "'''\r\n",
        "<script.py> output:\r\n",
        "    movie_a         movie_b                        \r\n",
        "    21 Jump Street  Atlas Shrugged: Part 1             1\r\n",
        "                    Avengers: Infinity War - Part I    3\r\n",
        "                    Bad Boys                           7\r\n",
        "                    Bad Teacher                        8\r\n",
        "                    Battle: Los Angeles                2\r\n",
        "    dtype: int64\r\n",
        "'''"
      ],
      "execution_count": null,
      "outputs": []
    },
    {
      "cell_type": "markdown",
      "metadata": {
        "id": "xE0lrujX9syV"
      },
      "source": [
        "\r\n",
        "2. Convert the resulting nested Series (combination_counts) to a DataFrame labeled combination_counts_df with the counted column named size.\r\n",
        "\r\n",
        "3. Reset the index for ease of reading.\r\n"
      ]
    },
    {
      "cell_type": "code",
      "metadata": {
        "id": "iszJFpem-eIZ"
      },
      "source": [
        "# Calculate how often each item in movie_a occurs with the items in movie_b\r\n",
        "combination_counts = movie_combinations.groupby(['movie_a', 'movie_b']).size()\r\n",
        "\r\n",
        "# Convert the results to a DataFrame and reset the index\r\n",
        "combination_counts_df = combination_counts.to_frame(name = 'size').reset_index()\r\n",
        "print(combination_counts_df.head())\r\n",
        "\r\n",
        "'''\r\n",
        "<script.py> output:\r\n",
        "              movie_a                          movie_b  size\r\n",
        "    0  21 Jump Street           Atlas Shrugged: Part 1     1\r\n",
        "    1  21 Jump Street  Avengers: Infinity War - Part I     3\r\n",
        "    2  21 Jump Street                         Bad Boys     7\r\n",
        "    3  21 Jump Street                      Bad Teacher     8\r\n",
        "    4  21 Jump Street              Battle: Los Angeles     2\r\n",
        "'''"
      ],
      "execution_count": null,
      "outputs": []
    },
    {
      "cell_type": "markdown",
      "metadata": {
        "id": "evQFGhAx-13G"
      },
      "source": [
        "Conclusion\r\n",
        "\r\n",
        "Fantastic. In the next exercise, you will use this aggregated DataFrame to generate recommendations for any movie in the dataset."
      ]
    },
    {
      "cell_type": "markdown",
      "metadata": {
        "id": "074pDVf_-_VC"
      },
      "source": [
        "# Making your first movie recommendations\r\n",
        "\r\n",
        "Now that you have found the most commonly paired movies, you can make your first recommendations!\r\n",
        "\r\n",
        "While you are not taking in any information about the person watching, and do not even know any details about the movie, valuable recommendations can still be made by examining what groups of movies are watched by the same people. In this exercise, you will examine the movies often watched by the same people that watched Thor, and then use this data to give a recommendation to someone who just watched the movie. The DataFrame you generated in the last lesson, combination_counts_df, that contains counts of how often movies are watched together has been loaded for you.\r\n",
        "\r\n",
        "Instructions\r\n",
        "\r\n",
        "1. Order the combination_counts_df object from largest to smallest by the size column.\r\n",
        "\r\n",
        "2. Find the newly ordered movie frequencies for the movie Thor by subsetting the ordered combination_counts_df object where movie_a is Thor assign them to thor_df and plot the results.\r\n"
      ]
    },
    {
      "cell_type": "code",
      "metadata": {
        "id": "wVcBI5m7_PA_"
      },
      "source": [
        "In [1]:\r\n",
        "combination_counts_df.head()\r\n",
        "Out[1]:\r\n",
        "\r\n",
        "          movie_a                          movie_b  size\r\n",
        "0  21 Jump Street           Atlas Shrugged: Part 1     1\r\n",
        "1  21 Jump Street  Avengers: Infinity War - Part I     3\r\n",
        "2  21 Jump Street                         Bad Boys     7\r\n",
        "3  21 Jump Street                      Bad Teacher     8\r\n",
        "4  21 Jump Street              Battle: Los Angeles     2"
      ],
      "execution_count": null,
      "outputs": []
    },
    {
      "cell_type": "code",
      "metadata": {
        "id": "Hld6ccIh_bcn"
      },
      "source": [
        "import matplotlib.pyplot as plt\r\n",
        "\r\n",
        "# Sort the counts from highest to lowest\r\n",
        "combination_counts_df.sort_values('size', ascending=False, inplace=True)\r\n",
        "\r\n",
        "# Find the movies most frequently watched by people who watched Thor\r\n",
        "thor_df = combination_counts_df[combination_counts_df['movie_a'] == 'Thor']\r\n",
        "\r\n",
        "# Plot the results\r\n",
        "thor_df.plot.bar(x=\"movie_b\")\r\n",
        "plt.show()"
      ],
      "execution_count": null,
      "outputs": []
    },
    {
      "cell_type": "markdown",
      "metadata": {
        "id": "UAl3Glo9_wJv"
      },
      "source": [
        "Conclusion\r\n",
        "\r\n",
        "Good work! You can see that 21 Jump Street was the most commonly watched movie by those who watched Thor. This means that it would be a good movie to recommend Thor watchers as it shows they have similar fans.\r\n",
        "\r\n",
        "![image.png](data:image/png;base64,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)"
      ]
    }
  ]
}