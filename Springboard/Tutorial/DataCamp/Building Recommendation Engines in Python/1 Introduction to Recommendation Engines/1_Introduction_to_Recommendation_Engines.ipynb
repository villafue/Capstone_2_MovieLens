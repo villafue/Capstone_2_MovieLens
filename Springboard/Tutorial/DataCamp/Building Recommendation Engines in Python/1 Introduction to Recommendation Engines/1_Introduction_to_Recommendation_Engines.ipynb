{
  "nbformat": 4,
  "nbformat_minor": 0,
  "metadata": {
    "colab": {
      "name": "1 Introduction to Recommendation Engines.ipynb",
      "provenance": [],
      "authorship_tag": "ABX9TyMvXh5AyYYgzgCYxcYz8ptt",
      "include_colab_link": true
    },
    "kernelspec": {
      "name": "python3",
      "display_name": "Python 3"
    }
  },
  "cells": [
    {
      "cell_type": "markdown",
      "metadata": {
        "id": "view-in-github",
        "colab_type": "text"
      },
      "source": [
        "<a href=\"https://colab.research.google.com/github/villafue/Capstone_2_Netflix/blob/main/Springboard/Tutorial/DataCamp/Building%20Recommendation%20Engines%20in%20Python/1%20Introduction%20to%20Recommendation%20Engines/1_Introduction_to_Recommendation_Engines.ipynb\" target=\"_parent\"><img src=\"https://colab.research.google.com/assets/colab-badge.svg\" alt=\"Open In Colab\"/></a>"
      ]
    },
    {
      "cell_type": "markdown",
      "metadata": {
        "id": "6RkylxX8fBUk"
      },
      "source": [
        "Introduction to Recommendation Engines\r\n",
        "\r\n",
        "What problems are recommendation engines designed to solve and what data are best suited for them? Discern what insightful recommendations can be made even with limited data, and learn how to create your own recommendations."
      ]
    },
    {
      "cell_type": "markdown",
      "metadata": {
        "id": "PbR7eZO1fBIn"
      },
      "source": [
        ""
      ]
    },
    {
      "cell_type": "code",
      "metadata": {
        "id": "DBRAuhUHVS4G"
      },
      "source": [
        ""
      ],
      "execution_count": null,
      "outputs": []
    }
  ]
}