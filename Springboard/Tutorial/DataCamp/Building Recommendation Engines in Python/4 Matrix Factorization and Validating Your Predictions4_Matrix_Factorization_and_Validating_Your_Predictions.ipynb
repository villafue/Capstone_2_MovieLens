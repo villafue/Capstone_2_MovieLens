{
  "nbformat": 4,
  "nbformat_minor": 0,
  "metadata": {
    "colab": {
      "name": "4 Matrix Factorization and Validating Your Predictions.ipynb",
      "provenance": [],
      "authorship_tag": "ABX9TyPIdhl3vwnCvx15tUZ6EYND",
      "include_colab_link": true
    },
    "kernelspec": {
      "name": "python3",
      "display_name": "Python 3"
    }
  },
  "cells": [
    {
      "cell_type": "markdown",
      "metadata": {
        "id": "view-in-github",
        "colab_type": "text"
      },
      "source": [
        "<a href=\"https://colab.research.google.com/github/villafue/Capstone_2_Netflix/blob/main/Springboard/Tutorial/DataCamp/Building%20Recommendation%20Engines%20in%20Python/4%20Matrix%20Factorization%20and%20Validating%20Your%20Predictions4_Matrix_Factorization_and_Validating_Your_Predictions.ipynb\" target=\"_parent\"><img src=\"https://colab.research.google.com/assets/colab-badge.svg\" alt=\"Open In Colab\"/></a>"
      ]
    },
    {
      "cell_type": "markdown",
      "metadata": {
        "id": "muayV4UnAwPm"
      },
      "source": [
        "# Matrix Factorization and Validating Your Predictions\r\n",
        "\r\n",
        "Understand how the sparsity of real-world datasets can impact your recommendations. Leverage the power of matrix factorization to deal with this sparsity. Explore the value of latent features and use them to better understand your data. Finally, put the models you’ve discovered to the test by learning how to validate each of the approaches you’ve learned."
      ]
    },
    {
      "cell_type": "markdown",
      "metadata": {
        "id": "YS7BgR7lAwHe"
      },
      "source": [
        ""
      ]
    },
    {
      "cell_type": "code",
      "metadata": {
        "id": "6FlF5Wgw07aC"
      },
      "source": [
        ""
      ],
      "execution_count": null,
      "outputs": []
    }
  ]
}