{
  "nbformat": 4,
  "nbformat_minor": 0,
  "metadata": {
    "colab": {
      "name": "Matrix Factorization.ipynb",
      "provenance": [],
      "authorship_tag": "ABX9TyMgPrIzVApuF/3Ig9ujJIs7",
      "include_colab_link": true
    },
    "kernelspec": {
      "name": "python3",
      "display_name": "Python 3"
    }
  },
  "cells": [
    {
      "cell_type": "markdown",
      "metadata": {
        "id": "view-in-github",
        "colab_type": "text"
      },
      "source": [
        "<a href=\"https://colab.research.google.com/github/villafue/Capstone_2_MovieLens/blob/main/Notebook/Matrix_Factorization.ipynb\" target=\"_parent\"><img src=\"https://colab.research.google.com/assets/colab-badge.svg\" alt=\"Open In Colab\"/></a>"
      ]
    },
    {
      "cell_type": "code",
      "metadata": {
        "colab": {
          "base_uri": "https://localhost:8080/"
        },
        "id": "G6brgN2fOVur",
        "outputId": "f695aaae-7223-48a6-a806-f53587a9a440"
      },
      "source": [
        "pip install scikit-surprise"
      ],
      "execution_count": null,
      "outputs": [
        {
          "output_type": "stream",
          "text": [
            "Requirement already satisfied: scikit-surprise in /usr/local/lib/python3.7/dist-packages (1.1.1)\n",
            "Requirement already satisfied: joblib>=0.11 in /usr/local/lib/python3.7/dist-packages (from scikit-surprise) (1.0.1)\n",
            "Requirement already satisfied: scipy>=1.0.0 in /usr/local/lib/python3.7/dist-packages (from scikit-surprise) (1.4.1)\n",
            "Requirement already satisfied: six>=1.10.0 in /usr/local/lib/python3.7/dist-packages (from scikit-surprise) (1.15.0)\n",
            "Requirement already satisfied: numpy>=1.11.2 in /usr/local/lib/python3.7/dist-packages (from scikit-surprise) (1.19.5)\n"
          ],
          "name": "stdout"
        }
      ]
    },
    {
      "cell_type": "code",
      "metadata": {
        "id": "Z9No6_FfKah0"
      },
      "source": [
        "import os\r\n",
        "os.mkdir('/content/knn')\r\n",
        "os.chdir('/content/knn')"
      ],
      "execution_count": null,
      "outputs": []
    },
    {
      "cell_type": "code",
      "metadata": {
        "id": "-HqogmdG5zvc"
      },
      "source": [
        "!python \"MovieLens.py\"\r\n",
        "print('1 of 5: Done')\r\n",
        "!python \"RecommenderMetrics.py\"\r\n",
        "print('2 of 5: Done')\r\n",
        "!python \"EvaluationData.py\"\r\n",
        "print('3 of 5: Done')\r\n",
        "!python \"EvaluatedAlgorithm.py\"\r\n",
        "print('4 of 5: Done')\r\n",
        "!python \"Evaluator.py\"\r\n",
        "print('5 of 5: All Scripts Loaded!')"
      ],
      "execution_count": null,
      "outputs": []
    },
    {
      "cell_type": "code",
      "metadata": {
        "id": "cN6IHB4knBtg"
      },
      "source": [
        "# -*- coding: utf-8 -*-\r\n",
        "\"\"\"\r\n",
        "Created on Sun Mar 14 22:35:07 2021\r\n",
        "\r\n",
        "@author: Maribel\r\n",
        "\"\"\"\r\n",
        "\r\n",
        "from MovieLens import MovieLens\r\n",
        "from surprise import SVD, SVDpp\r\n",
        "from surprise import NormalPredictor\r\n",
        "from Evaluator import Evaluator\r\n",
        "from surprise.model_selection import GridSearchCV\r\n",
        "from surprise.model_selection import RandomizedSearchCV\r\n",
        "\r\n",
        "import random\r\n",
        "import numpy as np\r\n",
        "\r\n",
        "def LoadMovieLensData():\r\n",
        "    ml = MovieLens()\r\n",
        "    print(\"Loading movie ratings...\")\r\n",
        "    data = ml.loadMovieLensLatestSmall()\r\n",
        "    print(\"\\nComputing movie popularity ranks so we can measure novelty later...\")\r\n",
        "    rankings = ml.getPopularityRanks()\r\n",
        "    return (ml, data, rankings)\r\n",
        "\r\n",
        "np.random.seed(29)\r\n",
        "random.seed(29)\r\n",
        "\r\n",
        "# Load up common data set for the recommender algorithms\r\n",
        "(ml, evaluationData, rankings) = LoadMovieLensData()\r\n",
        "\r\n",
        "print(\"Searching for best parameters...\")\r\n",
        "#param_grid = {'n_epochs': [20, 30], 'lr_all': [0.005, 0.010],\r\n",
        "#              'n_factors': [50, 100]}\r\n",
        "#gs = GridSearchCV(SVD, param_grid, measures=['rmse', 'mae'], cv=3)\r\n",
        "\r\n",
        "#gs.fit(evaluationData)\r\n",
        "\r\n",
        "param_grid = {'n_epochs': range(10, 31), \r\n",
        "              'lr_all': np.linspace(0.001, 0.10, 10),\r\n",
        "              'n_factors': range(10, 100, 20),\r\n",
        "              'reg_all': np.linspace(0.01, 0.1, 10)}\r\n",
        "\r\n",
        "rs = RandomizedSearchCV(SVD, param_distributions=param_grid, measures=['rmse', 'mae'], \r\n",
        "                        cv=5, random_state=29, n_jobs = -1, n_iter=50)\r\n",
        "\r\n",
        "rs.fit(evaluationData)\r\n",
        "\r\n",
        "# best RMSE score\r\n",
        "#print(\"Best RMSE score attained: \", gs.best_score['rmse'])\r\n",
        "print(\"Best RMSE score attained: \", rs.best_score['rmse'])\r\n",
        "\r\n",
        "# combination of parameters that gave the best RMSE score\r\n",
        "#print(gs.best_params['rmse'])\r\n",
        "print(rs.best_params['rmse'])\r\n",
        "\r\n",
        "# Construct an Evaluator to, you know, evaluate them\r\n",
        "evaluator = Evaluator(evaluationData, rankings)\r\n",
        "\r\n",
        "#params = gs.best_params['rmse']\r\n",
        "#SVDtuned = SVD(n_epochs = params['n_epochs'], lr_all = params['lr_all'], n_factors = params['n_factors'])\r\n",
        "\r\n",
        "params = rs.best_params['rmse']\r\n",
        "SVDtuned = SVD(n_epochs = params['n_epochs'], lr_all = params['lr_all'], \r\n",
        "               n_factors = params['n_factors'], reg_all = params['reg_all'])\r\n",
        "evaluator.AddAlgorithm(SVDtuned, \"SVD - Tuned\")\r\n",
        "\r\n",
        "SVDUntuned = SVD()\r\n",
        "evaluator.AddAlgorithm(SVDUntuned, \"SVD - Untuned\")\r\n",
        "\r\n",
        "# Just make random recommendations\r\n",
        "Random = NormalPredictor()\r\n",
        "evaluator.AddAlgorithm(Random, \"Random\")\r\n",
        "\r\n",
        "# Fight!\r\n",
        "evaluator.Evaluate(True)\r\n",
        "\r\n",
        "evaluator.SampleTopNRecs(ml)\r\n"
      ],
      "execution_count": null,
      "outputs": []
    },
    {
      "cell_type": "code",
      "metadata": {
        "id": "___bAmkMnfIb"
      },
      "source": [
        "# -*- coding: utf-8 -*-\r\n",
        "\"\"\"\r\n",
        "Created on Sun Mar 14 22:35:07 2021\r\n",
        "\r\n",
        "@author: Maribel\r\n",
        "\"\"\"\r\n",
        "\r\n",
        "from MovieLens import MovieLens\r\n",
        "from surprise import SVD, SVDpp\r\n",
        "from surprise import NormalPredictor\r\n",
        "from Evaluator import Evaluator\r\n",
        "from surprise.model_selection import GridSearchCV\r\n",
        "from surprise.model_selection import RandomizedSearchCV\r\n",
        "\r\n",
        "import random\r\n",
        "import numpy as np\r\n",
        "\r\n",
        "def LoadMovieLensData():\r\n",
        "    ml = MovieLens()\r\n",
        "    print(\"Loading movie ratings...\")\r\n",
        "    data = ml.loadMovieLensLatestSmall()\r\n",
        "    print(\"\\nComputing movie popularity ranks so we can measure novelty later...\")\r\n",
        "    rankings = ml.getPopularityRanks()\r\n",
        "    return (ml, data, rankings)\r\n",
        "\r\n",
        "np.random.seed(29)\r\n",
        "random.seed(29)\r\n",
        "\r\n",
        "# Load up common data set for the recommender algorithms\r\n",
        "(ml, evaluationData, rankings) = LoadMovieLensData()\r\n",
        "\r\n",
        "print(\"Searching for best parameters...\")\r\n",
        "#param_grid = {'n_epochs': [20, 30], 'lr_all': [0.005, 0.010],\r\n",
        "#              'n_factors': [50, 100]}\r\n",
        "#gs = GridSearchCV(SVD, param_grid, measures=['rmse', 'mae'], cv=3)\r\n",
        "\r\n",
        "#gs.fit(evaluationData)\r\n",
        "\r\n",
        "param_grid = {'n_epochs': range(10, 51), \r\n",
        "              'lr_all': np.linspace(0.001, 0.20, 20),\r\n",
        "              'n_factors': range(10, 100, 20),\r\n",
        "              'reg_all': np.linspace(0.01, 0.1, 10)}\r\n",
        "\r\n",
        "rsplus = RandomizedSearchCV(SVDpp, param_distributions=param_grid, measures=['rmse', 'mae'], \r\n",
        "                        cv=5, random_state=29, n_jobs = -1, n_iter=100)\r\n",
        "\r\n",
        "rsplus.fit(evaluationData)\r\n",
        "\r\n",
        "# best RMSE score\r\n",
        "#print(\"Best RMSE score attained: \", gs.best_score['rmse'])\r\n",
        "print(\"Best RMSE score attained: \", rsplus.best_score['rmse'])\r\n",
        "\r\n",
        "# combination of parameters that gave the best RMSE score\r\n",
        "#print(gs.best_params['rmse'])\r\n",
        "print(rsplus.best_params['rmse'])\r\n",
        "\r\n",
        "# Construct an Evaluator to, you know, evaluate them\r\n",
        "evaluator = Evaluator(evaluationData, rankings)\r\n",
        "\r\n",
        "#params = gs.best_params['rmse']\r\n",
        "#SVDtuned = SVD(n_epochs = params['n_epochs'], lr_all = params['lr_all'], n_factors = params['n_factors'])\r\n",
        "\r\n",
        "params = rsplus.best_params['rmse']\r\n",
        "SVDPlusTuned = SVDpp(n_epochs = params['n_epochs'], lr_all = params['lr_all'], \r\n",
        "               n_factors = params['n_factors'], reg_all = params['reg_all'])\r\n",
        "evaluator.AddAlgorithm(SVDPlusTuned, \"SVD++ - Tuned\")\r\n",
        "\r\n",
        "SVDPlusUntuned = SVDpp()\r\n",
        "evaluator.AddAlgorithm(SVDPlusUntuned, \"SVD++ - Untuned\")\r\n",
        "\r\n",
        "# Just make random recommendations\r\n",
        "Random = NormalPredictor()\r\n",
        "evaluator.AddAlgorithm(Random, \"Random\")\r\n",
        "\r\n",
        "# Fight!\r\n",
        "evaluator.Evaluate(True)\r\n",
        "\r\n",
        "evaluator.SampleTopNRecs(ml)\r\n"
      ],
      "execution_count": null,
      "outputs": []
    }
  ]
}