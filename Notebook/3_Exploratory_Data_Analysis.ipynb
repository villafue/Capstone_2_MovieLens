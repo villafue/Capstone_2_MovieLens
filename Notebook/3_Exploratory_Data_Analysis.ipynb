{
  "nbformat": 4,
  "nbformat_minor": 0,
  "metadata": {
    "colab": {
      "name": "3 Exploratory Data Analysis.ipynb",
      "provenance": [],
      "toc_visible": true,
      "authorship_tag": "ABX9TyOXa58UN7ITXzQr9TF6/0t6",
      "include_colab_link": true
    },
    "kernelspec": {
      "name": "python3",
      "display_name": "Python 3"
    },
    "language_info": {
      "name": "python"
    }
  },
  "cells": [
    {
      "cell_type": "markdown",
      "metadata": {
        "id": "view-in-github",
        "colab_type": "text"
      },
      "source": [
        "<a href=\"https://colab.research.google.com/github/villafue/Capstone_2_MovieLens/blob/main/Notebook/3_Exploratory_Data_Analysis.ipynb\" target=\"_parent\"><img src=\"https://colab.research.google.com/assets/colab-badge.svg\" alt=\"Open In Colab\"/></a>"
      ]
    },
    {
      "cell_type": "markdown",
      "metadata": {
        "id": "oPKDuqxGcy7w"
      },
      "source": [
        "# 3."
      ]
    },
    {
      "cell_type": "markdown",
      "metadata": {
        "id": "giIDdqk25Fxw"
      },
      "source": [
        "<a name=\"top\"></a>\n",
        "## Exploratory Data Analysis\n",
        "\n"
      ]
    },
    {
      "cell_type": "markdown",
      "metadata": {
        "id": "_WasouTHJILH"
      },
      "source": [
        "### Table of Contents\n",
        "\n",
        "Note: The internal links work in Google Colab.\n",
        "\n",
        "1. **[Preface](https://colab.research.google.com/github/villafue/Capstone_2_MovieLens/blob/main/MovieLens.ipynb#preface)**\n",
        "2. **[Introduction](https://colab.research.google.com/github/villafue/Capstone_2_MovieLens/blob/main/MovieLens.ipynb#introduction)**\n",
        "3. **[Exploratory Data Analysis](#eda)**\n",
        "    - 3.1 - [Import Packages](#import_packages)\n",
        "    - 3.2 - [Movie Lens Data](#data)\n",
        "        - 3.2.1 - [Links.csv](#links)\n",
        "        - 3.2.2 - [Tags.csv](#tags)\n",
        "        - 3.2.3 - [Movies.csv](#movies)\n",
        "        - 3.2.4 - [Ratings.csv](#ratings)\n",
        "    - 3.3 - [Movies and Ratings Analysis](#movies_ratings)\n",
        "        - 3.3.1 - [Merge Movies and Ratings](#merge)\n",
        "        - 3.3.2 - [Investigating Rating Count](#rating_count)\n",
        "        - 3.3.3 - [Highest Rated Movies](#highest_rated)\n",
        "    - 3.4 - [Genre](#genre)\n",
        "    - 3.5 - [User Rating Count](#user_rating_count)\n",
        "    - 3.6 - [User 25](#user_25)\n",
        "        - 5.1.2 - [Simple Models](#simple_models)\n",
        "        - 5.1.3 - [Advanced Linear Models](#advanced_linear_models)\n",
        "        - 5.1.4 - [Ensemble Tree Models](#ensemble_tree_models)\n",
        "    - 5.2 - [Training](#training)\n",
        "        - 5.2.1 - [Feature Selection](#feature_selection)\n",
        "        - 5.2.2 - [Reduction Comparison](#reduction_comparison)\n",
        "    - 5.3 - [Optimization](#optimization)\n",
        "        - 5.3.1 - [Linear Regression](#linear_regression)\n",
        "        - 5.3.2 - [Ridge Regression](#ridge_regression)\n",
        "        - 5.3.3 - [Lasso Regression](#lasso_regression)\n",
        "        - 5.3.4 - [Elastic Net Regression](#elastic_net_regression)\n",
        "        - 5.3.5 - [Random Forest Regressor](#random_forest_regressor)\n",
        "        - 5.3.6 - [AdaBoost Regressor](#adaboost_regressor)\n",
        "        - 5.3.7 - [GradientBoost Regressor](#gradientboost_regressor)\n",
        "        - 5.3.8 - [XGBoost Regressor](#xgboost_regressor)\n",
        "        - 5.3.8 - [Models Summary](#models_summary)\n",
        "    - 5.4 - [Stacking](#stacking)\n",
        "6. **[Conclusion](#conclusion)**\n",
        "    - 6.1 - [Submission](#submission)\n",
        "    - 6.2 - [Final Thoughts](#final_thoughts)\n",
        "    - 6.3 - [References](#references)\n",
        "    - 6.4 - [TPOT](#TPOT)"
      ]
    },
    {
      "cell_type": "markdown",
      "metadata": {
        "id": "OdyF2omrjdxW"
      },
      "source": [
        "***"
      ]
    },
    {
      "cell_type": "markdown",
      "metadata": {
        "id": "th0Sq1sPeaIO"
      },
      "source": [
        "<a name=\"import_packages\"></a>\n",
        "### 3.1 - Import Packages"
      ]
    },
    {
      "cell_type": "markdown",
      "metadata": {
        "id": "z6goGHQL8yL9"
      },
      "source": [
        "First, I import my requisite packages and settings."
      ]
    },
    {
      "cell_type": "code",
      "metadata": {
        "colab": {
          "base_uri": "https://localhost:8080/"
        },
        "id": "L0IXpNB5_4CN",
        "outputId": "3cfb7106-5224-4eb9-cdc0-8f995a06ea9b"
      },
      "source": [
        "import os\n",
        "\n",
        "import pandas as pd\n",
        "pd.set_option('display.notebook_repr_html', True)\n",
        "pd.set_option('max_columns', 82)\n",
        "pd.options.display.max_rows = 100\n",
        "\n",
        "import numpy as np\n",
        "\n",
        "from IPython.display import display\n",
        "import matplotlib.pyplot as plt\n",
        "\n",
        "import seaborn as sns\n",
        "\n",
        "# Set visualisation colours\n",
        "mycols = [\"#66c2ff\", \"#5cd6d6\", \"#00cc99\", \"#85e085\", \"#ffd966\", \"#ffb366\", \"#ffb3b3\", \"#dab3ff\", \"#c2c2d6\"]\n",
        "\n",
        "# To ignore annoying warning\n",
        "import warnings\n",
        "def ignore_warn(*args, **kwargs):\n",
        "    pass\n",
        "warnings.warn = ignore_warn #ignore annoying warning (from sklearn and seaborn)\n",
        "warnings.filterwarnings(\"ignore\", category=DeprecationWarning)\n",
        "\n",
        "print('Packages loaded!')"
      ],
      "execution_count": null,
      "outputs": [
        {
          "output_type": "stream",
          "text": [
            "Packages loaded!\n"
          ],
          "name": "stdout"
        }
      ]
    },
    {
      "cell_type": "code",
      "metadata": {
        "colab": {
          "base_uri": "https://localhost:8080/"
        },
        "id": "EoSpcw1_GLrw",
        "outputId": "30acf03b-5ad8-40b8-b1f7-f7e352fe3370"
      },
      "source": [
        "plt.rcParams.update(plt.rcParamsDefault)\n",
        "%matplotlib inline\n",
        "plt.style.use(['seaborn-whitegrid'])\n",
        "sns.set_palette(palette = mycols, n_colors = 4)\n",
        "sns.set(context='notebook', palette='deep')\n",
        "\n",
        "print('Settings loaded!')"
      ],
      "execution_count": null,
      "outputs": [
        {
          "output_type": "stream",
          "text": [
            "Settings loaded!\n"
          ],
          "name": "stdout"
        }
      ]
    },
    {
      "cell_type": "markdown",
      "metadata": {
        "id": "2wCC7M779Rai"
      },
      "source": [
        "As mentioned prior, Frank uses the small [Movie Lens](https://grouplens.org/datasets/movielens/latest/) dataset. It contains 100,000 ratings and 3,600 tags for to 9,000 movies by 600 users. Here is a link to the [Readme](https://github.com/villafue/Capstone_2_MovieLens/tree/main/Data) and the dataset I used. Frank used the 2016 version during his course, but I downloaded the most recent 2018 version. It's essentially the same dataset but it's updated to include movies up to 2018. I also wanted to use the most recent dataset as a personal challenge to create the best recommendation system possible. "
      ]
    },
    {
      "cell_type": "markdown",
      "metadata": {
        "id": "v9wkWFNcjaI1"
      },
      "source": [
        "***"
      ]
    },
    {
      "cell_type": "markdown",
      "metadata": {
        "id": "mR-icWtwghny"
      },
      "source": [
        "**[Back to Top](#top)**"
      ]
    },
    {
      "cell_type": "markdown",
      "metadata": {
        "id": "zYvHDd1XgiiZ"
      },
      "source": [
        "***"
      ]
    },
    {
      "cell_type": "markdown",
      "metadata": {
        "id": "C2ew_ArAg48P"
      },
      "source": [
        "<a name=\"data\"></a>\n",
        "### 3.2 - Movie Lens Data"
      ]
    },
    {
      "cell_type": "markdown",
      "metadata": {
        "id": "kM6OW15V-rhV"
      },
      "source": [
        "The dataset consists of 4 csv files: links, tags, ratings, and movies. Although Frank only uses the ratings and movies csvs, I'll explore all of them below. "
      ]
    },
    {
      "cell_type": "markdown",
      "metadata": {
        "id": "aHHee2RhhtFN"
      },
      "source": [
        "<a name=\"links\"></a>\n",
        "#### 3.2.1 - Links.csv"
      ]
    },
    {
      "cell_type": "markdown",
      "metadata": {
        "id": "WRNy3jlGwGTj"
      },
      "source": [
        "I load the \"links\" csv into a pandas dataframe. "
      ]
    },
    {
      "cell_type": "code",
      "metadata": {
        "id": "01abd7uab4qQ",
        "colab": {
          "base_uri": "https://localhost:8080/",
          "height": 363
        },
        "outputId": "5c17f297-8b90-41dc-e140-d7a4a9620a9d"
      },
      "source": [
        "url = 'https://raw.githubusercontent.com/villafue/Capstone_2_MovieLens/main/Data/links.csv'\n",
        "links_df = pd.read_csv(url)\n",
        "print(links_df.shape, '\\n' * 2, 'The Movie Lens links csv has: ', links_df.shape[0], 'rows and ', links_df.shape[1], 'columns.')\n",
        "# This makes a little barrier between printed outputs.\n",
        "print('\\n', '=' * 136, '\\n' * 2, 'links_df Set:', '\\n')\n",
        "display(links_df.head())\n",
        "print('\\n', '=' * 136)"
      ],
      "execution_count": null,
      "outputs": [
        {
          "output_type": "stream",
          "text": [
            "(9742, 3) \n",
            "\n",
            " The Movie Lens links csv has:  9742 rows and  3 columns.\n",
            "\n",
            " ======================================================================================================================================== \n",
            "\n",
            " links_df Set: \n",
            "\n"
          ],
          "name": "stdout"
        },
        {
          "output_type": "display_data",
          "data": {
            "text/html": [
              "<div>\n",
              "<style scoped>\n",
              "    .dataframe tbody tr th:only-of-type {\n",
              "        vertical-align: middle;\n",
              "    }\n",
              "\n",
              "    .dataframe tbody tr th {\n",
              "        vertical-align: top;\n",
              "    }\n",
              "\n",
              "    .dataframe thead th {\n",
              "        text-align: right;\n",
              "    }\n",
              "</style>\n",
              "<table border=\"1\" class=\"dataframe\">\n",
              "  <thead>\n",
              "    <tr style=\"text-align: right;\">\n",
              "      <th></th>\n",
              "      <th>movieId</th>\n",
              "      <th>imdbId</th>\n",
              "      <th>tmdbId</th>\n",
              "    </tr>\n",
              "  </thead>\n",
              "  <tbody>\n",
              "    <tr>\n",
              "      <th>0</th>\n",
              "      <td>1</td>\n",
              "      <td>114709</td>\n",
              "      <td>862.0</td>\n",
              "    </tr>\n",
              "    <tr>\n",
              "      <th>1</th>\n",
              "      <td>2</td>\n",
              "      <td>113497</td>\n",
              "      <td>8844.0</td>\n",
              "    </tr>\n",
              "    <tr>\n",
              "      <th>2</th>\n",
              "      <td>3</td>\n",
              "      <td>113228</td>\n",
              "      <td>15602.0</td>\n",
              "    </tr>\n",
              "    <tr>\n",
              "      <th>3</th>\n",
              "      <td>4</td>\n",
              "      <td>114885</td>\n",
              "      <td>31357.0</td>\n",
              "    </tr>\n",
              "    <tr>\n",
              "      <th>4</th>\n",
              "      <td>5</td>\n",
              "      <td>113041</td>\n",
              "      <td>11862.0</td>\n",
              "    </tr>\n",
              "  </tbody>\n",
              "</table>\n",
              "</div>"
            ],
            "text/plain": [
              "   movieId  imdbId   tmdbId\n",
              "0        1  114709    862.0\n",
              "1        2  113497   8844.0\n",
              "2        3  113228  15602.0\n",
              "3        4  114885  31357.0\n",
              "4        5  113041  11862.0"
            ]
          },
          "metadata": {
            "tags": []
          }
        },
        {
          "output_type": "stream",
          "text": [
            "\n",
            " ========================================================================================================================================\n"
          ],
          "name": "stdout"
        }
      ]
    },
    {
      "cell_type": "markdown",
      "metadata": {
        "id": "aaHB-1HZwQWL"
      },
      "source": [
        "It has a little over 9,700 rows and three columns. The three columns correspond to Movie Lens identifier (MovieId), IMDb movie identifier (imdbId), and TMDb movie identifier (tmdbId). This is very helpful as this can be used to connect the movies and features in this dataset to the same movies and equivalent features in the [IMDB](https://www.imdb.com/interfaces/) and [TMDB](https://developers.themoviedb.org/4/getting-started/authorization) databases.  "
      ]
    },
    {
      "cell_type": "code",
      "metadata": {
        "colab": {
          "base_uri": "https://localhost:8080/"
        },
        "id": "oN7dCemLvx6j",
        "outputId": "91710f01-85ae-45ac-f630-5ad6cce1a077"
      },
      "source": [
        "links_df.info()"
      ],
      "execution_count": null,
      "outputs": [
        {
          "output_type": "stream",
          "text": [
            "<class 'pandas.core.frame.DataFrame'>\n",
            "RangeIndex: 9742 entries, 0 to 9741\n",
            "Data columns (total 3 columns):\n",
            " #   Column   Non-Null Count  Dtype  \n",
            "---  ------   --------------  -----  \n",
            " 0   movieId  9742 non-null   int64  \n",
            " 1   imdbId   9742 non-null   int64  \n",
            " 2   tmdbId   9734 non-null   float64\n",
            "dtypes: float64(1), int64(2)\n",
            "memory usage: 228.5 KB\n"
          ],
          "name": "stdout"
        }
      ]
    },
    {
      "cell_type": "markdown",
      "metadata": {
        "id": "RYMkXJg5zIYf"
      },
      "source": [
        "There are 8 missing values for the tmdbId column but because I'm not using this information, I am not going to worry about it."
      ]
    },
    {
      "cell_type": "markdown",
      "metadata": {
        "id": "P-BifBFKjXns"
      },
      "source": [
        "***"
      ]
    },
    {
      "cell_type": "markdown",
      "metadata": {
        "id": "6gvuB_BVioiV"
      },
      "source": [
        "**[Back to Top](#top)**"
      ]
    },
    {
      "cell_type": "markdown",
      "metadata": {
        "id": "3D3yqX1tz2Oe"
      },
      "source": [
        "***"
      ]
    },
    {
      "cell_type": "markdown",
      "metadata": {
        "id": "U8IVLc4DiV2v"
      },
      "source": [
        "<a name=\"tags\"></a>\n",
        "#### 3.2.2 - Tags.csv"
      ]
    },
    {
      "cell_type": "markdown",
      "metadata": {
        "id": "ykOSGiwp2elr"
      },
      "source": [
        "I will upload the tags csv into a pandas dataframe."
      ]
    },
    {
      "cell_type": "code",
      "metadata": {
        "colab": {
          "base_uri": "https://localhost:8080/",
          "height": 363
        },
        "id": "3I6kyfJCdc2L",
        "outputId": "42d35b1f-9c50-481f-bb8c-32b650ebea8f"
      },
      "source": [
        "url = 'https://raw.githubusercontent.com/villafue/Capstone_2_MovieLens/main/Data/tags.csv'\n",
        "tags_df = pd.read_csv(url)\n",
        "print(tags_df.shape, '\\n' * 2, 'The Movie Lens tags csv has: ', tags_df.shape[0], 'rows and ', tags_df.shape[1], 'columns.')\n",
        "# This makes a little barrier between printed outputs.\n",
        "print('\\n', '=' * 136, '\\n' * 2, 'tags_df Set:', '\\n')\n",
        "display(tags_df.head())\n",
        "print('\\n', '=' * 136)"
      ],
      "execution_count": null,
      "outputs": [
        {
          "output_type": "stream",
          "text": [
            "(3683, 4) \n",
            "\n",
            " The Movie Lens tags csv has:  3683 rows and  4 columns.\n",
            "\n",
            " ======================================================================================================================================== \n",
            "\n",
            " tags_df Set: \n",
            "\n"
          ],
          "name": "stdout"
        },
        {
          "output_type": "display_data",
          "data": {
            "text/html": [
              "<div>\n",
              "<style scoped>\n",
              "    .dataframe tbody tr th:only-of-type {\n",
              "        vertical-align: middle;\n",
              "    }\n",
              "\n",
              "    .dataframe tbody tr th {\n",
              "        vertical-align: top;\n",
              "    }\n",
              "\n",
              "    .dataframe thead th {\n",
              "        text-align: right;\n",
              "    }\n",
              "</style>\n",
              "<table border=\"1\" class=\"dataframe\">\n",
              "  <thead>\n",
              "    <tr style=\"text-align: right;\">\n",
              "      <th></th>\n",
              "      <th>userId</th>\n",
              "      <th>movieId</th>\n",
              "      <th>tag</th>\n",
              "      <th>timestamp</th>\n",
              "    </tr>\n",
              "  </thead>\n",
              "  <tbody>\n",
              "    <tr>\n",
              "      <th>0</th>\n",
              "      <td>2</td>\n",
              "      <td>60756</td>\n",
              "      <td>funny</td>\n",
              "      <td>1445714994</td>\n",
              "    </tr>\n",
              "    <tr>\n",
              "      <th>1</th>\n",
              "      <td>2</td>\n",
              "      <td>60756</td>\n",
              "      <td>Highly quotable</td>\n",
              "      <td>1445714996</td>\n",
              "    </tr>\n",
              "    <tr>\n",
              "      <th>2</th>\n",
              "      <td>2</td>\n",
              "      <td>60756</td>\n",
              "      <td>will ferrell</td>\n",
              "      <td>1445714992</td>\n",
              "    </tr>\n",
              "    <tr>\n",
              "      <th>3</th>\n",
              "      <td>2</td>\n",
              "      <td>89774</td>\n",
              "      <td>Boxing story</td>\n",
              "      <td>1445715207</td>\n",
              "    </tr>\n",
              "    <tr>\n",
              "      <th>4</th>\n",
              "      <td>2</td>\n",
              "      <td>89774</td>\n",
              "      <td>MMA</td>\n",
              "      <td>1445715200</td>\n",
              "    </tr>\n",
              "  </tbody>\n",
              "</table>\n",
              "</div>"
            ],
            "text/plain": [
              "   userId  movieId              tag   timestamp\n",
              "0       2    60756            funny  1445714994\n",
              "1       2    60756  Highly quotable  1445714996\n",
              "2       2    60756     will ferrell  1445714992\n",
              "3       2    89774     Boxing story  1445715207\n",
              "4       2    89774              MMA  1445715200"
            ]
          },
          "metadata": {
            "tags": []
          }
        },
        {
          "output_type": "stream",
          "text": [
            "\n",
            " ========================================================================================================================================\n"
          ],
          "name": "stdout"
        }
      ]
    },
    {
      "cell_type": "markdown",
      "metadata": {
        "id": "IK7eBB6U2KG7"
      },
      "source": [
        "This dataset has almost 3700 rows and 4 columns. It has a userId for each individual and a movieId for the \"tags\" each user gave. The \"tag\" column represents a word or short phrase given by each user. The timestamp column represents seconds since midnight Coordinated Universal Time (UTC) of January 1, 1970. "
      ]
    },
    {
      "cell_type": "code",
      "metadata": {
        "colab": {
          "base_uri": "https://localhost:8080/"
        },
        "id": "vrffOqyQ3kYh",
        "outputId": "d23c9a9f-576b-4c61-b07a-d9a926bb5b86"
      },
      "source": [
        "tags_df.info()"
      ],
      "execution_count": null,
      "outputs": [
        {
          "output_type": "stream",
          "text": [
            "<class 'pandas.core.frame.DataFrame'>\n",
            "RangeIndex: 3683 entries, 0 to 3682\n",
            "Data columns (total 4 columns):\n",
            " #   Column     Non-Null Count  Dtype \n",
            "---  ------     --------------  ----- \n",
            " 0   userId     3683 non-null   int64 \n",
            " 1   movieId    3683 non-null   int64 \n",
            " 2   tag        3683 non-null   object\n",
            " 3   timestamp  3683 non-null   int64 \n",
            "dtypes: int64(3), object(1)\n",
            "memory usage: 115.2+ KB\n"
          ],
          "name": "stdout"
        }
      ]
    },
    {
      "cell_type": "markdown",
      "metadata": {
        "id": "vPNCH4A53pAY"
      },
      "source": [
        "There are no missing values. "
      ]
    },
    {
      "cell_type": "code",
      "metadata": {
        "colab": {
          "base_uri": "https://localhost:8080/"
        },
        "id": "K-x-JsUs3xVs",
        "outputId": "22d26a6b-6c2b-4e42-ba97-7dd09356dc8e"
      },
      "source": [
        "tags_df.userId.nunique()"
      ],
      "execution_count": null,
      "outputs": [
        {
          "output_type": "execute_result",
          "data": {
            "text/plain": [
              "58"
            ]
          },
          "metadata": {
            "tags": []
          },
          "execution_count": 17
        }
      ]
    },
    {
      "cell_type": "code",
      "metadata": {
        "colab": {
          "base_uri": "https://localhost:8080/"
        },
        "id": "SSEqQRqn39ci",
        "outputId": "0835bd83-5565-4400-d5ec-45065eb716d0"
      },
      "source": [
        "tags_df.movieId.nunique()"
      ],
      "execution_count": null,
      "outputs": [
        {
          "output_type": "execute_result",
          "data": {
            "text/plain": [
              "1572"
            ]
          },
          "metadata": {
            "tags": []
          },
          "execution_count": 18
        }
      ]
    },
    {
      "cell_type": "markdown",
      "metadata": {
        "id": "X137pzWq3svJ"
      },
      "source": [
        "There are only 58 individuals who gave tags to a total of 1572 movies."
      ]
    },
    {
      "cell_type": "markdown",
      "metadata": {
        "id": "_RAC9nsCDLgN"
      },
      "source": [
        "Frank also did not use this dataset in his recommender framework."
      ]
    },
    {
      "cell_type": "markdown",
      "metadata": {
        "id": "x_mHICaqjVon"
      },
      "source": [
        "***"
      ]
    },
    {
      "cell_type": "markdown",
      "metadata": {
        "id": "NCcpoKZ1itTc"
      },
      "source": [
        "**[Back to Top](#top)**"
      ]
    },
    {
      "cell_type": "markdown",
      "metadata": {
        "id": "YoDyOmsGDRYh"
      },
      "source": [
        "***"
      ]
    },
    {
      "cell_type": "markdown",
      "metadata": {
        "id": "CuueQbyVi5TL"
      },
      "source": [
        "<a name=\"movies\"></a>\n",
        "#### 3.2.3 - Movies.csv"
      ]
    },
    {
      "cell_type": "markdown",
      "metadata": {
        "id": "Vkql6ThRz7OY"
      },
      "source": [
        "I will load the movies csv. "
      ]
    },
    {
      "cell_type": "code",
      "metadata": {
        "colab": {
          "base_uri": "https://localhost:8080/",
          "height": 363
        },
        "id": "48f1QUOzb2ft",
        "outputId": "57973616-713a-4aa8-b435-76f4345995c7"
      },
      "source": [
        "url = 'https://raw.githubusercontent.com/villafue/Capstone_2_MovieLens/main/Data/movies.csv'\n",
        "movies_df = pd.read_csv(url)\n",
        "print(movies_df.shape, '\\n' * 2, 'The Movie Lens movies csv has: ', movies_df.shape[0], 'rows and ', movies_df.shape[1], 'columns.')\n",
        "# This makes a little barrier between printed outputs.\n",
        "print('\\n', '=' * 136, '\\n' * 2, 'movies_df Set:', '\\n')\n",
        "display(movies_df.head())\n",
        "print('\\n', '=' * 136)"
      ],
      "execution_count": null,
      "outputs": [
        {
          "output_type": "stream",
          "text": [
            "(9742, 3) \n",
            "\n",
            " The Movie Lens movies csv has:  9742 rows and  3 columns.\n",
            "\n",
            " ======================================================================================================================================== \n",
            "\n",
            " movies_df Set: \n",
            "\n"
          ],
          "name": "stdout"
        },
        {
          "output_type": "display_data",
          "data": {
            "text/html": [
              "<div>\n",
              "<style scoped>\n",
              "    .dataframe tbody tr th:only-of-type {\n",
              "        vertical-align: middle;\n",
              "    }\n",
              "\n",
              "    .dataframe tbody tr th {\n",
              "        vertical-align: top;\n",
              "    }\n",
              "\n",
              "    .dataframe thead th {\n",
              "        text-align: right;\n",
              "    }\n",
              "</style>\n",
              "<table border=\"1\" class=\"dataframe\">\n",
              "  <thead>\n",
              "    <tr style=\"text-align: right;\">\n",
              "      <th></th>\n",
              "      <th>movieId</th>\n",
              "      <th>title</th>\n",
              "      <th>genres</th>\n",
              "    </tr>\n",
              "  </thead>\n",
              "  <tbody>\n",
              "    <tr>\n",
              "      <th>0</th>\n",
              "      <td>1</td>\n",
              "      <td>Toy Story (1995)</td>\n",
              "      <td>Adventure|Animation|Children|Comedy|Fantasy</td>\n",
              "    </tr>\n",
              "    <tr>\n",
              "      <th>1</th>\n",
              "      <td>2</td>\n",
              "      <td>Jumanji (1995)</td>\n",
              "      <td>Adventure|Children|Fantasy</td>\n",
              "    </tr>\n",
              "    <tr>\n",
              "      <th>2</th>\n",
              "      <td>3</td>\n",
              "      <td>Grumpier Old Men (1995)</td>\n",
              "      <td>Comedy|Romance</td>\n",
              "    </tr>\n",
              "    <tr>\n",
              "      <th>3</th>\n",
              "      <td>4</td>\n",
              "      <td>Waiting to Exhale (1995)</td>\n",
              "      <td>Comedy|Drama|Romance</td>\n",
              "    </tr>\n",
              "    <tr>\n",
              "      <th>4</th>\n",
              "      <td>5</td>\n",
              "      <td>Father of the Bride Part II (1995)</td>\n",
              "      <td>Comedy</td>\n",
              "    </tr>\n",
              "  </tbody>\n",
              "</table>\n",
              "</div>"
            ],
            "text/plain": [
              "   movieId                               title  \\\n",
              "0        1                    Toy Story (1995)   \n",
              "1        2                      Jumanji (1995)   \n",
              "2        3             Grumpier Old Men (1995)   \n",
              "3        4            Waiting to Exhale (1995)   \n",
              "4        5  Father of the Bride Part II (1995)   \n",
              "\n",
              "                                        genres  \n",
              "0  Adventure|Animation|Children|Comedy|Fantasy  \n",
              "1                   Adventure|Children|Fantasy  \n",
              "2                               Comedy|Romance  \n",
              "3                         Comedy|Drama|Romance  \n",
              "4                                       Comedy  "
            ]
          },
          "metadata": {
            "tags": []
          }
        },
        {
          "output_type": "stream",
          "text": [
            "\n",
            " ========================================================================================================================================\n"
          ],
          "name": "stdout"
        }
      ]
    },
    {
      "cell_type": "markdown",
      "metadata": {
        "id": "XmVc6l0P0ATQ"
      },
      "source": [
        "It has a little over 9700 rows and three columns. It contains the MovieLens movie Id column, the name of the movie and year (title), and it's corresponding list of genres."
      ]
    },
    {
      "cell_type": "code",
      "metadata": {
        "colab": {
          "base_uri": "https://localhost:8080/"
        },
        "id": "8AFeoJWc0VU2",
        "outputId": "ca12ae33-b937-4e3b-da42-e80ac435f0dc"
      },
      "source": [
        "movies_df.info()"
      ],
      "execution_count": null,
      "outputs": [
        {
          "output_type": "stream",
          "text": [
            "<class 'pandas.core.frame.DataFrame'>\n",
            "RangeIndex: 9742 entries, 0 to 9741\n",
            "Data columns (total 3 columns):\n",
            " #   Column   Non-Null Count  Dtype \n",
            "---  ------   --------------  ----- \n",
            " 0   movieId  9742 non-null   int64 \n",
            " 1   title    9742 non-null   object\n",
            " 2   genres   9742 non-null   object\n",
            "dtypes: int64(1), object(2)\n",
            "memory usage: 228.5+ KB\n"
          ],
          "name": "stdout"
        }
      ]
    },
    {
      "cell_type": "markdown",
      "metadata": {
        "id": "XKcyvAup0cTt"
      },
      "source": [
        "Thankfully, there are no missing values. "
      ]
    },
    {
      "cell_type": "code",
      "metadata": {
        "colab": {
          "base_uri": "https://localhost:8080/"
        },
        "id": "BnJGP1LLDol3",
        "outputId": "d4ecf407-ae5c-4ee2-e7e2-3b2def575958"
      },
      "source": [
        "movies_df.title.nunique()"
      ],
      "execution_count": null,
      "outputs": [
        {
          "output_type": "execute_result",
          "data": {
            "text/plain": [
              "9737"
            ]
          },
          "metadata": {
            "tags": []
          },
          "execution_count": 4
        }
      ]
    },
    {
      "cell_type": "markdown",
      "metadata": {
        "id": "_HZwMV1bDyao"
      },
      "source": [
        "Interesting. There's 9,742 entries in the \"title\" column but only 9,737 unique titles. I'll check the movieID column next."
      ]
    },
    {
      "cell_type": "code",
      "metadata": {
        "colab": {
          "base_uri": "https://localhost:8080/"
        },
        "id": "1dZ_SFyEEBwl",
        "outputId": "fcdccc2b-7cbb-4eae-f860-c9149061f619"
      },
      "source": [
        "movies_df.movieId.nunique()"
      ],
      "execution_count": null,
      "outputs": [
        {
          "output_type": "execute_result",
          "data": {
            "text/plain": [
              "9742"
            ]
          },
          "metadata": {
            "tags": []
          },
          "execution_count": 5
        }
      ]
    },
    {
      "cell_type": "markdown",
      "metadata": {
        "id": "hkyraMK8EJa0"
      },
      "source": [
        "There are 9,742 unique movie identifications but it seems we have possible duplicates of up to 5 movies. "
      ]
    },
    {
      "cell_type": "code",
      "metadata": {
        "colab": {
          "base_uri": "https://localhost:8080/",
          "height": 343
        },
        "id": "QIVKvAAuFuGi",
        "outputId": "40a45cc5-cd1e-4d57-9f3c-93f99cc10d90"
      },
      "source": [
        "movies_df[movies_df.duplicated(['title'], keep=False)].sort_values(by=['title'])"
      ],
      "execution_count": null,
      "outputs": [
        {
          "output_type": "execute_result",
          "data": {
            "text/html": [
              "<div>\n",
              "<style scoped>\n",
              "    .dataframe tbody tr th:only-of-type {\n",
              "        vertical-align: middle;\n",
              "    }\n",
              "\n",
              "    .dataframe tbody tr th {\n",
              "        vertical-align: top;\n",
              "    }\n",
              "\n",
              "    .dataframe thead th {\n",
              "        text-align: right;\n",
              "    }\n",
              "</style>\n",
              "<table border=\"1\" class=\"dataframe\">\n",
              "  <thead>\n",
              "    <tr style=\"text-align: right;\">\n",
              "      <th></th>\n",
              "      <th>movieId</th>\n",
              "      <th>title</th>\n",
              "      <th>genres</th>\n",
              "    </tr>\n",
              "  </thead>\n",
              "  <tbody>\n",
              "    <tr>\n",
              "      <th>4169</th>\n",
              "      <td>6003</td>\n",
              "      <td>Confessions of a Dangerous Mind (2002)</td>\n",
              "      <td>Comedy|Crime|Drama|Thriller</td>\n",
              "    </tr>\n",
              "    <tr>\n",
              "      <th>9106</th>\n",
              "      <td>144606</td>\n",
              "      <td>Confessions of a Dangerous Mind (2002)</td>\n",
              "      <td>Comedy|Crime|Drama|Romance|Thriller</td>\n",
              "    </tr>\n",
              "    <tr>\n",
              "      <th>650</th>\n",
              "      <td>838</td>\n",
              "      <td>Emma (1996)</td>\n",
              "      <td>Comedy|Drama|Romance</td>\n",
              "    </tr>\n",
              "    <tr>\n",
              "      <th>5601</th>\n",
              "      <td>26958</td>\n",
              "      <td>Emma (1996)</td>\n",
              "      <td>Romance</td>\n",
              "    </tr>\n",
              "    <tr>\n",
              "      <th>5854</th>\n",
              "      <td>32600</td>\n",
              "      <td>Eros (2004)</td>\n",
              "      <td>Drama</td>\n",
              "    </tr>\n",
              "    <tr>\n",
              "      <th>9135</th>\n",
              "      <td>147002</td>\n",
              "      <td>Eros (2004)</td>\n",
              "      <td>Drama|Romance</td>\n",
              "    </tr>\n",
              "    <tr>\n",
              "      <th>2141</th>\n",
              "      <td>2851</td>\n",
              "      <td>Saturn 3 (1980)</td>\n",
              "      <td>Adventure|Sci-Fi|Thriller</td>\n",
              "    </tr>\n",
              "    <tr>\n",
              "      <th>9468</th>\n",
              "      <td>168358</td>\n",
              "      <td>Saturn 3 (1980)</td>\n",
              "      <td>Sci-Fi|Thriller</td>\n",
              "    </tr>\n",
              "    <tr>\n",
              "      <th>5931</th>\n",
              "      <td>34048</td>\n",
              "      <td>War of the Worlds (2005)</td>\n",
              "      <td>Action|Adventure|Sci-Fi|Thriller</td>\n",
              "    </tr>\n",
              "    <tr>\n",
              "      <th>6932</th>\n",
              "      <td>64997</td>\n",
              "      <td>War of the Worlds (2005)</td>\n",
              "      <td>Action|Sci-Fi</td>\n",
              "    </tr>\n",
              "  </tbody>\n",
              "</table>\n",
              "</div>"
            ],
            "text/plain": [
              "      movieId                                   title  \\\n",
              "4169     6003  Confessions of a Dangerous Mind (2002)   \n",
              "9106   144606  Confessions of a Dangerous Mind (2002)   \n",
              "650       838                             Emma (1996)   \n",
              "5601    26958                             Emma (1996)   \n",
              "5854    32600                             Eros (2004)   \n",
              "9135   147002                             Eros (2004)   \n",
              "2141     2851                         Saturn 3 (1980)   \n",
              "9468   168358                         Saturn 3 (1980)   \n",
              "5931    34048                War of the Worlds (2005)   \n",
              "6932    64997                War of the Worlds (2005)   \n",
              "\n",
              "                                   genres  \n",
              "4169          Comedy|Crime|Drama|Thriller  \n",
              "9106  Comedy|Crime|Drama|Romance|Thriller  \n",
              "650                  Comedy|Drama|Romance  \n",
              "5601                              Romance  \n",
              "5854                                Drama  \n",
              "9135                        Drama|Romance  \n",
              "2141            Adventure|Sci-Fi|Thriller  \n",
              "9468                      Sci-Fi|Thriller  \n",
              "5931     Action|Adventure|Sci-Fi|Thriller  \n",
              "6932                        Action|Sci-Fi  "
            ]
          },
          "metadata": {
            "tags": []
          },
          "execution_count": 7
        }
      ]
    },
    {
      "cell_type": "markdown",
      "metadata": {
        "id": "J4WGT6v8Gc9z"
      },
      "source": [
        "Here are a list of the duplicate movies. Usually, I would drop these duplicate rows, but I don't want to potentially cause issues in Frank's framework. Furthermore, it's a tiny fraction of a percent so I doubt it will be an issue in my work."
      ]
    },
    {
      "cell_type": "markdown",
      "metadata": {
        "id": "LmVyrLAiHalk"
      },
      "source": [
        "The genre's column will be explored in a later section."
      ]
    },
    {
      "cell_type": "markdown",
      "metadata": {
        "id": "sU5EANxcjPsZ"
      },
      "source": [
        "***"
      ]
    },
    {
      "cell_type": "markdown",
      "metadata": {
        "id": "cVa0XBO0jPsY"
      },
      "source": [
        "**[Back to Top](#top)**"
      ]
    },
    {
      "cell_type": "markdown",
      "metadata": {
        "id": "omlIAMGr0kmL"
      },
      "source": [
        "***"
      ]
    },
    {
      "cell_type": "markdown",
      "metadata": {
        "id": "hYe_9ACfjPsZ"
      },
      "source": [
        "<a name=\"ratings\"></a>\n",
        "#### 3.2.4 - Ratings.csv"
      ]
    },
    {
      "cell_type": "markdown",
      "metadata": {
        "id": "tNU77td80l0A"
      },
      "source": [
        "I will upload the ratings csv into a dataframe. "
      ]
    },
    {
      "cell_type": "code",
      "metadata": {
        "colab": {
          "base_uri": "https://localhost:8080/",
          "height": 363
        },
        "id": "YMHE2SL9dBut",
        "outputId": "539fd633-be6a-44d5-d9df-e532cf23760d"
      },
      "source": [
        "url = 'https://raw.githubusercontent.com/villafue/Capstone_2_MovieLens/main/Data/ratings.csv'\n",
        "ratings_df = pd.read_csv(url)\n",
        "print(ratings_df.shape, '\\n' * 2, 'The Movie Lens ratings csv has: ', ratings_df.shape[0], 'rows and ', ratings_df.shape[1], 'columns.')\n",
        "# This makes a little barrier between printed outputs.\n",
        "print('\\n', '=' * 136, '\\n' * 2, 'ratings_df Set:', '\\n')\n",
        "display(ratings_df.head())\n",
        "print('\\n', '=' * 136)"
      ],
      "execution_count": null,
      "outputs": [
        {
          "output_type": "stream",
          "text": [
            "(100836, 4) \n",
            "\n",
            " The Movie Lens ratings csv has:  100836 rows and  4 columns.\n",
            "\n",
            " ======================================================================================================================================== \n",
            "\n",
            " ratings_df Set: \n",
            "\n"
          ],
          "name": "stdout"
        },
        {
          "output_type": "display_data",
          "data": {
            "text/html": [
              "<div>\n",
              "<style scoped>\n",
              "    .dataframe tbody tr th:only-of-type {\n",
              "        vertical-align: middle;\n",
              "    }\n",
              "\n",
              "    .dataframe tbody tr th {\n",
              "        vertical-align: top;\n",
              "    }\n",
              "\n",
              "    .dataframe thead th {\n",
              "        text-align: right;\n",
              "    }\n",
              "</style>\n",
              "<table border=\"1\" class=\"dataframe\">\n",
              "  <thead>\n",
              "    <tr style=\"text-align: right;\">\n",
              "      <th></th>\n",
              "      <th>userId</th>\n",
              "      <th>movieId</th>\n",
              "      <th>rating</th>\n",
              "      <th>timestamp</th>\n",
              "    </tr>\n",
              "  </thead>\n",
              "  <tbody>\n",
              "    <tr>\n",
              "      <th>0</th>\n",
              "      <td>1</td>\n",
              "      <td>1</td>\n",
              "      <td>4.0</td>\n",
              "      <td>964982703</td>\n",
              "    </tr>\n",
              "    <tr>\n",
              "      <th>1</th>\n",
              "      <td>1</td>\n",
              "      <td>3</td>\n",
              "      <td>4.0</td>\n",
              "      <td>964981247</td>\n",
              "    </tr>\n",
              "    <tr>\n",
              "      <th>2</th>\n",
              "      <td>1</td>\n",
              "      <td>6</td>\n",
              "      <td>4.0</td>\n",
              "      <td>964982224</td>\n",
              "    </tr>\n",
              "    <tr>\n",
              "      <th>3</th>\n",
              "      <td>1</td>\n",
              "      <td>47</td>\n",
              "      <td>5.0</td>\n",
              "      <td>964983815</td>\n",
              "    </tr>\n",
              "    <tr>\n",
              "      <th>4</th>\n",
              "      <td>1</td>\n",
              "      <td>50</td>\n",
              "      <td>5.0</td>\n",
              "      <td>964982931</td>\n",
              "    </tr>\n",
              "  </tbody>\n",
              "</table>\n",
              "</div>"
            ],
            "text/plain": [
              "   userId  movieId  rating  timestamp\n",
              "0       1        1     4.0  964982703\n",
              "1       1        3     4.0  964981247\n",
              "2       1        6     4.0  964982224\n",
              "3       1       47     5.0  964983815\n",
              "4       1       50     5.0  964982931"
            ]
          },
          "metadata": {
            "tags": []
          }
        },
        {
          "output_type": "stream",
          "text": [
            "\n",
            " ========================================================================================================================================\n"
          ],
          "name": "stdout"
        }
      ]
    },
    {
      "cell_type": "markdown",
      "metadata": {
        "id": "cURMxwbq02-o"
      },
      "source": [
        "This one has over 100,800 rows and 4 columns. The first one corresponds to each individual (userId) who rated a specific movie (movieId) and his/her rating via the rating column. It also has a timestamp column that needs to be converted to be understood. "
      ]
    },
    {
      "cell_type": "code",
      "metadata": {
        "colab": {
          "base_uri": "https://localhost:8080/"
        },
        "id": "eessz_bi1bHD",
        "outputId": "ff9ee14d-905c-472c-bbaf-6bd441245e3f"
      },
      "source": [
        "ratings_df.info()"
      ],
      "execution_count": null,
      "outputs": [
        {
          "output_type": "stream",
          "text": [
            "<class 'pandas.core.frame.DataFrame'>\n",
            "RangeIndex: 100836 entries, 0 to 100835\n",
            "Data columns (total 4 columns):\n",
            " #   Column     Non-Null Count   Dtype  \n",
            "---  ------     --------------   -----  \n",
            " 0   userId     100836 non-null  int64  \n",
            " 1   movieId    100836 non-null  int64  \n",
            " 2   rating     100836 non-null  float64\n",
            " 3   timestamp  100836 non-null  int64  \n",
            "dtypes: float64(1), int64(3)\n",
            "memory usage: 3.1 MB\n"
          ],
          "name": "stdout"
        }
      ]
    },
    {
      "cell_type": "markdown",
      "metadata": {
        "id": "XKbegi8C1edJ"
      },
      "source": [
        "There are zero missing values."
      ]
    },
    {
      "cell_type": "code",
      "metadata": {
        "colab": {
          "base_uri": "https://localhost:8080/"
        },
        "id": "LDsbyojd1gTW",
        "outputId": "fee2f3fc-38af-4eb0-a180-16d6f6aa1042"
      },
      "source": [
        "ratings_df.userId.nunique()"
      ],
      "execution_count": null,
      "outputs": [
        {
          "output_type": "execute_result",
          "data": {
            "text/plain": [
              "610"
            ]
          },
          "metadata": {
            "tags": []
          },
          "execution_count": 10
        }
      ]
    },
    {
      "cell_type": "markdown",
      "metadata": {
        "id": "ZdenEA8L1n0Y"
      },
      "source": [
        "Despite there being over 100k ratings, there are only 610 unique individuals. "
      ]
    },
    {
      "cell_type": "markdown",
      "metadata": {
        "id": "bSnQYDr-VSJx"
      },
      "source": [
        "I want to see my ratings distribution"
      ]
    },
    {
      "cell_type": "code",
      "metadata": {
        "colab": {
          "base_uri": "https://localhost:8080/",
          "height": 285
        },
        "id": "X1_i2iWEVQto",
        "outputId": "b39e822e-5e10-48dc-d67d-71c807c7a165"
      },
      "source": [
        "ratings_df.rating.hist()"
      ],
      "execution_count": null,
      "outputs": [
        {
          "output_type": "execute_result",
          "data": {
            "text/plain": [
              "<matplotlib.axes._subplots.AxesSubplot at 0x7f6d344bc750>"
            ]
          },
          "metadata": {
            "tags": []
          },
          "execution_count": 11
        },
        {
          "output_type": "display_data",
          "data": {
            "image/png": "[encoded data removed]",
            "text/plain": [
              "<Figure size 432x288 with 1 Axes>"
            ]
          },
          "metadata": {
            "tags": []
          }
        }
      ]
    },
    {
      "cell_type": "markdown",
      "metadata": {
        "id": "P8v_8n1wH4Jg"
      },
      "source": [
        "The following code gives a total count of the ratings sorted by most ratings."
      ]
    },
    {
      "cell_type": "code",
      "metadata": {
        "colab": {
          "base_uri": "https://localhost:8080/"
        },
        "id": "F4KoclHBWpmA",
        "outputId": "6e011e96-68e5-4108-b413-fc2125859081"
      },
      "source": [
        "ratings_df.rating.value_counts()"
      ],
      "execution_count": null,
      "outputs": [
        {
          "output_type": "execute_result",
          "data": {
            "text/plain": [
              "4.0    26818\n",
              "3.0    20047\n",
              "5.0    13211\n",
              "3.5    13136\n",
              "4.5     8551\n",
              "2.0     7551\n",
              "2.5     5550\n",
              "1.0     2811\n",
              "1.5     1791\n",
              "0.5     1370\n",
              "Name: rating, dtype: int64"
            ]
          },
          "metadata": {
            "tags": []
          },
          "execution_count": 12
        }
      ]
    },
    {
      "cell_type": "markdown",
      "metadata": {
        "id": "i0zVtfrEIIdy"
      },
      "source": [
        "The following code gives me a percentage breakdown (imagine a pie chart) and it all adds up to about 1.0."
      ]
    },
    {
      "cell_type": "code",
      "metadata": {
        "colab": {
          "base_uri": "https://localhost:8080/"
        },
        "id": "f428MIIaZwt9",
        "outputId": "8b434c2a-dd3c-4fa4-8148-54a00c9633ef"
      },
      "source": [
        "ratings_df.rating.value_counts(normalize=True)"
      ],
      "execution_count": null,
      "outputs": [
        {
          "output_type": "execute_result",
          "data": {
            "text/plain": [
              "4.0    0.265957\n",
              "3.0    0.198808\n",
              "5.0    0.131015\n",
              "3.5    0.130271\n",
              "4.5    0.084801\n",
              "2.0    0.074884\n",
              "2.5    0.055040\n",
              "1.0    0.027877\n",
              "1.5    0.017762\n",
              "0.5    0.013586\n",
              "Name: rating, dtype: float64"
            ]
          },
          "metadata": {
            "tags": []
          },
          "execution_count": 13
        }
      ]
    },
    {
      "cell_type": "markdown",
      "metadata": {
        "id": "DXRqOCttImnv"
      },
      "source": [
        "The following code gives me the distribution of the ratings."
      ]
    },
    {
      "cell_type": "code",
      "metadata": {
        "colab": {
          "base_uri": "https://localhost:8080/"
        },
        "id": "eCw6qqtxWX3D",
        "outputId": "f2bdefbb-38dd-47b1-c6ad-7f310361110a"
      },
      "source": [
        "ratings_df.rating.describe()"
      ],
      "execution_count": null,
      "outputs": [
        {
          "output_type": "execute_result",
          "data": {
            "text/plain": [
              "count    100836.000000\n",
              "mean          3.501557\n",
              "std           1.042529\n",
              "min           0.500000\n",
              "25%           3.000000\n",
              "50%           3.500000\n",
              "75%           4.000000\n",
              "max           5.000000\n",
              "Name: rating, dtype: float64"
            ]
          },
          "metadata": {
            "tags": []
          },
          "execution_count": 14
        }
      ]
    },
    {
      "cell_type": "markdown",
      "metadata": {
        "id": "Qni4xZVdXAxc"
      },
      "source": [
        "Interestingly, the majority (almost half) of the ratings are 4.0 followed by 3.0. However, the mean and median are both 3.5. The histogram helps to see the distribution of the ratings. "
      ]
    },
    {
      "cell_type": "markdown",
      "metadata": {
        "id": "3JvbR0vJkez5"
      },
      "source": [
        "***"
      ]
    },
    {
      "cell_type": "markdown",
      "metadata": {
        "id": "mBhySZ7lkez6"
      },
      "source": [
        "**[Back to Top](#top)**"
      ]
    },
    {
      "cell_type": "markdown",
      "metadata": {
        "id": "SVb1ACGJkez6"
      },
      "source": [
        "***"
      ]
    },
    {
      "cell_type": "markdown",
      "metadata": {
        "id": "DOPZgx5zkWKs"
      },
      "source": [
        "<a name=\"movies_ratings\"></a>\n",
        "### 3.3 - Moveis and Ratings Analysis"
      ]
    },
    {
      "cell_type": "markdown",
      "metadata": {
        "id": "B0TSTuyVkwlq"
      },
      "source": [
        "<a name=\"merge\"></a>\n",
        "#### 3.3.1 - Merge Movies and Ratings"
      ]
    },
    {
      "cell_type": "markdown",
      "metadata": {
        "id": "jg55Z4Ne4GTB"
      },
      "source": [
        "Now, I am going to join ratings and the movies together into one dataframe. This would allow me to see which users rated what movies, as well as the title for each movieId."
      ]
    },
    {
      "cell_type": "code",
      "metadata": {
        "colab": {
          "base_uri": "https://localhost:8080/",
          "height": 212
        },
        "id": "kjE6-uYbtChR",
        "outputId": "c1ede818-7947-451b-806f-bf1ede9f17b1"
      },
      "source": [
        "us_mov_df = pd.merge(ratings_df, movies_df)\n",
        "print(us_mov_df.shape)\n",
        "us_mov_df.head()"
      ],
      "execution_count": null,
      "outputs": [
        {
          "output_type": "stream",
          "text": [
            "(100836, 6)\n"
          ],
          "name": "stdout"
        },
        {
          "output_type": "execute_result",
          "data": {
            "text/html": [
              "<div>\n",
              "<style scoped>\n",
              "    .dataframe tbody tr th:only-of-type {\n",
              "        vertical-align: middle;\n",
              "    }\n",
              "\n",
              "    .dataframe tbody tr th {\n",
              "        vertical-align: top;\n",
              "    }\n",
              "\n",
              "    .dataframe thead th {\n",
              "        text-align: right;\n",
              "    }\n",
              "</style>\n",
              "<table border=\"1\" class=\"dataframe\">\n",
              "  <thead>\n",
              "    <tr style=\"text-align: right;\">\n",
              "      <th></th>\n",
              "      <th>userId</th>\n",
              "      <th>movieId</th>\n",
              "      <th>rating</th>\n",
              "      <th>timestamp</th>\n",
              "      <th>title</th>\n",
              "      <th>genres</th>\n",
              "    </tr>\n",
              "  </thead>\n",
              "  <tbody>\n",
              "    <tr>\n",
              "      <th>0</th>\n",
              "      <td>1</td>\n",
              "      <td>1</td>\n",
              "      <td>4.0</td>\n",
              "      <td>964982703</td>\n",
              "      <td>Toy Story (1995)</td>\n",
              "      <td>Adventure|Animation|Children|Comedy|Fantasy</td>\n",
              "    </tr>\n",
              "    <tr>\n",
              "      <th>1</th>\n",
              "      <td>5</td>\n",
              "      <td>1</td>\n",
              "      <td>4.0</td>\n",
              "      <td>847434962</td>\n",
              "      <td>Toy Story (1995)</td>\n",
              "      <td>Adventure|Animation|Children|Comedy|Fantasy</td>\n",
              "    </tr>\n",
              "    <tr>\n",
              "      <th>2</th>\n",
              "      <td>7</td>\n",
              "      <td>1</td>\n",
              "      <td>4.5</td>\n",
              "      <td>1106635946</td>\n",
              "      <td>Toy Story (1995)</td>\n",
              "      <td>Adventure|Animation|Children|Comedy|Fantasy</td>\n",
              "    </tr>\n",
              "    <tr>\n",
              "      <th>3</th>\n",
              "      <td>15</td>\n",
              "      <td>1</td>\n",
              "      <td>2.5</td>\n",
              "      <td>1510577970</td>\n",
              "      <td>Toy Story (1995)</td>\n",
              "      <td>Adventure|Animation|Children|Comedy|Fantasy</td>\n",
              "    </tr>\n",
              "    <tr>\n",
              "      <th>4</th>\n",
              "      <td>17</td>\n",
              "      <td>1</td>\n",
              "      <td>4.5</td>\n",
              "      <td>1305696483</td>\n",
              "      <td>Toy Story (1995)</td>\n",
              "      <td>Adventure|Animation|Children|Comedy|Fantasy</td>\n",
              "    </tr>\n",
              "  </tbody>\n",
              "</table>\n",
              "</div>"
            ],
            "text/plain": [
              "   userId  movieId  rating   timestamp             title  \\\n",
              "0       1        1     4.0   964982703  Toy Story (1995)   \n",
              "1       5        1     4.0   847434962  Toy Story (1995)   \n",
              "2       7        1     4.5  1106635946  Toy Story (1995)   \n",
              "3      15        1     2.5  1510577970  Toy Story (1995)   \n",
              "4      17        1     4.5  1305696483  Toy Story (1995)   \n",
              "\n",
              "                                        genres  \n",
              "0  Adventure|Animation|Children|Comedy|Fantasy  \n",
              "1  Adventure|Animation|Children|Comedy|Fantasy  \n",
              "2  Adventure|Animation|Children|Comedy|Fantasy  \n",
              "3  Adventure|Animation|Children|Comedy|Fantasy  \n",
              "4  Adventure|Animation|Children|Comedy|Fantasy  "
            ]
          },
          "metadata": {
            "tags": []
          },
          "execution_count": 10
        }
      ]
    },
    {
      "cell_type": "markdown",
      "metadata": {
        "id": "d5zqdOPH51F4"
      },
      "source": [
        "I'm happy that it worked, but I need to sort it to make sense. I will sort first by the userId and then by the movieId"
      ]
    },
    {
      "cell_type": "code",
      "metadata": {
        "id": "LX4gNLyn4-W8"
      },
      "source": [
        "us_mov_df.sort_values(by=['userId', 'movieId'], inplace=True)"
      ],
      "execution_count": null,
      "outputs": []
    },
    {
      "cell_type": "markdown",
      "metadata": {
        "id": "iibhWHqtbWCI"
      },
      "source": [
        "I want to see how my movies are distributed."
      ]
    },
    {
      "cell_type": "code",
      "metadata": {
        "colab": {
          "base_uri": "https://localhost:8080/"
        },
        "id": "RF0uMdpuaGuU",
        "outputId": "6f2ab76e-40b9-42cf-b44b-9d3ee169e0f6"
      },
      "source": [
        "us_mov_df.title.value_counts().describe()"
      ],
      "execution_count": null,
      "outputs": [
        {
          "output_type": "execute_result",
          "data": {
            "text/plain": [
              "count    9719.000000\n",
              "mean       10.375141\n",
              "std        22.406220\n",
              "min         1.000000\n",
              "25%         1.000000\n",
              "50%         3.000000\n",
              "75%         9.000000\n",
              "max       329.000000\n",
              "Name: title, dtype: float64"
            ]
          },
          "metadata": {
            "tags": []
          },
          "execution_count": 22
        }
      ]
    },
    {
      "cell_type": "markdown",
      "metadata": {
        "id": "9U2YCthMb_w-"
      },
      "source": [
        "The mean rating is about 10 but it's highly skewed as there a very popular movie with 329 ratings. In contrast, the median rating is only 3.0. This is very evident by the histogram below. The vast majority of the ratings, for each movie, are below 50."
      ]
    },
    {
      "cell_type": "code",
      "metadata": {
        "colab": {
          "base_uri": "https://localhost:8080/",
          "height": 285
        },
        "id": "Ko18y5S9aT7n",
        "outputId": "c520d115-c834-46f2-e4fc-f354ea1bcacc"
      },
      "source": [
        "us_mov_df.title.value_counts().plot(kind='hist')"
      ],
      "execution_count": null,
      "outputs": [
        {
          "output_type": "execute_result",
          "data": {
            "text/plain": [
              "<matplotlib.axes._subplots.AxesSubplot at 0x7f6d469eb950>"
            ]
          },
          "metadata": {
            "tags": []
          },
          "execution_count": 23
        },
        {
          "output_type": "display_data",
          "data": {
            "image/png": "[encoded data removed]",
            "text/plain": [
              "<Figure size 432x288 with 1 Axes>"
            ]
          },
          "metadata": {
            "tags": []
          }
        }
      ]
    },
    {
      "cell_type": "markdown",
      "metadata": {
        "id": "vRXhVxBzzEbU"
      },
      "source": [
        "***"
      ]
    },
    {
      "cell_type": "markdown",
      "metadata": {
        "id": "uIyk2JlGzEbU"
      },
      "source": [
        "**[Back to Top](#top)**"
      ]
    },
    {
      "cell_type": "markdown",
      "metadata": {
        "id": "e2g-70P4zEbW"
      },
      "source": [
        "***"
      ]
    },
    {
      "cell_type": "markdown",
      "metadata": {
        "id": "Or3X4MV2pWXw"
      },
      "source": [
        "<a name=\"rating_count\"></a>\n",
        "#### 3.3.2 - Investigating Rating Count"
      ]
    },
    {
      "cell_type": "markdown",
      "metadata": {
        "id": "HJSbp0jYf2Kn"
      },
      "source": [
        "I want to see the distribution for movies with ratings less than 100."
      ]
    },
    {
      "cell_type": "code",
      "metadata": {
        "colab": {
          "base_uri": "https://localhost:8080/",
          "height": 402
        },
        "id": "kHwaJE6_czUZ",
        "outputId": "f0c8d82a-ba3b-4344-f896-74d624e0a623"
      },
      "source": [
        "us_mov_df_no_out = us_mov_df[us_mov_df['title'].map(us_mov_df['title'].value_counts()) < 100]\n",
        "us_mov_df_no_out"
      ],
      "execution_count": null,
      "outputs": [
        {
          "output_type": "execute_result",
          "data": {
            "text/html": [
              "<div>\n",
              "<style scoped>\n",
              "    .dataframe tbody tr th:only-of-type {\n",
              "        vertical-align: middle;\n",
              "    }\n",
              "\n",
              "    .dataframe tbody tr th {\n",
              "        vertical-align: top;\n",
              "    }\n",
              "\n",
              "    .dataframe thead th {\n",
              "        text-align: right;\n",
              "    }\n",
              "</style>\n",
              "<table border=\"1\" class=\"dataframe\">\n",
              "  <thead>\n",
              "    <tr style=\"text-align: right;\">\n",
              "      <th></th>\n",
              "      <th>userId</th>\n",
              "      <th>movieId</th>\n",
              "      <th>rating</th>\n",
              "      <th>timestamp</th>\n",
              "      <th>title</th>\n",
              "      <th>genres</th>\n",
              "    </tr>\n",
              "  </thead>\n",
              "  <tbody>\n",
              "    <tr>\n",
              "      <th>215</th>\n",
              "      <td>1</td>\n",
              "      <td>3</td>\n",
              "      <td>4.0</td>\n",
              "      <td>964981247</td>\n",
              "      <td>Grumpier Old Men (1995)</td>\n",
              "      <td>Comedy|Romance</td>\n",
              "    </tr>\n",
              "    <tr>\n",
              "      <th>776</th>\n",
              "      <td>1</td>\n",
              "      <td>70</td>\n",
              "      <td>3.0</td>\n",
              "      <td>964982400</td>\n",
              "      <td>From Dusk Till Dawn (1996)</td>\n",
              "      <td>Action|Comedy|Horror|Thriller</td>\n",
              "    </tr>\n",
              "    <tr>\n",
              "      <th>831</th>\n",
              "      <td>1</td>\n",
              "      <td>101</td>\n",
              "      <td>5.0</td>\n",
              "      <td>964980868</td>\n",
              "      <td>Bottle Rocket (1996)</td>\n",
              "      <td>Adventure|Comedy|Crime|Romance</td>\n",
              "    </tr>\n",
              "    <tr>\n",
              "      <th>1091</th>\n",
              "      <td>1</td>\n",
              "      <td>151</td>\n",
              "      <td>5.0</td>\n",
              "      <td>964984041</td>\n",
              "      <td>Rob Roy (1995)</td>\n",
              "      <td>Action|Drama|Romance|War</td>\n",
              "    </tr>\n",
              "    <tr>\n",
              "      <th>1135</th>\n",
              "      <td>1</td>\n",
              "      <td>157</td>\n",
              "      <td>5.0</td>\n",
              "      <td>964984100</td>\n",
              "      <td>Canadian Bacon (1995)</td>\n",
              "      <td>Comedy|War</td>\n",
              "    </tr>\n",
              "    <tr>\n",
              "      <th>...</th>\n",
              "      <td>...</td>\n",
              "      <td>...</td>\n",
              "      <td>...</td>\n",
              "      <td>...</td>\n",
              "      <td>...</td>\n",
              "      <td>...</td>\n",
              "    </tr>\n",
              "    <tr>\n",
              "      <th>81464</th>\n",
              "      <td>610</td>\n",
              "      <td>166534</td>\n",
              "      <td>4.0</td>\n",
              "      <td>1493848402</td>\n",
              "      <td>Split (2017)</td>\n",
              "      <td>Drama|Horror|Thriller</td>\n",
              "    </tr>\n",
              "    <tr>\n",
              "      <th>68922</th>\n",
              "      <td>610</td>\n",
              "      <td>168248</td>\n",
              "      <td>5.0</td>\n",
              "      <td>1493850091</td>\n",
              "      <td>John Wick: Chapter Two (2017)</td>\n",
              "      <td>Action|Crime|Thriller</td>\n",
              "    </tr>\n",
              "    <tr>\n",
              "      <th>81479</th>\n",
              "      <td>610</td>\n",
              "      <td>168250</td>\n",
              "      <td>5.0</td>\n",
              "      <td>1494273047</td>\n",
              "      <td>Get Out (2017)</td>\n",
              "      <td>Horror</td>\n",
              "    </tr>\n",
              "    <tr>\n",
              "      <th>57554</th>\n",
              "      <td>610</td>\n",
              "      <td>168252</td>\n",
              "      <td>5.0</td>\n",
              "      <td>1493846352</td>\n",
              "      <td>Logan (2017)</td>\n",
              "      <td>Action|Sci-Fi</td>\n",
              "    </tr>\n",
              "    <tr>\n",
              "      <th>79014</th>\n",
              "      <td>610</td>\n",
              "      <td>170875</td>\n",
              "      <td>3.0</td>\n",
              "      <td>1493846415</td>\n",
              "      <td>The Fate of the Furious (2017)</td>\n",
              "      <td>Action|Crime|Drama|Thriller</td>\n",
              "    </tr>\n",
              "  </tbody>\n",
              "</table>\n",
              "<p>80648 rows × 6 columns</p>\n",
              "</div>"
            ],
            "text/plain": [
              "       userId  movieId  rating   timestamp                           title  \\\n",
              "215         1        3     4.0   964981247         Grumpier Old Men (1995)   \n",
              "776         1       70     3.0   964982400      From Dusk Till Dawn (1996)   \n",
              "831         1      101     5.0   964980868            Bottle Rocket (1996)   \n",
              "1091        1      151     5.0   964984041                  Rob Roy (1995)   \n",
              "1135        1      157     5.0   964984100           Canadian Bacon (1995)   \n",
              "...       ...      ...     ...         ...                             ...   \n",
              "81464     610   166534     4.0  1493848402                    Split (2017)   \n",
              "68922     610   168248     5.0  1493850091   John Wick: Chapter Two (2017)   \n",
              "81479     610   168250     5.0  1494273047                  Get Out (2017)   \n",
              "57554     610   168252     5.0  1493846352                    Logan (2017)   \n",
              "79014     610   170875     3.0  1493846415  The Fate of the Furious (2017)   \n",
              "\n",
              "                               genres  \n",
              "215                    Comedy|Romance  \n",
              "776     Action|Comedy|Horror|Thriller  \n",
              "831    Adventure|Comedy|Crime|Romance  \n",
              "1091         Action|Drama|Romance|War  \n",
              "1135                       Comedy|War  \n",
              "...                               ...  \n",
              "81464           Drama|Horror|Thriller  \n",
              "68922           Action|Crime|Thriller  \n",
              "81479                          Horror  \n",
              "57554                   Action|Sci-Fi  \n",
              "79014     Action|Crime|Drama|Thriller  \n",
              "\n",
              "[80648 rows x 6 columns]"
            ]
          },
          "metadata": {
            "tags": []
          },
          "execution_count": 24
        }
      ]
    },
    {
      "cell_type": "markdown",
      "metadata": {
        "id": "MgFytcmtgEpJ"
      },
      "source": [
        "It dropped at least 20k rows."
      ]
    },
    {
      "cell_type": "code",
      "metadata": {
        "colab": {
          "base_uri": "https://localhost:8080/"
        },
        "id": "3xRipIahgISj",
        "outputId": "64566d68-9b0d-4cb9-a4ef-e9cff5f58e2a"
      },
      "source": [
        "us_mov_df_no_out.title.value_counts().describe()"
      ],
      "execution_count": null,
      "outputs": [
        {
          "output_type": "execute_result",
          "data": {
            "text/plain": [
              "count    9581.000000\n",
              "mean        8.417493\n",
              "std        14.397547\n",
              "min         1.000000\n",
              "25%         1.000000\n",
              "50%         3.000000\n",
              "75%         8.000000\n",
              "max        99.000000\n",
              "Name: title, dtype: float64"
            ]
          },
          "metadata": {
            "tags": []
          },
          "execution_count": 25
        }
      ]
    },
    {
      "cell_type": "code",
      "metadata": {
        "colab": {
          "base_uri": "https://localhost:8080/",
          "height": 285
        },
        "id": "8eSLNjEBgUqn",
        "outputId": "cdbe66bc-c8e9-4a3f-f164-0d8c96f2cd51"
      },
      "source": [
        "us_mov_df_no_out.title.value_counts().hist()"
      ],
      "execution_count": null,
      "outputs": [
        {
          "output_type": "execute_result",
          "data": {
            "text/plain": [
              "<matplotlib.axes._subplots.AxesSubplot at 0x7f6d284a8250>"
            ]
          },
          "metadata": {
            "tags": []
          },
          "execution_count": 26
        },
        {
          "output_type": "display_data",
          "data": {
            "image/png": "[encoded data removed]",
            "text/plain": [
              "<Figure size 432x288 with 1 Axes>"
            ]
          },
          "metadata": {
            "tags": []
          }
        }
      ]
    },
    {
      "cell_type": "markdown",
      "metadata": {
        "id": "hiaOSqTVg2KM"
      },
      "source": [
        "The vast majority of ratings are under 10. I'm going to filter one more time but this time for movies with 10 or less ratings."
      ]
    },
    {
      "cell_type": "code",
      "metadata": {
        "colab": {
          "base_uri": "https://localhost:8080/",
          "height": 402
        },
        "id": "jK2zkr-Cg_O1",
        "outputId": "df680f87-20ca-4ba2-b03e-af5031664088"
      },
      "source": [
        "us_mov_df_no_out10 = us_mov_df[us_mov_df['title'].map(us_mov_df['title'].value_counts()) <= 10]\n",
        "us_mov_df_no_out10"
      ],
      "execution_count": null,
      "outputs": [
        {
          "output_type": "execute_result",
          "data": {
            "text/html": [
              "<div>\n",
              "<style scoped>\n",
              "    .dataframe tbody tr th:only-of-type {\n",
              "        vertical-align: middle;\n",
              "    }\n",
              "\n",
              "    .dataframe tbody tr th {\n",
              "        vertical-align: top;\n",
              "    }\n",
              "\n",
              "    .dataframe thead th {\n",
              "        text-align: right;\n",
              "    }\n",
              "</style>\n",
              "<table border=\"1\" class=\"dataframe\">\n",
              "  <thead>\n",
              "    <tr style=\"text-align: right;\">\n",
              "      <th></th>\n",
              "      <th>userId</th>\n",
              "      <th>movieId</th>\n",
              "      <th>rating</th>\n",
              "      <th>timestamp</th>\n",
              "      <th>title</th>\n",
              "      <th>genres</th>\n",
              "    </tr>\n",
              "  </thead>\n",
              "  <tbody>\n",
              "    <tr>\n",
              "      <th>2946</th>\n",
              "      <td>1</td>\n",
              "      <td>423</td>\n",
              "      <td>3.0</td>\n",
              "      <td>964982363</td>\n",
              "      <td>Blown Away (1994)</td>\n",
              "      <td>Action|Thriller</td>\n",
              "    </tr>\n",
              "    <tr>\n",
              "      <th>5540</th>\n",
              "      <td>1</td>\n",
              "      <td>804</td>\n",
              "      <td>4.0</td>\n",
              "      <td>964980499</td>\n",
              "      <td>She's the One (1996)</td>\n",
              "      <td>Comedy|Romance</td>\n",
              "    </tr>\n",
              "    <tr>\n",
              "      <th>5709</th>\n",
              "      <td>1</td>\n",
              "      <td>940</td>\n",
              "      <td>5.0</td>\n",
              "      <td>964982176</td>\n",
              "      <td>Adventures of Robin Hood, The (1938)</td>\n",
              "      <td>Action|Adventure|Romance</td>\n",
              "    </tr>\n",
              "    <tr>\n",
              "      <th>5717</th>\n",
              "      <td>1</td>\n",
              "      <td>943</td>\n",
              "      <td>4.0</td>\n",
              "      <td>964983614</td>\n",
              "      <td>Ghost and Mrs. Muir, The (1947)</td>\n",
              "      <td>Drama|Fantasy|Romance</td>\n",
              "    </tr>\n",
              "    <tr>\n",
              "      <th>5742</th>\n",
              "      <td>1</td>\n",
              "      <td>1009</td>\n",
              "      <td>3.0</td>\n",
              "      <td>964981775</td>\n",
              "      <td>Escape to Witch Mountain (1975)</td>\n",
              "      <td>Adventure|Children|Fantasy</td>\n",
              "    </tr>\n",
              "    <tr>\n",
              "      <th>...</th>\n",
              "      <td>...</td>\n",
              "      <td>...</td>\n",
              "      <td>...</td>\n",
              "      <td>...</td>\n",
              "      <td>...</td>\n",
              "      <td>...</td>\n",
              "    </tr>\n",
              "    <tr>\n",
              "      <th>100834</th>\n",
              "      <td>610</td>\n",
              "      <td>163937</td>\n",
              "      <td>3.5</td>\n",
              "      <td>1493848789</td>\n",
              "      <td>Blair Witch (2016)</td>\n",
              "      <td>Horror|Thriller</td>\n",
              "    </tr>\n",
              "    <tr>\n",
              "      <th>100835</th>\n",
              "      <td>610</td>\n",
              "      <td>163981</td>\n",
              "      <td>3.5</td>\n",
              "      <td>1493850155</td>\n",
              "      <td>31 (2016)</td>\n",
              "      <td>Horror</td>\n",
              "    </tr>\n",
              "    <tr>\n",
              "      <th>81464</th>\n",
              "      <td>610</td>\n",
              "      <td>166534</td>\n",
              "      <td>4.0</td>\n",
              "      <td>1493848402</td>\n",
              "      <td>Split (2017)</td>\n",
              "      <td>Drama|Horror|Thriller</td>\n",
              "    </tr>\n",
              "    <tr>\n",
              "      <th>68922</th>\n",
              "      <td>610</td>\n",
              "      <td>168248</td>\n",
              "      <td>5.0</td>\n",
              "      <td>1493850091</td>\n",
              "      <td>John Wick: Chapter Two (2017)</td>\n",
              "      <td>Action|Crime|Thriller</td>\n",
              "    </tr>\n",
              "    <tr>\n",
              "      <th>79014</th>\n",
              "      <td>610</td>\n",
              "      <td>170875</td>\n",
              "      <td>3.0</td>\n",
              "      <td>1493846415</td>\n",
              "      <td>The Fate of the Furious (2017)</td>\n",
              "      <td>Action|Crime|Drama|Thriller</td>\n",
              "    </tr>\n",
              "  </tbody>\n",
              "</table>\n",
              "<p>21196 rows × 6 columns</p>\n",
              "</div>"
            ],
            "text/plain": [
              "        userId  movieId  rating   timestamp  \\\n",
              "2946         1      423     3.0   964982363   \n",
              "5540         1      804     4.0   964980499   \n",
              "5709         1      940     5.0   964982176   \n",
              "5717         1      943     4.0   964983614   \n",
              "5742         1     1009     3.0   964981775   \n",
              "...        ...      ...     ...         ...   \n",
              "100834     610   163937     3.5  1493848789   \n",
              "100835     610   163981     3.5  1493850155   \n",
              "81464      610   166534     4.0  1493848402   \n",
              "68922      610   168248     5.0  1493850091   \n",
              "79014      610   170875     3.0  1493846415   \n",
              "\n",
              "                                       title                       genres  \n",
              "2946                       Blown Away (1994)              Action|Thriller  \n",
              "5540                    She's the One (1996)               Comedy|Romance  \n",
              "5709    Adventures of Robin Hood, The (1938)     Action|Adventure|Romance  \n",
              "5717         Ghost and Mrs. Muir, The (1947)        Drama|Fantasy|Romance  \n",
              "5742         Escape to Witch Mountain (1975)   Adventure|Children|Fantasy  \n",
              "...                                      ...                          ...  \n",
              "100834                    Blair Witch (2016)              Horror|Thriller  \n",
              "100835                             31 (2016)                       Horror  \n",
              "81464                           Split (2017)        Drama|Horror|Thriller  \n",
              "68922          John Wick: Chapter Two (2017)        Action|Crime|Thriller  \n",
              "79014         The Fate of the Furious (2017)  Action|Crime|Drama|Thriller  \n",
              "\n",
              "[21196 rows x 6 columns]"
            ]
          },
          "metadata": {
            "tags": []
          },
          "execution_count": 27
        }
      ]
    },
    {
      "cell_type": "code",
      "metadata": {
        "colab": {
          "base_uri": "https://localhost:8080/"
        },
        "id": "Fh70uTr-hT7y",
        "outputId": "9041f7ce-8060-4282-d718-b5db237e5c08"
      },
      "source": [
        "us_mov_df_no_out10.title.value_counts().describe()"
      ],
      "execution_count": null,
      "outputs": [
        {
          "output_type": "execute_result",
          "data": {
            "text/plain": [
              "count    7598.000000\n",
              "mean        2.789681\n",
              "std         2.387385\n",
              "min         1.000000\n",
              "25%         1.000000\n",
              "50%         2.000000\n",
              "75%         4.000000\n",
              "max        10.000000\n",
              "Name: title, dtype: float64"
            ]
          },
          "metadata": {
            "tags": []
          },
          "execution_count": 28
        }
      ]
    },
    {
      "cell_type": "code",
      "metadata": {
        "colab": {
          "base_uri": "https://localhost:8080/",
          "height": 285
        },
        "id": "N0ZhWsoqhh_w",
        "outputId": "389d5626-ec75-4fe7-a45e-2977a14f18ba"
      },
      "source": [
        "us_mov_df_no_out10.title.value_counts().hist()"
      ],
      "execution_count": null,
      "outputs": [
        {
          "output_type": "execute_result",
          "data": {
            "text/plain": [
              "<matplotlib.axes._subplots.AxesSubplot at 0x7f6d2843b6d0>"
            ]
          },
          "metadata": {
            "tags": []
          },
          "execution_count": 29
        },
        {
          "output_type": "display_data",
          "data": {
            "image/png": "[encoded data removed]",
            "text/plain": [
              "<Figure size 432x288 with 1 Axes>"
            ]
          },
          "metadata": {
            "tags": []
          }
        }
      ]
    },
    {
      "cell_type": "code",
      "metadata": {
        "colab": {
          "base_uri": "https://localhost:8080/"
        },
        "id": "Ha_buc89iSv_",
        "outputId": "3b9b1efa-46f7-439f-c746-e2f9583970d0"
      },
      "source": [
        "1 - 7598/9719"
      ],
      "execution_count": null,
      "outputs": [
        {
          "output_type": "execute_result",
          "data": {
            "text/plain": [
              "0.21823232842885065"
            ]
          },
          "metadata": {
            "tags": []
          },
          "execution_count": 30
        }
      ]
    },
    {
      "cell_type": "markdown",
      "metadata": {
        "id": "YSFeo4E6hO2k"
      },
      "source": [
        "Subsetting the ratings to less than 10 only resulted in about 22% loss of data. With almost 7600 ratings, the vast majority of movies had less than 3 ratings. "
      ]
    },
    {
      "cell_type": "markdown",
      "metadata": {
        "id": "TQY3DRyXKIwb"
      },
      "source": [
        "***"
      ]
    },
    {
      "cell_type": "markdown",
      "metadata": {
        "id": "QsyphjnEvvEG"
      },
      "source": [
        "**[Back to Top](#top)**"
      ]
    },
    {
      "cell_type": "markdown",
      "metadata": {
        "id": "CaynnzFwvvEH"
      },
      "source": [
        "***"
      ]
    },
    {
      "cell_type": "markdown",
      "metadata": {
        "id": "csmcdDdBvvEH"
      },
      "source": [
        "<a name=\"highest_rated\"></a>\n",
        "#### 3.3.3 - Highest Rated Movies"
      ]
    },
    {
      "cell_type": "markdown",
      "metadata": {
        "id": "fcXaCd8Yivx8"
      },
      "source": [
        "I want to see the most rated movies"
      ]
    },
    {
      "cell_type": "code",
      "metadata": {
        "colab": {
          "base_uri": "https://localhost:8080/",
          "height": 402
        },
        "id": "3IY0rrtyjEii",
        "outputId": "2db53e73-4282-46d5-dc1b-7b69e2ad1803"
      },
      "source": [
        "us_mov_df_top10 = us_mov_df[us_mov_df['title'].map(us_mov_df['title'].value_counts()) > 10]\n",
        "us_mov_df_top10"
      ],
      "execution_count": null,
      "outputs": [
        {
          "output_type": "execute_result",
          "data": {
            "text/html": [
              "<div>\n",
              "<style scoped>\n",
              "    .dataframe tbody tr th:only-of-type {\n",
              "        vertical-align: middle;\n",
              "    }\n",
              "\n",
              "    .dataframe tbody tr th {\n",
              "        vertical-align: top;\n",
              "    }\n",
              "\n",
              "    .dataframe thead th {\n",
              "        text-align: right;\n",
              "    }\n",
              "</style>\n",
              "<table border=\"1\" class=\"dataframe\">\n",
              "  <thead>\n",
              "    <tr style=\"text-align: right;\">\n",
              "      <th></th>\n",
              "      <th>userId</th>\n",
              "      <th>movieId</th>\n",
              "      <th>rating</th>\n",
              "      <th>timestamp</th>\n",
              "      <th>title</th>\n",
              "      <th>genres</th>\n",
              "    </tr>\n",
              "  </thead>\n",
              "  <tbody>\n",
              "    <tr>\n",
              "      <th>0</th>\n",
              "      <td>1</td>\n",
              "      <td>1</td>\n",
              "      <td>4.0</td>\n",
              "      <td>964982703</td>\n",
              "      <td>Toy Story (1995)</td>\n",
              "      <td>Adventure|Animation|Children|Comedy|Fantasy</td>\n",
              "    </tr>\n",
              "    <tr>\n",
              "      <th>215</th>\n",
              "      <td>1</td>\n",
              "      <td>3</td>\n",
              "      <td>4.0</td>\n",
              "      <td>964981247</td>\n",
              "      <td>Grumpier Old Men (1995)</td>\n",
              "      <td>Comedy|Romance</td>\n",
              "    </tr>\n",
              "    <tr>\n",
              "      <th>267</th>\n",
              "      <td>1</td>\n",
              "      <td>6</td>\n",
              "      <td>4.0</td>\n",
              "      <td>964982224</td>\n",
              "      <td>Heat (1995)</td>\n",
              "      <td>Action|Crime|Thriller</td>\n",
              "    </tr>\n",
              "    <tr>\n",
              "      <th>369</th>\n",
              "      <td>1</td>\n",
              "      <td>47</td>\n",
              "      <td>5.0</td>\n",
              "      <td>964983815</td>\n",
              "      <td>Seven (a.k.a. Se7en) (1995)</td>\n",
              "      <td>Mystery|Thriller</td>\n",
              "    </tr>\n",
              "    <tr>\n",
              "      <th>572</th>\n",
              "      <td>1</td>\n",
              "      <td>50</td>\n",
              "      <td>5.0</td>\n",
              "      <td>964982931</td>\n",
              "      <td>Usual Suspects, The (1995)</td>\n",
              "      <td>Crime|Mystery|Thriller</td>\n",
              "    </tr>\n",
              "    <tr>\n",
              "      <th>...</th>\n",
              "      <td>...</td>\n",
              "      <td>...</td>\n",
              "      <td>...</td>\n",
              "      <td>...</td>\n",
              "      <td>...</td>\n",
              "      <td>...</td>\n",
              "    </tr>\n",
              "    <tr>\n",
              "      <th>57473</th>\n",
              "      <td>610</td>\n",
              "      <td>159093</td>\n",
              "      <td>3.0</td>\n",
              "      <td>1493847704</td>\n",
              "      <td>Now You See Me 2 (2016)</td>\n",
              "      <td>Action|Comedy|Thriller</td>\n",
              "    </tr>\n",
              "    <tr>\n",
              "      <th>57528</th>\n",
              "      <td>610</td>\n",
              "      <td>164179</td>\n",
              "      <td>5.0</td>\n",
              "      <td>1493845631</td>\n",
              "      <td>Arrival (2016)</td>\n",
              "      <td>Sci-Fi</td>\n",
              "    </tr>\n",
              "    <tr>\n",
              "      <th>48424</th>\n",
              "      <td>610</td>\n",
              "      <td>166528</td>\n",
              "      <td>4.0</td>\n",
              "      <td>1493879365</td>\n",
              "      <td>Rogue One: A Star Wars Story (2016)</td>\n",
              "      <td>Action|Adventure|Fantasy|Sci-Fi</td>\n",
              "    </tr>\n",
              "    <tr>\n",
              "      <th>81479</th>\n",
              "      <td>610</td>\n",
              "      <td>168250</td>\n",
              "      <td>5.0</td>\n",
              "      <td>1494273047</td>\n",
              "      <td>Get Out (2017)</td>\n",
              "      <td>Horror</td>\n",
              "    </tr>\n",
              "    <tr>\n",
              "      <th>57554</th>\n",
              "      <td>610</td>\n",
              "      <td>168252</td>\n",
              "      <td>5.0</td>\n",
              "      <td>1493846352</td>\n",
              "      <td>Logan (2017)</td>\n",
              "      <td>Action|Sci-Fi</td>\n",
              "    </tr>\n",
              "  </tbody>\n",
              "</table>\n",
              "<p>79640 rows × 6 columns</p>\n",
              "</div>"
            ],
            "text/plain": [
              "       userId  movieId  rating   timestamp  \\\n",
              "0           1        1     4.0   964982703   \n",
              "215         1        3     4.0   964981247   \n",
              "267         1        6     4.0   964982224   \n",
              "369         1       47     5.0   964983815   \n",
              "572         1       50     5.0   964982931   \n",
              "...       ...      ...     ...         ...   \n",
              "57473     610   159093     3.0  1493847704   \n",
              "57528     610   164179     5.0  1493845631   \n",
              "48424     610   166528     4.0  1493879365   \n",
              "81479     610   168250     5.0  1494273047   \n",
              "57554     610   168252     5.0  1493846352   \n",
              "\n",
              "                                     title  \\\n",
              "0                         Toy Story (1995)   \n",
              "215                Grumpier Old Men (1995)   \n",
              "267                            Heat (1995)   \n",
              "369            Seven (a.k.a. Se7en) (1995)   \n",
              "572             Usual Suspects, The (1995)   \n",
              "...                                    ...   \n",
              "57473              Now You See Me 2 (2016)   \n",
              "57528                       Arrival (2016)   \n",
              "48424  Rogue One: A Star Wars Story (2016)   \n",
              "81479                       Get Out (2017)   \n",
              "57554                         Logan (2017)   \n",
              "\n",
              "                                            genres  \n",
              "0      Adventure|Animation|Children|Comedy|Fantasy  \n",
              "215                                 Comedy|Romance  \n",
              "267                          Action|Crime|Thriller  \n",
              "369                               Mystery|Thriller  \n",
              "572                         Crime|Mystery|Thriller  \n",
              "...                                            ...  \n",
              "57473                       Action|Comedy|Thriller  \n",
              "57528                                       Sci-Fi  \n",
              "48424              Action|Adventure|Fantasy|Sci-Fi  \n",
              "81479                                       Horror  \n",
              "57554                                Action|Sci-Fi  \n",
              "\n",
              "[79640 rows x 6 columns]"
            ]
          },
          "metadata": {
            "tags": []
          },
          "execution_count": 31
        }
      ]
    },
    {
      "cell_type": "code",
      "metadata": {
        "colab": {
          "base_uri": "https://localhost:8080/"
        },
        "id": "y3CYkd46XgAW",
        "outputId": "69358344-8731-4d32-dcb7-1c12eb192496"
      },
      "source": [
        "us_mov_df_top10.title.value_counts()"
      ],
      "execution_count": null,
      "outputs": [
        {
          "output_type": "execute_result",
          "data": {
            "text/plain": [
              "Forrest Gump (1994)                               329\n",
              "Shawshank Redemption, The (1994)                  317\n",
              "Pulp Fiction (1994)                               307\n",
              "Silence of the Lambs, The (1991)                  279\n",
              "Matrix, The (1999)                                278\n",
              "                                                 ... \n",
              "Medicine Man (1992)                                11\n",
              "Dumb and Dumberer: When Harry Met Lloyd (2003)     11\n",
              "Children of the Corn (1984)                        11\n",
              "Dr. Dolittle 2 (2001)                              11\n",
              "Serious Man, A (2009)                              11\n",
              "Name: title, Length: 2121, dtype: int64"
            ]
          },
          "metadata": {
            "tags": []
          },
          "execution_count": 32
        }
      ]
    },
    {
      "cell_type": "code",
      "metadata": {
        "colab": {
          "base_uri": "https://localhost:8080/",
          "height": 285
        },
        "id": "UeoOHVVmjmpA",
        "outputId": "130d5487-da9c-4738-a8a0-29086e0eab18"
      },
      "source": [
        "us_mov_df_top10.title.value_counts().hist()"
      ],
      "execution_count": null,
      "outputs": [
        {
          "output_type": "execute_result",
          "data": {
            "text/plain": [
              "<matplotlib.axes._subplots.AxesSubplot at 0x7f6d28360e10>"
            ]
          },
          "metadata": {
            "tags": []
          },
          "execution_count": 33
        },
        {
          "output_type": "display_data",
          "data": {
            "image/png": "[encoded data removed]",
            "text/plain": [
              "<Figure size 432x288 with 1 Axes>"
            ]
          },
          "metadata": {
            "tags": []
          }
        }
      ]
    },
    {
      "cell_type": "code",
      "metadata": {
        "colab": {
          "base_uri": "https://localhost:8080/"
        },
        "id": "xrWWfNADju11",
        "outputId": "5b229763-7a29-45fe-c3bd-751901944a1c"
      },
      "source": [
        "us_mov_df_top10.title.value_counts().describe()"
      ],
      "execution_count": null,
      "outputs": [
        {
          "output_type": "execute_result",
          "data": {
            "text/plain": [
              "count    2121.000000\n",
              "mean       37.548326\n",
              "std        36.550697\n",
              "min        11.000000\n",
              "25%        15.000000\n",
              "50%        24.000000\n",
              "75%        45.000000\n",
              "max       329.000000\n",
              "Name: title, dtype: float64"
            ]
          },
          "metadata": {
            "tags": []
          },
          "execution_count": 34
        }
      ]
    },
    {
      "cell_type": "markdown",
      "metadata": {
        "id": "uh0IKVZYj5cx"
      },
      "source": [
        "I'm going to filter one more time to movies with 100 ratings or more."
      ]
    },
    {
      "cell_type": "code",
      "metadata": {
        "colab": {
          "base_uri": "https://localhost:8080/",
          "height": 402
        },
        "id": "eAi6BB5vkB8b",
        "outputId": "cc72c794-a843-4745-afe3-d8f60cb9af4d"
      },
      "source": [
        "us_mov_df_top100 = us_mov_df[us_mov_df['title'].map(us_mov_df['title'].value_counts()) >= 100]\n",
        "us_mov_df_top100"
      ],
      "execution_count": null,
      "outputs": [
        {
          "output_type": "execute_result",
          "data": {
            "text/html": [
              "<div>\n",
              "<style scoped>\n",
              "    .dataframe tbody tr th:only-of-type {\n",
              "        vertical-align: middle;\n",
              "    }\n",
              "\n",
              "    .dataframe tbody tr th {\n",
              "        vertical-align: top;\n",
              "    }\n",
              "\n",
              "    .dataframe thead th {\n",
              "        text-align: right;\n",
              "    }\n",
              "</style>\n",
              "<table border=\"1\" class=\"dataframe\">\n",
              "  <thead>\n",
              "    <tr style=\"text-align: right;\">\n",
              "      <th></th>\n",
              "      <th>userId</th>\n",
              "      <th>movieId</th>\n",
              "      <th>rating</th>\n",
              "      <th>timestamp</th>\n",
              "      <th>title</th>\n",
              "      <th>genres</th>\n",
              "    </tr>\n",
              "  </thead>\n",
              "  <tbody>\n",
              "    <tr>\n",
              "      <th>0</th>\n",
              "      <td>1</td>\n",
              "      <td>1</td>\n",
              "      <td>4.0</td>\n",
              "      <td>964982703</td>\n",
              "      <td>Toy Story (1995)</td>\n",
              "      <td>Adventure|Animation|Children|Comedy|Fantasy</td>\n",
              "    </tr>\n",
              "    <tr>\n",
              "      <th>267</th>\n",
              "      <td>1</td>\n",
              "      <td>6</td>\n",
              "      <td>4.0</td>\n",
              "      <td>964982224</td>\n",
              "      <td>Heat (1995)</td>\n",
              "      <td>Action|Crime|Thriller</td>\n",
              "    </tr>\n",
              "    <tr>\n",
              "      <th>369</th>\n",
              "      <td>1</td>\n",
              "      <td>47</td>\n",
              "      <td>5.0</td>\n",
              "      <td>964983815</td>\n",
              "      <td>Seven (a.k.a. Se7en) (1995)</td>\n",
              "      <td>Mystery|Thriller</td>\n",
              "    </tr>\n",
              "    <tr>\n",
              "      <th>572</th>\n",
              "      <td>1</td>\n",
              "      <td>50</td>\n",
              "      <td>5.0</td>\n",
              "      <td>964982931</td>\n",
              "      <td>Usual Suspects, The (1995)</td>\n",
              "      <td>Crime|Mystery|Thriller</td>\n",
              "    </tr>\n",
              "    <tr>\n",
              "      <th>854</th>\n",
              "      <td>1</td>\n",
              "      <td>110</td>\n",
              "      <td>4.0</td>\n",
              "      <td>964982176</td>\n",
              "      <td>Braveheart (1995)</td>\n",
              "      <td>Action|Drama|War</td>\n",
              "    </tr>\n",
              "    <tr>\n",
              "      <th>...</th>\n",
              "      <td>...</td>\n",
              "      <td>...</td>\n",
              "      <td>...</td>\n",
              "      <td>...</td>\n",
              "      <td>...</td>\n",
              "      <td>...</td>\n",
              "    </tr>\n",
              "    <tr>\n",
              "      <th>17063</th>\n",
              "      <td>610</td>\n",
              "      <td>48516</td>\n",
              "      <td>5.0</td>\n",
              "      <td>1479542152</td>\n",
              "      <td>Departed, The (2006)</td>\n",
              "      <td>Crime|Drama|Thriller</td>\n",
              "    </tr>\n",
              "    <tr>\n",
              "      <th>17212</th>\n",
              "      <td>610</td>\n",
              "      <td>58559</td>\n",
              "      <td>4.5</td>\n",
              "      <td>1493844688</td>\n",
              "      <td>Dark Knight, The (2008)</td>\n",
              "      <td>Action|Crime|Drama|IMAX</td>\n",
              "    </tr>\n",
              "    <tr>\n",
              "      <th>47305</th>\n",
              "      <td>610</td>\n",
              "      <td>60069</td>\n",
              "      <td>4.5</td>\n",
              "      <td>1493844866</td>\n",
              "      <td>WALL·E (2008)</td>\n",
              "      <td>Adventure|Animation|Children|Romance|Sci-Fi</td>\n",
              "    </tr>\n",
              "    <tr>\n",
              "      <th>42426</th>\n",
              "      <td>610</td>\n",
              "      <td>68954</td>\n",
              "      <td>3.5</td>\n",
              "      <td>1493844881</td>\n",
              "      <td>Up (2009)</td>\n",
              "      <td>Adventure|Animation|Children|Drama</td>\n",
              "    </tr>\n",
              "    <tr>\n",
              "      <th>17604</th>\n",
              "      <td>610</td>\n",
              "      <td>79132</td>\n",
              "      <td>4.0</td>\n",
              "      <td>1493844703</td>\n",
              "      <td>Inception (2010)</td>\n",
              "      <td>Action|Crime|Drama|Mystery|Sci-Fi|Thriller|IMAX</td>\n",
              "    </tr>\n",
              "  </tbody>\n",
              "</table>\n",
              "<p>20188 rows × 6 columns</p>\n",
              "</div>"
            ],
            "text/plain": [
              "       userId  movieId  rating   timestamp                        title  \\\n",
              "0           1        1     4.0   964982703             Toy Story (1995)   \n",
              "267         1        6     4.0   964982224                  Heat (1995)   \n",
              "369         1       47     5.0   964983815  Seven (a.k.a. Se7en) (1995)   \n",
              "572         1       50     5.0   964982931   Usual Suspects, The (1995)   \n",
              "854         1      110     4.0   964982176            Braveheart (1995)   \n",
              "...       ...      ...     ...         ...                          ...   \n",
              "17063     610    48516     5.0  1479542152         Departed, The (2006)   \n",
              "17212     610    58559     4.5  1493844688      Dark Knight, The (2008)   \n",
              "47305     610    60069     4.5  1493844866                WALL·E (2008)   \n",
              "42426     610    68954     3.5  1493844881                    Up (2009)   \n",
              "17604     610    79132     4.0  1493844703             Inception (2010)   \n",
              "\n",
              "                                                genres  \n",
              "0          Adventure|Animation|Children|Comedy|Fantasy  \n",
              "267                              Action|Crime|Thriller  \n",
              "369                                   Mystery|Thriller  \n",
              "572                             Crime|Mystery|Thriller  \n",
              "854                                   Action|Drama|War  \n",
              "...                                                ...  \n",
              "17063                             Crime|Drama|Thriller  \n",
              "17212                          Action|Crime|Drama|IMAX  \n",
              "47305      Adventure|Animation|Children|Romance|Sci-Fi  \n",
              "42426               Adventure|Animation|Children|Drama  \n",
              "17604  Action|Crime|Drama|Mystery|Sci-Fi|Thriller|IMAX  \n",
              "\n",
              "[20188 rows x 6 columns]"
            ]
          },
          "metadata": {
            "tags": []
          },
          "execution_count": 35
        }
      ]
    },
    {
      "cell_type": "code",
      "metadata": {
        "colab": {
          "base_uri": "https://localhost:8080/"
        },
        "id": "h2QVuPIckQ0q",
        "outputId": "1af7150c-763e-4cca-be80-9396fbb8aab5"
      },
      "source": [
        "us_mov_df_top100.title.value_counts()"
      ],
      "execution_count": null,
      "outputs": [
        {
          "output_type": "execute_result",
          "data": {
            "text/plain": [
              "Forrest Gump (1994)                                   329\n",
              "Shawshank Redemption, The (1994)                      317\n",
              "Pulp Fiction (1994)                                   307\n",
              "Silence of the Lambs, The (1991)                      279\n",
              "Matrix, The (1999)                                    278\n",
              "                                                     ... \n",
              "Cliffhanger (1993)                                    101\n",
              "Austin Powers: International Man of Mystery (1997)    100\n",
              "Casablanca (1942)                                     100\n",
              "V for Vendetta (2006)                                 100\n",
              "Cast Away (2000)                                      100\n",
              "Name: title, Length: 138, dtype: int64"
            ]
          },
          "metadata": {
            "tags": []
          },
          "execution_count": 36
        }
      ]
    },
    {
      "cell_type": "code",
      "metadata": {
        "colab": {
          "base_uri": "https://localhost:8080/"
        },
        "id": "BXldtppNkYhN",
        "outputId": "9ffba529-c50d-4913-af6a-116d2fcd37d8"
      },
      "source": [
        "us_mov_df_top100.title.value_counts().describe()"
      ],
      "execution_count": null,
      "outputs": [
        {
          "output_type": "execute_result",
          "data": {
            "text/plain": [
              "count    138.000000\n",
              "mean     146.289855\n",
              "std       47.339002\n",
              "min      100.000000\n",
              "25%      110.000000\n",
              "50%      131.000000\n",
              "75%      170.750000\n",
              "max      329.000000\n",
              "Name: title, dtype: float64"
            ]
          },
          "metadata": {
            "tags": []
          },
          "execution_count": 37
        }
      ]
    },
    {
      "cell_type": "code",
      "metadata": {
        "colab": {
          "base_uri": "https://localhost:8080/",
          "height": 285
        },
        "id": "ZD7ahIgjkhKH",
        "outputId": "6d9d49e7-ecf7-47b9-d81b-c62ca32dcbd8"
      },
      "source": [
        "us_mov_df_top100.title.value_counts().hist()"
      ],
      "execution_count": null,
      "outputs": [
        {
          "output_type": "execute_result",
          "data": {
            "text/plain": [
              "<matplotlib.axes._subplots.AxesSubplot at 0x7f6d282f4310>"
            ]
          },
          "metadata": {
            "tags": []
          },
          "execution_count": 38
        },
        {
          "output_type": "display_data",
          "data": {
            "image/png": "[encoded data removed]",
            "text/plain": [
              "<Figure size 432x288 with 1 Axes>"
            ]
          },
          "metadata": {
            "tags": []
          }
        }
      ]
    },
    {
      "cell_type": "markdown",
      "metadata": {
        "id": "nwVvOwYJKXvh"
      },
      "source": [
        "Initially, I did not realize that there was an easier way to see the top rated movies which is why I kept subsetting the data. The following code gives me what I'm looking for."
      ]
    },
    {
      "cell_type": "markdown",
      "metadata": {
        "id": "qPnrNr-y5pUf"
      },
      "source": [
        "I want to see a list of the most rated 50 movies"
      ]
    },
    {
      "cell_type": "code",
      "metadata": {
        "colab": {
          "base_uri": "https://localhost:8080/"
        },
        "id": "GYJcS4aL5Zzd",
        "outputId": "0167e220-9ae6-4c62-c27f-9bc14e9cca58"
      },
      "source": [
        "most_rated = us_mov_df_top100.groupby('title').size().sort_values(ascending=False)[:50]\n",
        "most_rated.head(50)"
      ],
      "execution_count": null,
      "outputs": [
        {
          "output_type": "execute_result",
          "data": {
            "text/plain": [
              "title\n",
              "Forrest Gump (1994)                                                               329\n",
              "Shawshank Redemption, The (1994)                                                  317\n",
              "Pulp Fiction (1994)                                                               307\n",
              "Silence of the Lambs, The (1991)                                                  279\n",
              "Matrix, The (1999)                                                                278\n",
              "Star Wars: Episode IV - A New Hope (1977)                                         251\n",
              "Jurassic Park (1993)                                                              238\n",
              "Braveheart (1995)                                                                 237\n",
              "Terminator 2: Judgment Day (1991)                                                 224\n",
              "Schindler's List (1993)                                                           220\n",
              "Fight Club (1999)                                                                 218\n",
              "Toy Story (1995)                                                                  215\n",
              "Star Wars: Episode V - The Empire Strikes Back (1980)                             211\n",
              "American Beauty (1999)                                                            204\n",
              "Usual Suspects, The (1995)                                                        204\n",
              "Seven (a.k.a. Se7en) (1995)                                                       203\n",
              "Independence Day (a.k.a. ID4) (1996)                                              202\n",
              "Apollo 13 (1995)                                                                  201\n",
              "Raiders of the Lost Ark (Indiana Jones and the Raiders of the Lost Ark) (1981)    200\n",
              "Lord of the Rings: The Fellowship of the Ring, The (2001)                         198\n",
              "Star Wars: Episode VI - Return of the Jedi (1983)                                 196\n",
              "Godfather, The (1972)                                                             192\n",
              "Fugitive, The (1993)                                                              190\n",
              "Batman (1989)                                                                     189\n",
              "Lord of the Rings: The Two Towers, The (2002)                                     188\n",
              "Saving Private Ryan (1998)                                                        188\n",
              "Lord of the Rings: The Return of the King, The (2003)                             185\n",
              "Aladdin (1992)                                                                    183\n",
              "Fargo (1996)                                                                      181\n",
              "Sixth Sense, The (1999)                                                           179\n",
              "True Lies (1994)                                                                  178\n",
              "Twelve Monkeys (a.k.a. 12 Monkeys) (1995)                                         177\n",
              "Lion King, The (1994)                                                             172\n",
              "Back to the Future (1985)                                                         171\n",
              "Speed (1994)                                                                      171\n",
              "Gladiator (2000)                                                                  170\n",
              "Shrek (2001)                                                                      170\n",
              "Men in Black (a.k.a. MIB) (1997)                                                  165\n",
              "Dances with Wolves (1990)                                                         164\n",
              "Mission: Impossible (1996)                                                        162\n",
              "Ace Ventura: Pet Detective (1994)                                                 161\n",
              "Memento (2000)                                                                    159\n",
              "Mask, The (1994)                                                                  157\n",
              "Pirates of the Caribbean: The Curse of the Black Pearl (2003)                     149\n",
              "Dark Knight, The (2008)                                                           149\n",
              "Beauty and the Beast (1991)                                                       146\n",
              "Alien (1979)                                                                      146\n",
              "Die Hard (1988)                                                                   145\n",
              "Die Hard: With a Vengeance (1995)                                                 144\n",
              "Mrs. Doubtfire (1993)                                                             144\n",
              "dtype: int64"
            ]
          },
          "metadata": {
            "tags": []
          },
          "execution_count": 46
        }
      ]
    },
    {
      "cell_type": "markdown",
      "metadata": {
        "id": "RVSm2AGjwVh-"
      },
      "source": [
        "It's interesting the movies with the most ratings all came from 1994. "
      ]
    },
    {
      "cell_type": "markdown",
      "metadata": {
        "id": "VpP3oyMQ5V5K"
      },
      "source": [
        "***"
      ]
    },
    {
      "cell_type": "markdown",
      "metadata": {
        "id": "JGn6Nb5uwjxp"
      },
      "source": [
        "**[Back to Top](#top)**"
      ]
    },
    {
      "cell_type": "markdown",
      "metadata": {
        "id": "T4MGugphwjxq"
      },
      "source": [
        "***"
      ]
    },
    {
      "cell_type": "markdown",
      "metadata": {
        "id": "GzFx52evwjxq"
      },
      "source": [
        "<a name=\"genre\"></a>\n",
        "### 3.4 - Genre"
      ]
    },
    {
      "cell_type": "markdown",
      "metadata": {
        "id": "o8xkUamVLHsP"
      },
      "source": [
        "The following section explores the genre column. "
      ]
    },
    {
      "cell_type": "markdown",
      "metadata": {
        "id": "9yk9Hjdm7tFs"
      },
      "source": [
        "Next, I want see the count of genres for the movies. Thank you [Jagannath Neupane](https://www.kaggle.com/jneupane12/analysis-of-movielens-dataset-beginner-sanalysis) for the code below:"
      ]
    },
    {
      "cell_type": "code",
      "metadata": {
        "id": "sz8WX8Wq6787"
      },
      "source": [
        "#define a function that counts the number of times each genre appear:\n",
        "def count_word(df, ref_col, liste):\n",
        "    keyword_count = dict()\n",
        "    for s in liste: keyword_count[s] = 0\n",
        "    for liste_keywords in df[ref_col].str.split('|'):\n",
        "        if type(liste_keywords) == float and pd.isnull(liste_keywords): continue\n",
        "        for s in liste_keywords: \n",
        "            if pd.notnull(s): keyword_count[s] += 1\n",
        "    # convert the dictionary in a list to sort the keywords  by frequency\n",
        "    keyword_occurences = []\n",
        "    for k,v in keyword_count.items():\n",
        "        keyword_occurences.append([k,v])\n",
        "    keyword_occurences.sort(key = lambda x:x[1], reverse = True)\n",
        "    return keyword_occurences, keyword_count"
      ],
      "execution_count": null,
      "outputs": []
    },
    {
      "cell_type": "code",
      "metadata": {
        "id": "1Rr2ma9e7HbF"
      },
      "source": [
        "#here we  make census of the genres:\n",
        "genre_labels = set()\n",
        "for s in us_mov_df['genres'].str.split('|').values:\n",
        "    genre_labels = genre_labels.union(set(s))"
      ],
      "execution_count": null,
      "outputs": []
    },
    {
      "cell_type": "code",
      "metadata": {
        "colab": {
          "base_uri": "https://localhost:8080/"
        },
        "id": "37yM2iB77KD-",
        "outputId": "e3ed7cf6-79d2-442a-cced-c8f8f5e04620"
      },
      "source": [
        "#counting how many times each of genres occur:\n",
        "keyword_occurences, dum = count_word(us_mov_df, 'genres', genre_labels)\n",
        "keyword_occurences"
      ],
      "execution_count": null,
      "outputs": [
        {
          "output_type": "execute_result",
          "data": {
            "text/plain": [
              "[['Drama', 41928],\n",
              " ['Comedy', 39053],\n",
              " ['Action', 30635],\n",
              " ['Thriller', 26452],\n",
              " ['Adventure', 24161],\n",
              " ['Romance', 18124],\n",
              " ['Sci-Fi', 17243],\n",
              " ['Crime', 16681],\n",
              " ['Fantasy', 11834],\n",
              " ['Children', 9208],\n",
              " ['Mystery', 7674],\n",
              " ['Horror', 7291],\n",
              " ['Animation', 6988],\n",
              " ['War', 4859],\n",
              " ['IMAX', 4145],\n",
              " ['Musical', 4138],\n",
              " ['Western', 1930],\n",
              " ['Documentary', 1219],\n",
              " ['Film-Noir', 870],\n",
              " ['(no genres listed)', 47]]"
            ]
          },
          "metadata": {
            "tags": []
          },
          "execution_count": 13
        }
      ]
    },
    {
      "cell_type": "markdown",
      "metadata": {
        "id": "0oBfqzddBDat"
      },
      "source": [
        "The top two genres are Drama and Comedy."
      ]
    },
    {
      "cell_type": "markdown",
      "metadata": {
        "id": "rYlmQZJ1BMOB"
      },
      "source": [
        "This is evidenced by the WordCloud and Histogram below."
      ]
    },
    {
      "cell_type": "code",
      "metadata": {
        "colab": {
          "base_uri": "https://localhost:8080/",
          "height": 357
        },
        "id": "LwqT1A68AqTI",
        "outputId": "d381397a-157b-41b2-c878-cb7bcdb1d342"
      },
      "source": [
        "from wordcloud import WordCloud, STOPWORDS #used to generate world cloud\n",
        "# Function that control the color of the words\n",
        "def random_color_func(word=None, font_size=None, position=None,\n",
        "                      orientation=None, font_path=None, random_state=None):\n",
        "    h = int(360.0 * tone / 255.0)\n",
        "    s = int(100.0 * 255.0 / 255.0)\n",
        "    l = int(100.0 * float(random_state.randint(70, 120)) / 255.0)\n",
        "    return \"hsl({}, {}%, {}%)\".format(h, s, l)\n",
        "\n",
        "\n",
        "#Finally, the result is shown as a wordcloud:\n",
        "words = dict()\n",
        "trunc_occurences = keyword_occurences[0:50]\n",
        "for s in trunc_occurences:\n",
        "    words[s[0]] = s[1]\n",
        "tone = 100 # define the color of the words\n",
        "f, ax = plt.subplots(figsize=(14, 6))\n",
        "wordcloud = WordCloud(width=550,height=300, background_color='black', \n",
        "                      max_words=1628,relative_scaling=0.7,\n",
        "                      color_func = random_color_func,\n",
        "                      normalize_plurals=False)\n",
        "wordcloud.generate_from_frequencies(words)\n",
        "plt.imshow(wordcloud, interpolation=\"bilinear\")\n",
        "plt.axis('off')\n",
        "plt.show()"
      ],
      "execution_count": null,
      "outputs": [
        {
          "output_type": "display_data",
          "data": {
            "image/png": "[encoded data removed]",
            "text/plain": [
              "<Figure size 1008x432 with 1 Axes>"
            ]
          },
          "metadata": {
            "tags": []
          }
        }
      ]
    },
    {
      "cell_type": "markdown",
      "metadata": {
        "id": "RpCQwGlOxHwI"
      },
      "source": [
        "The biggest words represent the largest genres. This is more obvious in the histogram below."
      ]
    },
    {
      "cell_type": "code",
      "metadata": {
        "colab": {
          "base_uri": "https://localhost:8080/",
          "height": 524
        },
        "id": "XQDc-UYOAjkl",
        "outputId": "fdfcbd5a-e650-4198-e8a8-bf2f1467e9e5"
      },
      "source": [
        "# lets display the same result in the histogram\n",
        "fig = plt.figure(1, figsize=(18,13))\n",
        "ax2 = fig.add_subplot(2,1,2)\n",
        "y_axis = [i[1] for i in trunc_occurences]\n",
        "x_axis = [k for k,i in enumerate(trunc_occurences)]\n",
        "x_label = [i[0] for i in trunc_occurences]\n",
        "plt.xticks(rotation=85, fontsize = 15)\n",
        "plt.yticks(fontsize = 15)\n",
        "plt.xticks(x_axis, x_label)\n",
        "plt.ylabel(\"No. of occurences\", fontsize = 24, labelpad = 0)\n",
        "ax2.bar(x_axis, y_axis, align = 'center', color=mycols)\n",
        "plt.title(\"Popularity of Genres\",bbox={'facecolor':'k', 'pad':5},color='w',fontsize = 30)\n",
        "plt.show()"
      ],
      "execution_count": null,
      "outputs": [
        {
          "output_type": "display_data",
          "data": {
            "image/png": "[encoded data removed]",
            "text/plain": [
              "<Figure size 1296x936 with 1 Axes>"
            ]
          },
          "metadata": {
            "tags": []
          }
        }
      ]
    },
    {
      "cell_type": "markdown",
      "metadata": {
        "id": "ogQVV1n9OR4Q"
      },
      "source": [
        "***"
      ]
    },
    {
      "cell_type": "markdown",
      "metadata": {
        "id": "udIh7Gm_x1bu"
      },
      "source": [
        "**[Back to Top](#top)**"
      ]
    },
    {
      "cell_type": "markdown",
      "metadata": {
        "id": "0xb2icoYx1bv"
      },
      "source": [
        "***"
      ]
    },
    {
      "cell_type": "markdown",
      "metadata": {
        "id": "1mWju6KYx1bv"
      },
      "source": [
        "<a name=\"user_rating_count\"></a>\n",
        "### 3.5 - User Rating Count"
      ]
    },
    {
      "cell_type": "markdown",
      "metadata": {
        "id": "boY31YgRVkoU"
      },
      "source": [
        "I'm going to see which users rated the most movies."
      ]
    },
    {
      "cell_type": "code",
      "metadata": {
        "id": "uRk6cxIzSTgY"
      },
      "source": [
        "ratings_by_user = us_mov_df.drop('timestamp', axis=1)\n",
        "ratings_by_user = ratings_by_user.groupby('userId').agg([np.size, np.mean])"
      ],
      "execution_count": null,
      "outputs": []
    },
    {
      "cell_type": "code",
      "metadata": {
        "colab": {
          "base_uri": "https://localhost:8080/",
          "height": 343
        },
        "id": "-zLoaaXCVMCd",
        "outputId": "b9d8a611-9365-4458-fcf9-6497c73eb8c3"
      },
      "source": [
        "ratings_by_user.drop('movieId', axis=1)\n",
        "ratings_by_user['rating']['size'].head(40).sort_values(ascending=False).plot(kind='bar', figsize=(10,5));"
      ],
      "execution_count": null,
      "outputs": [
        {
          "output_type": "display_data",
          "data": {
            "image/png": "[encoded data removed]",
            "text/plain": [
              "<Figure size 720x360 with 1 Axes>"
            ]
          },
          "metadata": {
            "tags": []
          }
        }
      ]
    },
    {
      "cell_type": "markdown",
      "metadata": {
        "id": "4fHDZGyeVrSW"
      },
      "source": [
        "It looks like User 19 gave over 700 movie ratings, and the top 20 users had at least 100 ratings each. "
      ]
    },
    {
      "cell_type": "markdown",
      "metadata": {
        "id": "Nt3yBT_UVBkJ"
      },
      "source": [
        "***"
      ]
    },
    {
      "cell_type": "markdown",
      "metadata": {
        "id": "NkTVX3KSyOQv"
      },
      "source": [
        "**[Back to Top](#top)**"
      ]
    },
    {
      "cell_type": "markdown",
      "metadata": {
        "id": "CUAg6iG1yOQw"
      },
      "source": [
        "***"
      ]
    },
    {
      "cell_type": "markdown",
      "metadata": {
        "id": "0C_n0j9RyOQw"
      },
      "source": [
        "<a name=\"user_25\"></a>\n",
        "### 3.6 - User 25"
      ]
    },
    {
      "cell_type": "markdown",
      "metadata": {
        "id": "2V6dFnA8CSHs"
      },
      "source": [
        "Now, I'm going to export this dataframe so I can use excel to rapidly find a user who has movie tastes similar to my own. This will be further explained in this SECTION, but the purpose is to help qualitavely judge the top ten movies that are recommended by the models.\n",
        "\n",
        "First, I'm going to create and specify a directory to save and export the csv. "
      ]
    },
    {
      "cell_type": "code",
      "metadata": {
        "colab": {
          "base_uri": "https://localhost:8080/"
        },
        "id": "YPWpbBmk6XKS",
        "outputId": "1c053e89-cf0d-4f7e-ac44-209a17df74d0"
      },
      "source": [
        "os.mkdir('/content/export')\n",
        "print('Directory created.')\n",
        "os.chdir('/content/export')\n",
        "print('Home directory changed and ready for export!')"
      ],
      "execution_count": null,
      "outputs": [
        {
          "output_type": "stream",
          "text": [
            "Directory created.\n",
            "Home directory changed and ready for export!\n"
          ],
          "name": "stdout"
        }
      ]
    },
    {
      "cell_type": "markdown",
      "metadata": {
        "id": "IJuXP9AzK-F6"
      },
      "source": [
        "Next, I'm going to [export](https://towardsdatascience.com/how-to-export-pandas-dataframe-to-csv-2038e43d9c03) the file and call it usmov."
      ]
    },
    {
      "cell_type": "code",
      "metadata": {
        "id": "VYgZy8ph7JCc"
      },
      "source": [
        "# us_mov_df.to_csv('usmov')"
      ],
      "execution_count": null,
      "outputs": []
    },
    {
      "cell_type": "markdown",
      "metadata": {
        "id": "LCPCus_zLSin"
      },
      "source": [
        "It took me a few minutes but I found a suitable user who has similar tastes to my own. He/She is User 25.\n",
        "\n",
        "Below, is what User 25 rated highly. Here is a handy guide to filter pandas dataframes with [multiple conditions](https://kanoki.org/2020/01/21/pandas-dataframe-filter-with-multiple-conditions/)."
      ]
    },
    {
      "cell_type": "code",
      "metadata": {
        "colab": {
          "base_uri": "https://localhost:8080/",
          "height": 195
        },
        "id": "3822YffxLadp",
        "outputId": "d162005a-5737-48e5-b23e-8dc586ba33ff"
      },
      "source": [
        "user_25_df = us_mov_df[(us_mov_df.userId == 25) & (us_mov_df.rating >= 4)].sort_values(by='rating', ascending=False)\n",
        "user_25_df.head()"
      ],
      "execution_count": null,
      "outputs": [
        {
          "output_type": "execute_result",
          "data": {
            "text/html": [
              "<div>\n",
              "<style scoped>\n",
              "    .dataframe tbody tr th:only-of-type {\n",
              "        vertical-align: middle;\n",
              "    }\n",
              "\n",
              "    .dataframe tbody tr th {\n",
              "        vertical-align: top;\n",
              "    }\n",
              "\n",
              "    .dataframe thead th {\n",
              "        text-align: right;\n",
              "    }\n",
              "</style>\n",
              "<table border=\"1\" class=\"dataframe\">\n",
              "  <thead>\n",
              "    <tr style=\"text-align: right;\">\n",
              "      <th></th>\n",
              "      <th>userId</th>\n",
              "      <th>movieId</th>\n",
              "      <th>rating</th>\n",
              "      <th>timestamp</th>\n",
              "      <th>title</th>\n",
              "      <th>genres</th>\n",
              "    </tr>\n",
              "  </thead>\n",
              "  <tbody>\n",
              "    <tr>\n",
              "      <th>37040</th>\n",
              "      <td>25</td>\n",
              "      <td>5952</td>\n",
              "      <td>5.0</td>\n",
              "      <td>1535470419</td>\n",
              "      <td>Lord of the Rings: The Two Towers, The (2002)</td>\n",
              "      <td>Adventure|Fantasy</td>\n",
              "    </tr>\n",
              "    <tr>\n",
              "      <th>17666</th>\n",
              "      <td>25</td>\n",
              "      <td>91529</td>\n",
              "      <td>5.0</td>\n",
              "      <td>1535470498</td>\n",
              "      <td>Dark Knight Rises, The (2012)</td>\n",
              "      <td>Action|Adventure|Crime|IMAX</td>\n",
              "    </tr>\n",
              "    <tr>\n",
              "      <th>70944</th>\n",
              "      <td>25</td>\n",
              "      <td>122912</td>\n",
              "      <td>5.0</td>\n",
              "      <td>1535470461</td>\n",
              "      <td>Avengers: Infinity War - Part I (2018)</td>\n",
              "      <td>Action|Adventure|Sci-Fi</td>\n",
              "    </tr>\n",
              "    <tr>\n",
              "      <th>57573</th>\n",
              "      <td>25</td>\n",
              "      <td>180095</td>\n",
              "      <td>5.0</td>\n",
              "      <td>1535470476</td>\n",
              "      <td>Wonder (2017)</td>\n",
              "      <td>Drama</td>\n",
              "    </tr>\n",
              "    <tr>\n",
              "      <th>57565</th>\n",
              "      <td>25</td>\n",
              "      <td>177593</td>\n",
              "      <td>5.0</td>\n",
              "      <td>1535470532</td>\n",
              "      <td>Three Billboards Outside Ebbing, Missouri (2017)</td>\n",
              "      <td>Crime|Drama</td>\n",
              "    </tr>\n",
              "  </tbody>\n",
              "</table>\n",
              "</div>"
            ],
            "text/plain": [
              "       userId  movieId  rating   timestamp  \\\n",
              "37040      25     5952     5.0  1535470419   \n",
              "17666      25    91529     5.0  1535470498   \n",
              "70944      25   122912     5.0  1535470461   \n",
              "57573      25   180095     5.0  1535470476   \n",
              "57565      25   177593     5.0  1535470532   \n",
              "\n",
              "                                                  title  \\\n",
              "37040     Lord of the Rings: The Two Towers, The (2002)   \n",
              "17666                     Dark Knight Rises, The (2012)   \n",
              "70944            Avengers: Infinity War - Part I (2018)   \n",
              "57573                                     Wonder (2017)   \n",
              "57565  Three Billboards Outside Ebbing, Missouri (2017)   \n",
              "\n",
              "                            genres  \n",
              "37040            Adventure|Fantasy  \n",
              "17666  Action|Adventure|Crime|IMAX  \n",
              "70944      Action|Adventure|Sci-Fi  \n",
              "57573                        Drama  \n",
              "57565                  Crime|Drama  "
            ]
          },
          "metadata": {
            "tags": []
          },
          "execution_count": 20
        }
      ]
    },
    {
      "cell_type": "markdown",
      "metadata": {
        "id": "ipRSaoIaN2NK"
      },
      "source": [
        "Again, but this time the full list."
      ]
    },
    {
      "cell_type": "code",
      "metadata": {
        "colab": {
          "base_uri": "https://localhost:8080/",
          "height": 867
        },
        "id": "YaF1FUi0NIm1",
        "outputId": "715b213f-230a-4e21-fe85-c8239b8a9166"
      },
      "source": [
        "user_25_df_top = us_mov_df[(us_mov_df.userId == 25) & (us_mov_df.rating >= 4)].sort_values(by='rating', ascending=False)[:50]\n",
        "print('Total amount of movies with ratings of 4.0 and higher is ', len(user_25_df))\n",
        "print('\\n', '-' * 136)\n",
        "user_25_df_top"
      ],
      "execution_count": null,
      "outputs": [
        {
          "output_type": "stream",
          "text": [
            "Total amount of movies with ratings of 4.0 and higher is  26\n",
            "\n",
            " ----------------------------------------------------------------------------------------------------------------------------------------\n"
          ],
          "name": "stdout"
        },
        {
          "output_type": "execute_result",
          "data": {
            "text/html": [
              "<div>\n",
              "<style scoped>\n",
              "    .dataframe tbody tr th:only-of-type {\n",
              "        vertical-align: middle;\n",
              "    }\n",
              "\n",
              "    .dataframe tbody tr th {\n",
              "        vertical-align: top;\n",
              "    }\n",
              "\n",
              "    .dataframe thead th {\n",
              "        text-align: right;\n",
              "    }\n",
              "</style>\n",
              "<table border=\"1\" class=\"dataframe\">\n",
              "  <thead>\n",
              "    <tr style=\"text-align: right;\">\n",
              "      <th></th>\n",
              "      <th>userId</th>\n",
              "      <th>movieId</th>\n",
              "      <th>rating</th>\n",
              "      <th>timestamp</th>\n",
              "      <th>title</th>\n",
              "      <th>genres</th>\n",
              "    </tr>\n",
              "  </thead>\n",
              "  <tbody>\n",
              "    <tr>\n",
              "      <th>37040</th>\n",
              "      <td>25</td>\n",
              "      <td>5952</td>\n",
              "      <td>5.0</td>\n",
              "      <td>1535470419</td>\n",
              "      <td>Lord of the Rings: The Two Towers, The (2002)</td>\n",
              "      <td>Adventure|Fantasy</td>\n",
              "    </tr>\n",
              "    <tr>\n",
              "      <th>17666</th>\n",
              "      <td>25</td>\n",
              "      <td>91529</td>\n",
              "      <td>5.0</td>\n",
              "      <td>1535470498</td>\n",
              "      <td>Dark Knight Rises, The (2012)</td>\n",
              "      <td>Action|Adventure|Crime|IMAX</td>\n",
              "    </tr>\n",
              "    <tr>\n",
              "      <th>70944</th>\n",
              "      <td>25</td>\n",
              "      <td>122912</td>\n",
              "      <td>5.0</td>\n",
              "      <td>1535470461</td>\n",
              "      <td>Avengers: Infinity War - Part I (2018)</td>\n",
              "      <td>Action|Adventure|Sci-Fi</td>\n",
              "    </tr>\n",
              "    <tr>\n",
              "      <th>57573</th>\n",
              "      <td>25</td>\n",
              "      <td>180095</td>\n",
              "      <td>5.0</td>\n",
              "      <td>1535470476</td>\n",
              "      <td>Wonder (2017)</td>\n",
              "      <td>Drama</td>\n",
              "    </tr>\n",
              "    <tr>\n",
              "      <th>57565</th>\n",
              "      <td>25</td>\n",
              "      <td>177593</td>\n",
              "      <td>5.0</td>\n",
              "      <td>1535470532</td>\n",
              "      <td>Three Billboards Outside Ebbing, Missouri (2017)</td>\n",
              "      <td>Crime|Drama</td>\n",
              "    </tr>\n",
              "    <tr>\n",
              "      <th>57119</th>\n",
              "      <td>25</td>\n",
              "      <td>116797</td>\n",
              "      <td>5.0</td>\n",
              "      <td>1535470507</td>\n",
              "      <td>The Imitation Game (2014)</td>\n",
              "      <td>Drama|Thriller|War</td>\n",
              "    </tr>\n",
              "    <tr>\n",
              "      <th>47206</th>\n",
              "      <td>25</td>\n",
              "      <td>60069</td>\n",
              "      <td>5.0</td>\n",
              "      <td>1535470523</td>\n",
              "      <td>WALL·E (2008)</td>\n",
              "      <td>Adventure|Animation|Children|Romance|Sci-Fi</td>\n",
              "    </tr>\n",
              "    <tr>\n",
              "      <th>42328</th>\n",
              "      <td>25</td>\n",
              "      <td>68954</td>\n",
              "      <td>5.0</td>\n",
              "      <td>1535470493</td>\n",
              "      <td>Up (2009)</td>\n",
              "      <td>Adventure|Animation|Children|Drama</td>\n",
              "    </tr>\n",
              "    <tr>\n",
              "      <th>37951</th>\n",
              "      <td>25</td>\n",
              "      <td>7153</td>\n",
              "      <td>5.0</td>\n",
              "      <td>1535470418</td>\n",
              "      <td>Lord of the Rings: The Return of the King, The...</td>\n",
              "      <td>Action|Adventure|Drama|Fantasy</td>\n",
              "    </tr>\n",
              "    <tr>\n",
              "      <th>1577</th>\n",
              "      <td>25</td>\n",
              "      <td>260</td>\n",
              "      <td>5.0</td>\n",
              "      <td>1535470429</td>\n",
              "      <td>Star Wars: Episode IV - A New Hope (1977)</td>\n",
              "      <td>Action|Adventure|Sci-Fi</td>\n",
              "    </tr>\n",
              "    <tr>\n",
              "      <th>35939</th>\n",
              "      <td>25</td>\n",
              "      <td>4993</td>\n",
              "      <td>5.0</td>\n",
              "      <td>1535470421</td>\n",
              "      <td>Lord of the Rings: The Fellowship of the Ring,...</td>\n",
              "      <td>Adventure|Fantasy</td>\n",
              "    </tr>\n",
              "    <tr>\n",
              "      <th>70999</th>\n",
              "      <td>25</td>\n",
              "      <td>187593</td>\n",
              "      <td>5.0</td>\n",
              "      <td>1535470534</td>\n",
              "      <td>Deadpool 2 (2018)</td>\n",
              "      <td>Action|Comedy|Sci-Fi</td>\n",
              "    </tr>\n",
              "    <tr>\n",
              "      <th>17469</th>\n",
              "      <td>25</td>\n",
              "      <td>79132</td>\n",
              "      <td>5.0</td>\n",
              "      <td>1535470428</td>\n",
              "      <td>Inception (2010)</td>\n",
              "      <td>Action|Crime|Drama|Mystery|Sci-Fi|Thriller|IMAX</td>\n",
              "    </tr>\n",
              "    <tr>\n",
              "      <th>17246</th>\n",
              "      <td>25</td>\n",
              "      <td>68157</td>\n",
              "      <td>5.0</td>\n",
              "      <td>1535470515</td>\n",
              "      <td>Inglourious Basterds (2009)</td>\n",
              "      <td>Action|Drama|War</td>\n",
              "    </tr>\n",
              "    <tr>\n",
              "      <th>17073</th>\n",
              "      <td>25</td>\n",
              "      <td>58559</td>\n",
              "      <td>5.0</td>\n",
              "      <td>1535470524</td>\n",
              "      <td>Dark Knight, The (2008)</td>\n",
              "      <td>Action|Crime|Drama|IMAX</td>\n",
              "    </tr>\n",
              "    <tr>\n",
              "      <th>15668</th>\n",
              "      <td>25</td>\n",
              "      <td>3578</td>\n",
              "      <td>5.0</td>\n",
              "      <td>1535470497</td>\n",
              "      <td>Gladiator (2000)</td>\n",
              "      <td>Action|Adventure|Drama</td>\n",
              "    </tr>\n",
              "    <tr>\n",
              "      <th>12653</th>\n",
              "      <td>25</td>\n",
              "      <td>2571</td>\n",
              "      <td>5.0</td>\n",
              "      <td>1535470427</td>\n",
              "      <td>Matrix, The (1999)</td>\n",
              "      <td>Action|Sci-Fi|Thriller</td>\n",
              "    </tr>\n",
              "    <tr>\n",
              "      <th>10784</th>\n",
              "      <td>25</td>\n",
              "      <td>2028</td>\n",
              "      <td>5.0</td>\n",
              "      <td>1535470505</td>\n",
              "      <td>Saving Private Ryan (1998)</td>\n",
              "      <td>Action|Drama|War</td>\n",
              "    </tr>\n",
              "    <tr>\n",
              "      <th>7141</th>\n",
              "      <td>25</td>\n",
              "      <td>1198</td>\n",
              "      <td>5.0</td>\n",
              "      <td>1535470495</td>\n",
              "      <td>Raiders of the Lost Ark (Indiana Jones and the...</td>\n",
              "      <td>Action|Adventure</td>\n",
              "    </tr>\n",
              "    <tr>\n",
              "      <th>3580</th>\n",
              "      <td>25</td>\n",
              "      <td>527</td>\n",
              "      <td>5.0</td>\n",
              "      <td>1535470432</td>\n",
              "      <td>Schindler's List (1993)</td>\n",
              "      <td>Drama|War</td>\n",
              "    </tr>\n",
              "    <tr>\n",
              "      <th>17384</th>\n",
              "      <td>25</td>\n",
              "      <td>74458</td>\n",
              "      <td>4.5</td>\n",
              "      <td>1535470529</td>\n",
              "      <td>Shutter Island (2010)</td>\n",
              "      <td>Drama|Mystery|Thriller</td>\n",
              "    </tr>\n",
              "    <tr>\n",
              "      <th>70957</th>\n",
              "      <td>25</td>\n",
              "      <td>122916</td>\n",
              "      <td>4.5</td>\n",
              "      <td>1535470504</td>\n",
              "      <td>Thor: Ragnarok (2017)</td>\n",
              "      <td>Action|Adventure|Sci-Fi</td>\n",
              "    </tr>\n",
              "    <tr>\n",
              "      <th>47112</th>\n",
              "      <td>25</td>\n",
              "      <td>59315</td>\n",
              "      <td>4.0</td>\n",
              "      <td>1535470521</td>\n",
              "      <td>Iron Man (2008)</td>\n",
              "      <td>Action|Adventure|Sci-Fi</td>\n",
              "    </tr>\n",
              "    <tr>\n",
              "      <th>70977</th>\n",
              "      <td>25</td>\n",
              "      <td>176371</td>\n",
              "      <td>4.0</td>\n",
              "      <td>1535470469</td>\n",
              "      <td>Blade Runner 2049 (2017)</td>\n",
              "      <td>Sci-Fi</td>\n",
              "    </tr>\n",
              "    <tr>\n",
              "      <th>70995</th>\n",
              "      <td>25</td>\n",
              "      <td>187541</td>\n",
              "      <td>4.0</td>\n",
              "      <td>1535470472</td>\n",
              "      <td>Incredibles 2 (2018)</td>\n",
              "      <td>Action|Adventure|Animation|Children</td>\n",
              "    </tr>\n",
              "    <tr>\n",
              "      <th>1371</th>\n",
              "      <td>25</td>\n",
              "      <td>231</td>\n",
              "      <td>4.0</td>\n",
              "      <td>1535470451</td>\n",
              "      <td>Dumb &amp; Dumber (Dumb and Dumber) (1994)</td>\n",
              "      <td>Adventure|Comedy</td>\n",
              "    </tr>\n",
              "  </tbody>\n",
              "</table>\n",
              "</div>"
            ],
            "text/plain": [
              "       userId  movieId  rating   timestamp  \\\n",
              "37040      25     5952     5.0  1535470419   \n",
              "17666      25    91529     5.0  1535470498   \n",
              "70944      25   122912     5.0  1535470461   \n",
              "57573      25   180095     5.0  1535470476   \n",
              "57565      25   177593     5.0  1535470532   \n",
              "57119      25   116797     5.0  1535470507   \n",
              "47206      25    60069     5.0  1535470523   \n",
              "42328      25    68954     5.0  1535470493   \n",
              "37951      25     7153     5.0  1535470418   \n",
              "1577       25      260     5.0  1535470429   \n",
              "35939      25     4993     5.0  1535470421   \n",
              "70999      25   187593     5.0  1535470534   \n",
              "17469      25    79132     5.0  1535470428   \n",
              "17246      25    68157     5.0  1535470515   \n",
              "17073      25    58559     5.0  1535470524   \n",
              "15668      25     3578     5.0  1535470497   \n",
              "12653      25     2571     5.0  1535470427   \n",
              "10784      25     2028     5.0  1535470505   \n",
              "7141       25     1198     5.0  1535470495   \n",
              "3580       25      527     5.0  1535470432   \n",
              "17384      25    74458     4.5  1535470529   \n",
              "70957      25   122916     4.5  1535470504   \n",
              "47112      25    59315     4.0  1535470521   \n",
              "70977      25   176371     4.0  1535470469   \n",
              "70995      25   187541     4.0  1535470472   \n",
              "1371       25      231     4.0  1535470451   \n",
              "\n",
              "                                                   title  \\\n",
              "37040      Lord of the Rings: The Two Towers, The (2002)   \n",
              "17666                      Dark Knight Rises, The (2012)   \n",
              "70944             Avengers: Infinity War - Part I (2018)   \n",
              "57573                                      Wonder (2017)   \n",
              "57565   Three Billboards Outside Ebbing, Missouri (2017)   \n",
              "57119                          The Imitation Game (2014)   \n",
              "47206                                      WALL·E (2008)   \n",
              "42328                                          Up (2009)   \n",
              "37951  Lord of the Rings: The Return of the King, The...   \n",
              "1577           Star Wars: Episode IV - A New Hope (1977)   \n",
              "35939  Lord of the Rings: The Fellowship of the Ring,...   \n",
              "70999                                  Deadpool 2 (2018)   \n",
              "17469                                   Inception (2010)   \n",
              "17246                        Inglourious Basterds (2009)   \n",
              "17073                            Dark Knight, The (2008)   \n",
              "15668                                   Gladiator (2000)   \n",
              "12653                                 Matrix, The (1999)   \n",
              "10784                         Saving Private Ryan (1998)   \n",
              "7141   Raiders of the Lost Ark (Indiana Jones and the...   \n",
              "3580                             Schindler's List (1993)   \n",
              "17384                              Shutter Island (2010)   \n",
              "70957                              Thor: Ragnarok (2017)   \n",
              "47112                                    Iron Man (2008)   \n",
              "70977                           Blade Runner 2049 (2017)   \n",
              "70995                               Incredibles 2 (2018)   \n",
              "1371              Dumb & Dumber (Dumb and Dumber) (1994)   \n",
              "\n",
              "                                                genres  \n",
              "37040                                Adventure|Fantasy  \n",
              "17666                      Action|Adventure|Crime|IMAX  \n",
              "70944                          Action|Adventure|Sci-Fi  \n",
              "57573                                            Drama  \n",
              "57565                                      Crime|Drama  \n",
              "57119                               Drama|Thriller|War  \n",
              "47206      Adventure|Animation|Children|Romance|Sci-Fi  \n",
              "42328               Adventure|Animation|Children|Drama  \n",
              "37951                   Action|Adventure|Drama|Fantasy  \n",
              "1577                           Action|Adventure|Sci-Fi  \n",
              "35939                                Adventure|Fantasy  \n",
              "70999                             Action|Comedy|Sci-Fi  \n",
              "17469  Action|Crime|Drama|Mystery|Sci-Fi|Thriller|IMAX  \n",
              "17246                                 Action|Drama|War  \n",
              "17073                          Action|Crime|Drama|IMAX  \n",
              "15668                           Action|Adventure|Drama  \n",
              "12653                           Action|Sci-Fi|Thriller  \n",
              "10784                                 Action|Drama|War  \n",
              "7141                                  Action|Adventure  \n",
              "3580                                         Drama|War  \n",
              "17384                           Drama|Mystery|Thriller  \n",
              "70957                          Action|Adventure|Sci-Fi  \n",
              "47112                          Action|Adventure|Sci-Fi  \n",
              "70977                                           Sci-Fi  \n",
              "70995              Action|Adventure|Animation|Children  \n",
              "1371                                  Adventure|Comedy  "
            ]
          },
          "metadata": {
            "tags": []
          },
          "execution_count": 26
        }
      ]
    },
    {
      "cell_type": "markdown",
      "metadata": {
        "id": "vVwxD-cINAlM"
      },
      "source": [
        "This is all for EDA. Please continue to the next section."
      ]
    },
    {
      "cell_type": "markdown",
      "metadata": {
        "id": "V3977uj63zEB"
      },
      "source": [
        "***"
      ]
    },
    {
      "cell_type": "markdown",
      "metadata": {
        "id": "s9xvMgc66fpz"
      },
      "source": [
        "**[Next Section](https://colab.research.google.com/github/villafue/Capstone_2_MovieLens/blob/main/Notebook/4_Framework.ipynb)**"
      ]
    },
    {
      "cell_type": "markdown",
      "metadata": {
        "id": "JcY81gt34Qd4"
      },
      "source": [
        "***"
      ]
    },
    {
      "cell_type": "markdown",
      "metadata": {
        "id": "brMtBr966Kln"
      },
      "source": [
        "**[Back to Top](#top)**"
      ]
    },
    {
      "cell_type": "markdown",
      "metadata": {
        "id": "-5UQ9O5k4Ub9"
      },
      "source": [
        "***"
      ]
    },
    {
      "cell_type": "markdown",
      "metadata": {
        "id": "HLedvFBX5EJA"
      },
      "source": [
        "**[Back to Main](https://github.com/villafue/Capstone_2_MovieLens/blob/main/MovieLens.ipynb)**"
      ]
    },
    {
      "cell_type": "markdown",
      "metadata": {
        "id": "-WM1LLNa4OQ7"
      },
      "source": [
        "***"
      ]
    }
  ]
}