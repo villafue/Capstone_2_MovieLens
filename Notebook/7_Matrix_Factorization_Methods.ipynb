{
  "nbformat": 4,
  "nbformat_minor": 0,
  "metadata": {
    "colab": {
      "name": "7 Matrix Factorization Methods.ipynb",
      "provenance": [],
      "authorship_tag": "ABX9TyN1ZJ07JQrxVfrqH8mfDDZl",
      "include_colab_link": true
    },
    "kernelspec": {
      "name": "python3",
      "display_name": "Python 3"
    },
    "language_info": {
      "name": "python"
    }
  },
  "cells": [
    {
      "cell_type": "markdown",
      "metadata": {
        "id": "view-in-github",
        "colab_type": "text"
      },
      "source": [
        "<a href=\"https://colab.research.google.com/github/villafue/Capstone_2_MovieLens/blob/main/Notebook/7_Matrix_Factorization_Methods.ipynb\" target=\"_parent\"><img src=\"https://colab.research.google.com/assets/colab-badge.svg\" alt=\"Open In Colab\"/></a>"
      ]
    },
    {
      "cell_type": "code",
      "metadata": {
        "id": "Tz1EBSatCyNK"
      },
      "source": [
        ""
      ],
      "execution_count": null,
      "outputs": []
    },
    {
      "cell_type": "markdown",
      "metadata": {
        "id": "a1IxRBsREbjO"
      },
      "source": [
        "# 7."
      ]
    },
    {
      "cell_type": "markdown",
      "metadata": {
        "id": "m783EMJiEjhG"
      },
      "source": [
        "<a name=\"top\"></a>\n",
        "## Matrix Factorization Methods"
      ]
    },
    {
      "cell_type": "markdown",
      "metadata": {
        "id": "_WasouTHJILH"
      },
      "source": [
        "### Table of Contents\n",
        "\n",
        "Note: The internal links work in Google Colab.\n",
        "\n",
        "1. **[Preface](https://colab.research.google.com/github/villafue/Capstone_2_MovieLens/blob/main/MovieLens.ipynb#preface)**\n",
        "2. **[Introduction](https://colab.research.google.com/github/villafue/Capstone_2_MovieLens/blob/main/MovieLens.ipynb#introduction)**\n",
        "3. **[Exploratory Data Analysis](https://colab.research.google.com/github/villafue/Capstone_2_MovieLens/blob/main/Notebook/3_Exploratory_Data_Analysis.ipynb.ipynb#eda)**\n",
        "4. **[Framework](https://colab.research.google.com/github/villafue/Capstone_2_MovieLens/blob/main/Notebook/4_Framework.ipynb#framework)**\n",
        "5. **[Content Based Recommenders](https://colab.research.google.com/github/villafue/Capstone_2_MovieLens/blob/main/Notebook/5_Content_Based_Recommenders.ipynb#content)**\n",
        "5. **[Collaborative Based Recommenders](#collaborative)**\n",
        "    - 6.1 - [Introduction](#introduction)\n",
        "    - 6.2 - [Import Files](#import)\n",
        "    - 6.3 - [Models](#models)\n",
        "    - 6.4 - [Results](#results)"
      ]
    },
    {
      "cell_type": "markdown",
      "metadata": {
        "id": "FQY-F0vOcQb9"
      },
      "source": [
        "***"
      ]
    },
    {
      "cell_type": "markdown",
      "metadata": {
        "id": "th0Sq1sPeaIO"
      },
      "source": [
        "<a name=\"introduction\"></a>\n",
        "### 6.1 - Introduction"
      ]
    },
    {
      "cell_type": "markdown",
      "metadata": {
        "id": "QVytJyi1FPeD"
      },
      "source": [
        "In the last notebook, I ran some content-based models that recommended movies similar in attribute to like movies. Comparitvely, this notebook will try some neighborhood based (KNN) collaborative filtering. Essentially, it means finding other people like me and recommending movies they liked. Or it might mean recommending movies people watched who also watched the stuff that I liked. Either way, the idea is taking cues from people like me, my neighborhood, and recommending movies based on the things they like that I haven't seen yet. That's why it's call it collaborative filtering. It's recommending stuff based on other people's collaborative behavior. \n",
        "\n",
        "There are two types of collaborative filtering: user-based and item-based. The idea behind user-based collaborative filtering is to find other users similar to myself, based on their ratings history, and then recommend movies they liked that I haven't seen yet. Item-based collaborative filtering is essentially flipping the problem on its head. Instead of looking for other people similar to myself, and recommending stuff they liked, I instead look at the things I liked, and recommend stuff that's similar to those things.\n",
        "\n",
        "Thankfully, [surpriselib](https://surprise.readthedocs.io/en/stable/knn_inspired.html) has models I can use to run both item-based and user-based KNN collaborative recommenders. With surpriselib and Frank's framework, it's actually really easy to try a whole slew of models. Here is an example:\n",
        "\n",
        "```\n",
        "# User-based KNN - cosine\n",
        "UserKNNcosine = KNNBasic(sim_options = {'name': 'cosine', 'user_based': True})\n",
        "evaluator.AddAlgorithm(UserKNNcosine, \"User KNN cosine\")\n",
        "```\n",
        "`name` denotes the type of similarity measure. `user_based : True` essentially tells the model that it is a user-based filter. Setting it to `False` means it is an item-based filter. \n",
        " \n",
        "Here is a quick recap on the different similarity measures. Cosine similarity is a good jack of all trades. It's almost always a reasonable thing to start with. Adjusted cosine and Pearson are two different terms for basically the same thing, and it's essentially mean centered cosine similarities. It works in average rating behavior across all of the user's item ratings, or the average ratings of an item across all users. It all depends on which way I flip it, and the main idea is to deal with unusual rating behavior that deviates from the mean. \n",
        " \n",
        "Spearman rank correlation is the same idea as Pearson but using rankings instead of raw ratings. MSD is mean squared difference.\n",
        "\n",
        "Because it is relatively to code the different models, I'll run a bunch of them.\n",
        " \n",
        "\n",
        " \n",
        " \n",
        " \n",
        " \n",
        " \n",
        " \n",
        " \n",
        " \n",
        " \n",
        " \n"
      ]
    },
    {
      "cell_type": "markdown",
      "metadata": {
        "id": "v9wkWFNcjaI1"
      },
      "source": [
        "***"
      ]
    },
    {
      "cell_type": "markdown",
      "metadata": {
        "id": "mR-icWtwghny"
      },
      "source": [
        "**[Back to Top](#top)**"
      ]
    },
    {
      "cell_type": "markdown",
      "metadata": {
        "id": "y3yEzvV4qkNQ"
      },
      "source": [
        "***"
      ]
    },
    {
      "cell_type": "markdown",
      "metadata": {
        "id": "8t_MhylhYoDc"
      },
      "source": [
        "<a name=\"import\"></a>\n",
        "### 6.2 - Import Files"
      ]
    },
    {
      "cell_type": "code",
      "metadata": {
        "id": "Z9No6_FfKah0",
        "colab": {
          "base_uri": "https://localhost:8080/"
        },
        "outputId": "720d8d95-afdd-4184-ee43-7806990339ee"
      },
      "source": [
        "import os\n",
        "os.mkdir('/content/matrix')\n",
        "print('Folder created!')\n",
        "os.chdir('/content/matrix')\n",
        "print('Files are in this folder!')"
      ],
      "execution_count": null,
      "outputs": [
        {
          "output_type": "stream",
          "text": [
            "Folder created!\n",
            "Files are in this folder!\n"
          ],
          "name": "stdout"
        }
      ]
    },
    {
      "cell_type": "code",
      "metadata": {
        "colab": {
          "base_uri": "https://localhost:8080/"
        },
        "id": "G6brgN2fOVur",
        "outputId": "7237ba32-67c7-401d-d87d-e6bc389b2a9d"
      },
      "source": [
        "pip install scikit-surprise"
      ],
      "execution_count": null,
      "outputs": [
        {
          "output_type": "stream",
          "text": [
            "Collecting scikit-surprise\n",
            "\u001b[?25l  Downloading https://files.pythonhosted.org/packages/97/37/5d334adaf5ddd65da99fc65f6507e0e4599d092ba048f4302fe8775619e8/scikit-surprise-1.1.1.tar.gz (11.8MB)\n",
            "\u001b[K     |████████████████████████████████| 11.8MB 5.1MB/s \n",
            "\u001b[?25hRequirement already satisfied: joblib>=0.11 in /usr/local/lib/python3.7/dist-packages (from scikit-surprise) (1.0.1)\n",
            "Requirement already satisfied: numpy>=1.11.2 in /usr/local/lib/python3.7/dist-packages (from scikit-surprise) (1.19.5)\n",
            "Requirement already satisfied: scipy>=1.0.0 in /usr/local/lib/python3.7/dist-packages (from scikit-surprise) (1.4.1)\n",
            "Requirement already satisfied: six>=1.10.0 in /usr/local/lib/python3.7/dist-packages (from scikit-surprise) (1.15.0)\n",
            "Building wheels for collected packages: scikit-surprise\n",
            "  Building wheel for scikit-surprise (setup.py) ... \u001b[?25l\u001b[?25hdone\n",
            "  Created wheel for scikit-surprise: filename=scikit_surprise-1.1.1-cp37-cp37m-linux_x86_64.whl size=1617559 sha256=ff1dfb62ff87a82fd1e2c29a17c49e44070ac0b293a8beb7ad528c9863038035\n",
            "  Stored in directory: /root/.cache/pip/wheels/78/9c/3d/41b419c9d2aff5b6e2b4c0fc8d25c538202834058f9ed110d0\n",
            "Successfully built scikit-surprise\n",
            "Installing collected packages: scikit-surprise\n",
            "Successfully installed scikit-surprise-1.1.1\n"
          ],
          "name": "stdout"
        }
      ]
    },
    {
      "cell_type": "code",
      "metadata": {
        "id": "-HqogmdG5zvc",
        "colab": {
          "base_uri": "https://localhost:8080/"
        },
        "outputId": "6657c8a9-f87b-4edd-fbd2-9b0c7ce2d07d"
      },
      "source": [
        "!python \"MovieLens.py\"\n",
        "print('1 of 5: Done')\n",
        "!python \"RecommenderMetrics.py\"\n",
        "print('2 of 5: Done')\n",
        "!python \"EvaluationData.py\"\n",
        "print('3 of 5: Done')\n",
        "!python \"EvaluatedAlgorithm.py\"\n",
        "print('4 of 5: Done')\n",
        "!python \"Evaluator.py\"\n",
        "print('5 of 5: All Scripts Loaded!')"
      ],
      "execution_count": null,
      "outputs": [
        {
          "output_type": "stream",
          "text": [
            "1 of 5: Done\n",
            "2 of 5: Done\n",
            "3 of 5: Done\n",
            "4 of 5: Done\n",
            "5 of 5: All Scripts Loaded!\n"
          ],
          "name": "stdout"
        }
      ]
    },
    {
      "cell_type": "markdown",
      "metadata": {
        "id": "GcQc-zPSxZMx"
      },
      "source": [
        "I was able to perform RandomizedSearch on SVD. This is how I was able to tune my hyperparameters."
      ]
    },
    {
      "cell_type": "code",
      "metadata": {
        "colab": {
          "base_uri": "https://localhost:8080/"
        },
        "id": "cN6IHB4knBtg",
        "outputId": "1f862229-a5d0-4fc9-f37d-7f5f0f2483e5"
      },
      "source": [
        "# -*- coding: utf-8 -*-\n",
        "\"\"\"\n",
        "Created on Sun Mar 14 22:35:07 2021\n",
        "\n",
        "@author: Maribel\n",
        "\"\"\"\n",
        "\n",
        "from MovieLens import MovieLens\n",
        "from surprise import SVD, SVDpp\n",
        "from surprise import NormalPredictor\n",
        "from Evaluator import Evaluator\n",
        "from surprise.model_selection import GridSearchCV\n",
        "from surprise.model_selection import RandomizedSearchCV\n",
        "\n",
        "import random\n",
        "import numpy as np\n",
        "\n",
        "def LoadMovieLensData():\n",
        "    ml = MovieLens()\n",
        "    print(\"Loading movie ratings...\")\n",
        "    data = ml.loadMovieLensLatestSmall()\n",
        "    print(\"\\nComputing movie popularity ranks so we can measure novelty later...\")\n",
        "    rankings = ml.getPopularityRanks()\n",
        "    return (ml, data, rankings)\n",
        "\n",
        "np.random.seed(29)\n",
        "random.seed(29)\n",
        "\n",
        "# Load up common data set for the recommender algorithms\n",
        "(ml, evaluationData, rankings) = LoadMovieLensData()\n",
        "\n",
        "print(\"Searching for best parameters...\")\n",
        "#param_grid = {'n_epochs': [20, 30], 'lr_all': [0.005, 0.010],\n",
        "#              'n_factors': [50, 100]}\n",
        "#gs = GridSearchCV(SVD, param_grid, measures=['rmse', 'mae'], cv=3)\n",
        "\n",
        "#gs.fit(evaluationData)\n",
        "\n",
        "param_grid = {'n_epochs': range(10, 31), \n",
        "              'lr_all': np.linspace(0.001, 0.10, 10),\n",
        "              'n_factors': range(10, 100, 20),\n",
        "              'reg_all': np.linspace(0.01, 0.1, 10)}\n",
        "\n",
        "rs = RandomizedSearchCV(SVD, param_distributions=param_grid, measures=['rmse', 'mae'], \n",
        "                        cv=5, random_state=29, n_jobs = -1, n_iter=50)\n",
        "\n",
        "rs.fit(evaluationData)\n",
        "\n",
        "# best RMSE score\n",
        "#print(\"Best RMSE score attained: \", gs.best_score['rmse'])\n",
        "print(\"Best RMSE score attained: \", rs.best_score['rmse'])\n",
        "\n",
        "# combination of parameters that gave the best RMSE score\n",
        "#print(gs.best_params['rmse'])\n",
        "print(rs.best_params['rmse'])\n",
        "\n",
        "# Construct an Evaluator to, you know, evaluate them\n",
        "evaluator = Evaluator(evaluationData, rankings)\n",
        "\n",
        "#params = gs.best_params['rmse']\n",
        "#SVDtuned = SVD(n_epochs = params['n_epochs'], lr_all = params['lr_all'], n_factors = params['n_factors'])\n",
        "\n",
        "params = rs.best_params['rmse']\n",
        "SVDtuned = SVD(n_epochs = params['n_epochs'], lr_all = params['lr_all'], \n",
        "               n_factors = params['n_factors'], reg_all = params['reg_all'])\n",
        "evaluator.AddAlgorithm(SVDtuned, \"SVD - Tuned\")\n",
        "\n",
        "SVDUntuned = SVD()\n",
        "evaluator.AddAlgorithm(SVDUntuned, \"SVD - Untuned\")\n",
        "\n",
        "# Just make random recommendations\n",
        "Random = NormalPredictor()\n",
        "evaluator.AddAlgorithm(Random, \"Random\")\n",
        "\n",
        "# Fight!\n",
        "evaluator.Evaluate(True)\n",
        "\n",
        "evaluator.SampleTopNRecs(ml)\n"
      ],
      "execution_count": null,
      "outputs": [
        {
          "output_type": "stream",
          "text": [
            "Loading movie ratings...\n",
            "\n",
            "Computing movie popularity ranks so we can measure novelty later...\n",
            "Searching for best parameters...\n",
            "Best RMSE score attained:  0.8553894737323182\n",
            "{'n_epochs': 11, 'lr_all': 0.034, 'n_factors': 90, 'reg_all': 0.06000000000000001}\n",
            "Estimating biases using als...\n",
            "Computing the cosine similarity matrix...\n",
            "Done computing similarity matrix.\n",
            "Evaluating  SVD - Tuned ...\n",
            "Evaluating accuracy...\n",
            "Evaluating top-N with leave-one-out...\n",
            "Computing hit-rate and rank metrics...\n",
            "Computing recommendations with full data set...\n",
            "Analyzing coverage, diversity, and novelty...\n",
            "Computing the cosine similarity matrix...\n",
            "Done computing similarity matrix.\n",
            "Analysis complete.\n",
            "Evaluating  SVD - Untuned ...\n",
            "Evaluating accuracy...\n",
            "Evaluating top-N with leave-one-out...\n",
            "Computing hit-rate and rank metrics...\n",
            "Computing recommendations with full data set...\n",
            "Analyzing coverage, diversity, and novelty...\n",
            "Computing the cosine similarity matrix...\n",
            "Done computing similarity matrix.\n",
            "Analysis complete.\n",
            "Evaluating  Random ...\n",
            "Evaluating accuracy...\n",
            "Evaluating top-N with leave-one-out...\n",
            "Computing hit-rate and rank metrics...\n",
            "Computing recommendations with full data set...\n",
            "Analyzing coverage, diversity, and novelty...\n",
            "Computing the cosine similarity matrix...\n",
            "Done computing similarity matrix.\n",
            "Analysis complete.\n",
            "\n",
            "\n",
            "Algorithm  RMSE       MAE        HR         cHR        ARHR       Coverage   Diversity  Novelty   \n",
            "SVD - Tuned 0.8665     0.6626     0.0262     0.0262     0.0076     0.9672     0.2945     2030.2127 \n",
            "SVD - Untuned 0.8825     0.6767     0.0279     0.0279     0.0101     0.9230     0.0285     482.2240  \n",
            "Random     1.4316     1.1420     0.0148     0.0148     0.0067     1.0000     0.0486     841.9993  \n",
            "\n",
            "Legend:\n",
            "\n",
            "RMSE:      Root Mean Squared Error. Lower values mean better accuracy.\n",
            "MAE:       Mean Absolute Error. Lower values mean better accuracy.\n",
            "HR:        Hit Rate; how often we are able to recommend a left-out rating. Higher is better.\n",
            "cHR:       Cumulative Hit Rate; hit rate, confined to ratings above a certain threshold. Higher is better.\n",
            "ARHR:      Average Reciprocal Hit Rank - Hit rate that takes the ranking into account. Higher is better.\n",
            "Coverage:  Ratio of users for whom recommendations above a certain threshold exist. Higher is better.\n",
            "Diversity: 1-S, where S is the average similarity score between every possible pair of recommendations\n",
            "           for a given user. Higher means more diverse.\n",
            "Novelty:   Average popularity rank of recommended items. Higher means more novel.\n",
            "\n",
            "Using recommender  SVD - Tuned\n",
            "\n",
            "Building recommendation model...\n",
            "Computing recommendations...\n",
            "\n",
            "We recommend:\n",
            "Pulp Fiction (1994) 5\n",
            "Star Wars: Episode V - The Empire Strikes Back (1980) 5\n",
            "Goodfellas (1990) 5\n",
            "Fight Club (1999) 5\n",
            "Shawshank Redemption, The (1994) 5\n",
            "Departed, The (2006) 5\n",
            "Philadelphia Story, The (1940) 5\n",
            "Rear Window (1954) 5\n",
            "Life Is Beautiful (La Vita Ã¨ bella) (1997) 5\n",
            "Dr. Strangelove or: How I Learned to Stop Worrying and Love the Bomb (1964) 5\n",
            "\n",
            "Using recommender  SVD - Untuned\n",
            "\n",
            "Building recommendation model...\n",
            "Computing recommendations...\n",
            "\n",
            "We recommend:\n",
            "Pulp Fiction (1994) 5\n",
            "Fight Club (1999) 5\n",
            "Shawshank Redemption, The (1994) 5\n",
            "Wallace & Gromit: The Best of Aardman Animation (1996) 5\n",
            "Philadelphia Story, The (1940) 5\n",
            "Airplane! (1980) 5\n",
            "Sunset Blvd. (a.k.a. Sunset Boulevard) (1950) 5\n",
            "Blade Runner (1982) 5\n",
            "Wallace & Gromit: The Wrong Trousers (1993) 5\n",
            "Grand Day Out with Wallace and Gromit, A (1989) 5\n",
            "\n",
            "Using recommender  Random\n",
            "\n",
            "Building recommendation model...\n",
            "Computing recommendations...\n",
            "\n",
            "We recommend:\n",
            "Tommy Boy (1995) 5\n",
            "Jungle Book, The (1994) 5\n",
            "Independence Day (a.k.a. ID4) (1996) 5\n",
            "Pete's Dragon (1977) 5\n",
            "Platoon (1986) 5\n",
            "Apocalypse Now (1979) 5\n",
            "Star Wars: Episode VI - Return of the Jedi (1983) 5\n",
            "Blues Brothers, The (1980) 5\n",
            "Nosferatu (Nosferatu, eine Symphonie des Grauens) (1922) 5\n",
            "Face/Off (1997) 5\n"
          ],
          "name": "stdout"
        }
      ]
    },
    {
      "cell_type": "code",
      "metadata": {
        "colab": {
          "base_uri": "https://localhost:8080/"
        },
        "id": "83CPhA1GtBzb",
        "outputId": "223caf0d-243a-45a5-93b3-210a7277ebea"
      },
      "source": [
        "# -*- coding: utf-8 -*-\n",
        "\"\"\"\n",
        "Created on Thu May  3 11:11:13 2018\n",
        "\n",
        "@author: Frank\n",
        "\"\"\"\n",
        "\n",
        "from MovieLens import MovieLens\n",
        "from surprise import SVD, SVDpp\n",
        "from surprise import NormalPredictor\n",
        "from Evaluator import Evaluator\n",
        "\n",
        "import random\n",
        "import numpy as np\n",
        "\n",
        "def LoadMovieLensData():\n",
        "    ml = MovieLens()\n",
        "    print(\"Loading movie ratings...\")\n",
        "    data = ml.loadMovieLensLatestSmall()\n",
        "    print(\"\\nComputing movie popularity ranks so we can measure novelty later...\")\n",
        "    rankings = ml.getPopularityRanks()\n",
        "    return (ml, data, rankings)\n",
        "\n",
        "np.random.seed(29)\n",
        "random.seed(29)\n",
        "\n",
        "# Load up common data set for the recommender algorithms\n",
        "(ml, evaluationData, rankings) = LoadMovieLensData()\n",
        "\n",
        "# Construct an Evaluator to, you know, evaluate them\n",
        "evaluator = Evaluator(evaluationData, rankings)\n",
        "\n",
        "# SVD++\n",
        "SVDPlusPlusTuned = SVDpp(n_epochs=11, lr_all=0.034, n_factors=90, reg_all=0.06)\n",
        "#{'n_epochs': 11, 'lr_all': 0.034, 'n_factors': 90, 'reg_all': 0.06000000000000001}\n",
        "evaluator.AddAlgorithm(SVDPlusPlusTuned, \"SVD++Tuned\")\n",
        "\n",
        "# SVD++ Untuned\n",
        "SVDPlusPlus = SVDpp()\n",
        "evaluator.AddAlgorithm(SVDPlusPlus, \"SVD++Untuned\")\n",
        "\n",
        "# Just make random recommendations\n",
        "Random = NormalPredictor()\n",
        "evaluator.AddAlgorithm(Random, \"Random\")\n",
        "\n",
        "# Fight!\n",
        "evaluator.Evaluate(True)\n",
        "\n",
        "evaluator.SampleTopNRecs(ml)\n"
      ],
      "execution_count": null,
      "outputs": [
        {
          "output_type": "stream",
          "text": [
            "Loading movie ratings...\n",
            "\n",
            "Computing movie popularity ranks so we can measure novelty later...\n",
            "Estimating biases using als...\n",
            "Computing the cosine similarity matrix...\n",
            "Done computing similarity matrix.\n",
            "Evaluating  SVD++Untuned ...\n",
            "Evaluating accuracy...\n",
            "Evaluating top-N with leave-one-out...\n",
            "Computing hit-rate and rank metrics...\n",
            "Computing recommendations with full data set...\n",
            "Analyzing coverage, diversity, and novelty...\n",
            "Computing the cosine similarity matrix...\n",
            "Done computing similarity matrix.\n",
            "Analysis complete.\n",
            "Evaluating  SVD++Tuned ...\n",
            "Evaluating accuracy...\n",
            "Evaluating top-N with leave-one-out...\n",
            "Computing hit-rate and rank metrics...\n",
            "Computing recommendations with full data set...\n",
            "Analyzing coverage, diversity, and novelty...\n",
            "Computing the cosine similarity matrix...\n",
            "Done computing similarity matrix.\n",
            "Analysis complete.\n",
            "Evaluating  SVD++Untuned ...\n",
            "Evaluating accuracy...\n",
            "Evaluating top-N with leave-one-out...\n",
            "Computing hit-rate and rank metrics...\n",
            "Computing recommendations with full data set...\n",
            "Analyzing coverage, diversity, and novelty...\n",
            "Computing the cosine similarity matrix...\n",
            "Done computing similarity matrix.\n",
            "Analysis complete.\n",
            "Evaluating  Random ...\n",
            "Evaluating accuracy...\n",
            "Evaluating top-N with leave-one-out...\n",
            "Computing hit-rate and rank metrics...\n",
            "Computing recommendations with full data set...\n",
            "Analyzing coverage, diversity, and novelty...\n",
            "Computing the cosine similarity matrix...\n",
            "Done computing similarity matrix.\n",
            "Analysis complete.\n",
            "\n",
            "\n",
            "Algorithm  RMSE       MAE        HR         cHR        ARHR       Coverage   Diversity  Novelty   \n",
            "SVD++Untuned 0.8712     0.6676     0.0295     0.0295     0.0114     0.9148     0.0779     899.7029  \n",
            "SVD++Tuned 0.8641     0.6629     0.0246     0.0246     0.0068     0.9607     0.2116     1674.4942 \n",
            "Random     1.4241     1.1352     0.0148     0.0148     0.0046     1.0000     0.0519     865.5364  \n",
            "\n",
            "Legend:\n",
            "\n",
            "RMSE:      Root Mean Squared Error. Lower values mean better accuracy.\n",
            "MAE:       Mean Absolute Error. Lower values mean better accuracy.\n",
            "HR:        Hit Rate; how often we are able to recommend a left-out rating. Higher is better.\n",
            "cHR:       Cumulative Hit Rate; hit rate, confined to ratings above a certain threshold. Higher is better.\n",
            "ARHR:      Average Reciprocal Hit Rank - Hit rate that takes the ranking into account. Higher is better.\n",
            "Coverage:  Ratio of users for whom recommendations above a certain threshold exist. Higher is better.\n",
            "Diversity: 1-S, where S is the average similarity score between every possible pair of recommendations\n",
            "           for a given user. Higher means more diverse.\n",
            "Novelty:   Average popularity rank of recommended items. Higher means more novel.\n",
            "\n",
            "Using recommender  SVD++Untuned\n",
            "\n",
            "Building recommendation model...\n",
            "Computing recommendations...\n",
            "\n",
            "We recommend:\n",
            "Silence of the Lambs, The (1991) 5\n",
            "Full Metal Jacket (1987) 5\n",
            "Fight Club (1999) 5\n",
            "Shawshank Redemption, The (1994) 5\n",
            "Departed, The (2006) 5\n",
            "Wallace & Gromit: The Best of Aardman Animation (1996) 5\n",
            "My Fair Lady (1964) 5\n",
            "Crumb (1994) 5\n",
            "Philadelphia Story, The (1940) 5\n",
            "Singin' in the Rain (1952) 5\n",
            "\n",
            "Using recommender  SVD++Tuned\n",
            "\n",
            "Building recommendation model...\n",
            "Computing recommendations...\n",
            "\n",
            "We recommend:\n",
            "Usual Suspects, The (1995) 5\n",
            "Pulp Fiction (1994) 5\n",
            "Shining, The (1980) 5\n",
            "Shawshank Redemption, The (1994) 5\n",
            "In the Name of the Father (1993) 5\n",
            "Philadelphia Story, The (1940) 5\n",
            "Rear Window (1954) 5\n",
            "Casablanca (1942) 5\n",
            "Seven Samurai (Shichinin no samurai) (1954) 5\n",
            "Dr. Strangelove or: How I Learned to Stop Worrying and Love the Bomb (1964) 5\n",
            "\n",
            "Using recommender  SVD++Untuned\n",
            "\n",
            "Building recommendation model...\n",
            "Computing recommendations...\n",
            "\n",
            "We recommend:\n",
            "Forrest Gump (1994) 5\n",
            "Princess Bride, The (1987) 5\n",
            "Goodfellas (1990) 5\n",
            "Shawshank Redemption, The (1994) 5\n",
            "In the Name of the Father (1993) 5\n",
            "Philadelphia Story, The (1940) 5\n",
            "Rear Window (1954) 5\n",
            "North by Northwest (1959) 5\n",
            "Casablanca (1942) 5\n",
            "Outlaw Josey Wales, The (1976) 5\n",
            "\n",
            "Using recommender  Random\n",
            "\n",
            "Building recommendation model...\n",
            "Computing recommendations...\n",
            "\n",
            "We recommend:\n",
            "Rob Roy (1995) 5\n",
            "Desperado (1995) 5\n",
            "Clerks (1994) 5\n",
            "Tommy Boy (1995) 5\n",
            "Jungle Book, The (1994) 5\n",
            "Silence of the Lambs, The (1991) 5\n",
            "That Thing You Do! (1996) 5\n",
            "Swingers (1996) 5\n",
            "Monty Python and the Holy Grail (1975) 5\n",
            "Princess Bride, The (1987) 5\n"
          ],
          "name": "stdout"
        }
      ]
    },
    {
      "cell_type": "markdown",
      "metadata": {
        "id": "HsXkVO6y1igq"
      },
      "source": [
        "***"
      ]
    },
    {
      "cell_type": "markdown",
      "metadata": {
        "id": "PIbl_iQDy7RA"
      },
      "source": [
        "This would not run."
      ]
    },
    {
      "cell_type": "code",
      "metadata": {
        "colab": {
          "base_uri": "https://localhost:8080/",
          "height": 438
        },
        "id": "___bAmkMnfIb",
        "outputId": "76976274-8275-4e55-f7f1-8622baeefb2a"
      },
      "source": [
        "# -*- coding: utf-8 -*-\n",
        "\"\"\"\n",
        "Created on Sun Mar 14 22:35:07 2021\n",
        "\n",
        "@author: Maribel\n",
        "\"\"\"\n",
        "\n",
        "from MovieLens import MovieLens\n",
        "from surprise import SVD, SVDpp\n",
        "from surprise import NormalPredictor\n",
        "from Evaluator import Evaluator\n",
        "from surprise.model_selection import GridSearchCV\n",
        "from surprise.model_selection import RandomizedSearchCV\n",
        "\n",
        "import random\n",
        "import numpy as np\n",
        "\n",
        "def LoadMovieLensData():\n",
        "    ml = MovieLens()\n",
        "    print(\"Loading movie ratings...\")\n",
        "    data = ml.loadMovieLensLatestSmall()\n",
        "    print(\"\\nComputing movie popularity ranks so we can measure novelty later...\")\n",
        "    rankings = ml.getPopularityRanks()\n",
        "    return (ml, data, rankings)\n",
        "\n",
        "np.random.seed(29)\n",
        "random.seed(29)\n",
        "\n",
        "# Load up common data set for the recommender algorithms\n",
        "(ml, evaluationData, rankings) = LoadMovieLensData()\n",
        "\n",
        "print(\"Searching for best parameters...\")\n",
        "#param_grid = {'n_epochs': [20, 30], 'lr_all': [0.005, 0.010],\n",
        "#              'n_factors': [50, 100]}\n",
        "#gs = GridSearchCV(SVD, param_grid, measures=['rmse', 'mae'], cv=3)\n",
        "\n",
        "#gs.fit(evaluationData)\n",
        "\n",
        "param_grid = {'n_epochs': range(10, 31), \n",
        "              'lr_all': np.linspace(0.001, 0.20, 20),\n",
        "              'n_factors': range(10, 100, 20),\n",
        "              'reg_all': np.linspace(0.01, 0.1, 10)}\n",
        "\n",
        "rsplus = RandomizedSearchCV(SVDpp, param_distributions=param_grid, measures=['rmse', 'mae'], \n",
        "                        cv=3, random_state=29, n_jobs = -1, n_iter=10)\n",
        "\n",
        "rsplus.fit(evaluationData)\n",
        "\n",
        "# best RMSE score\n",
        "#print(\"Best RMSE score attained: \", gs.best_score['rmse'])\n",
        "print(\"Best RMSE score attained: \", rsplus.best_score['rmse'])\n",
        "\n",
        "# combination of parameters that gave the best RMSE score\n",
        "#print(gs.best_params['rmse'])\n",
        "print(rsplus.best_params['rmse'])\n",
        "\n",
        "# Construct an Evaluator to, you know, evaluate them\n",
        "evaluator = Evaluator(evaluationData, rankings)\n",
        "\n",
        "#params = gs.best_params['rmse']\n",
        "#SVDtuned = SVD(n_epochs = params['n_epochs'], lr_all = params['lr_all'], n_factors = params['n_factors'])\n",
        "\n",
        "params = rsplus.best_params['rmse']\n",
        "SVDPlusTuned = SVDpp(n_epochs = params['n_epochs'], lr_all = params['lr_all'], \n",
        "               n_factors = params['n_factors'], reg_all = params['reg_all'])\n",
        "evaluator.AddAlgorithm(SVDPlusTuned, \"SVD++ - Tuned\")\n",
        "\n",
        "SVDPlusUntuned = SVDpp()\n",
        "evaluator.AddAlgorithm(SVDPlusUntuned, \"SVD++ - Untuned\")\n",
        "\n",
        "# Just make random recommendations\n",
        "Random = NormalPredictor()\n",
        "evaluator.AddAlgorithm(Random, \"Random\")\n",
        "\n",
        "# Fight!\n",
        "evaluator.Evaluate(False)\n",
        "\n",
        "evaluator.SampleTopNRecs(ml)\n"
      ],
      "execution_count": null,
      "outputs": [
        {
          "output_type": "stream",
          "text": [
            "Loading movie ratings...\n",
            "\n",
            "Computing movie popularity ranks so we can measure novelty later...\n",
            "Searching for best parameters...\n"
          ],
          "name": "stdout"
        },
        {
          "output_type": "error",
          "ename": "KeyboardInterrupt",
          "evalue": "ignored",
          "traceback": [
            "\u001b[0;31m---------------------------------------------------------------------------\u001b[0m",
            "\u001b[0;31mKeyboardInterrupt\u001b[0m                         Traceback (most recent call last)",
            "\u001b[0;32m<ipython-input-4-9c90893eb80b>\u001b[0m in \u001b[0;36m<module>\u001b[0;34m()\u001b[0m\n\u001b[1;32m     45\u001b[0m                         cv=3, random_state=29, n_jobs = -1, n_iter=10)\n\u001b[1;32m     46\u001b[0m \u001b[0;34m\u001b[0m\u001b[0m\n\u001b[0;32m---> 47\u001b[0;31m \u001b[0mrsplus\u001b[0m\u001b[0;34m.\u001b[0m\u001b[0mfit\u001b[0m\u001b[0;34m(\u001b[0m\u001b[0mevaluationData\u001b[0m\u001b[0;34m)\u001b[0m\u001b[0;34m\u001b[0m\u001b[0;34m\u001b[0m\u001b[0m\n\u001b[0m\u001b[1;32m     48\u001b[0m \u001b[0;34m\u001b[0m\u001b[0m\n\u001b[1;32m     49\u001b[0m \u001b[0;31m# best RMSE score\u001b[0m\u001b[0;34m\u001b[0m\u001b[0;34m\u001b[0m\u001b[0;34m\u001b[0m\u001b[0m\n",
            "\u001b[0;32m/usr/local/lib/python3.7/dist-packages/surprise/model_selection/search.py\u001b[0m in \u001b[0;36mfit\u001b[0;34m(self, data)\u001b[0m\n\u001b[1;32m     88\u001b[0m         out = Parallel(n_jobs=self.n_jobs,\n\u001b[1;32m     89\u001b[0m                        \u001b[0mpre_dispatch\u001b[0m\u001b[0;34m=\u001b[0m\u001b[0mself\u001b[0m\u001b[0;34m.\u001b[0m\u001b[0mpre_dispatch\u001b[0m\u001b[0;34m,\u001b[0m\u001b[0;34m\u001b[0m\u001b[0;34m\u001b[0m\u001b[0m\n\u001b[0;32m---> 90\u001b[0;31m                        verbose=self.joblib_verbose)(delayed_list)\n\u001b[0m\u001b[1;32m     91\u001b[0m \u001b[0;34m\u001b[0m\u001b[0m\n\u001b[1;32m     92\u001b[0m         (test_measures_dicts,\n",
            "\u001b[0;32m/usr/local/lib/python3.7/dist-packages/joblib/parallel.py\u001b[0m in \u001b[0;36m__call__\u001b[0;34m(self, iterable)\u001b[0m\n\u001b[1;32m   1052\u001b[0m \u001b[0;34m\u001b[0m\u001b[0m\n\u001b[1;32m   1053\u001b[0m             \u001b[0;32mwith\u001b[0m \u001b[0mself\u001b[0m\u001b[0;34m.\u001b[0m\u001b[0m_backend\u001b[0m\u001b[0;34m.\u001b[0m\u001b[0mretrieval_context\u001b[0m\u001b[0;34m(\u001b[0m\u001b[0;34m)\u001b[0m\u001b[0;34m:\u001b[0m\u001b[0;34m\u001b[0m\u001b[0;34m\u001b[0m\u001b[0m\n\u001b[0;32m-> 1054\u001b[0;31m                 \u001b[0mself\u001b[0m\u001b[0;34m.\u001b[0m\u001b[0mretrieve\u001b[0m\u001b[0;34m(\u001b[0m\u001b[0;34m)\u001b[0m\u001b[0;34m\u001b[0m\u001b[0;34m\u001b[0m\u001b[0m\n\u001b[0m\u001b[1;32m   1055\u001b[0m             \u001b[0;31m# Make sure that we get a last message telling us we are done\u001b[0m\u001b[0;34m\u001b[0m\u001b[0;34m\u001b[0m\u001b[0;34m\u001b[0m\u001b[0m\n\u001b[1;32m   1056\u001b[0m             \u001b[0melapsed_time\u001b[0m \u001b[0;34m=\u001b[0m \u001b[0mtime\u001b[0m\u001b[0;34m.\u001b[0m\u001b[0mtime\u001b[0m\u001b[0;34m(\u001b[0m\u001b[0;34m)\u001b[0m \u001b[0;34m-\u001b[0m \u001b[0mself\u001b[0m\u001b[0;34m.\u001b[0m\u001b[0m_start_time\u001b[0m\u001b[0;34m\u001b[0m\u001b[0;34m\u001b[0m\u001b[0m\n",
            "\u001b[0;32m/usr/local/lib/python3.7/dist-packages/joblib/parallel.py\u001b[0m in \u001b[0;36mretrieve\u001b[0;34m(self)\u001b[0m\n\u001b[1;32m    931\u001b[0m             \u001b[0;32mtry\u001b[0m\u001b[0;34m:\u001b[0m\u001b[0;34m\u001b[0m\u001b[0;34m\u001b[0m\u001b[0m\n\u001b[1;32m    932\u001b[0m                 \u001b[0;32mif\u001b[0m \u001b[0mgetattr\u001b[0m\u001b[0;34m(\u001b[0m\u001b[0mself\u001b[0m\u001b[0;34m.\u001b[0m\u001b[0m_backend\u001b[0m\u001b[0;34m,\u001b[0m \u001b[0;34m'supports_timeout'\u001b[0m\u001b[0;34m,\u001b[0m \u001b[0;32mFalse\u001b[0m\u001b[0;34m)\u001b[0m\u001b[0;34m:\u001b[0m\u001b[0;34m\u001b[0m\u001b[0;34m\u001b[0m\u001b[0m\n\u001b[0;32m--> 933\u001b[0;31m                     \u001b[0mself\u001b[0m\u001b[0;34m.\u001b[0m\u001b[0m_output\u001b[0m\u001b[0;34m.\u001b[0m\u001b[0mextend\u001b[0m\u001b[0;34m(\u001b[0m\u001b[0mjob\u001b[0m\u001b[0;34m.\u001b[0m\u001b[0mget\u001b[0m\u001b[0;34m(\u001b[0m\u001b[0mtimeout\u001b[0m\u001b[0;34m=\u001b[0m\u001b[0mself\u001b[0m\u001b[0;34m.\u001b[0m\u001b[0mtimeout\u001b[0m\u001b[0;34m)\u001b[0m\u001b[0;34m)\u001b[0m\u001b[0;34m\u001b[0m\u001b[0;34m\u001b[0m\u001b[0m\n\u001b[0m\u001b[1;32m    934\u001b[0m                 \u001b[0;32melse\u001b[0m\u001b[0;34m:\u001b[0m\u001b[0;34m\u001b[0m\u001b[0;34m\u001b[0m\u001b[0m\n\u001b[1;32m    935\u001b[0m                     \u001b[0mself\u001b[0m\u001b[0;34m.\u001b[0m\u001b[0m_output\u001b[0m\u001b[0;34m.\u001b[0m\u001b[0mextend\u001b[0m\u001b[0;34m(\u001b[0m\u001b[0mjob\u001b[0m\u001b[0;34m.\u001b[0m\u001b[0mget\u001b[0m\u001b[0;34m(\u001b[0m\u001b[0;34m)\u001b[0m\u001b[0;34m)\u001b[0m\u001b[0;34m\u001b[0m\u001b[0;34m\u001b[0m\u001b[0m\n",
            "\u001b[0;32m/usr/local/lib/python3.7/dist-packages/joblib/_parallel_backends.py\u001b[0m in \u001b[0;36mwrap_future_result\u001b[0;34m(future, timeout)\u001b[0m\n\u001b[1;32m    540\u001b[0m         AsyncResults.get from multiprocessing.\"\"\"\n\u001b[1;32m    541\u001b[0m         \u001b[0;32mtry\u001b[0m\u001b[0;34m:\u001b[0m\u001b[0;34m\u001b[0m\u001b[0;34m\u001b[0m\u001b[0m\n\u001b[0;32m--> 542\u001b[0;31m             \u001b[0;32mreturn\u001b[0m \u001b[0mfuture\u001b[0m\u001b[0;34m.\u001b[0m\u001b[0mresult\u001b[0m\u001b[0;34m(\u001b[0m\u001b[0mtimeout\u001b[0m\u001b[0;34m=\u001b[0m\u001b[0mtimeout\u001b[0m\u001b[0;34m)\u001b[0m\u001b[0;34m\u001b[0m\u001b[0;34m\u001b[0m\u001b[0m\n\u001b[0m\u001b[1;32m    543\u001b[0m         \u001b[0;32mexcept\u001b[0m \u001b[0mCfTimeoutError\u001b[0m \u001b[0;32mas\u001b[0m \u001b[0me\u001b[0m\u001b[0;34m:\u001b[0m\u001b[0;34m\u001b[0m\u001b[0;34m\u001b[0m\u001b[0m\n\u001b[1;32m    544\u001b[0m             \u001b[0;32mraise\u001b[0m \u001b[0mTimeoutError\u001b[0m \u001b[0;32mfrom\u001b[0m \u001b[0me\u001b[0m\u001b[0;34m\u001b[0m\u001b[0;34m\u001b[0m\u001b[0m\n",
            "\u001b[0;32m/usr/lib/python3.7/concurrent/futures/_base.py\u001b[0m in \u001b[0;36mresult\u001b[0;34m(self, timeout)\u001b[0m\n\u001b[1;32m    428\u001b[0m                 \u001b[0;32mreturn\u001b[0m \u001b[0mself\u001b[0m\u001b[0;34m.\u001b[0m\u001b[0m__get_result\u001b[0m\u001b[0;34m(\u001b[0m\u001b[0;34m)\u001b[0m\u001b[0;34m\u001b[0m\u001b[0;34m\u001b[0m\u001b[0m\n\u001b[1;32m    429\u001b[0m \u001b[0;34m\u001b[0m\u001b[0m\n\u001b[0;32m--> 430\u001b[0;31m             \u001b[0mself\u001b[0m\u001b[0;34m.\u001b[0m\u001b[0m_condition\u001b[0m\u001b[0;34m.\u001b[0m\u001b[0mwait\u001b[0m\u001b[0;34m(\u001b[0m\u001b[0mtimeout\u001b[0m\u001b[0;34m)\u001b[0m\u001b[0;34m\u001b[0m\u001b[0;34m\u001b[0m\u001b[0m\n\u001b[0m\u001b[1;32m    431\u001b[0m \u001b[0;34m\u001b[0m\u001b[0m\n\u001b[1;32m    432\u001b[0m             \u001b[0;32mif\u001b[0m \u001b[0mself\u001b[0m\u001b[0;34m.\u001b[0m\u001b[0m_state\u001b[0m \u001b[0;32min\u001b[0m \u001b[0;34m[\u001b[0m\u001b[0mCANCELLED\u001b[0m\u001b[0;34m,\u001b[0m \u001b[0mCANCELLED_AND_NOTIFIED\u001b[0m\u001b[0;34m]\u001b[0m\u001b[0;34m:\u001b[0m\u001b[0;34m\u001b[0m\u001b[0;34m\u001b[0m\u001b[0m\n",
            "\u001b[0;32m/usr/lib/python3.7/threading.py\u001b[0m in \u001b[0;36mwait\u001b[0;34m(self, timeout)\u001b[0m\n\u001b[1;32m    294\u001b[0m         \u001b[0;32mtry\u001b[0m\u001b[0;34m:\u001b[0m    \u001b[0;31m# restore state no matter what (e.g., KeyboardInterrupt)\u001b[0m\u001b[0;34m\u001b[0m\u001b[0;34m\u001b[0m\u001b[0m\n\u001b[1;32m    295\u001b[0m             \u001b[0;32mif\u001b[0m \u001b[0mtimeout\u001b[0m \u001b[0;32mis\u001b[0m \u001b[0;32mNone\u001b[0m\u001b[0;34m:\u001b[0m\u001b[0;34m\u001b[0m\u001b[0;34m\u001b[0m\u001b[0m\n\u001b[0;32m--> 296\u001b[0;31m                 \u001b[0mwaiter\u001b[0m\u001b[0;34m.\u001b[0m\u001b[0macquire\u001b[0m\u001b[0;34m(\u001b[0m\u001b[0;34m)\u001b[0m\u001b[0;34m\u001b[0m\u001b[0;34m\u001b[0m\u001b[0m\n\u001b[0m\u001b[1;32m    297\u001b[0m                 \u001b[0mgotit\u001b[0m \u001b[0;34m=\u001b[0m \u001b[0;32mTrue\u001b[0m\u001b[0;34m\u001b[0m\u001b[0;34m\u001b[0m\u001b[0m\n\u001b[1;32m    298\u001b[0m             \u001b[0;32melse\u001b[0m\u001b[0;34m:\u001b[0m\u001b[0;34m\u001b[0m\u001b[0;34m\u001b[0m\u001b[0m\n",
            "\u001b[0;31mKeyboardInterrupt\u001b[0m: "
          ]
        }
      ]
    }
  ]
}