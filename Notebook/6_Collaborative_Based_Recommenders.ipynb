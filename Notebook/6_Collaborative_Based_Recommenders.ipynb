{
  "nbformat": 4,
  "nbformat_minor": 0,
  "metadata": {
    "colab": {
      "name": "6 Collaborative Based Recommenders.ipynb",
      "provenance": [],
      "toc_visible": true,
      "authorship_tag": "ABX9TyOXr7xNj/7q3iBbCfL7BvI6",
      "include_colab_link": true
    },
    "kernelspec": {
      "name": "python3",
      "display_name": "Python 3"
    },
    "language_info": {
      "name": "python"
    }
  },
  "cells": [
    {
      "cell_type": "markdown",
      "metadata": {
        "id": "view-in-github",
        "colab_type": "text"
      },
      "source": [
        "<a href=\"https://colab.research.google.com/github/villafue/Capstone_2_MovieLens/blob/main/Notebook/6_Collaborative_Based_Recommenders.ipynb\" target=\"_parent\"><img src=\"https://colab.research.google.com/assets/colab-badge.svg\" alt=\"Open In Colab\"/></a>"
      ]
    },
    {
      "cell_type": "markdown",
      "metadata": {
        "id": "a1IxRBsREbjO"
      },
      "source": [
        "# 6."
      ]
    },
    {
      "cell_type": "markdown",
      "metadata": {
        "id": "m783EMJiEjhG"
      },
      "source": [
        "<a name=\"top\"></a>\n",
        "## Collaborative Based Recommenders"
      ]
    },
    {
      "cell_type": "markdown",
      "metadata": {
        "id": "_WasouTHJILH"
      },
      "source": [
        "### Table of Contents\n",
        "\n",
        "Note: The internal links work in Google Colab.\n",
        "\n",
        "1. **[Preface](https://colab.research.google.com/github/villafue/Capstone_2_MovieLens/blob/main/MovieLens.ipynb#preface)**\n",
        "2. **[Introduction](https://colab.research.google.com/github/villafue/Capstone_2_MovieLens/blob/main/MovieLens.ipynb#introduction)**\n",
        "3. **[Exploratory Data Analysis](https://colab.research.google.com/github/villafue/Capstone_2_MovieLens/blob/main/Notebook/3_Exploratory_Data_Analysis.ipynb.ipynb#eda)**\n",
        "4. **[Framework](https://colab.research.google.com/github/villafue/Capstone_2_MovieLens/blob/main/Notebook/4_Framework.ipynb#framework)**\n",
        "5. **[Content Based Recommenders](https://colab.research.google.com/github/villafue/Capstone_2_MovieLens/blob/main/Notebook/5_Content_Based_Recommenders.ipynb#content)**\n",
        "5. **[Collaborative Based Recommenders](#collaborative)**\n",
        "    - 6.1 - [Introduction](#introduction)\n",
        "    - 6.2 - [Import Files](#import)\n",
        "    - 6.3 - [Models](#models)\n",
        "    - 6.4 - [Results](#results)"
      ]
    },
    {
      "cell_type": "markdown",
      "metadata": {
        "id": "FQY-F0vOcQb9"
      },
      "source": [
        "***"
      ]
    },
    {
      "cell_type": "markdown",
      "metadata": {
        "id": "th0Sq1sPeaIO"
      },
      "source": [
        "<a name=\"introduction\"></a>\n",
        "### 6.1 - Introduction"
      ]
    },
    {
      "cell_type": "markdown",
      "metadata": {
        "id": "QVytJyi1FPeD"
      },
      "source": [
        "In the last notebook, I ran some content-based models that recommended movies similar in attribute to like movies. Comparitvely, this notebook will try some neighborhood based (KNN) collaborative filtering. Essentially, it means finding other people like me and recommending movies they liked. Or it might mean recommending movies people watched who also watched the stuff that I liked. Either way, the idea is taking cues from people like me, my neighborhood, and recommending movies based on the things they like that I haven't seen yet. That's why it's call it collaborative filtering. It's recommending stuff based on other people's collaborative behavior. \n",
        "\n",
        "There are two types of collaborative filtering: user-based and item-based. The idea behind user-based collaborative filtering is to find other users similar to myself, based on their ratings history, and then recommend movies they liked that I haven't seen yet. Item-based collaborative filtering is essentially flipping the problem on its head. Instead of looking for other people similar to myself, and recommending stuff they liked, I instead look at the things I liked, and recommend stuff that's similar to those things.\n",
        "\n",
        "Thankfully, [surpriselib](https://surprise.readthedocs.io/en/stable/knn_inspired.html) has models I can use to run both item-based and user-based KNN collaborative recommenders. With surpriselib and Frank's framework, it's actually really easy to try a whole slew of models. Here is an example:\n",
        "\n",
        "```\n",
        "# User-based KNN - cosine\n",
        "UserKNNcosine = KNNBasic(sim_options = {'name': 'cosine', 'user_based': True})\n",
        "evaluator.AddAlgorithm(UserKNNcosine, \"User KNN cosine\")\n",
        "```\n",
        "`name` denotes the type of similarity measure. `user_based : True` essentially tells the model that it is a user-based filter. Setting it to `False` means it is an item-based filter. \n",
        " \n",
        "Here is a quick recap on the different similarity measures. Cosine similarity is a good jack of all trades. It's almost always a reasonable thing to start with. Adjusted cosine and Pearson are two different terms for basically the same thing, and it's essentially mean centered cosine similarities. It works in average rating behavior across all of the user's item ratings, or the average ratings of an item across all users. It all depends on which way I flip it, and the main idea is to deal with unusual rating behavior that deviates from the mean. \n",
        " \n",
        "Spearman rank correlation is the same idea as Pearson but using rankings instead of raw ratings. MSD is mean squared difference.\n",
        "\n",
        "Because it is relatively to code the different models, I'll run a bunch of them.\n",
        " \n",
        "\n",
        " \n",
        " \n",
        " \n",
        " \n",
        " \n",
        " \n",
        " \n",
        " \n",
        " \n",
        " \n"
      ]
    },
    {
      "cell_type": "markdown",
      "metadata": {
        "id": "v9wkWFNcjaI1"
      },
      "source": [
        "***"
      ]
    },
    {
      "cell_type": "markdown",
      "metadata": {
        "id": "mR-icWtwghny"
      },
      "source": [
        "**[Back to Top](#top)**"
      ]
    },
    {
      "cell_type": "markdown",
      "metadata": {
        "id": "y3yEzvV4qkNQ"
      },
      "source": [
        "***"
      ]
    },
    {
      "cell_type": "markdown",
      "metadata": {
        "id": "8t_MhylhYoDc"
      },
      "source": [
        "<a name=\"import\"></a>\n",
        "### 6.2 - Import Files"
      ]
    },
    {
      "cell_type": "code",
      "metadata": {
        "id": "Z9No6_FfKah0",
        "colab": {
          "base_uri": "https://localhost:8080/"
        },
        "outputId": "fb1a50ac-b745-4e29-c956-5550c0fbbb9d"
      },
      "source": [
        "import os\n",
        "os.mkdir('/content/collaborative')\n",
        "print('Folder created!')\n",
        "os.chdir('/content/collaborative')\n",
        "print('Folder ready for upload!')"
      ],
      "execution_count": 1,
      "outputs": [
        {
          "output_type": "stream",
          "text": [
            "Folder created!\n",
            "Folder ready for upload!\n"
          ],
          "name": "stdout"
        }
      ]
    },
    {
      "cell_type": "code",
      "metadata": {
        "colab": {
          "base_uri": "https://localhost:8080/"
        },
        "id": "G6brgN2fOVur",
        "outputId": "2467f0e6-ef95-48e8-ccb8-0ff6147c92e2"
      },
      "source": [
        "pip install scikit-surprise"
      ],
      "execution_count": 5,
      "outputs": [
        {
          "output_type": "stream",
          "text": [
            "Collecting scikit-surprise\n",
            "\u001b[?25l  Downloading https://files.pythonhosted.org/packages/97/37/5d334adaf5ddd65da99fc65f6507e0e4599d092ba048f4302fe8775619e8/scikit-surprise-1.1.1.tar.gz (11.8MB)\n",
            "\u001b[K     |████████████████████████████████| 11.8MB 11.3MB/s \n",
            "\u001b[?25hRequirement already satisfied: joblib>=0.11 in /usr/local/lib/python3.7/dist-packages (from scikit-surprise) (1.0.1)\n",
            "Requirement already satisfied: numpy>=1.11.2 in /usr/local/lib/python3.7/dist-packages (from scikit-surprise) (1.19.5)\n",
            "Requirement already satisfied: scipy>=1.0.0 in /usr/local/lib/python3.7/dist-packages (from scikit-surprise) (1.4.1)\n",
            "Requirement already satisfied: six>=1.10.0 in /usr/local/lib/python3.7/dist-packages (from scikit-surprise) (1.15.0)\n",
            "Building wheels for collected packages: scikit-surprise\n",
            "  Building wheel for scikit-surprise (setup.py) ... \u001b[?25l\u001b[?25hdone\n",
            "  Created wheel for scikit-surprise: filename=scikit_surprise-1.1.1-cp37-cp37m-linux_x86_64.whl size=1617563 sha256=a77fcb96a5626faf80213e8f000ea2faf1a4fc3d772660160c754aacb2a205ef\n",
            "  Stored in directory: /root/.cache/pip/wheels/78/9c/3d/41b419c9d2aff5b6e2b4c0fc8d25c538202834058f9ed110d0\n",
            "Successfully built scikit-surprise\n",
            "Installing collected packages: scikit-surprise\n",
            "Successfully installed scikit-surprise-1.1.1\n"
          ],
          "name": "stdout"
        }
      ]
    },
    {
      "cell_type": "code",
      "metadata": {
        "id": "mUOHw7PtK4oZ",
        "colab": {
          "base_uri": "https://localhost:8080/"
        },
        "outputId": "5af6dd19-7ce6-4f73-f9dd-838502928a40"
      },
      "source": [
        "print(\"Loading Framework...\")\n",
        "!python \"MovieLens.py\"\n",
        "print('1 of 5: Done')\n",
        "!python \"RecommenderMetrics.py\"\n",
        "print('2 of 5: Done')\n",
        "!python \"EvaluationData.py\"\n",
        "print('3 of 5: Done')\n",
        "!python \"EvaluatedAlgorithm.py\"\n",
        "print('4 of 5: Done')\n",
        "!python \"Evaluator.py\"\n",
        "print('5 of 5: Core Framework Loaded!')"
      ],
      "execution_count": 6,
      "outputs": [
        {
          "output_type": "stream",
          "text": [
            "Loading Framework...\n",
            "1 of 5: Done\n",
            "2 of 5: Done\n",
            "3 of 5: Done\n",
            "4 of 5: Done\n",
            "5 of 5: Core Framework Loaded!\n"
          ],
          "name": "stdout"
        }
      ]
    },
    {
      "cell_type": "markdown",
      "metadata": {
        "id": "2-P2KGFW21ZM"
      },
      "source": [
        "***"
      ]
    },
    {
      "cell_type": "markdown",
      "metadata": {
        "id": "-Sd71lIlPODP"
      },
      "source": [
        "**[Back to Top](#top)**"
      ]
    },
    {
      "cell_type": "markdown",
      "metadata": {
        "id": "dgLdnNQKPODQ"
      },
      "source": [
        "***"
      ]
    },
    {
      "cell_type": "markdown",
      "metadata": {
        "id": "JB7P6rUWPODQ"
      },
      "source": [
        "<a name=\"models\"></a>\n",
        "### 6.3 - Models"
      ]
    },
    {
      "cell_type": "markdown",
      "metadata": {
        "id": "pCM-igI_PeB9"
      },
      "source": [
        "I ran all the item and user-based models at the same time. I used different similarity metrics and KNN techniques. All of them are available from [Surpriselib](https://surprise.readthedocs.io/en/stable/knn_inspired.html). The python scripts I used are available [here](https://github.com/villafue/Capstone_2_MovieLens/tree/main/Python%20Scripts/CollaborativeBased/CollaborativeFilteringWorked)."
      ]
    },
    {
      "cell_type": "code",
      "metadata": {
        "id": "O_htMiudIJXS",
        "colab": {
          "base_uri": "https://localhost:8080/"
        },
        "outputId": "e5f6f9de-7094-4630-87d5-1e73713acb5d"
      },
      "source": [
        "# -*- coding: utf-8 -*-\n",
        "\"\"\"\n",
        "Created on Thu May  3 11:11:13 2018\n",
        "\n",
        "@author: Frank\n",
        "\"\"\"\n",
        "\n",
        "from MovieLens import MovieLens\n",
        "from surprise import KNNBasic\n",
        "from surprise import KNNWithZScore\n",
        "from surprise import KNNWithMeans\n",
        "from surprise import KNNBaseline\n",
        "from surprise import NormalPredictor\n",
        "from Evaluator import Evaluator\n",
        "\n",
        "import random\n",
        "import numpy as np\n",
        "\n",
        "def LoadMovieLensData():\n",
        "    ml = MovieLens()\n",
        "    print(\"Loading movie ratings...\")\n",
        "    data = ml.loadMovieLensLatestSmall()\n",
        "    print(\"\\nComputing movie popularity ranks so we can measure novelty later...\")\n",
        "    rankings = ml.getPopularityRanks()\n",
        "    return (ml, data, rankings)\n",
        "\n",
        "np.random.seed(29)\n",
        "random.seed(29)\n",
        "\n",
        "# Load up common data set for the recommender algorithms\n",
        "(ml, evaluationData, rankings) = LoadMovieLensData()\n",
        "\n",
        "# Construct an Evaluator to, you know, evaluate them\n",
        "evaluator = Evaluator(evaluationData, rankings)\n",
        "\n",
        "# User-based KNN - cosine\n",
        "UserKNNcosine = KNNBasic(sim_options = {'name': 'cosine', 'user_based': True})\n",
        "evaluator.AddAlgorithm(UserKNNcosine, \"User KNN cosine\")\n",
        "\n",
        "# User-based KNN - msd\n",
        "UserKNNmsd = KNNBasic(sim_options = {'name': 'msd', 'user_based': True})\n",
        "evaluator.AddAlgorithm(UserKNNmsd, \"User KNN msd\")\n",
        "\n",
        "# User-based KNN - pearson\n",
        "UserKNNpearson = KNNBasic(sim_options = {'name': 'pearson', 'user_based': True})\n",
        "evaluator.AddAlgorithm(UserKNNpearson, \"User KNN pearson\")\n",
        "\n",
        "# User-based KNN - pearson_baseline\n",
        "UserKNNpb = KNNBasic(sim_options = {'name': 'pearson_baseline', 'user_based': True})\n",
        "evaluator.AddAlgorithm(UserKNNpb, \"User KNN pearson_basline\")\n",
        "\n",
        "# User-based KNNZScore \n",
        "UserKNNzscore = KNNWithZScore(sim_options = {'name': 'cosine', 'user_based': True})\n",
        "evaluator.AddAlgorithm(UserKNNzscore, \"User KNNZScore\")\n",
        "\n",
        "# User-based KNNMeans\n",
        "UserKNNmeans = KNNWithMeans(sim_options = {'name': 'cosine', 'user_based': True})\n",
        "evaluator.AddAlgorithm(UserKNNmeans, \"User KNNMeans\")\n",
        "\n",
        "# User-based KNNBaseline\n",
        "UserKNNbline = KNNBaseline(sim_options = {'name': 'cosine', 'user_based': True})\n",
        "evaluator.AddAlgorithm(UserKNNbline, \"User KNNZBaseline\")\n",
        "\n",
        "# Item-based KNN - cosine\n",
        "ItemKNNcosine = KNNBasic(sim_options = {'name': 'cosine', 'user_based': False})\n",
        "evaluator.AddAlgorithm(ItemKNNcosine, \"Item KNN cosine\")\n",
        "\n",
        "# Item-based KNN - msd\n",
        "ItemKNNmsd = KNNBasic(sim_options = {'name': 'msd', 'user_based': False})\n",
        "evaluator.AddAlgorithm(ItemKNNmsd, \"Item KNN msd\")\n",
        "\n",
        "# Item-based KNN - pearson\n",
        "ItemKNNpearson = KNNBasic(sim_options = {'name': 'pearson', 'user_based': False})\n",
        "evaluator.AddAlgorithm(ItemKNNpearson, \"Item KNN pearson\")\n",
        "\n",
        "# Item-based KNN - pearson_baseline\n",
        "ItemKNNpb = KNNBasic(sim_options = {'name': 'pearson_baseline', 'user_based': False})\n",
        "evaluator.AddAlgorithm(ItemKNNpb, \"Item KNN pearson_basline\")\n",
        "\n",
        "# Item-based KNNZScore \n",
        "ItemKNNzscore = KNNWithZScore(sim_options = {'name': 'cosine', 'user_based': False})\n",
        "evaluator.AddAlgorithm(ItemKNNzscore, \"Item KNNZScore\")\n",
        "\n",
        "# Item-based KNNMeans\n",
        "ItemKNNmeans = KNNWithMeans(sim_options = {'name': 'cosine', 'user_based': False})\n",
        "evaluator.AddAlgorithm(ItemKNNmeans, \"Item KNNMeans\")\n",
        "\n",
        "# Item-based KNNBaseline\n",
        "ItemKNNbline = KNNBaseline(sim_options = {'name': 'cosine', 'user_based': False})\n",
        "evaluator.AddAlgorithm(ItemKNNbline, \"Item KNNZBaseline\")\n",
        "\n",
        "\n",
        "# Just make random recommendations\n",
        "Random = NormalPredictor()\n",
        "evaluator.AddAlgorithm(Random, \"Random\")\n",
        "\n",
        "# Fight!\n",
        "evaluator.Evaluate(True)\n",
        "\n",
        "evaluator.SampleTopNRecs(ml)\n"
      ],
      "execution_count": null,
      "outputs": [
        {
          "output_type": "stream",
          "text": [
            "Loading movie ratings...\n",
            "\n",
            "Computing movie popularity ranks so we can measure novelty later...\n",
            "Estimating biases using als...\n",
            "Computing the cosine similarity matrix...\n",
            "Done computing similarity matrix.\n",
            "Evaluating  User KNN cosine ...\n",
            "Evaluating accuracy...\n",
            "Computing the cosine similarity matrix...\n",
            "Done computing similarity matrix.\n",
            "Evaluating top-N with leave-one-out...\n",
            "Computing the cosine similarity matrix...\n",
            "Done computing similarity matrix.\n",
            "Computing hit-rate and rank metrics...\n",
            "Computing recommendations with full data set...\n",
            "Computing the cosine similarity matrix...\n",
            "Done computing similarity matrix.\n",
            "Analyzing coverage, diversity, and novelty...\n",
            "Computing the cosine similarity matrix...\n",
            "Done computing similarity matrix.\n",
            "Analysis complete.\n",
            "Evaluating  User KNN msd ...\n",
            "Evaluating accuracy...\n",
            "Computing the msd similarity matrix...\n",
            "Done computing similarity matrix.\n",
            "Evaluating top-N with leave-one-out...\n",
            "Computing the msd similarity matrix...\n",
            "Done computing similarity matrix.\n",
            "Computing hit-rate and rank metrics...\n",
            "Computing recommendations with full data set...\n",
            "Computing the msd similarity matrix...\n",
            "Done computing similarity matrix.\n",
            "Analyzing coverage, diversity, and novelty...\n",
            "Computing the cosine similarity matrix...\n",
            "Done computing similarity matrix.\n",
            "Analysis complete.\n",
            "Evaluating  User KNN pearson ...\n",
            "Evaluating accuracy...\n",
            "Computing the pearson similarity matrix...\n",
            "Done computing similarity matrix.\n",
            "Evaluating top-N with leave-one-out...\n",
            "Computing the pearson similarity matrix...\n",
            "Done computing similarity matrix.\n",
            "Computing hit-rate and rank metrics...\n",
            "Computing recommendations with full data set...\n",
            "Computing the pearson similarity matrix...\n",
            "Done computing similarity matrix.\n",
            "Analyzing coverage, diversity, and novelty...\n",
            "Computing the cosine similarity matrix...\n",
            "Done computing similarity matrix.\n",
            "Analysis complete.\n",
            "Evaluating  User KNN pearson_basline ...\n",
            "Evaluating accuracy...\n",
            "Estimating biases using als...\n",
            "Computing the pearson_baseline similarity matrix...\n",
            "Done computing similarity matrix.\n",
            "Evaluating top-N with leave-one-out...\n",
            "Estimating biases using als...\n",
            "Computing the pearson_baseline similarity matrix...\n",
            "Done computing similarity matrix.\n",
            "Computing hit-rate and rank metrics...\n",
            "Computing recommendations with full data set...\n",
            "Estimating biases using als...\n",
            "Computing the pearson_baseline similarity matrix...\n",
            "Done computing similarity matrix.\n",
            "Analyzing coverage, diversity, and novelty...\n",
            "Computing the cosine similarity matrix...\n",
            "Done computing similarity matrix.\n",
            "Analysis complete.\n",
            "Evaluating  User KNNZScore ...\n",
            "Evaluating accuracy...\n",
            "Computing the cosine similarity matrix...\n",
            "Done computing similarity matrix.\n",
            "Evaluating top-N with leave-one-out...\n",
            "Computing the cosine similarity matrix...\n",
            "Done computing similarity matrix.\n",
            "Computing hit-rate and rank metrics...\n",
            "Computing recommendations with full data set...\n",
            "Computing the cosine similarity matrix...\n",
            "Done computing similarity matrix.\n",
            "Analyzing coverage, diversity, and novelty...\n",
            "Computing the cosine similarity matrix...\n",
            "Done computing similarity matrix.\n",
            "Analysis complete.\n",
            "Evaluating  User KNNMeans ...\n",
            "Evaluating accuracy...\n",
            "Computing the cosine similarity matrix...\n",
            "Done computing similarity matrix.\n",
            "Evaluating top-N with leave-one-out...\n",
            "Computing the cosine similarity matrix...\n",
            "Done computing similarity matrix.\n",
            "Computing hit-rate and rank metrics...\n",
            "Computing recommendations with full data set...\n",
            "Computing the cosine similarity matrix...\n",
            "Done computing similarity matrix.\n",
            "Analyzing coverage, diversity, and novelty...\n",
            "Computing the cosine similarity matrix...\n",
            "Done computing similarity matrix.\n",
            "Analysis complete.\n",
            "Evaluating  User KNNZBaseline ...\n",
            "Evaluating accuracy...\n",
            "Estimating biases using als...\n",
            "Computing the cosine similarity matrix...\n",
            "Done computing similarity matrix.\n",
            "Evaluating top-N with leave-one-out...\n",
            "Estimating biases using als...\n",
            "Computing the cosine similarity matrix...\n",
            "Done computing similarity matrix.\n",
            "Computing hit-rate and rank metrics...\n",
            "Computing recommendations with full data set...\n",
            "Estimating biases using als...\n",
            "Computing the cosine similarity matrix...\n",
            "Done computing similarity matrix.\n",
            "Analyzing coverage, diversity, and novelty...\n",
            "Computing the cosine similarity matrix...\n",
            "Done computing similarity matrix.\n",
            "Analysis complete.\n",
            "Evaluating  Item KNN cosine ...\n",
            "Evaluating accuracy...\n",
            "Computing the cosine similarity matrix...\n",
            "Done computing similarity matrix.\n",
            "Evaluating top-N with leave-one-out...\n",
            "Computing the cosine similarity matrix...\n",
            "Done computing similarity matrix.\n",
            "Computing hit-rate and rank metrics...\n",
            "Computing recommendations with full data set...\n",
            "Computing the cosine similarity matrix...\n",
            "Done computing similarity matrix.\n",
            "Analyzing coverage, diversity, and novelty...\n",
            "Computing the cosine similarity matrix...\n",
            "Done computing similarity matrix.\n",
            "Analysis complete.\n",
            "Evaluating  Item KNN msd ...\n",
            "Evaluating accuracy...\n",
            "Computing the msd similarity matrix...\n",
            "Done computing similarity matrix.\n",
            "Evaluating top-N with leave-one-out...\n",
            "Computing the msd similarity matrix...\n",
            "Done computing similarity matrix.\n",
            "Computing hit-rate and rank metrics...\n",
            "Computing recommendations with full data set...\n",
            "Computing the msd similarity matrix...\n",
            "Done computing similarity matrix.\n",
            "Analyzing coverage, diversity, and novelty...\n",
            "Computing the cosine similarity matrix...\n",
            "Done computing similarity matrix.\n",
            "Analysis complete.\n",
            "Evaluating  Item KNN pearson ...\n",
            "Evaluating accuracy...\n",
            "Computing the pearson similarity matrix...\n",
            "Done computing similarity matrix.\n",
            "Evaluating top-N with leave-one-out...\n",
            "Computing the pearson similarity matrix...\n",
            "Done computing similarity matrix.\n",
            "Computing hit-rate and rank metrics...\n",
            "Computing recommendations with full data set...\n",
            "Computing the pearson similarity matrix...\n",
            "Done computing similarity matrix.\n",
            "Analyzing coverage, diversity, and novelty...\n",
            "Computing the cosine similarity matrix...\n",
            "Done computing similarity matrix.\n",
            "Analysis complete.\n",
            "Evaluating  Item KNN pearson_basline ...\n",
            "Evaluating accuracy...\n",
            "Estimating biases using als...\n",
            "Computing the pearson_baseline similarity matrix...\n",
            "Done computing similarity matrix.\n",
            "Evaluating top-N with leave-one-out...\n",
            "Estimating biases using als...\n",
            "Computing the pearson_baseline similarity matrix...\n",
            "Done computing similarity matrix.\n",
            "Computing hit-rate and rank metrics...\n",
            "Computing recommendations with full data set...\n",
            "Estimating biases using als...\n",
            "Computing the pearson_baseline similarity matrix...\n",
            "Done computing similarity matrix.\n",
            "Analyzing coverage, diversity, and novelty...\n",
            "Computing the cosine similarity matrix...\n",
            "Done computing similarity matrix.\n",
            "Analysis complete.\n",
            "Evaluating  Item KNNZScore ...\n",
            "Evaluating accuracy...\n",
            "Computing the cosine similarity matrix...\n",
            "Done computing similarity matrix.\n",
            "Evaluating top-N with leave-one-out...\n",
            "Computing the cosine similarity matrix...\n",
            "Done computing similarity matrix.\n",
            "Computing hit-rate and rank metrics...\n",
            "Computing recommendations with full data set...\n",
            "Computing the cosine similarity matrix...\n",
            "Done computing similarity matrix.\n",
            "Analyzing coverage, diversity, and novelty...\n",
            "Computing the cosine similarity matrix...\n",
            "Done computing similarity matrix.\n",
            "Analysis complete.\n",
            "Evaluating  Item KNNMeans ...\n",
            "Evaluating accuracy...\n",
            "Computing the cosine similarity matrix...\n",
            "Done computing similarity matrix.\n",
            "Evaluating top-N with leave-one-out...\n",
            "Computing the cosine similarity matrix...\n",
            "Done computing similarity matrix.\n",
            "Computing hit-rate and rank metrics...\n",
            "Computing recommendations with full data set...\n",
            "Computing the cosine similarity matrix...\n",
            "Done computing similarity matrix.\n",
            "Analyzing coverage, diversity, and novelty...\n",
            "Computing the cosine similarity matrix...\n",
            "Done computing similarity matrix.\n",
            "Analysis complete.\n",
            "Evaluating  Item KNNZBaseline ...\n",
            "Evaluating accuracy...\n",
            "Estimating biases using als...\n",
            "Computing the cosine similarity matrix...\n",
            "Done computing similarity matrix.\n",
            "Evaluating top-N with leave-one-out...\n",
            "Estimating biases using als...\n",
            "Computing the cosine similarity matrix...\n",
            "Done computing similarity matrix.\n",
            "Computing hit-rate and rank metrics...\n",
            "Computing recommendations with full data set...\n",
            "Estimating biases using als...\n",
            "Computing the cosine similarity matrix...\n",
            "Done computing similarity matrix.\n",
            "Analyzing coverage, diversity, and novelty...\n",
            "Computing the cosine similarity matrix...\n",
            "Done computing similarity matrix.\n",
            "Analysis complete.\n",
            "Evaluating  Random ...\n",
            "Evaluating accuracy...\n",
            "Evaluating top-N with leave-one-out...\n",
            "Computing hit-rate and rank metrics...\n",
            "Computing recommendations with full data set...\n",
            "Analyzing coverage, diversity, and novelty...\n",
            "Computing the cosine similarity matrix...\n",
            "Done computing similarity matrix.\n",
            "Analysis complete.\n",
            "\n",
            "\n",
            "Algorithm  RMSE       MAE        HR         cHR        ARHR       Coverage   Diversity  Novelty   \n",
            "User KNN cosine 0.9787     0.7547     0.0000     0.0000     0.0000     1.0000     0.8882     6126.9782 \n",
            "User KNN msd 0.9554     0.7330     0.0000     0.0000     0.0000     1.0000     0.8853     6119.0357 \n",
            "User KNN pearson 0.9802     0.7558     0.0000     0.0000     0.0000     0.9984     0.8299     4877.7677 \n",
            "User KNN pearson_basline 0.9827     0.7560     0.0000     0.0000     0.0000     1.0000     0.7412     4014.1784 \n",
            "User KNNZScore 0.9048     0.6867     0.0049     0.0049     0.0023     0.9951     0.5826     6121.5700 \n",
            "User KNNMeans 0.9066     0.6931     0.0016     0.0016     0.0002     0.9984     0.7363     5953.5645 \n",
            "User KNNZBaseline 0.8845     0.6768     0.0000     0.0000     0.0000     1.0000     0.8228     6256.0928 \n",
            "Item KNN cosine 0.9788     0.7610     0.0000     0.0000     0.0000     0.9885     0.7204     6933.1300 \n",
            "Item KNN msd 0.9149     0.7031     0.0000     0.0000     0.0000     0.9918     0.7368     6969.8043 \n",
            "Item KNN pearson 0.9755     0.7550     0.0000     0.0000     0.0000     0.9984     0.7737     4432.8886 \n",
            "Item KNN pearson_basline 0.9248     0.7002     0.0000     0.0000     0.0000     0.9984     0.7734     4649.0240 \n",
            "Item KNNZScore 0.9155     0.6973     0.0016     0.0016     0.0003     1.0000     0.7944     6107.1179 \n",
            "Item KNNMeans 0.9087     0.6939     0.0000     0.0000     0.0000     1.0000     0.7878     5792.4466 \n",
            "Item KNNZBaseline 0.8931     0.6866     0.0246     0.0246     0.0094     0.9525     0.5054     4512.4656 \n",
            "Random     1.4206     1.1336     0.0180     0.0180     0.0072     1.0000     0.0522     854.7062  \n",
            "\n",
            "Legend:\n",
            "\n",
            "RMSE:      Root Mean Squared Error. Lower values mean better accuracy.\n",
            "MAE:       Mean Absolute Error. Lower values mean better accuracy.\n",
            "HR:        Hit Rate; how often we are able to recommend a left-out rating. Higher is better.\n",
            "cHR:       Cumulative Hit Rate; hit rate, confined to ratings above a certain threshold. Higher is better.\n",
            "ARHR:      Average Reciprocal Hit Rank - Hit rate that takes the ranking into account. Higher is better.\n",
            "Coverage:  Ratio of users for whom recommendations above a certain threshold exist. Higher is better.\n",
            "Diversity: 1-S, where S is the average similarity score between every possible pair of recommendations\n",
            "           for a given user. Higher means more diverse.\n",
            "Novelty:   Average popularity rank of recommended items. Higher means more novel.\n",
            "\n",
            "Using recommender  User KNN cosine\n",
            "\n",
            "Building recommendation model...\n",
            "Computing the cosine similarity matrix...\n",
            "Done computing similarity matrix.\n",
            "Computing recommendations...\n",
            "\n",
            "We recommend:\n",
            "The Jinx: The Life and Deaths of Robert Durst (2015) 5\n",
            "Galaxy of Terror (Quest) (1981) 5\n",
            "Android (1982) 5\n",
            "Alien Contamination (1980) 5\n",
            "I'm the One That I Want (2000) 5\n",
            "Elling (2001) 5\n",
            "Lesson Faust (1994) 5\n",
            "Assignment, The (1997) 5\n",
            "Mephisto (1981) 5\n",
            "Black Mirror 5\n",
            "\n",
            "Using recommender  User KNN msd\n",
            "\n",
            "Building recommendation model...\n",
            "Computing the msd similarity matrix...\n",
            "Done computing similarity matrix.\n",
            "Computing recommendations...\n",
            "\n",
            "We recommend:\n",
            "The Jinx: The Life and Deaths of Robert Durst (2015) 5\n",
            "Galaxy of Terror (Quest) (1981) 5\n",
            "Android (1982) 5\n",
            "Alien Contamination (1980) 5\n",
            "I'm the One That I Want (2000) 5\n",
            "Elling (2001) 5\n",
            "Lesson Faust (1994) 5\n",
            "Assignment, The (1997) 5\n",
            "Mephisto (1981) 5\n",
            "Black Mirror 5\n",
            "\n",
            "Using recommender  User KNN pearson\n",
            "\n",
            "Building recommendation model...\n",
            "Computing the pearson similarity matrix...\n",
            "Done computing similarity matrix.\n",
            "Computing recommendations...\n",
            "\n",
            "We recommend:\n",
            "Beautiful Thing (1996) 5\n",
            "I'm the One That I Want (2000) 5\n",
            "Man from Earth, The (2007) 5\n",
            "It's My Party (1996) 5\n",
            "Secret in Their Eyes, The (El secreto de sus ojos) (2009) 5\n",
            "Conformist, The (Conformista, Il) (1970) 5\n",
            "Safety Last! (1923) 5\n",
            "Holy Mountain, The (MontaÃ±a sagrada, La) (1973) 5\n",
            "Band of Brothers (2001) 5\n",
            "Lesson Faust (1994) 5\n",
            "\n",
            "Using recommender  User KNN pearson_basline\n",
            "\n",
            "Building recommendation model...\n",
            "Estimating biases using als...\n",
            "Computing the pearson_baseline similarity matrix...\n",
            "Done computing similarity matrix.\n",
            "Computing recommendations...\n",
            "\n",
            "We recommend:\n",
            "Beautiful Thing (1996) 5\n",
            "I'm the One That I Want (2000) 5\n",
            "Local Hero (1983) 5\n",
            "Something Wicked This Way Comes (1983) 5\n",
            "Meatballs (1979) 5\n",
            "Deadpool 2 (2018) 5\n",
            "Fresh (1994) 5\n",
            "Once (2006) 5\n",
            "Elite Squad (Tropa de Elite) (2007) 5\n",
            "Man from Earth, The (2007) 5\n",
            "\n",
            "Using recommender  User KNNZScore\n",
            "\n",
            "Building recommendation model...\n",
            "Computing the cosine similarity matrix...\n",
            "Done computing similarity matrix.\n",
            "Computing recommendations...\n",
            "\n",
            "We recommend:\n",
            "The Jinx: The Life and Deaths of Robert Durst (2015) 5\n",
            "Galaxy of Terror (Quest) (1981) 5\n",
            "Looker (1981) 5\n",
            "Android (1982) 5\n",
            "Alien Contamination (1980) 5\n",
            "Master of the Flying Guillotine (Du bi quan wang da po xue di zi) (1975) 5\n",
            "I'm the One That I Want (2000) 5\n",
            "Party Girl (1995) 5\n",
            "Elling (2001) 5\n",
            "Flickering Lights (Blinkende lygter) (2000) 5\n",
            "\n",
            "Using recommender  User KNNMeans\n",
            "\n",
            "Building recommendation model...\n",
            "Computing the cosine similarity matrix...\n",
            "Done computing similarity matrix.\n",
            "Computing recommendations...\n",
            "\n",
            "We recommend:\n",
            "Galaxy of Terror (Quest) (1981) 5\n",
            "Looker (1981) 5\n",
            "Android (1982) 5\n",
            "Alien Contamination (1980) 5\n",
            "Master of the Flying Guillotine (Du bi quan wang da po xue di zi) (1975) 5\n",
            "I'm the One That I Want (2000) 5\n",
            "Party Girl (1995) 5\n",
            "Candleshoe (1977) 5\n",
            "Oxygen (1999) 5\n",
            "Visitor, The (2007) 5\n",
            "\n",
            "Using recommender  User KNNZBaseline\n",
            "\n",
            "Building recommendation model...\n",
            "Estimating biases using als...\n",
            "Computing the cosine similarity matrix...\n",
            "Done computing similarity matrix.\n",
            "Computing recommendations...\n",
            "\n",
            "We recommend:\n",
            "Galaxy of Terror (Quest) (1981) 5\n",
            "Looker (1981) 5\n",
            "Android (1982) 5\n",
            "Alien Contamination (1980) 5\n",
            "Master of the Flying Guillotine (Du bi quan wang da po xue di zi) (1975) 5\n",
            "I'm the One That I Want (2000) 5\n",
            "Visitor, The (2007) 5\n",
            "Frozen River (2008) 5\n",
            "Holy Mountain, The (MontaÃ±a sagrada, La) (1973) 5\n",
            "Dylan Moran: Monster (2004) 5\n",
            "\n",
            "Using recommender  Item KNN cosine\n",
            "\n",
            "Building recommendation model...\n",
            "Computing the cosine similarity matrix...\n",
            "Done computing similarity matrix.\n",
            "Computing recommendations...\n",
            "\n",
            "We recommend:\n",
            "Best Men (1997) 5\n",
            "Galaxy of Terror (Quest) (1981) 5\n",
            "Looker (1981) 5\n",
            "Android (1982) 5\n",
            "Alien Contamination (1980) 5\n",
            "Master of the Flying Guillotine (Du bi quan wang da po xue di zi) (1975) 5\n",
            "Priceless (Hors de prix) (2006) 5\n",
            "Lassie (1994) 5\n",
            "Act of Valor (2012) 5\n",
            "Honey (2003) 5\n",
            "\n",
            "Using recommender  Item KNN msd\n",
            "\n",
            "Building recommendation model...\n",
            "Computing the msd similarity matrix...\n",
            "Done computing similarity matrix.\n",
            "Computing recommendations...\n",
            "\n",
            "We recommend:\n",
            "Best Men (1997) 5\n",
            "Galaxy of Terror (Quest) (1981) 5\n",
            "Looker (1981) 5\n",
            "Android (1982) 5\n",
            "Alien Contamination (1980) 5\n",
            "Master of the Flying Guillotine (Du bi quan wang da po xue di zi) (1975) 5\n",
            "Priceless (Hors de prix) (2006) 5\n",
            "Lassie (1994) 5\n",
            "Act of Valor (2012) 5\n",
            "Honey (2003) 5\n",
            "\n",
            "Using recommender  Item KNN pearson\n",
            "\n",
            "Building recommendation model...\n",
            "Computing the pearson similarity matrix...\n",
            "Done computing similarity matrix.\n",
            "Computing recommendations...\n",
            "\n",
            "We recommend:\n",
            "Newton Boys, The (1998) 5\n",
            "Piranha (1978) 5\n",
            "Snow Dogs (2002) 5\n",
            "Nights of Cabiria (Notti di Cabiria, Le) (1957) 5\n",
            "Divided We Fall (MusÃ­me si pomÃ¡hat) (2000) 5\n",
            "Now and Then (1995) 5\n",
            "Big Green, The (1995) 5\n",
            "Eye for an Eye (1996) 5\n",
            "Before and After (1996) 5\n",
            "Mad Love (1995) 5\n",
            "\n",
            "Using recommender  Item KNN pearson_basline\n",
            "\n",
            "Building recommendation model...\n",
            "Estimating biases using als...\n",
            "Computing the pearson_baseline similarity matrix...\n",
            "Done computing similarity matrix.\n",
            "Computing recommendations...\n",
            "\n",
            "We recommend:\n",
            "Great Mouse Detective, The (1986) 5\n",
            "Under the Sand (2000) 5\n",
            "Eye for an Eye (1996) 5\n",
            "Mr. Wrong (1996) 5\n",
            "Mad Love (1995) 5\n",
            "Only You (1994) 5\n",
            "Speechless (1994) 5\n",
            "Getting Even with Dad (1994) 5\n",
            "Simple Twist of Fate, A (1994) 5\n",
            "Homeward Bound II: Lost in San Francisco (1996) 5\n",
            "\n",
            "Using recommender  Item KNNZScore\n",
            "\n",
            "Building recommendation model...\n",
            "Computing the cosine similarity matrix...\n",
            "Done computing similarity matrix.\n",
            "Computing recommendations...\n",
            "\n",
            "We recommend:\n",
            "Galaxy of Terror (Quest) (1981) 5\n",
            "Looker (1981) 5\n",
            "Alien Contamination (1980) 5\n",
            "Master of the Flying Guillotine (Du bi quan wang da po xue di zi) (1975) 5\n",
            "I'm the One That I Want (2000) 5\n",
            "Story of Women (Affaire de femmes, Une) (1988) 5\n",
            "Passenger, The (Professione: reporter) (1975) 5\n",
            "Marriage of Maria Braun, The (Ehe der Maria Braun, Die) (1979) 5\n",
            "Siam Sunset (1999) 5\n",
            "Little Murders (1971) 5\n",
            "\n",
            "Using recommender  Item KNNMeans\n",
            "\n",
            "Building recommendation model...\n",
            "Computing the cosine similarity matrix...\n",
            "Done computing similarity matrix.\n",
            "Computing recommendations...\n",
            "\n",
            "We recommend:\n",
            "Galaxy of Terror (Quest) (1981) 5\n",
            "Looker (1981) 5\n",
            "Android (1982) 5\n",
            "Alien Contamination (1980) 5\n",
            "Master of the Flying Guillotine (Du bi quan wang da po xue di zi) (1975) 5\n",
            "Elling (2001) 5\n",
            "Priceless (Hors de prix) (2006) 5\n",
            "Story of Women (Affaire de femmes, Une) (1988) 5\n",
            "Passenger, The (Professione: reporter) (1975) 5\n",
            "Marriage of Maria Braun, The (Ehe der Maria Braun, Die) (1979) 5\n",
            "\n",
            "Using recommender  Item KNNZBaseline\n",
            "\n",
            "Building recommendation model...\n",
            "Estimating biases using als...\n",
            "Computing the cosine similarity matrix...\n",
            "Done computing similarity matrix.\n",
            "Computing recommendations...\n",
            "\n",
            "We recommend:\n",
            "Awfully Big Adventure, An (1995) 4.925100503405479\n",
            "What Happened Was... (1994) 4.925100503405479\n",
            "Alice (2009) 4.869229031846505\n",
            "Librarian: Quest for the Spear, The (2004) 4.840694735562784\n",
            "Librarian, The: The Curse of the Judas Chalice (2008) 4.840694735562784\n",
            "FairyTale: A True Story (1997) 4.82377448639196\n",
            "Dead Like Me: Life After Death (2009) 4.82377448639196\n",
            "Librarian: Return to King Solomon's Mines, The (2006) 4.799028068896117\n",
            "Merlin (1998) 4.778319940937414\n",
            "Last Legion, The (2007) 4.778319940937414\n",
            "\n",
            "Using recommender  Random\n",
            "\n",
            "Building recommendation model...\n",
            "Computing recommendations...\n",
            "\n",
            "We recommend:\n",
            "Mrs. Doubtfire (1993) 5\n",
            "Tombstone (1993) 5\n",
            "Batman (1989) 5\n",
            "Rock, The (1996) 5\n",
            "Independence Day (a.k.a. ID4) (1996) 5\n",
            "Adventures of Robin Hood, The (1938) 5\n",
            "Ghost and Mrs. Muir, The (1947) 5\n",
            "Three Caballeros, The (1945) 5\n",
            "Monty Python's Life of Brian (1979) 5\n",
            "Blues Brothers, The (1980) 5\n"
          ],
          "name": "stdout"
        }
      ]
    },
    {
      "cell_type": "markdown",
      "metadata": {
        "id": "w4qd0JIFrtTw"
      },
      "source": [
        "<a name=\"results\"></a>\n",
        "### 6.4 - Results"
      ]
    },
    {
      "cell_type": "markdown",
      "metadata": {
        "id": "vpRX2DrLQ5B_"
      },
      "source": [
        "| Algorithm | RMSE | MAE | HR | cHR | ARHR | Coverage | Diversity | Novelty |\n",
        "|--|--|--|--|--|--|--|--|--|   \n",
        "| User KNN cosine | 0.9787 | 0.7547 | 0.0000 | 0.0000 | 0.0000 | 1.0000 | 0.8882 | 6126.9782 |\n",
        "| User KNN msd | 0.9554 | 0.7330 | 0.0000 | 0.0000 | 0.0000 | 1.0000 | 0.8853 | 6119.0357 |\n",
        "| User KNN pearson | 0.9802 | 0.7558 | 0.0000 | 0.0000 | 0.0000 | 0.9984 | 0.8299 | 4877.7677 |\n",
        "| User KNN pearson_basline | 0.9827 | 0.7560 | 0.0000 | 0.0000 | 0.0000 | 1.0000 | 0.7412 | 4014.1784 |\n",
        "| User KNNZScore | 0.9048 | 0.6867 | 0.0049 | 0.0049 | 0.0023 | 0.9951 | 0.5826 | 6121.5700 |\n",
        "| User KNNMeans | 0.9066 | 0.6931 | 0.0016 | 0.0016 | 0.0002 | 0.9984 | 0.7363 | 5953.5645 |\n",
        "| User KNNZBaseline | 0.8845 | 0.6768 | 0.0000 | 0.0000 | 0.0000 | 1.0000 | 0.8228 | 6256.0928 |\n",
        "| Item KNN cosine | 0.9788 | 0.7610 | 0.0000 | 0.0000 | 0.0000 | 0.9885 | 0.7204 | 6933.1300 |\n",
        "| Item KNN msd | 0.9149 | 0.7031 | 0.0000 | 0.0000 | 0.0000 | 0.9918 | 0.7368 | 6969.8043 |\n",
        "| Item KNN pearson | 0.9755 | 0.7550 | 0.0000 | 0.0000 | 0.0000 | 0.9984 | 0.7737 | 4432.8886 |\n",
        "| Item KNN pearson_basline | 0.9248 | 0.7002 | 0.0000 | 0.0000 | 0.0000 | 0.9984 | 0.7734 | 4649.0240 |\n",
        "| Item KNNZScore | 0.9155 | 0.6973 | 0.0016 | 0.0016 | 0.0003 | 1.0000 | 0.7944 | 6107.1179 |\n",
        "| Item KNNMeans | 0.9087 | 0.6939 | 0.0000 | 0.0000 | 0.0000 | 1.0000 | 0.7878 | 5792.4466 |\n",
        "| Item KNNZBaseline | 0.8931 | 0.6866 | 0.0246 | 0.0246 | 0.0094 | 0.9525 | 0.5054 | 4512.4656 |\n",
        "| Random | 1.4206 | 1.1336 | 0.0180 | 0.0180 | 0.0072 | 1.0000 | 0.0522 | 854.7062 | "
      ]
    },
    {
      "cell_type": "markdown",
      "metadata": {
        "id": "YGGudMd5owEc"
      },
      "source": [
        "Based upon the table below above, I would pick `Item KNNZBaseline` as my chosen metric. It has the lowest `RMSE` and the highest `HR`. However, I'm not a fan of the hight `Novelty` score. Even the `Random` algorithm picks, on average, more popular movies. Let's see the list of the top 10 recommendations:\n",
        "```\n",
        "Using recommender  Item KNNZBaseline\n",
        "\n",
        "We recommend:\n",
        "Awfully Big Adventure, An (1995) 4.925100503405479\n",
        "What Happened Was... (1994) 4.925100503405479\n",
        "Alice (2009) 4.869229031846505\n",
        "Librarian: Quest for the Spear, The (2004) 4.840694735562784\n",
        "Librarian, The: The Curse of the Judas Chalice (2008) 4.840694735562784\n",
        "FairyTale: A True Story (1997) 4.82377448639196\n",
        "Dead Like Me: Life After Death (2009) 4.82377448639196\n",
        "Librarian: Return to King Solomon's Mines, The (2006) 4.799028068896117\n",
        "Merlin (1998) 4.778319940937414\n",
        "Last Legion, The (2007) 4.778319940937414\n",
        "```\n",
        "Unfortunately, I have no idea what any of these movies are. Furthermore, none of the other models recommended a better set of movies. Even random had a much better selection.\n",
        "\n",
        "If I had to choose, I would pick the `KNNZBaseline` purely by the metrics. However, due to the top 10 movies, I would not use this algorithm. "
      ]
    },
    {
      "cell_type": "markdown",
      "metadata": {
        "id": "tLzr1J0TfYRK"
      },
      "source": [
        "***"
      ]
    },
    {
      "cell_type": "markdown",
      "metadata": {
        "id": "s9xvMgc66fpz"
      },
      "source": [
        "**[Next Section]](https://colab.research.google.com/github/villafue/Capstone_2_MovieLens/blob/main/Notebook/6_Collaborative_Based_Recommenders.ipynb)**"
      ]
    },
    {
      "cell_type": "markdown",
      "metadata": {
        "id": "JcY81gt34Qd4"
      },
      "source": [
        "***"
      ]
    },
    {
      "cell_type": "markdown",
      "metadata": {
        "id": "brMtBr966Kln"
      },
      "source": [
        "**[Back to Top](#top)**"
      ]
    },
    {
      "cell_type": "markdown",
      "metadata": {
        "id": "-5UQ9O5k4Ub9"
      },
      "source": [
        "***"
      ]
    },
    {
      "cell_type": "markdown",
      "metadata": {
        "id": "HLedvFBX5EJA"
      },
      "source": [
        "**[Back to Main](https://colab.research.google.com/github/villafue/Capstone_2_MovieLens/blob/main/MovieLens.ipynb)**"
      ]
    },
    {
      "cell_type": "markdown",
      "metadata": {
        "id": "-WM1LLNa4OQ7"
      },
      "source": [
        "***"
      ]
    }
  ]
}