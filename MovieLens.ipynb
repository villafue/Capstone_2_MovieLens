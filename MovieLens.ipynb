{
  "nbformat": 4,
  "nbformat_minor": 0,
  "metadata": {
    "colab": {
      "name": "MovieLens.ipynb",
      "provenance": [],
      "toc_visible": true,
      "authorship_tag": "ABX9TyMk11YU8ZLt16aWvK74P96s",
      "include_colab_link": true
    },
    "kernelspec": {
      "name": "python3",
      "display_name": "Python 3"
    }
  },
  "cells": [
    {
      "cell_type": "markdown",
      "metadata": {
        "id": "view-in-github",
        "colab_type": "text"
      },
      "source": [
        "<a href=\"https://colab.research.google.com/github/villafue/Capstone_2_MovieLens/blob/main/MovieLens.ipynb\" target=\"_parent\"><img src=\"https://colab.research.google.com/assets/colab-badge.svg\" alt=\"Open In Colab\"/></a>"
      ]
    },
    {
      "cell_type": "markdown",
      "metadata": {
        "id": "SSFY9uUo7Mj_"
      },
      "source": [
        "# 1."
      ]
    },
    {
      "cell_type": "markdown",
      "metadata": {
        "id": "M1LCNKrko_aT"
      },
      "source": [
        "<a name=\"preface\"></a>\n",
        "## Preface"
      ]
    },
    {
      "cell_type": "markdown",
      "metadata": {
        "id": "YFIMfT75aW_6"
      },
      "source": [
        "\n",
        "Hello! My name is Roland and this is my second Data Science Project, as well as second Capstone project with Springboard. My goal was recommendation system exploration.\n",
        "\n",
        "I did my best to create a logical flow and organization to my notebook. Everything is categorized into sections and hyperlinked for easier navigation. As much as possible, I included markdowns inbetween the code to explain my thinking behind what I did. Please do not hesitate to contact me, and thank you for reading!\n",
        "\n",
        "Last, I am thankful and grateful to [Frank Kane](https://www.linkedin.com/in/fkane/?trk=lil_course) and his [Building Recommender Systems with Machine Learning and AI](https://sundog-education.com/course/building-recommender-systems-with-machine-learning-and-ai/) on LinkedIn Learning. My Recommender Systems were built and adapted from his framework. Him and others are referenced in section \"6.3.\"\n"
      ]
    },
    {
      "cell_type": "markdown",
      "metadata": {
        "id": "kOqmNQ3sIqKk"
      },
      "source": [
        "***"
      ]
    },
    {
      "cell_type": "markdown",
      "metadata": {
        "id": "PghWZOmEp91P"
      },
      "source": [
        "<a name=\"top\"></a>\n",
        "# Table of Contents"
      ]
    },
    {
      "cell_type": "markdown",
      "metadata": {
        "id": "_WasouTHJILH"
      },
      "source": [
        "Note: The internal links work when the notebook is run via Google Colab.\n",
        "\n",
        "1. **[Preface](#preface)**\n",
        "2. **[Introduction](#introduction)**\n",
        "3. **[Exploratory Data Analysis](#eda)**\n",
        "    - 3.1 - [Import Packages](https://colab.research.google.com/github/villafue/Capstone_2_MovieLens/blob/main/Notebook/3_Exploratory_Data_Analysis.ipynb#import_packages)\n",
        "    - 3.2 - [Movie Lens Data](https://colab.research.google.com/github/villafue/Capstone_2_MovieLens/blob/main/Notebook/3_Exploratory_Data_Analysis.ipynb#data)\n",
        "        - 3.2.1 - [Links.csv](https://colab.research.google.com/github/villafue/Capstone_2_MovieLens/blob/main/Notebook/3_Exploratory_Data_Analysis.ipynb#links)\n",
        "        - 3.2.2 - [Tags.csv](https://colab.research.google.com/github/villafue/Capstone_2_MovieLens/blob/main/Notebook/3_Exploratory_Data_Analysis.ipynb#tags)\n",
        "        - 3.2.3 - [Movies.csv](https://colab.research.google.com/github/villafue/Capstone_2_MovieLens/blob/main/Notebook/3_Exploratory_Data_Analysis.ipynb#movies)\n",
        "        - 3.2.4 - [Ratings.csv](https://colab.research.google.com/github/villafue/Capstone_2_MovieLens/blob/main/Notebook/3_Exploratory_Data_Analysis.ipynb#ratings)\n",
        "    - 3.3 - [Movies and Ratings Analysis](https://colab.research.google.com/github/villafue/Capstone_2_MovieLens/blob/main/Notebook/3_Exploratory_Data_Analysis.ipynb#movies_ratings)\n",
        "        - 3.3.1 - [Merge Movies and Ratings](https://colab.research.google.com/github/villafue/Capstone_2_MovieLens/blob/main/Notebook/3_Exploratory_Data_Analysis.ipynb#merge)\n",
        "        - 3.3.2 - [Investigating Rating Count](https://colab.research.google.com/github/villafue/Capstone_2_MovieLens/blob/main/Notebook/3_Exploratory_Data_Analysis.ipynb#rating_count)\n",
        "        - 3.3.3 - [Highest Rated Movies](https://colab.research.google.com/github/villafue/Capstone_2_MovieLens/blob/main/Notebook/3_Exploratory_Data_Analysis.ipynb#highest_rated)\n",
        "    - 3.4 - [Genre](https://colab.research.google.com/github/villafue/Capstone_2_MovieLens/blob/main/Notebook/3_Exploratory_Data_Analysis.ipynb#genre)\n",
        "    - 3.5 - [User Rating Count](https://colab.research.google.com/github/villafue/Capstone_2_MovieLens/blob/main/Notebook/3_Exploratory_Data_Analysis.ipynb#user_rating_count)\n",
        "    - 3.6 - [User 25](https://colab.research.google.com/github/villafue/Capstone_2_MovieLens/blob/main/Notebook/3_Exploratory_Data_Analysis.ipynb#user_25)\n",
        "        - 5.1.2 - [Simple Models](#simple_models)\n",
        "        - 5.1.3 - [Advanced Linear Models](#advanced_linear_models)\n",
        "        - 5.1.4 - [Ensemble Tree Models](#ensemble_tree_models)"
      ]
    },
    {
      "cell_type": "markdown",
      "metadata": {
        "id": "6VKCO-vkc01v"
      },
      "source": [
        "---"
      ]
    },
    {
      "cell_type": "markdown",
      "metadata": {
        "id": "Piwer-tZuuxc"
      },
      "source": [
        "# 2. "
      ]
    },
    {
      "cell_type": "markdown",
      "metadata": {
        "id": "XvAbcYIAuuxc"
      },
      "source": [
        "<a name=\"introduction\"></a>\n",
        "## Introduction"
      ]
    },
    {
      "cell_type": "markdown",
      "metadata": {
        "id": "tAhbj_dau8zV"
      },
      "source": [
        "Why Recommendation Systems? They're everywhere. Whether it's Netflix, Amazon, or Spotify what we experience digitally is the culmination of many algorithms analyzing factors such as our demographics, interests, and even how much time we spend on a page. If you pay attention, it's hard not to run into a recommendation system online.\n",
        "\n",
        "I also love that it's both a scientific and psychological challenge. There are many metrics data scientists use to measure the efficacy of a recommender system, yet none of it matters if your target audience doesn't like the content that's displayed to them. \n",
        "\n",
        "This conundrum is part of why I loved Frank's recommendation course. He not only taught the different types of popular recommendation algorithms, but also balanced it against real-world problems and issues. It opened my eyes from just optimizing metrics to taking a holistic view of my recommendation system brings value to both the employer and the customer.\n",
        "\n",
        "As mentioned in the **[Preface](#preface)**, my recommender systems are built around Frank's framework in his recommendation system course. He uses the small [Movie Lens](https://grouplens.org/datasets/movielens/latest/) dataset which consist of 100k ratings for movies. More will be explained in the EDA section of this notebook. \n",
        "\n",
        "After EDA, I will go over Frank's core framework and then show the recommendation systems I built using the different methods described in his course. Links will be provided to those Notebooks. \n",
        "\n",
        "Last, I will showcase my final recommender system and go over areas for further improvement."
      ]
    },
    {
      "cell_type": "markdown",
      "metadata": {
        "id": "lZ_IUY_wuxRn"
      },
      "source": [
        "***"
      ]
    },
    {
      "cell_type": "markdown",
      "metadata": {
        "id": "mR-icWtwghny"
      },
      "source": [
        "Click to go back to the **[Top](#top)** of the page."
      ]
    },
    {
      "cell_type": "markdown",
      "metadata": {
        "id": "zYvHDd1XgiiZ"
      },
      "source": [
        "***"
      ]
    },
    {
      "cell_type": "markdown",
      "metadata": {
        "id": "yvPqtR8xfIDf"
      },
      "source": [
        "# 3. "
      ]
    },
    {
      "cell_type": "markdown",
      "metadata": {
        "id": "f_umwFPF31n6"
      },
      "source": [
        "<a name=\"eda\"></a>\n",
        "## Exploratory Data Analysis"
      ]
    },
    {
      "cell_type": "markdown",
      "metadata": {
        "id": "XgfTz-mN8jz6"
      },
      "source": [
        "Click [Here](https://colab.research.google.com/github/villafue/Capstone_2_MovieLens/blob/main/Notebook/3_Exploratory_Data_Analysis.ipynb) to go to the EDA notebook."
      ]
    },
    {
      "cell_type": "markdown",
      "metadata": {
        "id": "2BFnUYCb5owI"
      },
      "source": [
        "***"
      ]
    },
    {
      "cell_type": "markdown",
      "metadata": {
        "id": "I67exGBf5owI"
      },
      "source": [
        "Click to go back to the **[Top](#top)** of the page."
      ]
    },
    {
      "cell_type": "markdown",
      "metadata": {
        "id": "McU1eRtn5owI"
      },
      "source": [
        "***"
      ]
    },
    {
      "cell_type": "markdown",
      "metadata": {
        "id": "pnTlBn5D4fKx"
      },
      "source": [
        "**[Back to Top](#top)**"
      ]
    }
  ]
}