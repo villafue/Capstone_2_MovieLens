{
  "nbformat": 4,
  "nbformat_minor": 0,
  "metadata": {
    "colab": {
      "name": "MovieLens.ipynb",
      "provenance": [],
      "toc_visible": true,
      "authorship_tag": "ABX9TyOHcPd82BNnEMSJ8VbAkbsF",
      "include_colab_link": true
    },
    "kernelspec": {
      "name": "python3",
      "display_name": "Python 3"
    }
  },
  "cells": [
    {
      "cell_type": "markdown",
      "metadata": {
        "id": "view-in-github",
        "colab_type": "text"
      },
      "source": [
        "<a href=\"https://colab.research.google.com/github/villafue/Capstone_2_MovieLens/blob/main/MovieLens.ipynb\" target=\"_parent\"><img src=\"https://colab.research.google.com/assets/colab-badge.svg\" alt=\"Open In Colab\"/></a>"
      ]
    },
    {
      "cell_type": "markdown",
      "metadata": {
        "id": "SSFY9uUo7Mj_"
      },
      "source": [
        "# 1."
      ]
    },
    {
      "cell_type": "markdown",
      "metadata": {
        "id": "M1LCNKrko_aT"
      },
      "source": [
        "<a name=\"preface\"></a>\n",
        "## Preface"
      ]
    },
    {
      "cell_type": "markdown",
      "metadata": {
        "id": "YFIMfT75aW_6"
      },
      "source": [
        "\n",
        "Hello! My name is Roland and this is my second Data Science Project, as well as second Capstone project with Springboard. My goal was recommendation system exploration.\n",
        "\n",
        "I did my best to create a logical flow and organization to my notebook. Everything is categorized into sections and hyperlinked for easier navigation. As much as possible, I included markdowns inbetween the code to explain my thinking behind what I did. Please do not hesitate to contact me, and thank you for reading!\n",
        "\n",
        "Last, I am thankful and grateful to [Frank Kane](https://www.linkedin.com/in/fkane/?trk=lil_course) and his [Building Recommender Systems with Machine Learning and AI](https://sundog-education.com/course/building-recommender-systems-with-machine-learning-and-ai/) on LinkedIn Learning. My Recommender Systems were built and adapted from his framework. Him and others are referenced in section \"6.3.\"\n"
      ]
    },
    {
      "cell_type": "markdown",
      "metadata": {
        "id": "kOqmNQ3sIqKk"
      },
      "source": [
        "***"
      ]
    },
    {
      "cell_type": "markdown",
      "metadata": {
        "id": "PghWZOmEp91P"
      },
      "source": [
        "<a name=\"top\"></a>\n",
        "## Table of Contents"
      ]
    },
    {
      "cell_type": "markdown",
      "metadata": {
        "id": "_WasouTHJILH"
      },
      "source": [
        "Note: The internal links work in Google Colab.\n",
        "\n",
        "1. **[Preface](#preface)**\n",
        "2. **[Introduction](#introduction)**\n",
        "3. **[Exploratory Data Analysis](#eda)**\n",
        "    - 3.1 - [Import Packages](https://colab.research.google.com/github/villafue/Capstone_2_MovieLens/blob/main/Notebook/3_Exploratory_Data_Analysis.ipynb#import_packages)\n",
        "    - 3.2 - [Movie Lens Data](https://colab.research.google.com/github/villafue/Capstone_2_MovieLens/blob/main/Notebook/3_Exploratory_Data_Analysis.ipynb#data)\n",
        "        - 3.2.1 - [Links.csv](https://colab.research.google.com/github/villafue/Capstone_2_MovieLens/blob/main/Notebook/3_Exploratory_Data_Analysis.ipynb#links)\n",
        "        - 3.2.2 - [Tags.csv](https://colab.research.google.com/github/villafue/Capstone_2_MovieLens/blob/main/Notebook/3_Exploratory_Data_Analysis.ipynb#tags)\n",
        "        - 3.2.3 - [Movies.csv](https://colab.research.google.com/github/villafue/Capstone_2_MovieLens/blob/main/Notebook/3_Exploratory_Data_Analysis.ipynb#movies)\n",
        "        - 3.2.4 - [Ratings.csv](https://colab.research.google.com/github/villafue/Capstone_2_MovieLens/blob/main/Notebook/3_Exploratory_Data_Analysis.ipynb#ratings)\n",
        "    - 3.3 - [Movies and Ratings Analysis](https://colab.research.google.com/github/villafue/Capstone_2_MovieLens/blob/main/Notebook/3_Exploratory_Data_Analysis.ipynb#movies_ratings)\n",
        "        - 3.3.1 - [Merge Movies and Ratings](https://colab.research.google.com/github/villafue/Capstone_2_MovieLens/blob/main/Notebook/3_Exploratory_Data_Analysis.ipynb#merge)\n",
        "        - 3.3.2 - [Investigating Rating Count](https://colab.research.google.com/github/villafue/Capstone_2_MovieLens/blob/main/Notebook/3_Exploratory_Data_Analysis.ipynb#rating_count)\n",
        "        - 3.3.3 - [Highest Rated Movies](https://colab.research.google.com/github/villafue/Capstone_2_MovieLens/blob/main/Notebook/3_Exploratory_Data_Analysis.ipynb#highest_rated)\n",
        "    - 3.4 - [Genre](https://colab.research.google.com/github/villafue/Capstone_2_MovieLens/blob/main/Notebook/3_Exploratory_Data_Analysis.ipynb#genre)\n",
        "    - 3.5 - [User Rating Count](https://colab.research.google.com/github/villafue/Capstone_2_MovieLens/blob/main/Notebook/3_Exploratory_Data_Analysis.ipynb#user_rating_count)\n",
        "    - 3.6 - [User 25](https://colab.research.google.com/github/villafue/Capstone_2_MovieLens/blob/main/Notebook/3_Exploratory_Data_Analysis.ipynb#user_25)\n",
        "4. **[Framework](#framework)**\n",
        "    - 4.1 - [Introduction](https://colab.research.google.com/github/villafue/Capstone_2_MovieLens/blob/main/Notebook/4_Framework.ipynb#introduction)\n",
        "    - 4.2 - [RecommenderMetrics.py](https://colab.research.google.com/github/villafue/Capstone_2_MovieLens/blob/main/Notebook/4_Framework.ipynb#recommendermetrics)\n",
        "    - 4.3 - [MovieLens.py](https://colab.research.google.com/github/villafue/Capstone_2_MovieLens/blob/main/Notebook/4_Framework.ipynb#movielens)\n",
        "    - 4.4 - [EvaluatedAlgorithm.py](https://colab.research.google.com/github/villafue/Capstone_2_MovieLens/blob/main/Notebook/4_Framework.ipynb#evaluatedalgorithm)\n",
        "    - 4.5 - [EvaluationData.py](https://colab.research.google.com/github/villafue/Capstone_2_MovieLens/blob/main/Notebook/4_Framework.ipynb#evaluationdata)\n",
        "    - 4.6 - [Evaluator.py](https://colab.research.google.com/github/villafue/Capstone_2_MovieLens/blob/main/Notebook/4_Framework.ipynb#evaluator)\n",
        "    - 4.7 - [Summary](https://colab.research.google.com/github/villafue/Capstone_2_MovieLens/blob/main/Notebook/4_Framework.ipynb#summary)\n",
        "5. **[Content Based Recommenders](#content)**\n",
        "    - 5.1 - [Introduction](https://colab.research.google.com/github/villafue/Capstone_2_MovieLens/blob/main/Notebook/5_Content_Based_Recommenders.ipynb#introduction)\n",
        "    - 5.2 - [ContentKNNAlgorithm.py](https://colab.research.google.com/github/villafue/Capstone_2_MovieLens/blob/main/Notebook/5_Content_Based_Recommenders.ipynb#contentknnalgo)\n",
        "    - 5.3 - [Import Files](https://colab.research.google.com/github/villafue/Capstone_2_MovieLens/blob/main/Notebook/5_Content_Based_Recommenders.ipynb#import)\n",
        "    - 5.4 - [Models](https://colab.research.google.com/github/villafue/Capstone_2_MovieLens/blob/main/Notebook/5_Content_Based_Recommenders.ipynb#models)\n",
        "      - 5.4.1 - [Date & Genre](https://colab.research.google.com/github/villafue/Capstone_2_MovieLens/blob/main/Notebook/5_Content_Based_Recommenders.ipynb#date_genre)\n",
        "      - 5.4.2 - [Genre Only](https://colab.research.google.com/github/villafue/Capstone_2_MovieLens/blob/main/Notebook/5_Content_Based_Recommenders.ipynb#genre)\n",
        "      - 5.4.3 - [Date Only: Default](https://colab.research.google.com/github/villafue/Capstone_2_MovieLens/blob/main/Notebook/5_Content_Based_Recommenders.ipynb#date_default)\n",
        "      - 5.4.4 - [Date Only: Reverse](https://colab.research.google.com/github/villafue/Capstone_2_MovieLens/blob/main/Notebook/5_Content_Based_Recommenders.ipynb#date_reverse)\n",
        "      - 5.4.5 - [Date Sorted by Popularity](https://colab.research.google.com/github/villafue/Capstone_2_MovieLens/blob/main/Notebook/5_Content_Based_Recommenders.ipynb#date_popular)\n",
        "    - 5.5 - [Best Model](https://colab.research.google.com/github/villafue/Capstone_2_MovieLens/blob/main/Notebook/5_Content_Based_Recommenders.ipynb#best_model)\n",
        "5. **[Collaborative Based Recommenders](#collaborative)**\n",
        "    - 6.1 - [Introduction](https://colab.research.google.com/github/villafue/Capstone_2_MovieLens/blob/main/Notebook/6_Collaborative_Based_Recommenders.ipynb#introduction)\n",
        "    - 6.2 - [Import Files](https://colab.research.google.com/github/villafue/Capstone_2_MovieLens/blob/main/Notebook/6_Collaborative_Based_Recommenders.ipynb#import)\n",
        "    - 6.3 - [Models](https://colab.research.google.com/github/villafue/Capstone_2_MovieLens/blob/main/Notebook/6_Collaborative_Based_Recommenders.ipynb#models)\n",
        "    - 6.4 - [Results](https://colab.research.google.com/github/villafue/Capstone_2_MovieLens/blob/main/Notebook/6_Collaborative_Based_Recommenders.ipynb#results)"
      ]
    },
    {
      "cell_type": "markdown",
      "metadata": {
        "id": "6VKCO-vkc01v"
      },
      "source": [
        "---"
      ]
    },
    {
      "cell_type": "markdown",
      "metadata": {
        "id": "Piwer-tZuuxc"
      },
      "source": [
        "# 2. "
      ]
    },
    {
      "cell_type": "markdown",
      "metadata": {
        "id": "XvAbcYIAuuxc"
      },
      "source": [
        "<a name=\"introduction\"></a>\n",
        "## Introduction"
      ]
    },
    {
      "cell_type": "markdown",
      "metadata": {
        "id": "tAhbj_dau8zV"
      },
      "source": [
        "Why Recommendation Systems? They're everywhere. Whether it's Netflix, Amazon, or Spotify what we experience digitally is the culmination of many algorithms analyzing factors such as our demographics, interests, and even how much time we spend on a page. If you pay attention, it's hard not to run into a recommendation system online.\n",
        "\n",
        "I also love that it's both a scientific and psychological challenge. There are many metrics data scientists use to measure the efficacy of a recommender system, yet none of it matters if your target audience doesn't like the content that's displayed to them. \n",
        "\n",
        "This conundrum is part of why I loved Frank's recommendation course. He not only taught the different types of popular recommendation algorithms, but also balanced it against real-world problems and issues. It opened my eyes from just optimizing metrics to taking a holistic view of my recommendation system brings value to both the employer and the customer.\n",
        "\n",
        "As mentioned in the **[Preface](#preface)**, my recommender systems are built around Frank's framework in his recommendation system course. He uses the small [Movie Lens](https://grouplens.org/datasets/movielens/latest/) dataset which consist of 100k ratings for movies. More will be explained in the EDA section of this notebook. \n",
        "\n",
        "After EDA, I will go over Frank's core framework and then show the recommendation systems I built using the different methods described in his course. Links will be provided to those Notebooks. \n",
        "\n",
        "Last, I will showcase my final recommender system and go over areas for further improvement."
      ]
    },
    {
      "cell_type": "markdown",
      "metadata": {
        "id": "lZ_IUY_wuxRn"
      },
      "source": [
        "***"
      ]
    },
    {
      "cell_type": "markdown",
      "metadata": {
        "id": "mR-icWtwghny"
      },
      "source": [
        "**[Back to Top](#top)**"
      ]
    },
    {
      "cell_type": "markdown",
      "metadata": {
        "id": "zYvHDd1XgiiZ"
      },
      "source": [
        "***"
      ]
    },
    {
      "cell_type": "markdown",
      "metadata": {
        "id": "yvPqtR8xfIDf"
      },
      "source": [
        "# 3. "
      ]
    },
    {
      "cell_type": "markdown",
      "metadata": {
        "id": "f_umwFPF31n6"
      },
      "source": [
        "<a name=\"eda\"></a>\n",
        "## Exploratory Data Analysis"
      ]
    },
    {
      "cell_type": "markdown",
      "metadata": {
        "id": "ZyiO2iBUFBzL"
      },
      "source": [
        "Frank used the small [Movie Lens](https://grouplens.org/datasets/movielens/latest/) dataset. It contains 100,000 ratings and 3,600 tags for to 9,000 movies by 600 users. Here is a link to the [Readme](https://github.com/villafue/Capstone_2_MovieLens/tree/main/Data) and the dataset I used. Frank used the 2016 version during his course, but I downloaded the most recent 2018 version. It's essentially the same dataset but it's updated to include movies up to 2018. \n",
        "\n",
        "As part of his framework, Frank also prints out the top 10 recommendations, for a specific user, for each of his recommendation systems. I chose **User 25** as he/she has similar movie tastes to my own. This adds a qualitative dimension on top of the other metrics used to judge the models. Below is a list of User 25's top rated movies:"
      ]
    },
    {
      "cell_type": "code",
      "metadata": {
        "colab": {
          "base_uri": "https://localhost:8080/",
          "height": 867
        },
        "id": "YaF1FUi0NIm1",
        "outputId": "715b213f-230a-4e21-fe85-c8239b8a9166"
      },
      "source": [
        "user_25_df_top = us_mov_df[(us_mov_df.userId == 25) & (us_mov_df.rating >= 4)].sort_values(by='rating', ascending=False)[:50]\n",
        "print('Total amount of movies with ratings of 4.0 and higher is ', len(user_25_df))\n",
        "print('\\n', '-' * 136)\n",
        "user_25_df_top"
      ],
      "execution_count": null,
      "outputs": [
        {
          "output_type": "stream",
          "text": [
            "Total amount of movies with ratings of 4.0 and higher is  26\n",
            "\n",
            " ----------------------------------------------------------------------------------------------------------------------------------------\n"
          ],
          "name": "stdout"
        },
        {
          "output_type": "execute_result",
          "data": {
            "text/html": [
              "<div>\n",
              "<style scoped>\n",
              "    .dataframe tbody tr th:only-of-type {\n",
              "        vertical-align: middle;\n",
              "    }\n",
              "\n",
              "    .dataframe tbody tr th {\n",
              "        vertical-align: top;\n",
              "    }\n",
              "\n",
              "    .dataframe thead th {\n",
              "        text-align: right;\n",
              "    }\n",
              "</style>\n",
              "<table border=\"1\" class=\"dataframe\">\n",
              "  <thead>\n",
              "    <tr style=\"text-align: right;\">\n",
              "      <th></th>\n",
              "      <th>userId</th>\n",
              "      <th>movieId</th>\n",
              "      <th>rating</th>\n",
              "      <th>timestamp</th>\n",
              "      <th>title</th>\n",
              "      <th>genres</th>\n",
              "    </tr>\n",
              "  </thead>\n",
              "  <tbody>\n",
              "    <tr>\n",
              "      <th>37040</th>\n",
              "      <td>25</td>\n",
              "      <td>5952</td>\n",
              "      <td>5.0</td>\n",
              "      <td>1535470419</td>\n",
              "      <td>Lord of the Rings: The Two Towers, The (2002)</td>\n",
              "      <td>Adventure|Fantasy</td>\n",
              "    </tr>\n",
              "    <tr>\n",
              "      <th>17666</th>\n",
              "      <td>25</td>\n",
              "      <td>91529</td>\n",
              "      <td>5.0</td>\n",
              "      <td>1535470498</td>\n",
              "      <td>Dark Knight Rises, The (2012)</td>\n",
              "      <td>Action|Adventure|Crime|IMAX</td>\n",
              "    </tr>\n",
              "    <tr>\n",
              "      <th>70944</th>\n",
              "      <td>25</td>\n",
              "      <td>122912</td>\n",
              "      <td>5.0</td>\n",
              "      <td>1535470461</td>\n",
              "      <td>Avengers: Infinity War - Part I (2018)</td>\n",
              "      <td>Action|Adventure|Sci-Fi</td>\n",
              "    </tr>\n",
              "    <tr>\n",
              "      <th>57573</th>\n",
              "      <td>25</td>\n",
              "      <td>180095</td>\n",
              "      <td>5.0</td>\n",
              "      <td>1535470476</td>\n",
              "      <td>Wonder (2017)</td>\n",
              "      <td>Drama</td>\n",
              "    </tr>\n",
              "    <tr>\n",
              "      <th>57565</th>\n",
              "      <td>25</td>\n",
              "      <td>177593</td>\n",
              "      <td>5.0</td>\n",
              "      <td>1535470532</td>\n",
              "      <td>Three Billboards Outside Ebbing, Missouri (2017)</td>\n",
              "      <td>Crime|Drama</td>\n",
              "    </tr>\n",
              "    <tr>\n",
              "      <th>57119</th>\n",
              "      <td>25</td>\n",
              "      <td>116797</td>\n",
              "      <td>5.0</td>\n",
              "      <td>1535470507</td>\n",
              "      <td>The Imitation Game (2014)</td>\n",
              "      <td>Drama|Thriller|War</td>\n",
              "    </tr>\n",
              "    <tr>\n",
              "      <th>47206</th>\n",
              "      <td>25</td>\n",
              "      <td>60069</td>\n",
              "      <td>5.0</td>\n",
              "      <td>1535470523</td>\n",
              "      <td>WALL·E (2008)</td>\n",
              "      <td>Adventure|Animation|Children|Romance|Sci-Fi</td>\n",
              "    </tr>\n",
              "    <tr>\n",
              "      <th>42328</th>\n",
              "      <td>25</td>\n",
              "      <td>68954</td>\n",
              "      <td>5.0</td>\n",
              "      <td>1535470493</td>\n",
              "      <td>Up (2009)</td>\n",
              "      <td>Adventure|Animation|Children|Drama</td>\n",
              "    </tr>\n",
              "    <tr>\n",
              "      <th>37951</th>\n",
              "      <td>25</td>\n",
              "      <td>7153</td>\n",
              "      <td>5.0</td>\n",
              "      <td>1535470418</td>\n",
              "      <td>Lord of the Rings: The Return of the King, The...</td>\n",
              "      <td>Action|Adventure|Drama|Fantasy</td>\n",
              "    </tr>\n",
              "    <tr>\n",
              "      <th>1577</th>\n",
              "      <td>25</td>\n",
              "      <td>260</td>\n",
              "      <td>5.0</td>\n",
              "      <td>1535470429</td>\n",
              "      <td>Star Wars: Episode IV - A New Hope (1977)</td>\n",
              "      <td>Action|Adventure|Sci-Fi</td>\n",
              "    </tr>\n",
              "    <tr>\n",
              "      <th>35939</th>\n",
              "      <td>25</td>\n",
              "      <td>4993</td>\n",
              "      <td>5.0</td>\n",
              "      <td>1535470421</td>\n",
              "      <td>Lord of the Rings: The Fellowship of the Ring,...</td>\n",
              "      <td>Adventure|Fantasy</td>\n",
              "    </tr>\n",
              "    <tr>\n",
              "      <th>70999</th>\n",
              "      <td>25</td>\n",
              "      <td>187593</td>\n",
              "      <td>5.0</td>\n",
              "      <td>1535470534</td>\n",
              "      <td>Deadpool 2 (2018)</td>\n",
              "      <td>Action|Comedy|Sci-Fi</td>\n",
              "    </tr>\n",
              "    <tr>\n",
              "      <th>17469</th>\n",
              "      <td>25</td>\n",
              "      <td>79132</td>\n",
              "      <td>5.0</td>\n",
              "      <td>1535470428</td>\n",
              "      <td>Inception (2010)</td>\n",
              "      <td>Action|Crime|Drama|Mystery|Sci-Fi|Thriller|IMAX</td>\n",
              "    </tr>\n",
              "    <tr>\n",
              "      <th>17246</th>\n",
              "      <td>25</td>\n",
              "      <td>68157</td>\n",
              "      <td>5.0</td>\n",
              "      <td>1535470515</td>\n",
              "      <td>Inglourious Basterds (2009)</td>\n",
              "      <td>Action|Drama|War</td>\n",
              "    </tr>\n",
              "    <tr>\n",
              "      <th>17073</th>\n",
              "      <td>25</td>\n",
              "      <td>58559</td>\n",
              "      <td>5.0</td>\n",
              "      <td>1535470524</td>\n",
              "      <td>Dark Knight, The (2008)</td>\n",
              "      <td>Action|Crime|Drama|IMAX</td>\n",
              "    </tr>\n",
              "    <tr>\n",
              "      <th>15668</th>\n",
              "      <td>25</td>\n",
              "      <td>3578</td>\n",
              "      <td>5.0</td>\n",
              "      <td>1535470497</td>\n",
              "      <td>Gladiator (2000)</td>\n",
              "      <td>Action|Adventure|Drama</td>\n",
              "    </tr>\n",
              "    <tr>\n",
              "      <th>12653</th>\n",
              "      <td>25</td>\n",
              "      <td>2571</td>\n",
              "      <td>5.0</td>\n",
              "      <td>1535470427</td>\n",
              "      <td>Matrix, The (1999)</td>\n",
              "      <td>Action|Sci-Fi|Thriller</td>\n",
              "    </tr>\n",
              "    <tr>\n",
              "      <th>10784</th>\n",
              "      <td>25</td>\n",
              "      <td>2028</td>\n",
              "      <td>5.0</td>\n",
              "      <td>1535470505</td>\n",
              "      <td>Saving Private Ryan (1998)</td>\n",
              "      <td>Action|Drama|War</td>\n",
              "    </tr>\n",
              "    <tr>\n",
              "      <th>7141</th>\n",
              "      <td>25</td>\n",
              "      <td>1198</td>\n",
              "      <td>5.0</td>\n",
              "      <td>1535470495</td>\n",
              "      <td>Raiders of the Lost Ark (Indiana Jones and the...</td>\n",
              "      <td>Action|Adventure</td>\n",
              "    </tr>\n",
              "    <tr>\n",
              "      <th>3580</th>\n",
              "      <td>25</td>\n",
              "      <td>527</td>\n",
              "      <td>5.0</td>\n",
              "      <td>1535470432</td>\n",
              "      <td>Schindler's List (1993)</td>\n",
              "      <td>Drama|War</td>\n",
              "    </tr>\n",
              "    <tr>\n",
              "      <th>17384</th>\n",
              "      <td>25</td>\n",
              "      <td>74458</td>\n",
              "      <td>4.5</td>\n",
              "      <td>1535470529</td>\n",
              "      <td>Shutter Island (2010)</td>\n",
              "      <td>Drama|Mystery|Thriller</td>\n",
              "    </tr>\n",
              "    <tr>\n",
              "      <th>70957</th>\n",
              "      <td>25</td>\n",
              "      <td>122916</td>\n",
              "      <td>4.5</td>\n",
              "      <td>1535470504</td>\n",
              "      <td>Thor: Ragnarok (2017)</td>\n",
              "      <td>Action|Adventure|Sci-Fi</td>\n",
              "    </tr>\n",
              "    <tr>\n",
              "      <th>47112</th>\n",
              "      <td>25</td>\n",
              "      <td>59315</td>\n",
              "      <td>4.0</td>\n",
              "      <td>1535470521</td>\n",
              "      <td>Iron Man (2008)</td>\n",
              "      <td>Action|Adventure|Sci-Fi</td>\n",
              "    </tr>\n",
              "    <tr>\n",
              "      <th>70977</th>\n",
              "      <td>25</td>\n",
              "      <td>176371</td>\n",
              "      <td>4.0</td>\n",
              "      <td>1535470469</td>\n",
              "      <td>Blade Runner 2049 (2017)</td>\n",
              "      <td>Sci-Fi</td>\n",
              "    </tr>\n",
              "    <tr>\n",
              "      <th>70995</th>\n",
              "      <td>25</td>\n",
              "      <td>187541</td>\n",
              "      <td>4.0</td>\n",
              "      <td>1535470472</td>\n",
              "      <td>Incredibles 2 (2018)</td>\n",
              "      <td>Action|Adventure|Animation|Children</td>\n",
              "    </tr>\n",
              "    <tr>\n",
              "      <th>1371</th>\n",
              "      <td>25</td>\n",
              "      <td>231</td>\n",
              "      <td>4.0</td>\n",
              "      <td>1535470451</td>\n",
              "      <td>Dumb &amp; Dumber (Dumb and Dumber) (1994)</td>\n",
              "      <td>Adventure|Comedy</td>\n",
              "    </tr>\n",
              "  </tbody>\n",
              "</table>\n",
              "</div>"
            ],
            "text/plain": [
              "       userId  movieId  rating   timestamp  \\\n",
              "37040      25     5952     5.0  1535470419   \n",
              "17666      25    91529     5.0  1535470498   \n",
              "70944      25   122912     5.0  1535470461   \n",
              "57573      25   180095     5.0  1535470476   \n",
              "57565      25   177593     5.0  1535470532   \n",
              "57119      25   116797     5.0  1535470507   \n",
              "47206      25    60069     5.0  1535470523   \n",
              "42328      25    68954     5.0  1535470493   \n",
              "37951      25     7153     5.0  1535470418   \n",
              "1577       25      260     5.0  1535470429   \n",
              "35939      25     4993     5.0  1535470421   \n",
              "70999      25   187593     5.0  1535470534   \n",
              "17469      25    79132     5.0  1535470428   \n",
              "17246      25    68157     5.0  1535470515   \n",
              "17073      25    58559     5.0  1535470524   \n",
              "15668      25     3578     5.0  1535470497   \n",
              "12653      25     2571     5.0  1535470427   \n",
              "10784      25     2028     5.0  1535470505   \n",
              "7141       25     1198     5.0  1535470495   \n",
              "3580       25      527     5.0  1535470432   \n",
              "17384      25    74458     4.5  1535470529   \n",
              "70957      25   122916     4.5  1535470504   \n",
              "47112      25    59315     4.0  1535470521   \n",
              "70977      25   176371     4.0  1535470469   \n",
              "70995      25   187541     4.0  1535470472   \n",
              "1371       25      231     4.0  1535470451   \n",
              "\n",
              "                                                   title  \\\n",
              "37040      Lord of the Rings: The Two Towers, The (2002)   \n",
              "17666                      Dark Knight Rises, The (2012)   \n",
              "70944             Avengers: Infinity War - Part I (2018)   \n",
              "57573                                      Wonder (2017)   \n",
              "57565   Three Billboards Outside Ebbing, Missouri (2017)   \n",
              "57119                          The Imitation Game (2014)   \n",
              "47206                                      WALL·E (2008)   \n",
              "42328                                          Up (2009)   \n",
              "37951  Lord of the Rings: The Return of the King, The...   \n",
              "1577           Star Wars: Episode IV - A New Hope (1977)   \n",
              "35939  Lord of the Rings: The Fellowship of the Ring,...   \n",
              "70999                                  Deadpool 2 (2018)   \n",
              "17469                                   Inception (2010)   \n",
              "17246                        Inglourious Basterds (2009)   \n",
              "17073                            Dark Knight, The (2008)   \n",
              "15668                                   Gladiator (2000)   \n",
              "12653                                 Matrix, The (1999)   \n",
              "10784                         Saving Private Ryan (1998)   \n",
              "7141   Raiders of the Lost Ark (Indiana Jones and the...   \n",
              "3580                             Schindler's List (1993)   \n",
              "17384                              Shutter Island (2010)   \n",
              "70957                              Thor: Ragnarok (2017)   \n",
              "47112                                    Iron Man (2008)   \n",
              "70977                           Blade Runner 2049 (2017)   \n",
              "70995                               Incredibles 2 (2018)   \n",
              "1371              Dumb & Dumber (Dumb and Dumber) (1994)   \n",
              "\n",
              "                                                genres  \n",
              "37040                                Adventure|Fantasy  \n",
              "17666                      Action|Adventure|Crime|IMAX  \n",
              "70944                          Action|Adventure|Sci-Fi  \n",
              "57573                                            Drama  \n",
              "57565                                      Crime|Drama  \n",
              "57119                               Drama|Thriller|War  \n",
              "47206      Adventure|Animation|Children|Romance|Sci-Fi  \n",
              "42328               Adventure|Animation|Children|Drama  \n",
              "37951                   Action|Adventure|Drama|Fantasy  \n",
              "1577                           Action|Adventure|Sci-Fi  \n",
              "35939                                Adventure|Fantasy  \n",
              "70999                             Action|Comedy|Sci-Fi  \n",
              "17469  Action|Crime|Drama|Mystery|Sci-Fi|Thriller|IMAX  \n",
              "17246                                 Action|Drama|War  \n",
              "17073                          Action|Crime|Drama|IMAX  \n",
              "15668                           Action|Adventure|Drama  \n",
              "12653                           Action|Sci-Fi|Thriller  \n",
              "10784                                 Action|Drama|War  \n",
              "7141                                  Action|Adventure  \n",
              "3580                                         Drama|War  \n",
              "17384                           Drama|Mystery|Thriller  \n",
              "70957                          Action|Adventure|Sci-Fi  \n",
              "47112                          Action|Adventure|Sci-Fi  \n",
              "70977                                           Sci-Fi  \n",
              "70995              Action|Adventure|Animation|Children  \n",
              "1371                                  Adventure|Comedy  "
            ]
          },
          "metadata": {
            "tags": []
          },
          "execution_count": 26
        }
      ]
    },
    {
      "cell_type": "markdown",
      "metadata": {
        "id": "Wo1ZYQJpH_eV"
      },
      "source": [
        "***"
      ]
    },
    {
      "cell_type": "markdown",
      "metadata": {
        "id": "XgfTz-mN8jz6"
      },
      "source": [
        "[Full EDA Notebook](https://colab.research.google.com/github/villafue/Capstone_2_MovieLens/blob/main/Notebook/3_Exploratory_Data_Analysis.ipynb)"
      ]
    },
    {
      "cell_type": "markdown",
      "metadata": {
        "id": "1wE6NCfQIBa7"
      },
      "source": [
        "***"
      ]
    },
    {
      "cell_type": "markdown",
      "metadata": {
        "id": "pnTlBn5D4fKx"
      },
      "source": [
        "**[Back to Top](#top)**"
      ]
    },
    {
      "cell_type": "markdown",
      "metadata": {
        "id": "gmeZ9lKTzs7D"
      },
      "source": [
        "***"
      ]
    },
    {
      "cell_type": "markdown",
      "metadata": {
        "id": "sRb5Pl6ozxwy"
      },
      "source": [
        "# 4."
      ]
    },
    {
      "cell_type": "markdown",
      "metadata": {
        "id": "WQQrsEzHzu51"
      },
      "source": [
        "<a name=\"framework\"></a>\n",
        "## Framework"
      ]
    },
    {
      "cell_type": "markdown",
      "metadata": {
        "id": "hxESwMIRI-qX"
      },
      "source": [
        "Frank's recommendation architecture includes 5 classes. Some of the functions are imported from [Surpriselib](https://surprise.readthedocs.io/en/stable/index.html) and some are written from scratch, but all are interdependent to make building and testing a recommendation system easier. `RecommenderMetrics.py` holds all the functions of metrics used to assess our models. `MovieLens.py` loads up the raw MovieLens files and converts them into datasets our models can use. `EvaluatedAlgorithm.py` is the class that applies all the metrics to a given algorithm, and `EvaluationData.py` is what pre-processes the data for training and testing in our models. Last, the `Evaluator` class allows us to quickly add algorithms to train and compare with each other at the same time. When used all together, this framework makes learning and building recommendation systems easier and fun!  "
      ]
    },
    {
      "cell_type": "markdown",
      "metadata": {
        "id": "TZz7ug8EK6Og"
      },
      "source": [
        "***"
      ]
    },
    {
      "cell_type": "markdown",
      "metadata": {
        "id": "Nmi1xPF-zu51"
      },
      "source": [
        "[Full Framework Notebook](https://colab.research.google.com/github/villafue/Capstone_2_MovieLens/blob/main/Notebook/3_Exploratory_Data_Analysis.ipynb)"
      ]
    },
    {
      "cell_type": "markdown",
      "metadata": {
        "id": "NLe1ccJyzu52"
      },
      "source": [
        "***"
      ]
    },
    {
      "cell_type": "markdown",
      "metadata": {
        "id": "wHbdm_i4zu52"
      },
      "source": [
        "**[Back to Top](#top)**"
      ]
    },
    {
      "cell_type": "markdown",
      "metadata": {
        "id": "07XtYJuYzu53"
      },
      "source": [
        "***"
      ]
    },
    {
      "cell_type": "markdown",
      "metadata": {
        "id": "CGjYkNvtLAE0"
      },
      "source": [
        "# 5."
      ]
    },
    {
      "cell_type": "markdown",
      "metadata": {
        "id": "AMLu6lMCLAE1"
      },
      "source": [
        "<a name=\"framework\"></a>\n",
        "## Framework"
      ]
    },
    {
      "cell_type": "markdown",
      "metadata": {
        "id": "s3DbEWcPLAE1"
      },
      "source": [
        "Frank's recommendation architecture includes 5 classes. Some of the functions are imported from [Surpriselib](https://surprise.readthedocs.io/en/stable/index.html) and some are written from scratch, but all are interdependent to make building and testing a recommendation system easier. `RecommenderMetrics.py` holds all the functions of metrics used to assess our models. `MovieLens.py` loads up the raw MovieLens files and converts them into datasets our models can use. `EvaluatedAlgorithm.py` is the class that applies all the metrics to a given algorithm, and `EvaluationData.py` is what pre-processes the data for training and testing in our models. Last, the `Evaluator` class allows us to quickly add algorithms to train and compare with each other at the same time. When used all together, this framework makes learning and building recommendation systems easier and fun!  "
      ]
    },
    {
      "cell_type": "markdown",
      "metadata": {
        "id": "H4R1jN5XLAE1"
      },
      "source": [
        "***"
      ]
    },
    {
      "cell_type": "markdown",
      "metadata": {
        "id": "GEwhiw80LAE1"
      },
      "source": [
        "[Full Framework Notebook](https://colab.research.google.com/github/villafue/Capstone_2_MovieLens/blob/main/Notebook/3_Exploratory_Data_Analysis.ipynb)"
      ]
    },
    {
      "cell_type": "markdown",
      "metadata": {
        "id": "3Iq-F3sPLAE2"
      },
      "source": [
        "***"
      ]
    },
    {
      "cell_type": "markdown",
      "metadata": {
        "id": "yhJHQQcpLAE2"
      },
      "source": [
        "**[Back to Top](#top)**"
      ]
    },
    {
      "cell_type": "markdown",
      "metadata": {
        "id": "ErOTwHczLAE2"
      },
      "source": [
        "***"
      ]
    }
  ]
}