{
  "nbformat": 4,
  "nbformat_minor": 0,
  "metadata": {
    "colab": {
      "name": "MovieLens.ipynb",
      "provenance": [],
      "toc_visible": true,
      "authorship_tag": "ABX9TyP4GzPoQsxgh3DOYhkPw/mn",
      "include_colab_link": true
    },
    "kernelspec": {
      "name": "python3",
      "display_name": "Python 3"
    }
  },
  "cells": [
    {
      "cell_type": "markdown",
      "metadata": {
        "id": "view-in-github",
        "colab_type": "text"
      },
      "source": [
        "<a href=\"https://colab.research.google.com/github/villafue/Capstone_2_MovieLens/blob/main/MovieLens.ipynb\" target=\"_parent\"><img src=\"https://colab.research.google.com/assets/colab-badge.svg\" alt=\"Open In Colab\"/></a>"
      ]
    },
    {
      "cell_type": "code",
      "metadata": {
        "id": "sj9k-pMcp3RZ"
      },
      "source": [
        "#%run path to the py.file #c://users .py"
      ],
      "execution_count": 1,
      "outputs": []
    },
    {
      "cell_type": "markdown",
      "metadata": {
        "id": "YFIMfT75aW_6"
      },
      "source": [
        "## Introduction\n",
        "\n",
        "Hello! My name is Roland and this is my second Data Science Project, as well as second Capstone project with Springboard. My goal was recommendation system exploration.\n",
        "\n",
        "I did my best to create a logical flow and organization to my notebook. Everything is categorized into sections and hyperlinked for easier navigation. As much as possible, I included markdowns inbetween the code to explain my thinking behind what I did. Please do not hesitate to contact me, and thank you for reading!\n",
        "\n",
        "Last, I am thankful and grateful to Frank Kane and his Building Recommender Course on LinkedIn Learning. I adapted many of his codes and processes in my notebook. Him and others are referenced in section \"6.3.\"\n"
      ]
    },
    {
      "cell_type": "markdown",
      "metadata": {
        "id": "kOqmNQ3sIqKk"
      },
      "source": [
        "***"
      ]
    },
    {
      "cell_type": "markdown",
      "metadata": {
        "id": "7nmoKoO2TsmN"
      },
      "source": [
        "Ignore the table of contents section for now. I include this just as a template for when I finalize my notebook"
      ]
    },
    {
      "cell_type": "markdown",
      "metadata": {
        "id": "_WasouTHJILH"
      },
      "source": [
        "## Content\r\n",
        "\r\n",
        "Note: The internal links work when the notebook is run via Google Colab.\r\n",
        "\r\n",
        "1. **[Import Packages](#import_packages)**\r\n",
        "2. **[Load Data](#load_data)**\r\n",
        "3. **[Data Dreparation](#data_preparation)**\r\n",
        "    - 3.1 - [Remove Outliers](#remove_outliers)\r\n",
        "    - 3.2 - [Data Exploration](#data_exploration)   \r\n",
        "    - 3.3 - [Treat Missing Values](#treat_missing_values)   \r\n",
        "    - 3.4 - [Check Duplicates](#duplicates)\r\n",
        "4. **[Exploratory Data Analysis](#exploratory_data_analysis)**\r\n",
        "    - 4.1 - [Correlation Matrix](#correlation_matrix)\r\n",
        "    - 4.2 - [Feature Engineering](#feature_engineering)\r\n",
        "        - 4.2.1 - [Polynomials](#polynomials)\r\n",
        "        - 4.2.2 - [Interior](#interior)\r\n",
        "        - 4.2.3 - [Architectural & Structural](#architectural_&_structural)\r\n",
        "        - 4.2.4 - [Exterior](#exterior)\r\n",
        "        - 4.2.5 - [Location](#location)\r\n",
        "        - 4.2.6 - [Land](#land)\r\n",
        "        - 4.2.7 - [Access](#access)\r\n",
        "        - 4.2.8 - [Utilities](#utilities)\r\n",
        "        - 4.2.9 - [Miscellaneous](#miscellaneous)\r\n",
        "    - 4.3 - [Target Variable](#target_variable)\r\n",
        "    - 4.4 - [Treating Skewed Features](#treating_skewed_features)\r\n",
        "5. **[Modeling](#modeling)**\r\n",
        "    - 5.1 - [Model Exploration](#model_exploration)\r\n",
        "        - 5.1.1 - [Baseline](#baseline)\r\n",
        "        - 5.1.2 - [Simple Models](#simple_models)\r\n",
        "        - 5.1.3 - [Advanced Linear Models](#advanced_linear_models)\r\n",
        "        - 5.1.4 - [Ensemble Tree Models](#ensemble_tree_models)\r\n",
        "    - 5.2 - [Training](#training)\r\n",
        "        - 5.2.1 - [Feature Selection](#feature_selection)\r\n",
        "        - 5.2.2 - [Reduction Comparison](#reduction_comparison)\r\n",
        "    - 5.3 - [Optimization](#optimization)\r\n",
        "        - 5.3.1 - [Linear Regression](#linear_regression)\r\n",
        "        - 5.3.2 - [Ridge Regression](#ridge_regression)\r\n",
        "        - 5.3.3 - [Lasso Regression](#lasso_regression)\r\n",
        "        - 5.3.4 - [Elastic Net Regression](#elastic_net_regression)\r\n",
        "        - 5.3.5 - [Random Forest Regressor](#random_forest_regressor)\r\n",
        "        - 5.3.6 - [AdaBoost Regressor](#adaboost_regressor)\r\n",
        "        - 5.3.7 - [GradientBoost Regressor](#gradientboost_regressor)\r\n",
        "        - 5.3.8 - [XGBoost Regressor](#xgboost_regressor)\r\n",
        "        - 5.3.8 - [Models Summary](#models_summary)\r\n",
        "    - 5.4 - [Stacking](#stacking)\r\n",
        "6. **[Conclusion](#conclusion)**\r\n",
        "    - 6.1 - [Submission](#submission)\r\n",
        "    - 6.2 - [Final Thoughts](#final_thoughts)\r\n",
        "    - 6.3 - [References](#references)\r\n",
        "    - 6.4 - [TPOT](#TPOT)"
      ]
    },
    {
      "cell_type": "markdown",
      "metadata": {
        "id": "yvPqtR8xfIDf"
      },
      "source": [
        "<a id='import_packages'></a>\r\n",
        "# 1. "
      ]
    },
    {
      "cell_type": "markdown",
      "metadata": {
        "id": "6VKCO-vkc01v"
      },
      "source": [
        "---"
      ]
    },
    {
      "cell_type": "markdown",
      "metadata": {
        "id": "vWLj-7kaQrAP"
      },
      "source": [
        "<a name=\"import_packages\"></a>\r\n",
        "## Import Packages"
      ]
    },
    {
      "cell_type": "code",
      "metadata": {
        "colab": {
          "base_uri": "https://localhost:8080/"
        },
        "id": "L0IXpNB5_4CN",
        "outputId": "eb477765-f4c8-475e-8fa9-467fe8bc4a0b"
      },
      "source": [
        "# This first set of packages include Pandas, for data manipulation,\r\n",
        "# numpy for mathematical computation and matplotlib & seaborn, for visualisation.\r\n",
        "import os\r\n",
        "import pandas as pd\r\n",
        "pd.set_option('display.notebook_repr_html', True)\r\n",
        "pd.set_option('max_columns', 82)\r\n",
        "pd.options.display.max_rows = 100\r\n",
        "import numpy as np\r\n",
        "from IPython.display import display\r\n",
        "import matplotlib.pyplot as plt\r\n",
        "%matplotlib inline\r\n",
        "import seaborn as sns\r\n",
        "from pandas_profiling import ProfileReport\r\n",
        "print('\\n', '=' * 136)\r\n",
        "print('1: Data Manipulation, Mathematical Computation and Visualisation packages imported!')\r\n",
        "\r\n",
        "# Statistical packages used for transformations\r\n",
        "from scipy import stats\r\n",
        "from scipy.stats import skew, norm\r\n",
        "from scipy.special import boxcox1p\r\n",
        "from scipy.stats.stats import pearsonr\r\n",
        "print('2: Statistical packages imported!')\r\n",
        "\r\n",
        "# Metrics used for measuring the accuracy and performance of the models\r\n",
        "from sklearn import metrics\r\n",
        "from sklearn.metrics import mean_squared_error\r\n",
        "print('3: Metrics packages imported!')\r\n",
        "\r\n",
        "# Algorithms used for modeling\r\n",
        "from sklearn.dummy import DummyRegressor\r\n",
        "from sklearn.linear_model import LinearRegression, Ridge, Lasso, ElasticNet\r\n",
        "from sklearn.tree import DecisionTreeRegressor\r\n",
        "from sklearn.ensemble import RandomForestRegressor, AdaBoostRegressor, GradientBoostingRegressor\r\n",
        "import xgboost as xgb\r\n",
        "print('4: Algorithm packages imported!')\r\n",
        "\r\n",
        "# Pipeline and scaling preprocessing will be used for models that are sensitive\r\n",
        "from sklearn.pipeline import make_pipeline\r\n",
        "from sklearn.preprocessing import RobustScaler\r\n",
        "from sklearn.preprocessing import StandardScaler\r\n",
        "from sklearn.preprocessing import LabelEncoder\r\n",
        "from sklearn.feature_selection import SelectFromModel\r\n",
        "from sklearn.feature_selection import SelectKBest\r\n",
        "from sklearn.feature_selection import chi2\r\n",
        "print('5: Pipeline and preprocessing packages imported!')\r\n",
        "\r\n",
        "# Model selection packages used for sampling dataset and optimising parameters\r\n",
        "from sklearn import model_selection\r\n",
        "from sklearn.model_selection import KFold\r\n",
        "from sklearn.model_selection import cross_val_score, train_test_split\r\n",
        "from sklearn.model_selection import RandomizedSearchCV\r\n",
        "from sklearn.model_selection import GridSearchCV\r\n",
        "from sklearn.model_selection import ShuffleSplit\r\n",
        "print('6: Model selection packages imported!')\r\n",
        "\r\n",
        "# Set visualisation colours\r\n",
        "mycols = [\"#66c2ff\", \"#5cd6d6\", \"#00cc99\", \"#85e085\", \"#ffd966\", \"#ffb366\", \"#ffb3b3\", \"#dab3ff\", \"#c2c2d6\"]\r\n",
        "print('7: My colours are ready! :)')\r\n",
        "\r\n",
        "# To ignore annoying warning\r\n",
        "import warnings\r\n",
        "def ignore_warn(*args, **kwargs):\r\n",
        "    pass\r\n",
        "warnings.warn = ignore_warn #ignore annoying warning (from sklearn and seaborn)\r\n",
        "warnings.filterwarnings(\"ignore\", category=DeprecationWarning)\r\n",
        "print('8: Deprecation warning will be ignored!')"
      ],
      "execution_count": 2,
      "outputs": [
        {
          "output_type": "stream",
          "text": [
            "/bin/bash: {sys.executable}: command not found\n",
            "Enabling notebook extension jupyter-js-widgets/extension...\n",
            "      - Validating: \u001b[32mOK\u001b[0m\n",
            "\n",
            " ========================================================================================================================================\n",
            "1: Quick Insights, Data Manipulation, Mathematical Computation and Visualisation packages imported!\n",
            "2: Statistical packages imported!\n",
            "3: Metrics packages imported!\n",
            "4: Algorithm packages imported!\n",
            "5: Pipeline and preprocessing packages imported!\n",
            "6: Model selection packages imported!\n",
            "7: My colours are ready! :)\n",
            "8: Deprecation warning will be ignored!\n"
          ],
          "name": "stdout"
        }
      ]
    },
    {
      "cell_type": "code",
      "metadata": {
        "colab": {
          "base_uri": "https://localhost:8080/"
        },
        "id": "EoSpcw1_GLrw",
        "outputId": "4b0c163c-0fa4-4086-e46a-5b65bbb0e6c7"
      },
      "source": [
        "plt.rcParams.update(plt.rcParamsDefault)\r\n",
        "%matplotlib inline\r\n",
        "plt.style.use(['seaborn-whitegrid'])\r\n",
        "sns.set_palette(palette = mycols, n_colors = 4)\r\n",
        "sns.set(context='notebook', palette='deep')\r\n",
        "print('9: My Axes are visible in \"Dark Mode!\"')"
      ],
      "execution_count": 3,
      "outputs": [
        {
          "output_type": "stream",
          "text": [
            "9: My Axes are visible in \"Dark Mode!\"\n"
          ],
          "name": "stdout"
        }
      ]
    },
    {
      "cell_type": "markdown",
      "metadata": {
        "id": "8rYzvBkHJsN3"
      },
      "source": [
        "<a id='load_data'></a>\r\n",
        "# 2. \r\n"
      ]
    },
    {
      "cell_type": "markdown",
      "metadata": {
        "id": "6M7xIkRlcCow"
      },
      "source": [
        "<a name=\"load_data\"></a>\r\n",
        " ## Load data"
      ]
    },
    {
      "cell_type": "markdown",
      "metadata": {
        "id": "ojfEyLZ-l06r"
      },
      "source": [
        "First, I load the train and test datasets directly into Pandas dataframes. I load the data files directly from my Github as it allows me the flexibility to work from different computers.\r\n",
        "\r\n",
        "\r\n",
        "\r\n"
      ]
    },
    {
      "cell_type": "markdown",
      "metadata": {
        "id": "WRNy3jlGwGTj"
      },
      "source": [
        "I load the \"links\" csv into a pandas dataframe. "
      ]
    },
    {
      "cell_type": "code",
      "metadata": {
        "id": "01abd7uab4qQ",
        "colab": {
          "base_uri": "https://localhost:8080/",
          "height": 363
        },
        "outputId": "5c17f297-8b90-41dc-e140-d7a4a9620a9d"
      },
      "source": [
        "url = 'https://raw.githubusercontent.com/villafue/Capstone_2_MovieLens/main/Data/links.csv'\n",
        "links_df = pd.read_csv(url)\n",
        "print(links_df.shape, '\\n' * 2, 'The Movie Lens links csv has: ', links_df.shape[0], 'rows and ', links_df.shape[1], 'columns.')\n",
        "# This makes a little barrier between printed outputs.\n",
        "print('\\n', '=' * 136, '\\n' * 2, 'links_df Set:', '\\n')\n",
        "display(links_df.head())\n",
        "print('\\n', '=' * 136)"
      ],
      "execution_count": 4,
      "outputs": [
        {
          "output_type": "stream",
          "text": [
            "(9742, 3) \n",
            "\n",
            " The Movie Lens links csv has:  9742 rows and  3 columns.\n",
            "\n",
            " ======================================================================================================================================== \n",
            "\n",
            " links_df Set: \n",
            "\n"
          ],
          "name": "stdout"
        },
        {
          "output_type": "display_data",
          "data": {
            "text/html": [
              "<div>\n",
              "<style scoped>\n",
              "    .dataframe tbody tr th:only-of-type {\n",
              "        vertical-align: middle;\n",
              "    }\n",
              "\n",
              "    .dataframe tbody tr th {\n",
              "        vertical-align: top;\n",
              "    }\n",
              "\n",
              "    .dataframe thead th {\n",
              "        text-align: right;\n",
              "    }\n",
              "</style>\n",
              "<table border=\"1\" class=\"dataframe\">\n",
              "  <thead>\n",
              "    <tr style=\"text-align: right;\">\n",
              "      <th></th>\n",
              "      <th>movieId</th>\n",
              "      <th>imdbId</th>\n",
              "      <th>tmdbId</th>\n",
              "    </tr>\n",
              "  </thead>\n",
              "  <tbody>\n",
              "    <tr>\n",
              "      <th>0</th>\n",
              "      <td>1</td>\n",
              "      <td>114709</td>\n",
              "      <td>862.0</td>\n",
              "    </tr>\n",
              "    <tr>\n",
              "      <th>1</th>\n",
              "      <td>2</td>\n",
              "      <td>113497</td>\n",
              "      <td>8844.0</td>\n",
              "    </tr>\n",
              "    <tr>\n",
              "      <th>2</th>\n",
              "      <td>3</td>\n",
              "      <td>113228</td>\n",
              "      <td>15602.0</td>\n",
              "    </tr>\n",
              "    <tr>\n",
              "      <th>3</th>\n",
              "      <td>4</td>\n",
              "      <td>114885</td>\n",
              "      <td>31357.0</td>\n",
              "    </tr>\n",
              "    <tr>\n",
              "      <th>4</th>\n",
              "      <td>5</td>\n",
              "      <td>113041</td>\n",
              "      <td>11862.0</td>\n",
              "    </tr>\n",
              "  </tbody>\n",
              "</table>\n",
              "</div>"
            ],
            "text/plain": [
              "   movieId  imdbId   tmdbId\n",
              "0        1  114709    862.0\n",
              "1        2  113497   8844.0\n",
              "2        3  113228  15602.0\n",
              "3        4  114885  31357.0\n",
              "4        5  113041  11862.0"
            ]
          },
          "metadata": {
            "tags": []
          }
        },
        {
          "output_type": "stream",
          "text": [
            "\n",
            " ========================================================================================================================================\n"
          ],
          "name": "stdout"
        }
      ]
    },
    {
      "cell_type": "markdown",
      "metadata": {
        "id": "aaHB-1HZwQWL"
      },
      "source": [
        "It has a little over 9,700 rows and three columns. The three columns correspond to Movie Lens identifier (MovieId), IMDb movie identifier (imdbId), and tmdbId (themoviedb.org). This could be used to link movies to their imdb database.  "
      ]
    },
    {
      "cell_type": "code",
      "metadata": {
        "colab": {
          "base_uri": "https://localhost:8080/"
        },
        "id": "oN7dCemLvx6j",
        "outputId": "91710f01-85ae-45ac-f630-5ad6cce1a077"
      },
      "source": [
        "links_df.info()"
      ],
      "execution_count": 5,
      "outputs": [
        {
          "output_type": "stream",
          "text": [
            "<class 'pandas.core.frame.DataFrame'>\n",
            "RangeIndex: 9742 entries, 0 to 9741\n",
            "Data columns (total 3 columns):\n",
            " #   Column   Non-Null Count  Dtype  \n",
            "---  ------   --------------  -----  \n",
            " 0   movieId  9742 non-null   int64  \n",
            " 1   imdbId   9742 non-null   int64  \n",
            " 2   tmdbId   9734 non-null   float64\n",
            "dtypes: float64(1), int64(2)\n",
            "memory usage: 228.5 KB\n"
          ],
          "name": "stdout"
        }
      ]
    },
    {
      "cell_type": "markdown",
      "metadata": {
        "id": "RYMkXJg5zIYf"
      },
      "source": [
        "There is only 8 missing values for the tmdbId column and I'm not going to worry about it right now. "
      ]
    },
    {
      "cell_type": "markdown",
      "metadata": {
        "id": "3D3yqX1tz2Oe"
      },
      "source": [
        "***"
      ]
    },
    {
      "cell_type": "markdown",
      "metadata": {
        "id": "Vkql6ThRz7OY"
      },
      "source": [
        "I will load the movies csv. "
      ]
    },
    {
      "cell_type": "code",
      "metadata": {
        "colab": {
          "base_uri": "https://localhost:8080/",
          "height": 363
        },
        "id": "48f1QUOzb2ft",
        "outputId": "0fe92af2-4efe-4320-c792-08ea6175f260"
      },
      "source": [
        "url = 'https://raw.githubusercontent.com/villafue/Capstone_2_MovieLens/main/Data/movies.csv'\n",
        "movies_df = pd.read_csv(url)\n",
        "print(movies_df.shape, '\\n' * 2, 'The Movie Lens movies csv has: ', movies_df.shape[0], 'rows and ', movies_df.shape[1], 'columns.')\n",
        "# This makes a little barrier between printed outputs.\n",
        "print('\\n', '=' * 136, '\\n' * 2, 'movies_df Set:', '\\n')\n",
        "display(movies_df.head())\n",
        "print('\\n', '=' * 136)"
      ],
      "execution_count": 6,
      "outputs": [
        {
          "output_type": "stream",
          "text": [
            "(9742, 3) \n",
            "\n",
            " The Movie Lens movies csv has:  9742 rows and  3 columns.\n",
            "\n",
            " ======================================================================================================================================== \n",
            "\n",
            " movies_df Set: \n",
            "\n"
          ],
          "name": "stdout"
        },
        {
          "output_type": "display_data",
          "data": {
            "text/html": [
              "<div>\n",
              "<style scoped>\n",
              "    .dataframe tbody tr th:only-of-type {\n",
              "        vertical-align: middle;\n",
              "    }\n",
              "\n",
              "    .dataframe tbody tr th {\n",
              "        vertical-align: top;\n",
              "    }\n",
              "\n",
              "    .dataframe thead th {\n",
              "        text-align: right;\n",
              "    }\n",
              "</style>\n",
              "<table border=\"1\" class=\"dataframe\">\n",
              "  <thead>\n",
              "    <tr style=\"text-align: right;\">\n",
              "      <th></th>\n",
              "      <th>movieId</th>\n",
              "      <th>title</th>\n",
              "      <th>genres</th>\n",
              "    </tr>\n",
              "  </thead>\n",
              "  <tbody>\n",
              "    <tr>\n",
              "      <th>0</th>\n",
              "      <td>1</td>\n",
              "      <td>Toy Story (1995)</td>\n",
              "      <td>Adventure|Animation|Children|Comedy|Fantasy</td>\n",
              "    </tr>\n",
              "    <tr>\n",
              "      <th>1</th>\n",
              "      <td>2</td>\n",
              "      <td>Jumanji (1995)</td>\n",
              "      <td>Adventure|Children|Fantasy</td>\n",
              "    </tr>\n",
              "    <tr>\n",
              "      <th>2</th>\n",
              "      <td>3</td>\n",
              "      <td>Grumpier Old Men (1995)</td>\n",
              "      <td>Comedy|Romance</td>\n",
              "    </tr>\n",
              "    <tr>\n",
              "      <th>3</th>\n",
              "      <td>4</td>\n",
              "      <td>Waiting to Exhale (1995)</td>\n",
              "      <td>Comedy|Drama|Romance</td>\n",
              "    </tr>\n",
              "    <tr>\n",
              "      <th>4</th>\n",
              "      <td>5</td>\n",
              "      <td>Father of the Bride Part II (1995)</td>\n",
              "      <td>Comedy</td>\n",
              "    </tr>\n",
              "  </tbody>\n",
              "</table>\n",
              "</div>"
            ],
            "text/plain": [
              "   movieId                               title  \\\n",
              "0        1                    Toy Story (1995)   \n",
              "1        2                      Jumanji (1995)   \n",
              "2        3             Grumpier Old Men (1995)   \n",
              "3        4            Waiting to Exhale (1995)   \n",
              "4        5  Father of the Bride Part II (1995)   \n",
              "\n",
              "                                        genres  \n",
              "0  Adventure|Animation|Children|Comedy|Fantasy  \n",
              "1                   Adventure|Children|Fantasy  \n",
              "2                               Comedy|Romance  \n",
              "3                         Comedy|Drama|Romance  \n",
              "4                                       Comedy  "
            ]
          },
          "metadata": {
            "tags": []
          }
        },
        {
          "output_type": "stream",
          "text": [
            "\n",
            " ========================================================================================================================================\n"
          ],
          "name": "stdout"
        }
      ]
    },
    {
      "cell_type": "markdown",
      "metadata": {
        "id": "XmVc6l0P0ATQ"
      },
      "source": [
        "It has a little over 9700 rows and three columns. It contains the MovieLens movie Id column, the name of the movie and year (title), and it's corresponding list of genres."
      ]
    },
    {
      "cell_type": "code",
      "metadata": {
        "colab": {
          "base_uri": "https://localhost:8080/"
        },
        "id": "8AFeoJWc0VU2",
        "outputId": "ca12ae33-b937-4e3b-da42-e80ac435f0dc"
      },
      "source": [
        "movies_df.info()"
      ],
      "execution_count": 7,
      "outputs": [
        {
          "output_type": "stream",
          "text": [
            "<class 'pandas.core.frame.DataFrame'>\n",
            "RangeIndex: 9742 entries, 0 to 9741\n",
            "Data columns (total 3 columns):\n",
            " #   Column   Non-Null Count  Dtype \n",
            "---  ------   --------------  ----- \n",
            " 0   movieId  9742 non-null   int64 \n",
            " 1   title    9742 non-null   object\n",
            " 2   genres   9742 non-null   object\n",
            "dtypes: int64(1), object(2)\n",
            "memory usage: 228.5+ KB\n"
          ],
          "name": "stdout"
        }
      ]
    },
    {
      "cell_type": "markdown",
      "metadata": {
        "id": "XKcyvAup0cTt"
      },
      "source": [
        "Thankfully, there are no missing values. "
      ]
    },
    {
      "cell_type": "markdown",
      "metadata": {
        "id": "omlIAMGr0kmL"
      },
      "source": [
        "***"
      ]
    },
    {
      "cell_type": "markdown",
      "metadata": {
        "id": "tNU77td80l0A"
      },
      "source": [
        "I will upload the ratings csv into a dataframe. "
      ]
    },
    {
      "cell_type": "code",
      "metadata": {
        "colab": {
          "base_uri": "https://localhost:8080/",
          "height": 363
        },
        "id": "YMHE2SL9dBut",
        "outputId": "8e963859-53db-480e-b52e-e21ad3260ea4"
      },
      "source": [
        "url = 'https://raw.githubusercontent.com/villafue/Capstone_2_MovieLens/main/Data/ratings.csv'\r\n",
        "ratings_df = pd.read_csv(url)\r\n",
        "print(ratings_df.shape, '\\n' * 2, 'The Movie Lens ratings csv has: ', ratings_df.shape[0], 'rows and ', ratings_df.shape[1], 'columns.')\r\n",
        "# This makes a little barrier between printed outputs.\r\n",
        "print('\\n', '=' * 136, '\\n' * 2, 'ratings_df Set:', '\\n')\r\n",
        "display(ratings_df.head())\r\n",
        "print('\\n', '=' * 136)"
      ],
      "execution_count": 8,
      "outputs": [
        {
          "output_type": "stream",
          "text": [
            "(100836, 4) \n",
            "\n",
            " The Movie Lens ratings csv has:  100836 rows and  4 columns.\n",
            "\n",
            " ======================================================================================================================================== \n",
            "\n",
            " ratings_df Set: \n",
            "\n"
          ],
          "name": "stdout"
        },
        {
          "output_type": "display_data",
          "data": {
            "text/html": [
              "<div>\n",
              "<style scoped>\n",
              "    .dataframe tbody tr th:only-of-type {\n",
              "        vertical-align: middle;\n",
              "    }\n",
              "\n",
              "    .dataframe tbody tr th {\n",
              "        vertical-align: top;\n",
              "    }\n",
              "\n",
              "    .dataframe thead th {\n",
              "        text-align: right;\n",
              "    }\n",
              "</style>\n",
              "<table border=\"1\" class=\"dataframe\">\n",
              "  <thead>\n",
              "    <tr style=\"text-align: right;\">\n",
              "      <th></th>\n",
              "      <th>userId</th>\n",
              "      <th>movieId</th>\n",
              "      <th>rating</th>\n",
              "      <th>timestamp</th>\n",
              "    </tr>\n",
              "  </thead>\n",
              "  <tbody>\n",
              "    <tr>\n",
              "      <th>0</th>\n",
              "      <td>1</td>\n",
              "      <td>1</td>\n",
              "      <td>4.0</td>\n",
              "      <td>964982703</td>\n",
              "    </tr>\n",
              "    <tr>\n",
              "      <th>1</th>\n",
              "      <td>1</td>\n",
              "      <td>3</td>\n",
              "      <td>4.0</td>\n",
              "      <td>964981247</td>\n",
              "    </tr>\n",
              "    <tr>\n",
              "      <th>2</th>\n",
              "      <td>1</td>\n",
              "      <td>6</td>\n",
              "      <td>4.0</td>\n",
              "      <td>964982224</td>\n",
              "    </tr>\n",
              "    <tr>\n",
              "      <th>3</th>\n",
              "      <td>1</td>\n",
              "      <td>47</td>\n",
              "      <td>5.0</td>\n",
              "      <td>964983815</td>\n",
              "    </tr>\n",
              "    <tr>\n",
              "      <th>4</th>\n",
              "      <td>1</td>\n",
              "      <td>50</td>\n",
              "      <td>5.0</td>\n",
              "      <td>964982931</td>\n",
              "    </tr>\n",
              "  </tbody>\n",
              "</table>\n",
              "</div>"
            ],
            "text/plain": [
              "   userId  movieId  rating  timestamp\n",
              "0       1        1     4.0  964982703\n",
              "1       1        3     4.0  964981247\n",
              "2       1        6     4.0  964982224\n",
              "3       1       47     5.0  964983815\n",
              "4       1       50     5.0  964982931"
            ]
          },
          "metadata": {
            "tags": []
          }
        },
        {
          "output_type": "stream",
          "text": [
            "\n",
            " ========================================================================================================================================\n"
          ],
          "name": "stdout"
        }
      ]
    },
    {
      "cell_type": "markdown",
      "metadata": {
        "id": "cURMxwbq02-o"
      },
      "source": [
        "This one has over 100,800 rows and 4 columns. The first one corresponds to each individual (userId) who rated a specific movie (movieId) and his/her rating via the rating column. It also has a timestamp column that needs to be converted to be understood. "
      ]
    },
    {
      "cell_type": "code",
      "metadata": {
        "colab": {
          "base_uri": "https://localhost:8080/"
        },
        "id": "eessz_bi1bHD",
        "outputId": "ff9ee14d-905c-472c-bbaf-6bd441245e3f"
      },
      "source": [
        "ratings_df.info()"
      ],
      "execution_count": 9,
      "outputs": [
        {
          "output_type": "stream",
          "text": [
            "<class 'pandas.core.frame.DataFrame'>\n",
            "RangeIndex: 100836 entries, 0 to 100835\n",
            "Data columns (total 4 columns):\n",
            " #   Column     Non-Null Count   Dtype  \n",
            "---  ------     --------------   -----  \n",
            " 0   userId     100836 non-null  int64  \n",
            " 1   movieId    100836 non-null  int64  \n",
            " 2   rating     100836 non-null  float64\n",
            " 3   timestamp  100836 non-null  int64  \n",
            "dtypes: float64(1), int64(3)\n",
            "memory usage: 3.1 MB\n"
          ],
          "name": "stdout"
        }
      ]
    },
    {
      "cell_type": "markdown",
      "metadata": {
        "id": "XKbegi8C1edJ"
      },
      "source": [
        "There are zero missing values."
      ]
    },
    {
      "cell_type": "code",
      "metadata": {
        "colab": {
          "base_uri": "https://localhost:8080/"
        },
        "id": "LDsbyojd1gTW",
        "outputId": "fee2f3fc-38af-4eb0-a180-16d6f6aa1042"
      },
      "source": [
        "ratings_df.userId.nunique()"
      ],
      "execution_count": 10,
      "outputs": [
        {
          "output_type": "execute_result",
          "data": {
            "text/plain": [
              "610"
            ]
          },
          "metadata": {
            "tags": []
          },
          "execution_count": 10
        }
      ]
    },
    {
      "cell_type": "markdown",
      "metadata": {
        "id": "ZdenEA8L1n0Y"
      },
      "source": [
        "Despite there being over 100k ratings, there are only 610 unique individuals. "
      ]
    },
    {
      "cell_type": "markdown",
      "metadata": {
        "id": "bSnQYDr-VSJx"
      },
      "source": [
        "I want to see my ratings distribution"
      ]
    },
    {
      "cell_type": "code",
      "metadata": {
        "colab": {
          "base_uri": "https://localhost:8080/",
          "height": 285
        },
        "id": "X1_i2iWEVQto",
        "outputId": "b39e822e-5e10-48dc-d67d-71c807c7a165"
      },
      "source": [
        "ratings_df.rating.hist()"
      ],
      "execution_count": 11,
      "outputs": [
        {
          "output_type": "execute_result",
          "data": {
            "text/plain": [
              "<matplotlib.axes._subplots.AxesSubplot at 0x7f6d344bc750>"
            ]
          },
          "metadata": {
            "tags": []
          },
          "execution_count": 11
        },
        {
          "output_type": "display_data",
          "data": {
            "image/png": "[encoded data removed]",
            "text/plain": [
              "<Figure size 432x288 with 1 Axes>"
            ]
          },
          "metadata": {
            "tags": []
          }
        }
      ]
    },
    {
      "cell_type": "code",
      "metadata": {
        "colab": {
          "base_uri": "https://localhost:8080/"
        },
        "id": "F4KoclHBWpmA",
        "outputId": "6e011e96-68e5-4108-b413-fc2125859081"
      },
      "source": [
        "ratings_df.rating.value_counts()"
      ],
      "execution_count": 12,
      "outputs": [
        {
          "output_type": "execute_result",
          "data": {
            "text/plain": [
              "4.0    26818\n",
              "3.0    20047\n",
              "5.0    13211\n",
              "3.5    13136\n",
              "4.5     8551\n",
              "2.0     7551\n",
              "2.5     5550\n",
              "1.0     2811\n",
              "1.5     1791\n",
              "0.5     1370\n",
              "Name: rating, dtype: int64"
            ]
          },
          "metadata": {
            "tags": []
          },
          "execution_count": 12
        }
      ]
    },
    {
      "cell_type": "code",
      "metadata": {
        "colab": {
          "base_uri": "https://localhost:8080/"
        },
        "id": "f428MIIaZwt9",
        "outputId": "8b434c2a-dd3c-4fa4-8148-54a00c9633ef"
      },
      "source": [
        "ratings_df.rating.value_counts(normalize=True)"
      ],
      "execution_count": 13,
      "outputs": [
        {
          "output_type": "execute_result",
          "data": {
            "text/plain": [
              "4.0    0.265957\n",
              "3.0    0.198808\n",
              "5.0    0.131015\n",
              "3.5    0.130271\n",
              "4.5    0.084801\n",
              "2.0    0.074884\n",
              "2.5    0.055040\n",
              "1.0    0.027877\n",
              "1.5    0.017762\n",
              "0.5    0.013586\n",
              "Name: rating, dtype: float64"
            ]
          },
          "metadata": {
            "tags": []
          },
          "execution_count": 13
        }
      ]
    },
    {
      "cell_type": "code",
      "metadata": {
        "colab": {
          "base_uri": "https://localhost:8080/"
        },
        "id": "eCw6qqtxWX3D",
        "outputId": "f2bdefbb-38dd-47b1-c6ad-7f310361110a"
      },
      "source": [
        "ratings_df.rating.describe()"
      ],
      "execution_count": 14,
      "outputs": [
        {
          "output_type": "execute_result",
          "data": {
            "text/plain": [
              "count    100836.000000\n",
              "mean          3.501557\n",
              "std           1.042529\n",
              "min           0.500000\n",
              "25%           3.000000\n",
              "50%           3.500000\n",
              "75%           4.000000\n",
              "max           5.000000\n",
              "Name: rating, dtype: float64"
            ]
          },
          "metadata": {
            "tags": []
          },
          "execution_count": 14
        }
      ]
    },
    {
      "cell_type": "markdown",
      "metadata": {
        "id": "Qni4xZVdXAxc"
      },
      "source": [
        "Interestingly, the majority (almost half) of the ratings are 4.0 followed by 3.0. However, the mean and median are both 3.5. The histogram helps to see the distribution of the ratings. "
      ]
    },
    {
      "cell_type": "markdown",
      "metadata": {
        "id": "BFNDNa0R2QrM"
      },
      "source": [
        "***"
      ]
    },
    {
      "cell_type": "markdown",
      "metadata": {
        "id": "ykOSGiwp2elr"
      },
      "source": [
        "I will upload the tags csv into a pandas dataframe."
      ]
    },
    {
      "cell_type": "code",
      "metadata": {
        "colab": {
          "base_uri": "https://localhost:8080/",
          "height": 363
        },
        "id": "3I6kyfJCdc2L",
        "outputId": "42d35b1f-9c50-481f-bb8c-32b650ebea8f"
      },
      "source": [
        "url = 'https://raw.githubusercontent.com/villafue/Capstone_2_MovieLens/main/Data/tags.csv'\r\n",
        "tags_df = pd.read_csv(url)\r\n",
        "print(tags_df.shape, '\\n' * 2, 'The Movie Lens tags csv has: ', tags_df.shape[0], 'rows and ', tags_df.shape[1], 'columns.')\r\n",
        "# This makes a little barrier between printed outputs.\r\n",
        "print('\\n', '=' * 136, '\\n' * 2, 'tags_df Set:', '\\n')\r\n",
        "display(tags_df.head())\r\n",
        "print('\\n', '=' * 136)"
      ],
      "execution_count": 15,
      "outputs": [
        {
          "output_type": "stream",
          "text": [
            "(3683, 4) \n",
            "\n",
            " The Movie Lens tags csv has:  3683 rows and  4 columns.\n",
            "\n",
            " ======================================================================================================================================== \n",
            "\n",
            " tags_df Set: \n",
            "\n"
          ],
          "name": "stdout"
        },
        {
          "output_type": "display_data",
          "data": {
            "text/html": [
              "<div>\n",
              "<style scoped>\n",
              "    .dataframe tbody tr th:only-of-type {\n",
              "        vertical-align: middle;\n",
              "    }\n",
              "\n",
              "    .dataframe tbody tr th {\n",
              "        vertical-align: top;\n",
              "    }\n",
              "\n",
              "    .dataframe thead th {\n",
              "        text-align: right;\n",
              "    }\n",
              "</style>\n",
              "<table border=\"1\" class=\"dataframe\">\n",
              "  <thead>\n",
              "    <tr style=\"text-align: right;\">\n",
              "      <th></th>\n",
              "      <th>userId</th>\n",
              "      <th>movieId</th>\n",
              "      <th>tag</th>\n",
              "      <th>timestamp</th>\n",
              "    </tr>\n",
              "  </thead>\n",
              "  <tbody>\n",
              "    <tr>\n",
              "      <th>0</th>\n",
              "      <td>2</td>\n",
              "      <td>60756</td>\n",
              "      <td>funny</td>\n",
              "      <td>1445714994</td>\n",
              "    </tr>\n",
              "    <tr>\n",
              "      <th>1</th>\n",
              "      <td>2</td>\n",
              "      <td>60756</td>\n",
              "      <td>Highly quotable</td>\n",
              "      <td>1445714996</td>\n",
              "    </tr>\n",
              "    <tr>\n",
              "      <th>2</th>\n",
              "      <td>2</td>\n",
              "      <td>60756</td>\n",
              "      <td>will ferrell</td>\n",
              "      <td>1445714992</td>\n",
              "    </tr>\n",
              "    <tr>\n",
              "      <th>3</th>\n",
              "      <td>2</td>\n",
              "      <td>89774</td>\n",
              "      <td>Boxing story</td>\n",
              "      <td>1445715207</td>\n",
              "    </tr>\n",
              "    <tr>\n",
              "      <th>4</th>\n",
              "      <td>2</td>\n",
              "      <td>89774</td>\n",
              "      <td>MMA</td>\n",
              "      <td>1445715200</td>\n",
              "    </tr>\n",
              "  </tbody>\n",
              "</table>\n",
              "</div>"
            ],
            "text/plain": [
              "   userId  movieId              tag   timestamp\n",
              "0       2    60756            funny  1445714994\n",
              "1       2    60756  Highly quotable  1445714996\n",
              "2       2    60756     will ferrell  1445714992\n",
              "3       2    89774     Boxing story  1445715207\n",
              "4       2    89774              MMA  1445715200"
            ]
          },
          "metadata": {
            "tags": []
          }
        },
        {
          "output_type": "stream",
          "text": [
            "\n",
            " ========================================================================================================================================\n"
          ],
          "name": "stdout"
        }
      ]
    },
    {
      "cell_type": "markdown",
      "metadata": {
        "id": "IK7eBB6U2KG7"
      },
      "source": [
        "This dataset has almost 3700 rows and 4 columns. It has a userId for each individual and a movieId for the \"tags\" each user gave. The \"tag\" column represents a word or short phrase given by each user. The timestamp column represents seconds since midnight Coordinated Universal Time (UTC) of January 1, 1970. "
      ]
    },
    {
      "cell_type": "code",
      "metadata": {
        "colab": {
          "base_uri": "https://localhost:8080/"
        },
        "id": "vrffOqyQ3kYh",
        "outputId": "d23c9a9f-576b-4c61-b07a-d9a926bb5b86"
      },
      "source": [
        "tags_df.info()"
      ],
      "execution_count": 16,
      "outputs": [
        {
          "output_type": "stream",
          "text": [
            "<class 'pandas.core.frame.DataFrame'>\n",
            "RangeIndex: 3683 entries, 0 to 3682\n",
            "Data columns (total 4 columns):\n",
            " #   Column     Non-Null Count  Dtype \n",
            "---  ------     --------------  ----- \n",
            " 0   userId     3683 non-null   int64 \n",
            " 1   movieId    3683 non-null   int64 \n",
            " 2   tag        3683 non-null   object\n",
            " 3   timestamp  3683 non-null   int64 \n",
            "dtypes: int64(3), object(1)\n",
            "memory usage: 115.2+ KB\n"
          ],
          "name": "stdout"
        }
      ]
    },
    {
      "cell_type": "markdown",
      "metadata": {
        "id": "vPNCH4A53pAY"
      },
      "source": [
        "There are no missing values. "
      ]
    },
    {
      "cell_type": "code",
      "metadata": {
        "colab": {
          "base_uri": "https://localhost:8080/"
        },
        "id": "K-x-JsUs3xVs",
        "outputId": "22d26a6b-6c2b-4e42-ba97-7dd09356dc8e"
      },
      "source": [
        "tags_df.userId.nunique()"
      ],
      "execution_count": 17,
      "outputs": [
        {
          "output_type": "execute_result",
          "data": {
            "text/plain": [
              "58"
            ]
          },
          "metadata": {
            "tags": []
          },
          "execution_count": 17
        }
      ]
    },
    {
      "cell_type": "code",
      "metadata": {
        "colab": {
          "base_uri": "https://localhost:8080/"
        },
        "id": "SSEqQRqn39ci",
        "outputId": "0835bd83-5565-4400-d5ec-45065eb716d0"
      },
      "source": [
        "tags_df.movieId.nunique()"
      ],
      "execution_count": 18,
      "outputs": [
        {
          "output_type": "execute_result",
          "data": {
            "text/plain": [
              "1572"
            ]
          },
          "metadata": {
            "tags": []
          },
          "execution_count": 18
        }
      ]
    },
    {
      "cell_type": "markdown",
      "metadata": {
        "id": "X137pzWq3svJ"
      },
      "source": [
        "There are only 58 individuals who gave tags to a total of 1572 movies."
      ]
    },
    {
      "cell_type": "markdown",
      "metadata": {
        "id": "WLtuOXNZ4EkO"
      },
      "source": [
        "***"
      ]
    },
    {
      "cell_type": "markdown",
      "metadata": {
        "id": "jg55Z4Ne4GTB"
      },
      "source": [
        "Now, I am going to join ratings and the movies together into one dataframe. This would allow me to see which users rated what movies, as well as the title for each movieId."
      ]
    },
    {
      "cell_type": "code",
      "metadata": {
        "colab": {
          "base_uri": "https://localhost:8080/",
          "height": 212
        },
        "id": "kjE6-uYbtChR",
        "outputId": "47eb447d-d6b1-41f4-c157-d550584d7ee3"
      },
      "source": [
        "us_mov_df = pd.merge(ratings_df, movies_df)\r\n",
        "print(us_mov_df.shape)\r\n",
        "us_mov_df.head()"
      ],
      "execution_count": 19,
      "outputs": [
        {
          "output_type": "stream",
          "text": [
            "(100836, 6)\n"
          ],
          "name": "stdout"
        },
        {
          "output_type": "execute_result",
          "data": {
            "text/html": [
              "<div>\n",
              "<style scoped>\n",
              "    .dataframe tbody tr th:only-of-type {\n",
              "        vertical-align: middle;\n",
              "    }\n",
              "\n",
              "    .dataframe tbody tr th {\n",
              "        vertical-align: top;\n",
              "    }\n",
              "\n",
              "    .dataframe thead th {\n",
              "        text-align: right;\n",
              "    }\n",
              "</style>\n",
              "<table border=\"1\" class=\"dataframe\">\n",
              "  <thead>\n",
              "    <tr style=\"text-align: right;\">\n",
              "      <th></th>\n",
              "      <th>userId</th>\n",
              "      <th>movieId</th>\n",
              "      <th>rating</th>\n",
              "      <th>timestamp</th>\n",
              "      <th>title</th>\n",
              "      <th>genres</th>\n",
              "    </tr>\n",
              "  </thead>\n",
              "  <tbody>\n",
              "    <tr>\n",
              "      <th>0</th>\n",
              "      <td>1</td>\n",
              "      <td>1</td>\n",
              "      <td>4.0</td>\n",
              "      <td>964982703</td>\n",
              "      <td>Toy Story (1995)</td>\n",
              "      <td>Adventure|Animation|Children|Comedy|Fantasy</td>\n",
              "    </tr>\n",
              "    <tr>\n",
              "      <th>1</th>\n",
              "      <td>5</td>\n",
              "      <td>1</td>\n",
              "      <td>4.0</td>\n",
              "      <td>847434962</td>\n",
              "      <td>Toy Story (1995)</td>\n",
              "      <td>Adventure|Animation|Children|Comedy|Fantasy</td>\n",
              "    </tr>\n",
              "    <tr>\n",
              "      <th>2</th>\n",
              "      <td>7</td>\n",
              "      <td>1</td>\n",
              "      <td>4.5</td>\n",
              "      <td>1106635946</td>\n",
              "      <td>Toy Story (1995)</td>\n",
              "      <td>Adventure|Animation|Children|Comedy|Fantasy</td>\n",
              "    </tr>\n",
              "    <tr>\n",
              "      <th>3</th>\n",
              "      <td>15</td>\n",
              "      <td>1</td>\n",
              "      <td>2.5</td>\n",
              "      <td>1510577970</td>\n",
              "      <td>Toy Story (1995)</td>\n",
              "      <td>Adventure|Animation|Children|Comedy|Fantasy</td>\n",
              "    </tr>\n",
              "    <tr>\n",
              "      <th>4</th>\n",
              "      <td>17</td>\n",
              "      <td>1</td>\n",
              "      <td>4.5</td>\n",
              "      <td>1305696483</td>\n",
              "      <td>Toy Story (1995)</td>\n",
              "      <td>Adventure|Animation|Children|Comedy|Fantasy</td>\n",
              "    </tr>\n",
              "  </tbody>\n",
              "</table>\n",
              "</div>"
            ],
            "text/plain": [
              "   userId  movieId  rating   timestamp             title  \\\n",
              "0       1        1     4.0   964982703  Toy Story (1995)   \n",
              "1       5        1     4.0   847434962  Toy Story (1995)   \n",
              "2       7        1     4.5  1106635946  Toy Story (1995)   \n",
              "3      15        1     2.5  1510577970  Toy Story (1995)   \n",
              "4      17        1     4.5  1305696483  Toy Story (1995)   \n",
              "\n",
              "                                        genres  \n",
              "0  Adventure|Animation|Children|Comedy|Fantasy  \n",
              "1  Adventure|Animation|Children|Comedy|Fantasy  \n",
              "2  Adventure|Animation|Children|Comedy|Fantasy  \n",
              "3  Adventure|Animation|Children|Comedy|Fantasy  \n",
              "4  Adventure|Animation|Children|Comedy|Fantasy  "
            ]
          },
          "metadata": {
            "tags": []
          },
          "execution_count": 19
        }
      ]
    },
    {
      "cell_type": "markdown",
      "metadata": {
        "id": "d5zqdOPH51F4"
      },
      "source": [
        "I'm happy that it worked, but I need to sort it to make sense. I will sort first by the userId and then by the movieId"
      ]
    },
    {
      "cell_type": "code",
      "metadata": {
        "id": "LX4gNLyn4-W8"
      },
      "source": [
        "us_mov_df.sort_values(by=['userId', 'movieId'], inplace=True)"
      ],
      "execution_count": 20,
      "outputs": []
    },
    {
      "cell_type": "markdown",
      "metadata": {
        "id": "iibhWHqtbWCI"
      },
      "source": [
        "I want to see how my movies are distributed."
      ]
    },
    {
      "cell_type": "code",
      "metadata": {
        "colab": {
          "base_uri": "https://localhost:8080/"
        },
        "id": "RF0uMdpuaGuU",
        "outputId": "6f2ab76e-40b9-42cf-b44b-9d3ee169e0f6"
      },
      "source": [
        "us_mov_df.title.value_counts().describe()"
      ],
      "execution_count": 22,
      "outputs": [
        {
          "output_type": "execute_result",
          "data": {
            "text/plain": [
              "count    9719.000000\n",
              "mean       10.375141\n",
              "std        22.406220\n",
              "min         1.000000\n",
              "25%         1.000000\n",
              "50%         3.000000\n",
              "75%         9.000000\n",
              "max       329.000000\n",
              "Name: title, dtype: float64"
            ]
          },
          "metadata": {
            "tags": []
          },
          "execution_count": 22
        }
      ]
    },
    {
      "cell_type": "markdown",
      "metadata": {
        "id": "9U2YCthMb_w-"
      },
      "source": [
        "The mean rating is about 10 but it's highly skewed as there a very popular movie with 329 ratings. In contrast, the median rating is only 3.0. This is very evident by the histogram below. The vast majority of the ratings, for each movie, are below 50."
      ]
    },
    {
      "cell_type": "code",
      "metadata": {
        "colab": {
          "base_uri": "https://localhost:8080/",
          "height": 285
        },
        "id": "Ko18y5S9aT7n",
        "outputId": "c520d115-c834-46f2-e4fc-f354ea1bcacc"
      },
      "source": [
        "us_mov_df.title.value_counts().plot(kind='hist')"
      ],
      "execution_count": 23,
      "outputs": [
        {
          "output_type": "execute_result",
          "data": {
            "text/plain": [
              "<matplotlib.axes._subplots.AxesSubplot at 0x7f6d469eb950>"
            ]
          },
          "metadata": {
            "tags": []
          },
          "execution_count": 23
        },
        {
          "output_type": "display_data",
          "data": {
            "image/png": "[encoded data removed]",
            "text/plain": [
              "<Figure size 432x288 with 1 Axes>"
            ]
          },
          "metadata": {
            "tags": []
          }
        }
      ]
    },
    {
      "cell_type": "markdown",
      "metadata": {
        "id": "HJSbp0jYf2Kn"
      },
      "source": [
        "I want to see the distribution for movies with ratings less than 100."
      ]
    },
    {
      "cell_type": "code",
      "metadata": {
        "colab": {
          "base_uri": "https://localhost:8080/",
          "height": 402
        },
        "id": "kHwaJE6_czUZ",
        "outputId": "f0c8d82a-ba3b-4344-f896-74d624e0a623"
      },
      "source": [
        "us_mov_df_no_out = us_mov_df[us_mov_df['title'].map(us_mov_df['title'].value_counts()) < 100]\r\n",
        "us_mov_df_no_out"
      ],
      "execution_count": 24,
      "outputs": [
        {
          "output_type": "execute_result",
          "data": {
            "text/html": [
              "<div>\n",
              "<style scoped>\n",
              "    .dataframe tbody tr th:only-of-type {\n",
              "        vertical-align: middle;\n",
              "    }\n",
              "\n",
              "    .dataframe tbody tr th {\n",
              "        vertical-align: top;\n",
              "    }\n",
              "\n",
              "    .dataframe thead th {\n",
              "        text-align: right;\n",
              "    }\n",
              "</style>\n",
              "<table border=\"1\" class=\"dataframe\">\n",
              "  <thead>\n",
              "    <tr style=\"text-align: right;\">\n",
              "      <th></th>\n",
              "      <th>userId</th>\n",
              "      <th>movieId</th>\n",
              "      <th>rating</th>\n",
              "      <th>timestamp</th>\n",
              "      <th>title</th>\n",
              "      <th>genres</th>\n",
              "    </tr>\n",
              "  </thead>\n",
              "  <tbody>\n",
              "    <tr>\n",
              "      <th>215</th>\n",
              "      <td>1</td>\n",
              "      <td>3</td>\n",
              "      <td>4.0</td>\n",
              "      <td>964981247</td>\n",
              "      <td>Grumpier Old Men (1995)</td>\n",
              "      <td>Comedy|Romance</td>\n",
              "    </tr>\n",
              "    <tr>\n",
              "      <th>776</th>\n",
              "      <td>1</td>\n",
              "      <td>70</td>\n",
              "      <td>3.0</td>\n",
              "      <td>964982400</td>\n",
              "      <td>From Dusk Till Dawn (1996)</td>\n",
              "      <td>Action|Comedy|Horror|Thriller</td>\n",
              "    </tr>\n",
              "    <tr>\n",
              "      <th>831</th>\n",
              "      <td>1</td>\n",
              "      <td>101</td>\n",
              "      <td>5.0</td>\n",
              "      <td>964980868</td>\n",
              "      <td>Bottle Rocket (1996)</td>\n",
              "      <td>Adventure|Comedy|Crime|Romance</td>\n",
              "    </tr>\n",
              "    <tr>\n",
              "      <th>1091</th>\n",
              "      <td>1</td>\n",
              "      <td>151</td>\n",
              "      <td>5.0</td>\n",
              "      <td>964984041</td>\n",
              "      <td>Rob Roy (1995)</td>\n",
              "      <td>Action|Drama|Romance|War</td>\n",
              "    </tr>\n",
              "    <tr>\n",
              "      <th>1135</th>\n",
              "      <td>1</td>\n",
              "      <td>157</td>\n",
              "      <td>5.0</td>\n",
              "      <td>964984100</td>\n",
              "      <td>Canadian Bacon (1995)</td>\n",
              "      <td>Comedy|War</td>\n",
              "    </tr>\n",
              "    <tr>\n",
              "      <th>...</th>\n",
              "      <td>...</td>\n",
              "      <td>...</td>\n",
              "      <td>...</td>\n",
              "      <td>...</td>\n",
              "      <td>...</td>\n",
              "      <td>...</td>\n",
              "    </tr>\n",
              "    <tr>\n",
              "      <th>81464</th>\n",
              "      <td>610</td>\n",
              "      <td>166534</td>\n",
              "      <td>4.0</td>\n",
              "      <td>1493848402</td>\n",
              "      <td>Split (2017)</td>\n",
              "      <td>Drama|Horror|Thriller</td>\n",
              "    </tr>\n",
              "    <tr>\n",
              "      <th>68922</th>\n",
              "      <td>610</td>\n",
              "      <td>168248</td>\n",
              "      <td>5.0</td>\n",
              "      <td>1493850091</td>\n",
              "      <td>John Wick: Chapter Two (2017)</td>\n",
              "      <td>Action|Crime|Thriller</td>\n",
              "    </tr>\n",
              "    <tr>\n",
              "      <th>81479</th>\n",
              "      <td>610</td>\n",
              "      <td>168250</td>\n",
              "      <td>5.0</td>\n",
              "      <td>1494273047</td>\n",
              "      <td>Get Out (2017)</td>\n",
              "      <td>Horror</td>\n",
              "    </tr>\n",
              "    <tr>\n",
              "      <th>57554</th>\n",
              "      <td>610</td>\n",
              "      <td>168252</td>\n",
              "      <td>5.0</td>\n",
              "      <td>1493846352</td>\n",
              "      <td>Logan (2017)</td>\n",
              "      <td>Action|Sci-Fi</td>\n",
              "    </tr>\n",
              "    <tr>\n",
              "      <th>79014</th>\n",
              "      <td>610</td>\n",
              "      <td>170875</td>\n",
              "      <td>3.0</td>\n",
              "      <td>1493846415</td>\n",
              "      <td>The Fate of the Furious (2017)</td>\n",
              "      <td>Action|Crime|Drama|Thriller</td>\n",
              "    </tr>\n",
              "  </tbody>\n",
              "</table>\n",
              "<p>80648 rows × 6 columns</p>\n",
              "</div>"
            ],
            "text/plain": [
              "       userId  movieId  rating   timestamp                           title  \\\n",
              "215         1        3     4.0   964981247         Grumpier Old Men (1995)   \n",
              "776         1       70     3.0   964982400      From Dusk Till Dawn (1996)   \n",
              "831         1      101     5.0   964980868            Bottle Rocket (1996)   \n",
              "1091        1      151     5.0   964984041                  Rob Roy (1995)   \n",
              "1135        1      157     5.0   964984100           Canadian Bacon (1995)   \n",
              "...       ...      ...     ...         ...                             ...   \n",
              "81464     610   166534     4.0  1493848402                    Split (2017)   \n",
              "68922     610   168248     5.0  1493850091   John Wick: Chapter Two (2017)   \n",
              "81479     610   168250     5.0  1494273047                  Get Out (2017)   \n",
              "57554     610   168252     5.0  1493846352                    Logan (2017)   \n",
              "79014     610   170875     3.0  1493846415  The Fate of the Furious (2017)   \n",
              "\n",
              "                               genres  \n",
              "215                    Comedy|Romance  \n",
              "776     Action|Comedy|Horror|Thriller  \n",
              "831    Adventure|Comedy|Crime|Romance  \n",
              "1091         Action|Drama|Romance|War  \n",
              "1135                       Comedy|War  \n",
              "...                               ...  \n",
              "81464           Drama|Horror|Thriller  \n",
              "68922           Action|Crime|Thriller  \n",
              "81479                          Horror  \n",
              "57554                   Action|Sci-Fi  \n",
              "79014     Action|Crime|Drama|Thriller  \n",
              "\n",
              "[80648 rows x 6 columns]"
            ]
          },
          "metadata": {
            "tags": []
          },
          "execution_count": 24
        }
      ]
    },
    {
      "cell_type": "markdown",
      "metadata": {
        "id": "MgFytcmtgEpJ"
      },
      "source": [
        "It dropped at least 20k rows."
      ]
    },
    {
      "cell_type": "code",
      "metadata": {
        "colab": {
          "base_uri": "https://localhost:8080/"
        },
        "id": "3xRipIahgISj",
        "outputId": "64566d68-9b0d-4cb9-a4ef-e9cff5f58e2a"
      },
      "source": [
        "us_mov_df_no_out.title.value_counts().describe()"
      ],
      "execution_count": 25,
      "outputs": [
        {
          "output_type": "execute_result",
          "data": {
            "text/plain": [
              "count    9581.000000\n",
              "mean        8.417493\n",
              "std        14.397547\n",
              "min         1.000000\n",
              "25%         1.000000\n",
              "50%         3.000000\n",
              "75%         8.000000\n",
              "max        99.000000\n",
              "Name: title, dtype: float64"
            ]
          },
          "metadata": {
            "tags": []
          },
          "execution_count": 25
        }
      ]
    },
    {
      "cell_type": "code",
      "metadata": {
        "colab": {
          "base_uri": "https://localhost:8080/",
          "height": 285
        },
        "id": "8eSLNjEBgUqn",
        "outputId": "cdbe66bc-c8e9-4a3f-f164-0d8c96f2cd51"
      },
      "source": [
        "us_mov_df_no_out.title.value_counts().hist()"
      ],
      "execution_count": 26,
      "outputs": [
        {
          "output_type": "execute_result",
          "data": {
            "text/plain": [
              "<matplotlib.axes._subplots.AxesSubplot at 0x7f6d284a8250>"
            ]
          },
          "metadata": {
            "tags": []
          },
          "execution_count": 26
        },
        {
          "output_type": "display_data",
          "data": {
            "image/png": "[encoded data removed]",
            "text/plain": [
              "<Figure size 432x288 with 1 Axes>"
            ]
          },
          "metadata": {
            "tags": []
          }
        }
      ]
    },
    {
      "cell_type": "markdown",
      "metadata": {
        "id": "hiaOSqTVg2KM"
      },
      "source": [
        "The vast majority of ratings are under 10. I'm going to filter one more time but this time for movies with 10 or less ratings."
      ]
    },
    {
      "cell_type": "code",
      "metadata": {
        "colab": {
          "base_uri": "https://localhost:8080/",
          "height": 402
        },
        "id": "jK2zkr-Cg_O1",
        "outputId": "df680f87-20ca-4ba2-b03e-af5031664088"
      },
      "source": [
        "us_mov_df_no_out20 = us_mov_df[us_mov_df['title'].map(us_mov_df['title'].value_counts()) <= 10]\r\n",
        "us_mov_df_no_out20"
      ],
      "execution_count": 27,
      "outputs": [
        {
          "output_type": "execute_result",
          "data": {
            "text/html": [
              "<div>\n",
              "<style scoped>\n",
              "    .dataframe tbody tr th:only-of-type {\n",
              "        vertical-align: middle;\n",
              "    }\n",
              "\n",
              "    .dataframe tbody tr th {\n",
              "        vertical-align: top;\n",
              "    }\n",
              "\n",
              "    .dataframe thead th {\n",
              "        text-align: right;\n",
              "    }\n",
              "</style>\n",
              "<table border=\"1\" class=\"dataframe\">\n",
              "  <thead>\n",
              "    <tr style=\"text-align: right;\">\n",
              "      <th></th>\n",
              "      <th>userId</th>\n",
              "      <th>movieId</th>\n",
              "      <th>rating</th>\n",
              "      <th>timestamp</th>\n",
              "      <th>title</th>\n",
              "      <th>genres</th>\n",
              "    </tr>\n",
              "  </thead>\n",
              "  <tbody>\n",
              "    <tr>\n",
              "      <th>2946</th>\n",
              "      <td>1</td>\n",
              "      <td>423</td>\n",
              "      <td>3.0</td>\n",
              "      <td>964982363</td>\n",
              "      <td>Blown Away (1994)</td>\n",
              "      <td>Action|Thriller</td>\n",
              "    </tr>\n",
              "    <tr>\n",
              "      <th>5540</th>\n",
              "      <td>1</td>\n",
              "      <td>804</td>\n",
              "      <td>4.0</td>\n",
              "      <td>964980499</td>\n",
              "      <td>She's the One (1996)</td>\n",
              "      <td>Comedy|Romance</td>\n",
              "    </tr>\n",
              "    <tr>\n",
              "      <th>5709</th>\n",
              "      <td>1</td>\n",
              "      <td>940</td>\n",
              "      <td>5.0</td>\n",
              "      <td>964982176</td>\n",
              "      <td>Adventures of Robin Hood, The (1938)</td>\n",
              "      <td>Action|Adventure|Romance</td>\n",
              "    </tr>\n",
              "    <tr>\n",
              "      <th>5717</th>\n",
              "      <td>1</td>\n",
              "      <td>943</td>\n",
              "      <td>4.0</td>\n",
              "      <td>964983614</td>\n",
              "      <td>Ghost and Mrs. Muir, The (1947)</td>\n",
              "      <td>Drama|Fantasy|Romance</td>\n",
              "    </tr>\n",
              "    <tr>\n",
              "      <th>5742</th>\n",
              "      <td>1</td>\n",
              "      <td>1009</td>\n",
              "      <td>3.0</td>\n",
              "      <td>964981775</td>\n",
              "      <td>Escape to Witch Mountain (1975)</td>\n",
              "      <td>Adventure|Children|Fantasy</td>\n",
              "    </tr>\n",
              "    <tr>\n",
              "      <th>...</th>\n",
              "      <td>...</td>\n",
              "      <td>...</td>\n",
              "      <td>...</td>\n",
              "      <td>...</td>\n",
              "      <td>...</td>\n",
              "      <td>...</td>\n",
              "    </tr>\n",
              "    <tr>\n",
              "      <th>100834</th>\n",
              "      <td>610</td>\n",
              "      <td>163937</td>\n",
              "      <td>3.5</td>\n",
              "      <td>1493848789</td>\n",
              "      <td>Blair Witch (2016)</td>\n",
              "      <td>Horror|Thriller</td>\n",
              "    </tr>\n",
              "    <tr>\n",
              "      <th>100835</th>\n",
              "      <td>610</td>\n",
              "      <td>163981</td>\n",
              "      <td>3.5</td>\n",
              "      <td>1493850155</td>\n",
              "      <td>31 (2016)</td>\n",
              "      <td>Horror</td>\n",
              "    </tr>\n",
              "    <tr>\n",
              "      <th>81464</th>\n",
              "      <td>610</td>\n",
              "      <td>166534</td>\n",
              "      <td>4.0</td>\n",
              "      <td>1493848402</td>\n",
              "      <td>Split (2017)</td>\n",
              "      <td>Drama|Horror|Thriller</td>\n",
              "    </tr>\n",
              "    <tr>\n",
              "      <th>68922</th>\n",
              "      <td>610</td>\n",
              "      <td>168248</td>\n",
              "      <td>5.0</td>\n",
              "      <td>1493850091</td>\n",
              "      <td>John Wick: Chapter Two (2017)</td>\n",
              "      <td>Action|Crime|Thriller</td>\n",
              "    </tr>\n",
              "    <tr>\n",
              "      <th>79014</th>\n",
              "      <td>610</td>\n",
              "      <td>170875</td>\n",
              "      <td>3.0</td>\n",
              "      <td>1493846415</td>\n",
              "      <td>The Fate of the Furious (2017)</td>\n",
              "      <td>Action|Crime|Drama|Thriller</td>\n",
              "    </tr>\n",
              "  </tbody>\n",
              "</table>\n",
              "<p>21196 rows × 6 columns</p>\n",
              "</div>"
            ],
            "text/plain": [
              "        userId  movieId  rating   timestamp  \\\n",
              "2946         1      423     3.0   964982363   \n",
              "5540         1      804     4.0   964980499   \n",
              "5709         1      940     5.0   964982176   \n",
              "5717         1      943     4.0   964983614   \n",
              "5742         1     1009     3.0   964981775   \n",
              "...        ...      ...     ...         ...   \n",
              "100834     610   163937     3.5  1493848789   \n",
              "100835     610   163981     3.5  1493850155   \n",
              "81464      610   166534     4.0  1493848402   \n",
              "68922      610   168248     5.0  1493850091   \n",
              "79014      610   170875     3.0  1493846415   \n",
              "\n",
              "                                       title                       genres  \n",
              "2946                       Blown Away (1994)              Action|Thriller  \n",
              "5540                    She's the One (1996)               Comedy|Romance  \n",
              "5709    Adventures of Robin Hood, The (1938)     Action|Adventure|Romance  \n",
              "5717         Ghost and Mrs. Muir, The (1947)        Drama|Fantasy|Romance  \n",
              "5742         Escape to Witch Mountain (1975)   Adventure|Children|Fantasy  \n",
              "...                                      ...                          ...  \n",
              "100834                    Blair Witch (2016)              Horror|Thriller  \n",
              "100835                             31 (2016)                       Horror  \n",
              "81464                           Split (2017)        Drama|Horror|Thriller  \n",
              "68922          John Wick: Chapter Two (2017)        Action|Crime|Thriller  \n",
              "79014         The Fate of the Furious (2017)  Action|Crime|Drama|Thriller  \n",
              "\n",
              "[21196 rows x 6 columns]"
            ]
          },
          "metadata": {
            "tags": []
          },
          "execution_count": 27
        }
      ]
    },
    {
      "cell_type": "code",
      "metadata": {
        "colab": {
          "base_uri": "https://localhost:8080/"
        },
        "id": "Fh70uTr-hT7y",
        "outputId": "9041f7ce-8060-4282-d718-b5db237e5c08"
      },
      "source": [
        "us_mov_df_no_out20.title.value_counts().describe()"
      ],
      "execution_count": 28,
      "outputs": [
        {
          "output_type": "execute_result",
          "data": {
            "text/plain": [
              "count    7598.000000\n",
              "mean        2.789681\n",
              "std         2.387385\n",
              "min         1.000000\n",
              "25%         1.000000\n",
              "50%         2.000000\n",
              "75%         4.000000\n",
              "max        10.000000\n",
              "Name: title, dtype: float64"
            ]
          },
          "metadata": {
            "tags": []
          },
          "execution_count": 28
        }
      ]
    },
    {
      "cell_type": "code",
      "metadata": {
        "colab": {
          "base_uri": "https://localhost:8080/",
          "height": 285
        },
        "id": "N0ZhWsoqhh_w",
        "outputId": "389d5626-ec75-4fe7-a45e-2977a14f18ba"
      },
      "source": [
        "us_mov_df_no_out20.title.value_counts().hist()"
      ],
      "execution_count": 29,
      "outputs": [
        {
          "output_type": "execute_result",
          "data": {
            "text/plain": [
              "<matplotlib.axes._subplots.AxesSubplot at 0x7f6d2843b6d0>"
            ]
          },
          "metadata": {
            "tags": []
          },
          "execution_count": 29
        },
        {
          "output_type": "display_data",
          "data": {
            "image/png": "[encoded data removed]",
            "text/plain": [
              "<Figure size 432x288 with 1 Axes>"
            ]
          },
          "metadata": {
            "tags": []
          }
        }
      ]
    },
    {
      "cell_type": "code",
      "metadata": {
        "colab": {
          "base_uri": "https://localhost:8080/"
        },
        "id": "Ha_buc89iSv_",
        "outputId": "3b9b1efa-46f7-439f-c746-e2f9583970d0"
      },
      "source": [
        "1 - 7598/9719"
      ],
      "execution_count": 30,
      "outputs": [
        {
          "output_type": "execute_result",
          "data": {
            "text/plain": [
              "0.21823232842885065"
            ]
          },
          "metadata": {
            "tags": []
          },
          "execution_count": 30
        }
      ]
    },
    {
      "cell_type": "markdown",
      "metadata": {
        "id": "YSFeo4E6hO2k"
      },
      "source": [
        "Subsetting the ratings to less than 10 only resulted in about 22% loss of data. With almost 7600 ratings, the vast majority of movies had ratings less than 3. "
      ]
    },
    {
      "cell_type": "markdown",
      "metadata": {
        "id": "fcXaCd8Yivx8"
      },
      "source": [
        "I want to see the most rated movies"
      ]
    },
    {
      "cell_type": "code",
      "metadata": {
        "colab": {
          "base_uri": "https://localhost:8080/",
          "height": 402
        },
        "id": "3IY0rrtyjEii",
        "outputId": "2db53e73-4282-46d5-dc1b-7b69e2ad1803"
      },
      "source": [
        "us_mov_df_top10 = us_mov_df[us_mov_df['title'].map(us_mov_df['title'].value_counts()) > 10]\r\n",
        "us_mov_df_top10"
      ],
      "execution_count": 31,
      "outputs": [
        {
          "output_type": "execute_result",
          "data": {
            "text/html": [
              "<div>\n",
              "<style scoped>\n",
              "    .dataframe tbody tr th:only-of-type {\n",
              "        vertical-align: middle;\n",
              "    }\n",
              "\n",
              "    .dataframe tbody tr th {\n",
              "        vertical-align: top;\n",
              "    }\n",
              "\n",
              "    .dataframe thead th {\n",
              "        text-align: right;\n",
              "    }\n",
              "</style>\n",
              "<table border=\"1\" class=\"dataframe\">\n",
              "  <thead>\n",
              "    <tr style=\"text-align: right;\">\n",
              "      <th></th>\n",
              "      <th>userId</th>\n",
              "      <th>movieId</th>\n",
              "      <th>rating</th>\n",
              "      <th>timestamp</th>\n",
              "      <th>title</th>\n",
              "      <th>genres</th>\n",
              "    </tr>\n",
              "  </thead>\n",
              "  <tbody>\n",
              "    <tr>\n",
              "      <th>0</th>\n",
              "      <td>1</td>\n",
              "      <td>1</td>\n",
              "      <td>4.0</td>\n",
              "      <td>964982703</td>\n",
              "      <td>Toy Story (1995)</td>\n",
              "      <td>Adventure|Animation|Children|Comedy|Fantasy</td>\n",
              "    </tr>\n",
              "    <tr>\n",
              "      <th>215</th>\n",
              "      <td>1</td>\n",
              "      <td>3</td>\n",
              "      <td>4.0</td>\n",
              "      <td>964981247</td>\n",
              "      <td>Grumpier Old Men (1995)</td>\n",
              "      <td>Comedy|Romance</td>\n",
              "    </tr>\n",
              "    <tr>\n",
              "      <th>267</th>\n",
              "      <td>1</td>\n",
              "      <td>6</td>\n",
              "      <td>4.0</td>\n",
              "      <td>964982224</td>\n",
              "      <td>Heat (1995)</td>\n",
              "      <td>Action|Crime|Thriller</td>\n",
              "    </tr>\n",
              "    <tr>\n",
              "      <th>369</th>\n",
              "      <td>1</td>\n",
              "      <td>47</td>\n",
              "      <td>5.0</td>\n",
              "      <td>964983815</td>\n",
              "      <td>Seven (a.k.a. Se7en) (1995)</td>\n",
              "      <td>Mystery|Thriller</td>\n",
              "    </tr>\n",
              "    <tr>\n",
              "      <th>572</th>\n",
              "      <td>1</td>\n",
              "      <td>50</td>\n",
              "      <td>5.0</td>\n",
              "      <td>964982931</td>\n",
              "      <td>Usual Suspects, The (1995)</td>\n",
              "      <td>Crime|Mystery|Thriller</td>\n",
              "    </tr>\n",
              "    <tr>\n",
              "      <th>...</th>\n",
              "      <td>...</td>\n",
              "      <td>...</td>\n",
              "      <td>...</td>\n",
              "      <td>...</td>\n",
              "      <td>...</td>\n",
              "      <td>...</td>\n",
              "    </tr>\n",
              "    <tr>\n",
              "      <th>57473</th>\n",
              "      <td>610</td>\n",
              "      <td>159093</td>\n",
              "      <td>3.0</td>\n",
              "      <td>1493847704</td>\n",
              "      <td>Now You See Me 2 (2016)</td>\n",
              "      <td>Action|Comedy|Thriller</td>\n",
              "    </tr>\n",
              "    <tr>\n",
              "      <th>57528</th>\n",
              "      <td>610</td>\n",
              "      <td>164179</td>\n",
              "      <td>5.0</td>\n",
              "      <td>1493845631</td>\n",
              "      <td>Arrival (2016)</td>\n",
              "      <td>Sci-Fi</td>\n",
              "    </tr>\n",
              "    <tr>\n",
              "      <th>48424</th>\n",
              "      <td>610</td>\n",
              "      <td>166528</td>\n",
              "      <td>4.0</td>\n",
              "      <td>1493879365</td>\n",
              "      <td>Rogue One: A Star Wars Story (2016)</td>\n",
              "      <td>Action|Adventure|Fantasy|Sci-Fi</td>\n",
              "    </tr>\n",
              "    <tr>\n",
              "      <th>81479</th>\n",
              "      <td>610</td>\n",
              "      <td>168250</td>\n",
              "      <td>5.0</td>\n",
              "      <td>1494273047</td>\n",
              "      <td>Get Out (2017)</td>\n",
              "      <td>Horror</td>\n",
              "    </tr>\n",
              "    <tr>\n",
              "      <th>57554</th>\n",
              "      <td>610</td>\n",
              "      <td>168252</td>\n",
              "      <td>5.0</td>\n",
              "      <td>1493846352</td>\n",
              "      <td>Logan (2017)</td>\n",
              "      <td>Action|Sci-Fi</td>\n",
              "    </tr>\n",
              "  </tbody>\n",
              "</table>\n",
              "<p>79640 rows × 6 columns</p>\n",
              "</div>"
            ],
            "text/plain": [
              "       userId  movieId  rating   timestamp  \\\n",
              "0           1        1     4.0   964982703   \n",
              "215         1        3     4.0   964981247   \n",
              "267         1        6     4.0   964982224   \n",
              "369         1       47     5.0   964983815   \n",
              "572         1       50     5.0   964982931   \n",
              "...       ...      ...     ...         ...   \n",
              "57473     610   159093     3.0  1493847704   \n",
              "57528     610   164179     5.0  1493845631   \n",
              "48424     610   166528     4.0  1493879365   \n",
              "81479     610   168250     5.0  1494273047   \n",
              "57554     610   168252     5.0  1493846352   \n",
              "\n",
              "                                     title  \\\n",
              "0                         Toy Story (1995)   \n",
              "215                Grumpier Old Men (1995)   \n",
              "267                            Heat (1995)   \n",
              "369            Seven (a.k.a. Se7en) (1995)   \n",
              "572             Usual Suspects, The (1995)   \n",
              "...                                    ...   \n",
              "57473              Now You See Me 2 (2016)   \n",
              "57528                       Arrival (2016)   \n",
              "48424  Rogue One: A Star Wars Story (2016)   \n",
              "81479                       Get Out (2017)   \n",
              "57554                         Logan (2017)   \n",
              "\n",
              "                                            genres  \n",
              "0      Adventure|Animation|Children|Comedy|Fantasy  \n",
              "215                                 Comedy|Romance  \n",
              "267                          Action|Crime|Thriller  \n",
              "369                               Mystery|Thriller  \n",
              "572                         Crime|Mystery|Thriller  \n",
              "...                                            ...  \n",
              "57473                       Action|Comedy|Thriller  \n",
              "57528                                       Sci-Fi  \n",
              "48424              Action|Adventure|Fantasy|Sci-Fi  \n",
              "81479                                       Horror  \n",
              "57554                                Action|Sci-Fi  \n",
              "\n",
              "[79640 rows x 6 columns]"
            ]
          },
          "metadata": {
            "tags": []
          },
          "execution_count": 31
        }
      ]
    },
    {
      "cell_type": "code",
      "metadata": {
        "colab": {
          "base_uri": "https://localhost:8080/"
        },
        "id": "y3CYkd46XgAW",
        "outputId": "69358344-8731-4d32-dcb7-1c12eb192496"
      },
      "source": [
        "us_mov_df_top10.title.value_counts()"
      ],
      "execution_count": 32,
      "outputs": [
        {
          "output_type": "execute_result",
          "data": {
            "text/plain": [
              "Forrest Gump (1994)                               329\n",
              "Shawshank Redemption, The (1994)                  317\n",
              "Pulp Fiction (1994)                               307\n",
              "Silence of the Lambs, The (1991)                  279\n",
              "Matrix, The (1999)                                278\n",
              "                                                 ... \n",
              "Medicine Man (1992)                                11\n",
              "Dumb and Dumberer: When Harry Met Lloyd (2003)     11\n",
              "Children of the Corn (1984)                        11\n",
              "Dr. Dolittle 2 (2001)                              11\n",
              "Serious Man, A (2009)                              11\n",
              "Name: title, Length: 2121, dtype: int64"
            ]
          },
          "metadata": {
            "tags": []
          },
          "execution_count": 32
        }
      ]
    },
    {
      "cell_type": "code",
      "metadata": {
        "colab": {
          "base_uri": "https://localhost:8080/",
          "height": 285
        },
        "id": "UeoOHVVmjmpA",
        "outputId": "130d5487-da9c-4738-a8a0-29086e0eab18"
      },
      "source": [
        "us_mov_df_top10.title.value_counts().hist()"
      ],
      "execution_count": 33,
      "outputs": [
        {
          "output_type": "execute_result",
          "data": {
            "text/plain": [
              "<matplotlib.axes._subplots.AxesSubplot at 0x7f6d28360e10>"
            ]
          },
          "metadata": {
            "tags": []
          },
          "execution_count": 33
        },
        {
          "output_type": "display_data",
          "data": {
            "image/png": "[encoded data removed]",
            "text/plain": [
              "<Figure size 432x288 with 1 Axes>"
            ]
          },
          "metadata": {
            "tags": []
          }
        }
      ]
    },
    {
      "cell_type": "code",
      "metadata": {
        "colab": {
          "base_uri": "https://localhost:8080/"
        },
        "id": "xrWWfNADju11",
        "outputId": "5b229763-7a29-45fe-c3bd-751901944a1c"
      },
      "source": [
        "us_mov_df_top10.title.value_counts().describe()"
      ],
      "execution_count": 34,
      "outputs": [
        {
          "output_type": "execute_result",
          "data": {
            "text/plain": [
              "count    2121.000000\n",
              "mean       37.548326\n",
              "std        36.550697\n",
              "min        11.000000\n",
              "25%        15.000000\n",
              "50%        24.000000\n",
              "75%        45.000000\n",
              "max       329.000000\n",
              "Name: title, dtype: float64"
            ]
          },
          "metadata": {
            "tags": []
          },
          "execution_count": 34
        }
      ]
    },
    {
      "cell_type": "markdown",
      "metadata": {
        "id": "uh0IKVZYj5cx"
      },
      "source": [
        "I'm going to filter one more time to movies with 100 ratings or more."
      ]
    },
    {
      "cell_type": "code",
      "metadata": {
        "colab": {
          "base_uri": "https://localhost:8080/",
          "height": 402
        },
        "id": "eAi6BB5vkB8b",
        "outputId": "cc72c794-a843-4745-afe3-d8f60cb9af4d"
      },
      "source": [
        "us_mov_df_top100 = us_mov_df[us_mov_df['title'].map(us_mov_df['title'].value_counts()) >= 100]\r\n",
        "us_mov_df_top100"
      ],
      "execution_count": 35,
      "outputs": [
        {
          "output_type": "execute_result",
          "data": {
            "text/html": [
              "<div>\n",
              "<style scoped>\n",
              "    .dataframe tbody tr th:only-of-type {\n",
              "        vertical-align: middle;\n",
              "    }\n",
              "\n",
              "    .dataframe tbody tr th {\n",
              "        vertical-align: top;\n",
              "    }\n",
              "\n",
              "    .dataframe thead th {\n",
              "        text-align: right;\n",
              "    }\n",
              "</style>\n",
              "<table border=\"1\" class=\"dataframe\">\n",
              "  <thead>\n",
              "    <tr style=\"text-align: right;\">\n",
              "      <th></th>\n",
              "      <th>userId</th>\n",
              "      <th>movieId</th>\n",
              "      <th>rating</th>\n",
              "      <th>timestamp</th>\n",
              "      <th>title</th>\n",
              "      <th>genres</th>\n",
              "    </tr>\n",
              "  </thead>\n",
              "  <tbody>\n",
              "    <tr>\n",
              "      <th>0</th>\n",
              "      <td>1</td>\n",
              "      <td>1</td>\n",
              "      <td>4.0</td>\n",
              "      <td>964982703</td>\n",
              "      <td>Toy Story (1995)</td>\n",
              "      <td>Adventure|Animation|Children|Comedy|Fantasy</td>\n",
              "    </tr>\n",
              "    <tr>\n",
              "      <th>267</th>\n",
              "      <td>1</td>\n",
              "      <td>6</td>\n",
              "      <td>4.0</td>\n",
              "      <td>964982224</td>\n",
              "      <td>Heat (1995)</td>\n",
              "      <td>Action|Crime|Thriller</td>\n",
              "    </tr>\n",
              "    <tr>\n",
              "      <th>369</th>\n",
              "      <td>1</td>\n",
              "      <td>47</td>\n",
              "      <td>5.0</td>\n",
              "      <td>964983815</td>\n",
              "      <td>Seven (a.k.a. Se7en) (1995)</td>\n",
              "      <td>Mystery|Thriller</td>\n",
              "    </tr>\n",
              "    <tr>\n",
              "      <th>572</th>\n",
              "      <td>1</td>\n",
              "      <td>50</td>\n",
              "      <td>5.0</td>\n",
              "      <td>964982931</td>\n",
              "      <td>Usual Suspects, The (1995)</td>\n",
              "      <td>Crime|Mystery|Thriller</td>\n",
              "    </tr>\n",
              "    <tr>\n",
              "      <th>854</th>\n",
              "      <td>1</td>\n",
              "      <td>110</td>\n",
              "      <td>4.0</td>\n",
              "      <td>964982176</td>\n",
              "      <td>Braveheart (1995)</td>\n",
              "      <td>Action|Drama|War</td>\n",
              "    </tr>\n",
              "    <tr>\n",
              "      <th>...</th>\n",
              "      <td>...</td>\n",
              "      <td>...</td>\n",
              "      <td>...</td>\n",
              "      <td>...</td>\n",
              "      <td>...</td>\n",
              "      <td>...</td>\n",
              "    </tr>\n",
              "    <tr>\n",
              "      <th>17063</th>\n",
              "      <td>610</td>\n",
              "      <td>48516</td>\n",
              "      <td>5.0</td>\n",
              "      <td>1479542152</td>\n",
              "      <td>Departed, The (2006)</td>\n",
              "      <td>Crime|Drama|Thriller</td>\n",
              "    </tr>\n",
              "    <tr>\n",
              "      <th>17212</th>\n",
              "      <td>610</td>\n",
              "      <td>58559</td>\n",
              "      <td>4.5</td>\n",
              "      <td>1493844688</td>\n",
              "      <td>Dark Knight, The (2008)</td>\n",
              "      <td>Action|Crime|Drama|IMAX</td>\n",
              "    </tr>\n",
              "    <tr>\n",
              "      <th>47305</th>\n",
              "      <td>610</td>\n",
              "      <td>60069</td>\n",
              "      <td>4.5</td>\n",
              "      <td>1493844866</td>\n",
              "      <td>WALL·E (2008)</td>\n",
              "      <td>Adventure|Animation|Children|Romance|Sci-Fi</td>\n",
              "    </tr>\n",
              "    <tr>\n",
              "      <th>42426</th>\n",
              "      <td>610</td>\n",
              "      <td>68954</td>\n",
              "      <td>3.5</td>\n",
              "      <td>1493844881</td>\n",
              "      <td>Up (2009)</td>\n",
              "      <td>Adventure|Animation|Children|Drama</td>\n",
              "    </tr>\n",
              "    <tr>\n",
              "      <th>17604</th>\n",
              "      <td>610</td>\n",
              "      <td>79132</td>\n",
              "      <td>4.0</td>\n",
              "      <td>1493844703</td>\n",
              "      <td>Inception (2010)</td>\n",
              "      <td>Action|Crime|Drama|Mystery|Sci-Fi|Thriller|IMAX</td>\n",
              "    </tr>\n",
              "  </tbody>\n",
              "</table>\n",
              "<p>20188 rows × 6 columns</p>\n",
              "</div>"
            ],
            "text/plain": [
              "       userId  movieId  rating   timestamp                        title  \\\n",
              "0           1        1     4.0   964982703             Toy Story (1995)   \n",
              "267         1        6     4.0   964982224                  Heat (1995)   \n",
              "369         1       47     5.0   964983815  Seven (a.k.a. Se7en) (1995)   \n",
              "572         1       50     5.0   964982931   Usual Suspects, The (1995)   \n",
              "854         1      110     4.0   964982176            Braveheart (1995)   \n",
              "...       ...      ...     ...         ...                          ...   \n",
              "17063     610    48516     5.0  1479542152         Departed, The (2006)   \n",
              "17212     610    58559     4.5  1493844688      Dark Knight, The (2008)   \n",
              "47305     610    60069     4.5  1493844866                WALL·E (2008)   \n",
              "42426     610    68954     3.5  1493844881                    Up (2009)   \n",
              "17604     610    79132     4.0  1493844703             Inception (2010)   \n",
              "\n",
              "                                                genres  \n",
              "0          Adventure|Animation|Children|Comedy|Fantasy  \n",
              "267                              Action|Crime|Thriller  \n",
              "369                                   Mystery|Thriller  \n",
              "572                             Crime|Mystery|Thriller  \n",
              "854                                   Action|Drama|War  \n",
              "...                                                ...  \n",
              "17063                             Crime|Drama|Thriller  \n",
              "17212                          Action|Crime|Drama|IMAX  \n",
              "47305      Adventure|Animation|Children|Romance|Sci-Fi  \n",
              "42426               Adventure|Animation|Children|Drama  \n",
              "17604  Action|Crime|Drama|Mystery|Sci-Fi|Thriller|IMAX  \n",
              "\n",
              "[20188 rows x 6 columns]"
            ]
          },
          "metadata": {
            "tags": []
          },
          "execution_count": 35
        }
      ]
    },
    {
      "cell_type": "code",
      "metadata": {
        "colab": {
          "base_uri": "https://localhost:8080/"
        },
        "id": "h2QVuPIckQ0q",
        "outputId": "1af7150c-763e-4cca-be80-9396fbb8aab5"
      },
      "source": [
        "us_mov_df_top100.title.value_counts()"
      ],
      "execution_count": 36,
      "outputs": [
        {
          "output_type": "execute_result",
          "data": {
            "text/plain": [
              "Forrest Gump (1994)                                   329\n",
              "Shawshank Redemption, The (1994)                      317\n",
              "Pulp Fiction (1994)                                   307\n",
              "Silence of the Lambs, The (1991)                      279\n",
              "Matrix, The (1999)                                    278\n",
              "                                                     ... \n",
              "Cliffhanger (1993)                                    101\n",
              "Austin Powers: International Man of Mystery (1997)    100\n",
              "Casablanca (1942)                                     100\n",
              "V for Vendetta (2006)                                 100\n",
              "Cast Away (2000)                                      100\n",
              "Name: title, Length: 138, dtype: int64"
            ]
          },
          "metadata": {
            "tags": []
          },
          "execution_count": 36
        }
      ]
    },
    {
      "cell_type": "code",
      "metadata": {
        "colab": {
          "base_uri": "https://localhost:8080/"
        },
        "id": "BXldtppNkYhN",
        "outputId": "9ffba529-c50d-4913-af6a-116d2fcd37d8"
      },
      "source": [
        "us_mov_df_top100.title.value_counts().describe()"
      ],
      "execution_count": 37,
      "outputs": [
        {
          "output_type": "execute_result",
          "data": {
            "text/plain": [
              "count    138.000000\n",
              "mean     146.289855\n",
              "std       47.339002\n",
              "min      100.000000\n",
              "25%      110.000000\n",
              "50%      131.000000\n",
              "75%      170.750000\n",
              "max      329.000000\n",
              "Name: title, dtype: float64"
            ]
          },
          "metadata": {
            "tags": []
          },
          "execution_count": 37
        }
      ]
    },
    {
      "cell_type": "code",
      "metadata": {
        "colab": {
          "base_uri": "https://localhost:8080/",
          "height": 285
        },
        "id": "ZD7ahIgjkhKH",
        "outputId": "6d9d49e7-ecf7-47b9-d81b-c62ca32dcbd8"
      },
      "source": [
        "us_mov_df_top100.title.value_counts().hist()"
      ],
      "execution_count": 38,
      "outputs": [
        {
          "output_type": "execute_result",
          "data": {
            "text/plain": [
              "<matplotlib.axes._subplots.AxesSubplot at 0x7f6d282f4310>"
            ]
          },
          "metadata": {
            "tags": []
          },
          "execution_count": 38
        },
        {
          "output_type": "display_data",
          "data": {
            "image/png": "[encoded data removed]",
            "text/plain": [
              "<Figure size 432x288 with 1 Axes>"
            ]
          },
          "metadata": {
            "tags": []
          }
        }
      ]
    },
    {
      "cell_type": "markdown",
      "metadata": {
        "id": "qPnrNr-y5pUf"
      },
      "source": [
        "I want to see a list of the most rated 50 movies"
      ]
    },
    {
      "cell_type": "code",
      "metadata": {
        "colab": {
          "base_uri": "https://localhost:8080/"
        },
        "id": "GYJcS4aL5Zzd",
        "outputId": "0167e220-9ae6-4c62-c27f-9bc14e9cca58"
      },
      "source": [
        "most_rated = us_mov_df_top100.groupby('title').size().sort_values(ascending=False)[:50]\r\n",
        "most_rated.head(50)"
      ],
      "execution_count": 46,
      "outputs": [
        {
          "output_type": "execute_result",
          "data": {
            "text/plain": [
              "title\n",
              "Forrest Gump (1994)                                                               329\n",
              "Shawshank Redemption, The (1994)                                                  317\n",
              "Pulp Fiction (1994)                                                               307\n",
              "Silence of the Lambs, The (1991)                                                  279\n",
              "Matrix, The (1999)                                                                278\n",
              "Star Wars: Episode IV - A New Hope (1977)                                         251\n",
              "Jurassic Park (1993)                                                              238\n",
              "Braveheart (1995)                                                                 237\n",
              "Terminator 2: Judgment Day (1991)                                                 224\n",
              "Schindler's List (1993)                                                           220\n",
              "Fight Club (1999)                                                                 218\n",
              "Toy Story (1995)                                                                  215\n",
              "Star Wars: Episode V - The Empire Strikes Back (1980)                             211\n",
              "American Beauty (1999)                                                            204\n",
              "Usual Suspects, The (1995)                                                        204\n",
              "Seven (a.k.a. Se7en) (1995)                                                       203\n",
              "Independence Day (a.k.a. ID4) (1996)                                              202\n",
              "Apollo 13 (1995)                                                                  201\n",
              "Raiders of the Lost Ark (Indiana Jones and the Raiders of the Lost Ark) (1981)    200\n",
              "Lord of the Rings: The Fellowship of the Ring, The (2001)                         198\n",
              "Star Wars: Episode VI - Return of the Jedi (1983)                                 196\n",
              "Godfather, The (1972)                                                             192\n",
              "Fugitive, The (1993)                                                              190\n",
              "Batman (1989)                                                                     189\n",
              "Lord of the Rings: The Two Towers, The (2002)                                     188\n",
              "Saving Private Ryan (1998)                                                        188\n",
              "Lord of the Rings: The Return of the King, The (2003)                             185\n",
              "Aladdin (1992)                                                                    183\n",
              "Fargo (1996)                                                                      181\n",
              "Sixth Sense, The (1999)                                                           179\n",
              "True Lies (1994)                                                                  178\n",
              "Twelve Monkeys (a.k.a. 12 Monkeys) (1995)                                         177\n",
              "Lion King, The (1994)                                                             172\n",
              "Back to the Future (1985)                                                         171\n",
              "Speed (1994)                                                                      171\n",
              "Gladiator (2000)                                                                  170\n",
              "Shrek (2001)                                                                      170\n",
              "Men in Black (a.k.a. MIB) (1997)                                                  165\n",
              "Dances with Wolves (1990)                                                         164\n",
              "Mission: Impossible (1996)                                                        162\n",
              "Ace Ventura: Pet Detective (1994)                                                 161\n",
              "Memento (2000)                                                                    159\n",
              "Mask, The (1994)                                                                  157\n",
              "Pirates of the Caribbean: The Curse of the Black Pearl (2003)                     149\n",
              "Dark Knight, The (2008)                                                           149\n",
              "Beauty and the Beast (1991)                                                       146\n",
              "Alien (1979)                                                                      146\n",
              "Die Hard (1988)                                                                   145\n",
              "Die Hard: With a Vengeance (1995)                                                 144\n",
              "Mrs. Doubtfire (1993)                                                             144\n",
              "dtype: int64"
            ]
          },
          "metadata": {
            "tags": []
          },
          "execution_count": 46
        }
      ]
    },
    {
      "cell_type": "markdown",
      "metadata": {
        "id": "VpP3oyMQ5V5K"
      },
      "source": [
        "***"
      ]
    },
    {
      "cell_type": "markdown",
      "metadata": {
        "id": "afuk-FOP7qF8"
      },
      "source": [
        "***"
      ]
    },
    {
      "cell_type": "markdown",
      "metadata": {
        "id": "9yk9Hjdm7tFs"
      },
      "source": [
        "Next, I want see the count of genres for the movies. Thank you [Jagannath Neupane](https://www.kaggle.com/jneupane12/analysis-of-movielens-dataset-beginner-sanalysis) for the code below:"
      ]
    },
    {
      "cell_type": "code",
      "metadata": {
        "id": "sz8WX8Wq6787"
      },
      "source": [
        "#define a function that counts the number of times each genre appear:\r\n",
        "def count_word(df, ref_col, liste):\r\n",
        "    keyword_count = dict()\r\n",
        "    for s in liste: keyword_count[s] = 0\r\n",
        "    for liste_keywords in df[ref_col].str.split('|'):\r\n",
        "        if type(liste_keywords) == float and pd.isnull(liste_keywords): continue\r\n",
        "        for s in liste_keywords: \r\n",
        "            if pd.notnull(s): keyword_count[s] += 1\r\n",
        "    # convert the dictionary in a list to sort the keywords  by frequency\r\n",
        "    keyword_occurences = []\r\n",
        "    for k,v in keyword_count.items():\r\n",
        "        keyword_occurences.append([k,v])\r\n",
        "    keyword_occurences.sort(key = lambda x:x[1], reverse = True)\r\n",
        "    return keyword_occurences, keyword_count"
      ],
      "execution_count": 47,
      "outputs": []
    },
    {
      "cell_type": "code",
      "metadata": {
        "id": "1Rr2ma9e7HbF"
      },
      "source": [
        "#here we  make census of the genres:\r\n",
        "genre_labels = set()\r\n",
        "for s in us_mov_df['genres'].str.split('|').values:\r\n",
        "    genre_labels = genre_labels.union(set(s))"
      ],
      "execution_count": 49,
      "outputs": []
    },
    {
      "cell_type": "code",
      "metadata": {
        "colab": {
          "base_uri": "https://localhost:8080/"
        },
        "id": "37yM2iB77KD-",
        "outputId": "d2b20c86-dd6d-4756-86a5-4d50aa3f9857"
      },
      "source": [
        "#counting how many times each of genres occur:\r\n",
        "keyword_occurences, dum = count_word(us_mov_df, 'genres', genre_labels)\r\n",
        "keyword_occurences"
      ],
      "execution_count": 50,
      "outputs": [
        {
          "output_type": "execute_result",
          "data": {
            "text/plain": [
              "[['Drama', 41928],\n",
              " ['Comedy', 39053],\n",
              " ['Action', 30635],\n",
              " ['Thriller', 26452],\n",
              " ['Adventure', 24161],\n",
              " ['Romance', 18124],\n",
              " ['Sci-Fi', 17243],\n",
              " ['Crime', 16681],\n",
              " ['Fantasy', 11834],\n",
              " ['Children', 9208],\n",
              " ['Mystery', 7674],\n",
              " ['Horror', 7291],\n",
              " ['Animation', 6988],\n",
              " ['War', 4859],\n",
              " ['IMAX', 4145],\n",
              " ['Musical', 4138],\n",
              " ['Western', 1930],\n",
              " ['Documentary', 1219],\n",
              " ['Film-Noir', 870],\n",
              " ['(no genres listed)', 47]]"
            ]
          },
          "metadata": {
            "tags": []
          },
          "execution_count": 50
        }
      ]
    },
    {
      "cell_type": "markdown",
      "metadata": {
        "id": "0oBfqzddBDat"
      },
      "source": [
        "The top two genres are Drama and Comedy."
      ]
    },
    {
      "cell_type": "markdown",
      "metadata": {
        "id": "rYlmQZJ1BMOB"
      },
      "source": [
        "This is evidenced by the WordCloud and Histogram below."
      ]
    },
    {
      "cell_type": "code",
      "metadata": {
        "colab": {
          "base_uri": "https://localhost:8080/",
          "height": 357
        },
        "id": "LwqT1A68AqTI",
        "outputId": "4ef3fd8c-8e95-402b-fb15-9b81ca23424a"
      },
      "source": [
        "from wordcloud import WordCloud, STOPWORDS #used to generate world cloud\r\n",
        "# Function that control the color of the words\r\n",
        "def random_color_func(word=None, font_size=None, position=None,\r\n",
        "                      orientation=None, font_path=None, random_state=None):\r\n",
        "    h = int(360.0 * tone / 255.0)\r\n",
        "    s = int(100.0 * 255.0 / 255.0)\r\n",
        "    l = int(100.0 * float(random_state.randint(70, 120)) / 255.0)\r\n",
        "    return \"hsl({}, {}%, {}%)\".format(h, s, l)\r\n",
        "\r\n",
        "\r\n",
        "#Finally, the result is shown as a wordcloud:\r\n",
        "words = dict()\r\n",
        "trunc_occurences = keyword_occurences[0:50]\r\n",
        "for s in trunc_occurences:\r\n",
        "    words[s[0]] = s[1]\r\n",
        "tone = 100 # define the color of the words\r\n",
        "f, ax = plt.subplots(figsize=(14, 6))\r\n",
        "wordcloud = WordCloud(width=550,height=300, background_color='black', \r\n",
        "                      max_words=1628,relative_scaling=0.7,\r\n",
        "                      color_func = random_color_func,\r\n",
        "                      normalize_plurals=False)\r\n",
        "wordcloud.generate_from_frequencies(words)\r\n",
        "plt.imshow(wordcloud, interpolation=\"bilinear\")\r\n",
        "plt.axis('off')\r\n",
        "plt.show()"
      ],
      "execution_count": 57,
      "outputs": [
        {
          "output_type": "display_data",
          "data": {
            "image/png": "[encoded data removed]",
            "text/plain": [
              "<Figure size 1008x432 with 1 Axes>"
            ]
          },
          "metadata": {
            "tags": []
          }
        }
      ]
    },
    {
      "cell_type": "code",
      "metadata": {
        "colab": {
          "base_uri": "https://localhost:8080/",
          "height": 524
        },
        "id": "XQDc-UYOAjkl",
        "outputId": "52cefcf0-4aea-47a0-c298-26b718222698"
      },
      "source": [
        "# lets display the same result in the histogram\r\n",
        "fig = plt.figure(1, figsize=(18,13))\r\n",
        "ax2 = fig.add_subplot(2,1,2)\r\n",
        "y_axis = [i[1] for i in trunc_occurences]\r\n",
        "x_axis = [k for k,i in enumerate(trunc_occurences)]\r\n",
        "x_label = [i[0] for i in trunc_occurences]\r\n",
        "plt.xticks(rotation=85, fontsize = 15)\r\n",
        "plt.yticks(fontsize = 15)\r\n",
        "plt.xticks(x_axis, x_label)\r\n",
        "plt.ylabel(\"No. of occurences\", fontsize = 24, labelpad = 0)\r\n",
        "ax2.bar(x_axis, y_axis, align = 'center', color='r')\r\n",
        "plt.title(\"Popularity of Genres\",bbox={'facecolor':'k', 'pad':5},color='w',fontsize = 30)\r\n",
        "plt.show()"
      ],
      "execution_count": 58,
      "outputs": [
        {
          "output_type": "display_data",
          "data": {
            "image/png": "[encoded data removed]",
            "text/plain": [
              "<Figure size 1296x936 with 1 Axes>"
            ]
          },
          "metadata": {
            "tags": []
          }
        }
      ]
    },
    {
      "cell_type": "markdown",
      "metadata": {
        "id": "ogQVV1n9OR4Q"
      },
      "source": [
        "***"
      ]
    },
    {
      "cell_type": "markdown",
      "metadata": {
        "id": "boY31YgRVkoU"
      },
      "source": [
        "I'm going to see which users rated the most movies."
      ]
    },
    {
      "cell_type": "code",
      "metadata": {
        "id": "uRk6cxIzSTgY"
      },
      "source": [
        "ratings_by_user = us_mov_df.drop('timestamp', axis=1)\r\n",
        "ratings_by_user = ratings_by_user.groupby('userId').agg([np.size, np.mean])"
      ],
      "execution_count": 42,
      "outputs": []
    },
    {
      "cell_type": "code",
      "metadata": {
        "colab": {
          "base_uri": "https://localhost:8080/",
          "height": 343
        },
        "id": "-zLoaaXCVMCd",
        "outputId": "b9d8a611-9365-4458-fcf9-6497c73eb8c3"
      },
      "source": [
        "ratings_by_user.drop('movieId', axis=1)\r\n",
        "ratings_by_user['rating']['size'].head(40).sort_values(ascending=False).plot(kind='bar', figsize=(10,5));"
      ],
      "execution_count": 43,
      "outputs": [
        {
          "output_type": "display_data",
          "data": {
            "image/png": "[encoded data removed]",
            "text/plain": [
              "<Figure size 720x360 with 1 Axes>"
            ]
          },
          "metadata": {
            "tags": []
          }
        }
      ]
    },
    {
      "cell_type": "markdown",
      "metadata": {
        "id": "4fHDZGyeVrSW"
      },
      "source": [
        "It looks like User 19 gave over 700 movie ratings, and the top 20 users had at least 100 ratings each. "
      ]
    },
    {
      "cell_type": "markdown",
      "metadata": {
        "id": "Nt3yBT_UVBkJ"
      },
      "source": [
        "***"
      ]
    },
    {
      "cell_type": "markdown",
      "metadata": {
        "id": "2V6dFnA8CSHs"
      },
      "source": [
        "Now, I'm going to export this dataframe so I can use excel to rapidly find a user who has movie tastes similar to my own. I will use this person to help qualitavely validate movies that are being recommended.\r\n",
        "\r\n",
        "First, I'm going to specify what directory to download the file into. "
      ]
    },
    {
      "cell_type": "code",
      "metadata": {
        "colab": {
          "base_uri": "https://localhost:8080/"
        },
        "id": "YPWpbBmk6XKS",
        "outputId": "ecb97054-a65e-4863-89a9-c34d1cc87162"
      },
      "source": [
        "import os\r\n",
        "# print(os.listdir())\r\n",
        "# os.chdir('sample_data')\r\n",
        "os.listdir()"
      ],
      "execution_count": 39,
      "outputs": [
        {
          "output_type": "execute_result",
          "data": {
            "text/plain": [
              "['.config', 'sample_data']"
            ]
          },
          "metadata": {
            "tags": []
          },
          "execution_count": 39
        }
      ]
    },
    {
      "cell_type": "markdown",
      "metadata": {
        "id": "IJuXP9AzK-F6"
      },
      "source": [
        "Next, I'm going to [export](https://towardsdatascience.com/how-to-export-pandas-dataframe-to-csv-2038e43d9c03) the file and call it usmov."
      ]
    },
    {
      "cell_type": "code",
      "metadata": {
        "id": "VYgZy8ph7JCc"
      },
      "source": [
        "# us_mov_df.to_csv('usmov')"
      ],
      "execution_count": 40,
      "outputs": []
    },
    {
      "cell_type": "markdown",
      "metadata": {
        "id": "LCPCus_zLSin"
      },
      "source": [
        "It took me a few minutes but I found a suitable user who has similar tastes to my own. He/She is User 210.\r\n",
        "\r\n",
        "Here is a handy guide to filter pandas dataframes with [multiple conditions](https://kanoki.org/2020/01/21/pandas-dataframe-filter-with-multiple-conditions/)."
      ]
    },
    {
      "cell_type": "code",
      "metadata": {
        "colab": {
          "base_uri": "https://localhost:8080/",
          "height": 195
        },
        "id": "3822YffxLadp",
        "outputId": "1451b4f3-0ebd-425e-82c7-f608f454cceb"
      },
      "source": [
        "user_210_df = us_mov_df[(us_mov_df.userId == 210) & (us_mov_df.rating >= 4)].sort_values(by='rating', ascending=False)\r\n",
        "user_210_df.head()"
      ],
      "execution_count": 41,
      "outputs": [
        {
          "output_type": "execute_result",
          "data": {
            "text/html": [
              "<div>\n",
              "<style scoped>\n",
              "    .dataframe tbody tr th:only-of-type {\n",
              "        vertical-align: middle;\n",
              "    }\n",
              "\n",
              "    .dataframe tbody tr th {\n",
              "        vertical-align: top;\n",
              "    }\n",
              "\n",
              "    .dataframe thead th {\n",
              "        text-align: right;\n",
              "    }\n",
              "</style>\n",
              "<table border=\"1\" class=\"dataframe\">\n",
              "  <thead>\n",
              "    <tr style=\"text-align: right;\">\n",
              "      <th></th>\n",
              "      <th>userId</th>\n",
              "      <th>movieId</th>\n",
              "      <th>rating</th>\n",
              "      <th>timestamp</th>\n",
              "      <th>title</th>\n",
              "      <th>genres</th>\n",
              "    </tr>\n",
              "  </thead>\n",
              "  <tbody>\n",
              "    <tr>\n",
              "      <th>1653</th>\n",
              "      <td>210</td>\n",
              "      <td>260</td>\n",
              "      <td>5.0</td>\n",
              "      <td>1473705468</td>\n",
              "      <td>Star Wars: Episode IV - A New Hope (1977)</td>\n",
              "      <td>Action|Adventure|Sci-Fi</td>\n",
              "    </tr>\n",
              "    <tr>\n",
              "      <th>36486</th>\n",
              "      <td>210</td>\n",
              "      <td>5378</td>\n",
              "      <td>5.0</td>\n",
              "      <td>1473705524</td>\n",
              "      <td>Star Wars: Episode II - Attack of the Clones (...</td>\n",
              "      <td>Action|Adventure|Sci-Fi|IMAX</td>\n",
              "    </tr>\n",
              "    <tr>\n",
              "      <th>86989</th>\n",
              "      <td>210</td>\n",
              "      <td>177765</td>\n",
              "      <td>5.0</td>\n",
              "      <td>1537632257</td>\n",
              "      <td>Coco (2017)</td>\n",
              "      <td>Adventure|Animation|Children</td>\n",
              "    </tr>\n",
              "    <tr>\n",
              "      <th>93505</th>\n",
              "      <td>210</td>\n",
              "      <td>146662</td>\n",
              "      <td>5.0</td>\n",
              "      <td>1513943333</td>\n",
              "      <td>Dragons: Gift of the Night Fury (2011)</td>\n",
              "      <td>Adventure|Animation|Comedy</td>\n",
              "    </tr>\n",
              "    <tr>\n",
              "      <th>57274</th>\n",
              "      <td>210</td>\n",
              "      <td>122918</td>\n",
              "      <td>5.0</td>\n",
              "      <td>1513943744</td>\n",
              "      <td>Guardians of the Galaxy 2 (2017)</td>\n",
              "      <td>Action|Adventure|Sci-Fi</td>\n",
              "    </tr>\n",
              "  </tbody>\n",
              "</table>\n",
              "</div>"
            ],
            "text/plain": [
              "       userId  movieId  rating   timestamp  \\\n",
              "1653      210      260     5.0  1473705468   \n",
              "36486     210     5378     5.0  1473705524   \n",
              "86989     210   177765     5.0  1537632257   \n",
              "93505     210   146662     5.0  1513943333   \n",
              "57274     210   122918     5.0  1513943744   \n",
              "\n",
              "                                                   title  \\\n",
              "1653           Star Wars: Episode IV - A New Hope (1977)   \n",
              "36486  Star Wars: Episode II - Attack of the Clones (...   \n",
              "86989                                        Coco (2017)   \n",
              "93505             Dragons: Gift of the Night Fury (2011)   \n",
              "57274                   Guardians of the Galaxy 2 (2017)   \n",
              "\n",
              "                             genres  \n",
              "1653        Action|Adventure|Sci-Fi  \n",
              "36486  Action|Adventure|Sci-Fi|IMAX  \n",
              "86989  Adventure|Animation|Children  \n",
              "93505    Adventure|Animation|Comedy  \n",
              "57274       Action|Adventure|Sci-Fi  "
            ]
          },
          "metadata": {
            "tags": []
          },
          "execution_count": 41
        }
      ]
    }
  ]
}