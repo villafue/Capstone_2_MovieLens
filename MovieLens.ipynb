{
  "nbformat": 4,
  "nbformat_minor": 0,
  "metadata": {
    "colab": {
      "name": "MovieLens.ipynb",
      "provenance": [],
      "authorship_tag": "ABX9TyOqx0St9a54OCUcjH64cUMi",
      "include_colab_link": true
    },
    "kernelspec": {
      "name": "python3",
      "display_name": "Python 3"
    }
  },
  "cells": [
    {
      "cell_type": "markdown",
      "metadata": {
        "id": "view-in-github",
        "colab_type": "text"
      },
      "source": [
        "<a href=\"https://colab.research.google.com/github/villafue/Capstone_2_MovieLens/blob/main/MovieLens.ipynb\" target=\"_parent\"><img src=\"https://colab.research.google.com/assets/colab-badge.svg\" alt=\"Open In Colab\"/></a>"
      ]
    },
    {
      "cell_type": "markdown",
      "metadata": {
        "id": "YFIMfT75aW_6"
      },
      "source": [
        "## Introduction\n",
        "\n",
        "Hello! My name is Roland and this is my first Data Science Project, as well as first Capstone project with Springboard. My goal was model exploration to include SciKit Learn's Stacking Regressor.\n",
        "\n",
        "I did my best to create a logical flow and organization to my notebook. Everything is categorized into sections and hyperlinked for easier navigation. As much as possible, I included markdowns inbetween the code to explain my thinking behind what I did. Please do not hesitate to contact me, and thank you for reading!\n",
        "\n",
        "Last, I am thankful and grateful for the plethora of notebooks that others were kind enough to share on Kaggle. I adapted many of their codes and processes in my notebook. They are referenced in section \"6.3.\"\n"
      ]
    },
    {
      "cell_type": "markdown",
      "metadata": {
        "id": "kOqmNQ3sIqKk"
      },
      "source": [
        "***"
      ]
    },
    {
      "cell_type": "markdown",
      "metadata": {
        "id": "_WasouTHJILH"
      },
      "source": [
        "## Content\r\n",
        "\r\n",
        "Note: The internal links work when the notebook is run via Google Colab.\r\n",
        "\r\n",
        "1. **[Import Packages](#import_packages)**\r\n",
        "2. **[Load Data](#load_data)**\r\n",
        "3. **[Data Dreparation](#data_preparation)**\r\n",
        "    - 3.1 - [Remove Outliers](#remove_outliers)\r\n",
        "    - 3.2 - [Data Exploration](#data_exploration)   \r\n",
        "    - 3.3 - [Treat Missing Values](#treat_missing_values)   \r\n",
        "    - 3.4 - [Check Duplicates](#duplicates)\r\n",
        "4. **[Exploratory Data Analysis](#exploratory_data_analysis)**\r\n",
        "    - 4.1 - [Correlation Matrix](#correlation_matrix)\r\n",
        "    - 4.2 - [Feature Engineering](#feature_engineering)\r\n",
        "        - 4.2.1 - [Polynomials](#polynomials)\r\n",
        "        - 4.2.2 - [Interior](#interior)\r\n",
        "        - 4.2.3 - [Architectural & Structural](#architectural_&_structural)\r\n",
        "        - 4.2.4 - [Exterior](#exterior)\r\n",
        "        - 4.2.5 - [Location](#location)\r\n",
        "        - 4.2.6 - [Land](#land)\r\n",
        "        - 4.2.7 - [Access](#access)\r\n",
        "        - 4.2.8 - [Utilities](#utilities)\r\n",
        "        - 4.2.9 - [Miscellaneous](#miscellaneous)\r\n",
        "    - 4.3 - [Target Variable](#target_variable)\r\n",
        "    - 4.4 - [Treating Skewed Features](#treating_skewed_features)\r\n",
        "5. **[Modeling](#modeling)**\r\n",
        "    - 5.1 - [Model Exploration](#model_exploration)\r\n",
        "        - 5.1.1 - [Baseline](#baseline)\r\n",
        "        - 5.1.2 - [Simple Models](#simple_models)\r\n",
        "        - 5.1.3 - [Advanced Linear Models](#advanced_linear_models)\r\n",
        "        - 5.1.4 - [Ensemble Tree Models](#ensemble_tree_models)\r\n",
        "    - 5.2 - [Training](#training)\r\n",
        "        - 5.2.1 - [Feature Selection](#feature_selection)\r\n",
        "        - 5.2.2 - [Reduction Comparison](#reduction_comparison)\r\n",
        "    - 5.3 - [Optimization](#optimization)\r\n",
        "        - 5.3.1 - [Linear Regression](#linear_regression)\r\n",
        "        - 5.3.2 - [Ridge Regression](#ridge_regression)\r\n",
        "        - 5.3.3 - [Lasso Regression](#lasso_regression)\r\n",
        "        - 5.3.4 - [Elastic Net Regression](#elastic_net_regression)\r\n",
        "        - 5.3.5 - [Random Forest Regressor](#random_forest_regressor)\r\n",
        "        - 5.3.6 - [AdaBoost Regressor](#adaboost_regressor)\r\n",
        "        - 5.3.7 - [GradientBoost Regressor](#gradientboost_regressor)\r\n",
        "        - 5.3.8 - [XGBoost Regressor](#xgboost_regressor)\r\n",
        "        - 5.3.8 - [Models Summary](#models_summary)\r\n",
        "    - 5.4 - [Stacking](#stacking)\r\n",
        "6. **[Conclusion](#conclusion)**\r\n",
        "    - 6.1 - [Submission](#submission)\r\n",
        "    - 6.2 - [Final Thoughts](#final_thoughts)\r\n",
        "    - 6.3 - [References](#references)\r\n",
        "    - 6.4 - [TPOT](#TPOT)"
      ]
    },
    {
      "cell_type": "markdown",
      "metadata": {
        "id": "yvPqtR8xfIDf"
      },
      "source": [
        "<a id='import_packages'></a>\r\n",
        "# 1. "
      ]
    },
    {
      "cell_type": "markdown",
      "metadata": {
        "id": "6VKCO-vkc01v"
      },
      "source": [
        "---"
      ]
    },
    {
      "cell_type": "markdown",
      "metadata": {
        "id": "vWLj-7kaQrAP"
      },
      "source": [
        "<a name=\"import_packages\"></a>\r\n",
        "## Import Packages"
      ]
    },
    {
      "cell_type": "code",
      "metadata": {
        "colab": {
          "base_uri": "https://localhost:8080/"
        },
        "id": "L0IXpNB5_4CN",
        "outputId": "d45b48a6-86d2-43f1-9dba-83e74fad7be4"
      },
      "source": [
        "\r\n",
        "# This first set of packages include Pandas, for data manipulation,\r\n",
        "# numpy for mathematical computation and matplotlib & seaborn, for visualisation.\r\n",
        "import pandas as pd\r\n",
        "pd.set_option('display.notebook_repr_html', True)\r\n",
        "pd.set_option('max_columns', 82)\r\n",
        "pd.options.display.max_rows = 100\r\n",
        "import numpy as np\r\n",
        "from IPython.display import display\r\n",
        "import matplotlib.pyplot as plt\r\n",
        "%matplotlib inline\r\n",
        "import seaborn as sns\r\n",
        "print('1: Data Manipulation, Mathematical Computation and Visualisation packages imported!')\r\n",
        "\r\n",
        "# Statistical packages used for transformations\r\n",
        "from scipy import stats\r\n",
        "from scipy.stats import skew, norm\r\n",
        "from scipy.special import boxcox1p\r\n",
        "from scipy.stats.stats import pearsonr\r\n",
        "print('2: Statistical packages imported!')\r\n",
        "\r\n",
        "# Metrics used for measuring the accuracy and performance of the models\r\n",
        "from sklearn import metrics\r\n",
        "from sklearn.metrics import mean_squared_error\r\n",
        "print('3: Metrics packages imported!')\r\n",
        "\r\n",
        "# Algorithms used for modeling\r\n",
        "from sklearn.dummy import DummyRegressor\r\n",
        "from sklearn.linear_model import LinearRegression, Ridge, Lasso, ElasticNet\r\n",
        "from sklearn.tree import DecisionTreeRegressor\r\n",
        "from sklearn.ensemble import RandomForestRegressor, AdaBoostRegressor, GradientBoostingRegressor\r\n",
        "import xgboost as xgb\r\n",
        "print('4: Algorithm packages imported!')\r\n",
        "\r\n",
        "# Pipeline and scaling preprocessing will be used for models that are sensitive\r\n",
        "from sklearn.pipeline import make_pipeline\r\n",
        "from sklearn.preprocessing import RobustScaler\r\n",
        "from sklearn.preprocessing import StandardScaler\r\n",
        "from sklearn.preprocessing import LabelEncoder\r\n",
        "from sklearn.feature_selection import SelectFromModel\r\n",
        "from sklearn.feature_selection import SelectKBest\r\n",
        "from sklearn.feature_selection import chi2\r\n",
        "print('5: Pipeline and preprocessing packages imported!')\r\n",
        "\r\n",
        "# Model selection packages used for sampling dataset and optimising parameters\r\n",
        "from sklearn import model_selection\r\n",
        "from sklearn.model_selection import KFold\r\n",
        "from sklearn.model_selection import cross_val_score, train_test_split\r\n",
        "from sklearn.model_selection import RandomizedSearchCV\r\n",
        "from sklearn.model_selection import GridSearchCV\r\n",
        "from sklearn.model_selection import ShuffleSplit\r\n",
        "print('6: Model selection packages imported!')\r\n",
        "\r\n",
        "# Set visualisation colours\r\n",
        "mycols = [\"#66c2ff\", \"#5cd6d6\", \"#00cc99\", \"#85e085\", \"#ffd966\", \"#ffb366\", \"#ffb3b3\", \"#dab3ff\", \"#c2c2d6\"]\r\n",
        "print('7: My colours are ready! :)')\r\n",
        "\r\n",
        "# To ignore annoying warning\r\n",
        "import warnings\r\n",
        "def ignore_warn(*args, **kwargs):\r\n",
        "    pass\r\n",
        "warnings.warn = ignore_warn #ignore annoying warning (from sklearn and seaborn)\r\n",
        "warnings.filterwarnings(\"ignore\", category=DeprecationWarning)\r\n",
        "print('8: Deprecation warning will be ignored!')"
      ],
      "execution_count": null,
      "outputs": [
        {
          "output_type": "stream",
          "text": [
            "1: Data Manipulation, Mathematical Computation and Visualisation packages imported!\n",
            "2: Statistical packages imported!\n",
            "3: Metrics packages imported!\n",
            "4: Algorithm packages imported!\n",
            "5: Pipeline and preprocessing packages imported!\n",
            "6: Model selection packages imported!\n",
            "7: My colours are ready! :)\n",
            "8: Deprecation warning will be ignored!\n"
          ],
          "name": "stdout"
        }
      ]
    },
    {
      "cell_type": "code",
      "metadata": {
        "colab": {
          "base_uri": "https://localhost:8080/"
        },
        "id": "EoSpcw1_GLrw",
        "outputId": "048b4944-81bf-472c-d1e3-c6a47dc15c8b"
      },
      "source": [
        "plt.rcParams.update(plt.rcParamsDefault)\r\n",
        "%matplotlib inline\r\n",
        "plt.style.use(['seaborn-whitegrid'])\r\n",
        "sns.set_palette(palette = mycols, n_colors = 4)\r\n",
        "sns.set(context='notebook', palette='deep')\r\n",
        "print('9: My Axes are visible in \"Dark Mode!\"')"
      ],
      "execution_count": null,
      "outputs": [
        {
          "output_type": "stream",
          "text": [
            "9: My Axes are visible in \"Dark Mode!\"\n"
          ],
          "name": "stdout"
        }
      ]
    },
    {
      "cell_type": "markdown",
      "metadata": {
        "id": "8rYzvBkHJsN3"
      },
      "source": [
        "<a id='load_data'></a>\r\n",
        "# 2. \r\n"
      ]
    },
    {
      "cell_type": "markdown",
      "metadata": {
        "id": "6M7xIkRlcCow"
      },
      "source": [
        "<a name=\"load_data\"></a>\r\n",
        " ## Load data"
      ]
    },
    {
      "cell_type": "markdown",
      "metadata": {
        "id": "ojfEyLZ-l06r"
      },
      "source": [
        "First, I load the train and test datasets directly into Pandas dataframes. I load the data files directly from my Github as it allows me the flexibility to work from different computers.\r\n",
        "\r\n",
        "\r\n",
        "\r\n"
      ]
    },
    {
      "cell_type": "code",
      "metadata": {
        "id": "BddOcYH7KNI2"
      },
      "source": [
        "pandas profiling"
      ],
      "execution_count": null,
      "outputs": []
    },
    {
      "cell_type": "code",
      "metadata": {
        "id": "01abd7uab4qQ",
        "colab": {
          "base_uri": "https://localhost:8080/",
          "height": 447
        },
        "outputId": "a7502f28-2255-487d-cf62-420340b7ab21"
      },
      "source": [
        "url = 'https://raw.githubusercontent.com/villafue/Capstone_2_Netflix/main/Data/netflix_titles.csv'\n",
        "nf = pd.read_csv(url)\n",
        "print(nf.shape, '\\n' * 2, 'The Netflix dataset has: ', nf.shape[0], 'rows and ', nf.shape[1], 'columns.')\n",
        "# This makes a little barrier between printed outputs.\n",
        "print('\\n', '=' * 136, '\\n' * 2, 'nf Set:', '\\n')\n",
        "display(nf.head())\n",
        "print('\\n', '=' * 136)"
      ],
      "execution_count": null,
      "outputs": [
        {
          "output_type": "stream",
          "text": [
            "(7787, 12) \n",
            "\n",
            " The Netflix dataset has:  7787 rows and  12 columns.\n",
            "\n",
            " ======================================================================================================================================== \n",
            "\n",
            " nf Set: \n",
            "\n"
          ],
          "name": "stdout"
        },
        {
          "output_type": "display_data",
          "data": {
            "text/html": [
              "<div>\n",
              "<style scoped>\n",
              "    .dataframe tbody tr th:only-of-type {\n",
              "        vertical-align: middle;\n",
              "    }\n",
              "\n",
              "    .dataframe tbody tr th {\n",
              "        vertical-align: top;\n",
              "    }\n",
              "\n",
              "    .dataframe thead th {\n",
              "        text-align: right;\n",
              "    }\n",
              "</style>\n",
              "<table border=\"1\" class=\"dataframe\">\n",
              "  <thead>\n",
              "    <tr style=\"text-align: right;\">\n",
              "      <th></th>\n",
              "      <th>show_id</th>\n",
              "      <th>type</th>\n",
              "      <th>title</th>\n",
              "      <th>director</th>\n",
              "      <th>cast</th>\n",
              "      <th>country</th>\n",
              "      <th>date_added</th>\n",
              "      <th>release_year</th>\n",
              "      <th>rating</th>\n",
              "      <th>duration</th>\n",
              "      <th>listed_in</th>\n",
              "      <th>description</th>\n",
              "    </tr>\n",
              "  </thead>\n",
              "  <tbody>\n",
              "    <tr>\n",
              "      <th>0</th>\n",
              "      <td>s1</td>\n",
              "      <td>TV Show</td>\n",
              "      <td>3%</td>\n",
              "      <td>NaN</td>\n",
              "      <td>João Miguel, Bianca Comparato, Michel Gomes, R...</td>\n",
              "      <td>Brazil</td>\n",
              "      <td>August 14, 2020</td>\n",
              "      <td>2020</td>\n",
              "      <td>TV-MA</td>\n",
              "      <td>4 Seasons</td>\n",
              "      <td>International TV Shows, TV Dramas, TV Sci-Fi &amp;...</td>\n",
              "      <td>In a future where the elite inhabit an island ...</td>\n",
              "    </tr>\n",
              "    <tr>\n",
              "      <th>1</th>\n",
              "      <td>s2</td>\n",
              "      <td>Movie</td>\n",
              "      <td>7:19</td>\n",
              "      <td>Jorge Michel Grau</td>\n",
              "      <td>Demián Bichir, Héctor Bonilla, Oscar Serrano, ...</td>\n",
              "      <td>Mexico</td>\n",
              "      <td>December 23, 2016</td>\n",
              "      <td>2016</td>\n",
              "      <td>TV-MA</td>\n",
              "      <td>93 min</td>\n",
              "      <td>Dramas, International Movies</td>\n",
              "      <td>After a devastating earthquake hits Mexico Cit...</td>\n",
              "    </tr>\n",
              "    <tr>\n",
              "      <th>2</th>\n",
              "      <td>s3</td>\n",
              "      <td>Movie</td>\n",
              "      <td>23:59</td>\n",
              "      <td>Gilbert Chan</td>\n",
              "      <td>Tedd Chan, Stella Chung, Henley Hii, Lawrence ...</td>\n",
              "      <td>Singapore</td>\n",
              "      <td>December 20, 2018</td>\n",
              "      <td>2011</td>\n",
              "      <td>R</td>\n",
              "      <td>78 min</td>\n",
              "      <td>Horror Movies, International Movies</td>\n",
              "      <td>When an army recruit is found dead, his fellow...</td>\n",
              "    </tr>\n",
              "    <tr>\n",
              "      <th>3</th>\n",
              "      <td>s4</td>\n",
              "      <td>Movie</td>\n",
              "      <td>9</td>\n",
              "      <td>Shane Acker</td>\n",
              "      <td>Elijah Wood, John C. Reilly, Jennifer Connelly...</td>\n",
              "      <td>United States</td>\n",
              "      <td>November 16, 2017</td>\n",
              "      <td>2009</td>\n",
              "      <td>PG-13</td>\n",
              "      <td>80 min</td>\n",
              "      <td>Action &amp; Adventure, Independent Movies, Sci-Fi...</td>\n",
              "      <td>In a postapocalyptic world, rag-doll robots hi...</td>\n",
              "    </tr>\n",
              "    <tr>\n",
              "      <th>4</th>\n",
              "      <td>s5</td>\n",
              "      <td>Movie</td>\n",
              "      <td>21</td>\n",
              "      <td>Robert Luketic</td>\n",
              "      <td>Jim Sturgess, Kevin Spacey, Kate Bosworth, Aar...</td>\n",
              "      <td>United States</td>\n",
              "      <td>January 1, 2020</td>\n",
              "      <td>2008</td>\n",
              "      <td>PG-13</td>\n",
              "      <td>123 min</td>\n",
              "      <td>Dramas</td>\n",
              "      <td>A brilliant group of students become card-coun...</td>\n",
              "    </tr>\n",
              "  </tbody>\n",
              "</table>\n",
              "</div>"
            ],
            "text/plain": [
              "  show_id     type  title           director  \\\n",
              "0      s1  TV Show     3%                NaN   \n",
              "1      s2    Movie   7:19  Jorge Michel Grau   \n",
              "2      s3    Movie  23:59       Gilbert Chan   \n",
              "3      s4    Movie      9        Shane Acker   \n",
              "4      s5    Movie     21     Robert Luketic   \n",
              "\n",
              "                                                cast        country  \\\n",
              "0  João Miguel, Bianca Comparato, Michel Gomes, R...         Brazil   \n",
              "1  Demián Bichir, Héctor Bonilla, Oscar Serrano, ...         Mexico   \n",
              "2  Tedd Chan, Stella Chung, Henley Hii, Lawrence ...      Singapore   \n",
              "3  Elijah Wood, John C. Reilly, Jennifer Connelly...  United States   \n",
              "4  Jim Sturgess, Kevin Spacey, Kate Bosworth, Aar...  United States   \n",
              "\n",
              "          date_added  release_year rating   duration  \\\n",
              "0    August 14, 2020          2020  TV-MA  4 Seasons   \n",
              "1  December 23, 2016          2016  TV-MA     93 min   \n",
              "2  December 20, 2018          2011      R     78 min   \n",
              "3  November 16, 2017          2009  PG-13     80 min   \n",
              "4    January 1, 2020          2008  PG-13    123 min   \n",
              "\n",
              "                                           listed_in  \\\n",
              "0  International TV Shows, TV Dramas, TV Sci-Fi &...   \n",
              "1                       Dramas, International Movies   \n",
              "2                Horror Movies, International Movies   \n",
              "3  Action & Adventure, Independent Movies, Sci-Fi...   \n",
              "4                                             Dramas   \n",
              "\n",
              "                                         description  \n",
              "0  In a future where the elite inhabit an island ...  \n",
              "1  After a devastating earthquake hits Mexico Cit...  \n",
              "2  When an army recruit is found dead, his fellow...  \n",
              "3  In a postapocalyptic world, rag-doll robots hi...  \n",
              "4  A brilliant group of students become card-coun...  "
            ]
          },
          "metadata": {
            "tags": []
          }
        },
        {
          "output_type": "stream",
          "text": [
            "\n",
            " ========================================================================================================================================\n"
          ],
          "name": "stdout"
        }
      ]
    },
    {
      "cell_type": "markdown",
      "metadata": {
        "id": "wxw2u6jzvOAG"
      },
      "source": [
        "The \"Test Set\" has one less column than my train set. This is because the dependent variable \"SalePrice,\" for the test set, is kept secret and is used as the final measure of the accuracy of my model.\r\n",
        "\r\n"
      ]
    },
    {
      "cell_type": "markdown",
      "metadata": {
        "id": "S40UdgEde1Od"
      },
      "source": [
        "Next, I want to see the column names."
      ]
    },
    {
      "cell_type": "code",
      "metadata": {
        "id": "JwdclCTHb4qU",
        "colab": {
          "base_uri": "https://localhost:8080/"
        },
        "outputId": "abc2e05e-38c5-4cb4-e273-42976ad22e0d"
      },
      "source": [
        "nf.columns"
      ],
      "execution_count": null,
      "outputs": [
        {
          "output_type": "execute_result",
          "data": {
            "text/plain": [
              "Index(['show_id', 'type', 'title', 'director', 'cast', 'country', 'date_added',\n",
              "       'release_year', 'rating', 'duration', 'listed_in', 'description'],\n",
              "      dtype='object')"
            ]
          },
          "metadata": {
            "tags": []
          },
          "execution_count": 6
        }
      ]
    },
    {
      "cell_type": "markdown",
      "metadata": {
        "id": "NF0Mx3JSwkVW"
      },
      "source": [
        "Now, I will save the 'Id' columns, from both datasets, as it's necessary for preparing the final submission data. I'll drop them from my training and test datasets as they are redundant for modeling."
      ]
    },
    {
      "cell_type": "markdown",
      "metadata": {
        "id": "q3Oo02KZyLkt"
      },
      "source": [
        "Here is a helpful link for \".format\" and strings. [Python Format Function](https://www.geeksforgeeks.org/python-format-function/#:~:text=Diamond%20star%20pattern-,Python%20%7C%20format()%20function,a%20string%20through%20positional%20formatting.)"
      ]
    },
    {
      "cell_type": "code",
      "metadata": {
        "id": "GGri70Gkwz64",
        "colab": {
          "base_uri": "https://localhost:8080/"
        },
        "outputId": "5d11a01c-c2c7-48d3-f774-ef3d179a6be0"
      },
      "source": [
        "train_ID = train['Id']\n",
        "test_ID = test['Id']\n",
        "\n",
        "train.drop(\"Id\", axis = 1, inplace = True)\n",
        "test.drop(\"Id\", axis = 1, inplace = True)\n",
        "\n",
        "print(\"The train data size after dropping Id feature is : {} \".format(train.shape)) \n",
        "print(\"The test data size after dropping Id feature is : {} \".format(test.shape))\n"
      ],
      "execution_count": null,
      "outputs": [
        {
          "output_type": "stream",
          "text": [
            "The train data size after dropping Id feature is : (1460, 80) \n",
            "The test data size after dropping Id feature is : (1459, 79) \n"
          ],
          "name": "stdout"
        }
      ]
    },
    {
      "cell_type": "markdown",
      "metadata": {
        "id": "HbGaZnOyLPi3"
      },
      "source": [
        "***"
      ]
    },
    {
      "cell_type": "markdown",
      "metadata": {
        "id": "-vNLo4npidel"
      },
      "source": [
        "I'll change my home directory because this is where I upload files, from my computer, into Colab."
      ]
    },
    {
      "cell_type": "code",
      "metadata": {
        "id": "vJqzfuV_b4qN"
      },
      "source": [
        "# os.chdir('sample_data')"
      ],
      "execution_count": null,
      "outputs": []
    },
    {
      "cell_type": "code",
      "metadata": {
        "id": "CYTzoTNQ_0o9"
      },
      "source": [
        ""
      ],
      "execution_count": null,
      "outputs": []
    }
  ]
}