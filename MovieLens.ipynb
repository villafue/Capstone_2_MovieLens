{
  "nbformat": 4,
  "nbformat_minor": 0,
  "metadata": {
    "colab": {
      "name": "MovieLens.ipynb",
      "provenance": [],
      "toc_visible": true,
      "authorship_tag": "ABX9TyPxdcz2lA22h389eF7uITJ9",
      "include_colab_link": true
    },
    "kernelspec": {
      "name": "python3",
      "display_name": "Python 3"
    }
  },
  "cells": [
    {
      "cell_type": "markdown",
      "metadata": {
        "id": "view-in-github",
        "colab_type": "text"
      },
      "source": [
        "<a href=\"https://colab.research.google.com/github/villafue/Capstone_2_MovieLens/blob/main/MovieLens.ipynb\" target=\"_parent\"><img src=\"https://colab.research.google.com/assets/colab-badge.svg\" alt=\"Open In Colab\"/></a>"
      ]
    },
    {
      "cell_type": "markdown",
      "metadata": {
        "id": "YFIMfT75aW_6"
      },
      "source": [
        "## Introduction\n",
        "\n",
        "Hello! My name is Roland and this is my second Data Science Project, as well as second Capstone project with Springboard. My goal was recommendation system exploration.\n",
        "\n",
        "I did my best to create a logical flow and organization to my notebook. Everything is categorized into sections and hyperlinked for easier navigation. As much as possible, I included markdowns inbetween the code to explain my thinking behind what I did. Please do not hesitate to contact me, and thank you for reading!\n",
        "\n",
        "Last, I am thankful and grateful to Frank Kane and his Building Recommender Course on LinkedIn Learning. I adapted many of his codes and processes in my notebook. Him and others are referenced in section \"6.3.\"\n"
      ]
    },
    {
      "cell_type": "markdown",
      "metadata": {
        "id": "kOqmNQ3sIqKk"
      },
      "source": [
        "***"
      ]
    },
    {
      "cell_type": "markdown",
      "metadata": {
        "id": "_WasouTHJILH"
      },
      "source": [
        "## Content\r\n",
        "\r\n",
        "Note: The internal links work when the notebook is run via Google Colab.\r\n",
        "\r\n",
        "1. **[Import Packages](#import_packages)**\r\n",
        "2. **[Load Data](#load_data)**\r\n",
        "3. **[Data Dreparation](#data_preparation)**\r\n",
        "    - 3.1 - [Remove Outliers](#remove_outliers)\r\n",
        "    - 3.2 - [Data Exploration](#data_exploration)   \r\n",
        "    - 3.3 - [Treat Missing Values](#treat_missing_values)   \r\n",
        "    - 3.4 - [Check Duplicates](#duplicates)\r\n",
        "4. **[Exploratory Data Analysis](#exploratory_data_analysis)**\r\n",
        "    - 4.1 - [Correlation Matrix](#correlation_matrix)\r\n",
        "    - 4.2 - [Feature Engineering](#feature_engineering)\r\n",
        "        - 4.2.1 - [Polynomials](#polynomials)\r\n",
        "        - 4.2.2 - [Interior](#interior)\r\n",
        "        - 4.2.3 - [Architectural & Structural](#architectural_&_structural)\r\n",
        "        - 4.2.4 - [Exterior](#exterior)\r\n",
        "        - 4.2.5 - [Location](#location)\r\n",
        "        - 4.2.6 - [Land](#land)\r\n",
        "        - 4.2.7 - [Access](#access)\r\n",
        "        - 4.2.8 - [Utilities](#utilities)\r\n",
        "        - 4.2.9 - [Miscellaneous](#miscellaneous)\r\n",
        "    - 4.3 - [Target Variable](#target_variable)\r\n",
        "    - 4.4 - [Treating Skewed Features](#treating_skewed_features)\r\n",
        "5. **[Modeling](#modeling)**\r\n",
        "    - 5.1 - [Model Exploration](#model_exploration)\r\n",
        "        - 5.1.1 - [Baseline](#baseline)\r\n",
        "        - 5.1.2 - [Simple Models](#simple_models)\r\n",
        "        - 5.1.3 - [Advanced Linear Models](#advanced_linear_models)\r\n",
        "        - 5.1.4 - [Ensemble Tree Models](#ensemble_tree_models)\r\n",
        "    - 5.2 - [Training](#training)\r\n",
        "        - 5.2.1 - [Feature Selection](#feature_selection)\r\n",
        "        - 5.2.2 - [Reduction Comparison](#reduction_comparison)\r\n",
        "    - 5.3 - [Optimization](#optimization)\r\n",
        "        - 5.3.1 - [Linear Regression](#linear_regression)\r\n",
        "        - 5.3.2 - [Ridge Regression](#ridge_regression)\r\n",
        "        - 5.3.3 - [Lasso Regression](#lasso_regression)\r\n",
        "        - 5.3.4 - [Elastic Net Regression](#elastic_net_regression)\r\n",
        "        - 5.3.5 - [Random Forest Regressor](#random_forest_regressor)\r\n",
        "        - 5.3.6 - [AdaBoost Regressor](#adaboost_regressor)\r\n",
        "        - 5.3.7 - [GradientBoost Regressor](#gradientboost_regressor)\r\n",
        "        - 5.3.8 - [XGBoost Regressor](#xgboost_regressor)\r\n",
        "        - 5.3.8 - [Models Summary](#models_summary)\r\n",
        "    - 5.4 - [Stacking](#stacking)\r\n",
        "6. **[Conclusion](#conclusion)**\r\n",
        "    - 6.1 - [Submission](#submission)\r\n",
        "    - 6.2 - [Final Thoughts](#final_thoughts)\r\n",
        "    - 6.3 - [References](#references)\r\n",
        "    - 6.4 - [TPOT](#TPOT)"
      ]
    },
    {
      "cell_type": "markdown",
      "metadata": {
        "id": "yvPqtR8xfIDf"
      },
      "source": [
        "<a id='import_packages'></a>\r\n",
        "# 1. "
      ]
    },
    {
      "cell_type": "markdown",
      "metadata": {
        "id": "6VKCO-vkc01v"
      },
      "source": [
        "---"
      ]
    },
    {
      "cell_type": "markdown",
      "metadata": {
        "id": "vWLj-7kaQrAP"
      },
      "source": [
        "<a name=\"import_packages\"></a>\r\n",
        "## Import Packages"
      ]
    },
    {
      "cell_type": "code",
      "metadata": {
        "colab": {
          "base_uri": "https://localhost:8080/"
        },
        "id": "L0IXpNB5_4CN",
        "outputId": "c60b7e73-b570-4720-81e4-6da65e000de1"
      },
      "source": [
        "# Import Pandas Profiling for quick insights\r\n",
        "!{sys.executable} -m pip install -U pandas-profiling[notebook]\r\n",
        "!jupyter nbextension enable --py widgetsnbextension\r\n",
        "\r\n",
        "# This first set of packages include Pandas, for data manipulation,\r\n",
        "# numpy for mathematical computation and matplotlib & seaborn, for visualisation.\r\n",
        "import os\r\n",
        "import pandas as pd\r\n",
        "pd.set_option('display.notebook_repr_html', True)\r\n",
        "pd.set_option('max_columns', 82)\r\n",
        "pd.options.display.max_rows = 100\r\n",
        "import numpy as np\r\n",
        "from IPython.display import display\r\n",
        "import matplotlib.pyplot as plt\r\n",
        "%matplotlib inline\r\n",
        "import seaborn as sns\r\n",
        "from pandas_profiling import ProfileReport\r\n",
        "print('\\n', '=' * 136)\r\n",
        "print('1: Quick Insights, Data Manipulation, Mathematical Computation and Visualisation packages imported!')\r\n",
        "\r\n",
        "# Statistical packages used for transformations\r\n",
        "from scipy import stats\r\n",
        "from scipy.stats import skew, norm\r\n",
        "from scipy.special import boxcox1p\r\n",
        "from scipy.stats.stats import pearsonr\r\n",
        "print('2: Statistical packages imported!')\r\n",
        "\r\n",
        "# Metrics used for measuring the accuracy and performance of the models\r\n",
        "from sklearn import metrics\r\n",
        "from sklearn.metrics import mean_squared_error\r\n",
        "print('3: Metrics packages imported!')\r\n",
        "\r\n",
        "# Algorithms used for modeling\r\n",
        "from sklearn.dummy import DummyRegressor\r\n",
        "from sklearn.linear_model import LinearRegression, Ridge, Lasso, ElasticNet\r\n",
        "from sklearn.tree import DecisionTreeRegressor\r\n",
        "from sklearn.ensemble import RandomForestRegressor, AdaBoostRegressor, GradientBoostingRegressor\r\n",
        "import xgboost as xgb\r\n",
        "print('4: Algorithm packages imported!')\r\n",
        "\r\n",
        "# Pipeline and scaling preprocessing will be used for models that are sensitive\r\n",
        "from sklearn.pipeline import make_pipeline\r\n",
        "from sklearn.preprocessing import RobustScaler\r\n",
        "from sklearn.preprocessing import StandardScaler\r\n",
        "from sklearn.preprocessing import LabelEncoder\r\n",
        "from sklearn.feature_selection import SelectFromModel\r\n",
        "from sklearn.feature_selection import SelectKBest\r\n",
        "from sklearn.feature_selection import chi2\r\n",
        "print('5: Pipeline and preprocessing packages imported!')\r\n",
        "\r\n",
        "# Model selection packages used for sampling dataset and optimising parameters\r\n",
        "from sklearn import model_selection\r\n",
        "from sklearn.model_selection import KFold\r\n",
        "from sklearn.model_selection import cross_val_score, train_test_split\r\n",
        "from sklearn.model_selection import RandomizedSearchCV\r\n",
        "from sklearn.model_selection import GridSearchCV\r\n",
        "from sklearn.model_selection import ShuffleSplit\r\n",
        "print('6: Model selection packages imported!')\r\n",
        "\r\n",
        "# Set visualisation colours\r\n",
        "mycols = [\"#66c2ff\", \"#5cd6d6\", \"#00cc99\", \"#85e085\", \"#ffd966\", \"#ffb366\", \"#ffb3b3\", \"#dab3ff\", \"#c2c2d6\"]\r\n",
        "print('7: My colours are ready! :)')\r\n",
        "\r\n",
        "# To ignore annoying warning\r\n",
        "import warnings\r\n",
        "def ignore_warn(*args, **kwargs):\r\n",
        "    pass\r\n",
        "warnings.warn = ignore_warn #ignore annoying warning (from sklearn and seaborn)\r\n",
        "warnings.filterwarnings(\"ignore\", category=DeprecationWarning)\r\n",
        "print('8: Deprecation warning will be ignored!')"
      ],
      "execution_count": 56,
      "outputs": [
        {
          "output_type": "stream",
          "text": [
            "/bin/bash: {sys.executable}: command not found\n",
            "Enabling notebook extension jupyter-js-widgets/extension...\n",
            "      - Validating: \u001b[32mOK\u001b[0m\n",
            "\n",
            " ========================================================================================================================================\n",
            "1: Quick Insights, Data Manipulation, Mathematical Computation and Visualisation packages imported!\n",
            "2: Statistical packages imported!\n",
            "3: Metrics packages imported!\n",
            "4: Algorithm packages imported!\n",
            "5: Pipeline and preprocessing packages imported!\n",
            "6: Model selection packages imported!\n",
            "7: My colours are ready! :)\n",
            "8: Deprecation warning will be ignored!\n"
          ],
          "name": "stdout"
        }
      ]
    },
    {
      "cell_type": "code",
      "metadata": {
        "colab": {
          "base_uri": "https://localhost:8080/"
        },
        "id": "EoSpcw1_GLrw",
        "outputId": "75efd466-824d-4ab9-c5d2-dae4c4fe8b7f"
      },
      "source": [
        "plt.rcParams.update(plt.rcParamsDefault)\r\n",
        "%matplotlib inline\r\n",
        "plt.style.use(['seaborn-whitegrid'])\r\n",
        "sns.set_palette(palette = mycols, n_colors = 4)\r\n",
        "sns.set(context='notebook', palette='deep')\r\n",
        "print('9: My Axes are visible in \"Dark Mode!\"')"
      ],
      "execution_count": 57,
      "outputs": [
        {
          "output_type": "stream",
          "text": [
            "9: My Axes are visible in \"Dark Mode!\"\n"
          ],
          "name": "stdout"
        }
      ]
    },
    {
      "cell_type": "markdown",
      "metadata": {
        "id": "8rYzvBkHJsN3"
      },
      "source": [
        "<a id='load_data'></a>\r\n",
        "# 2. \r\n"
      ]
    },
    {
      "cell_type": "markdown",
      "metadata": {
        "id": "6M7xIkRlcCow"
      },
      "source": [
        "<a name=\"load_data\"></a>\r\n",
        " ## Load data"
      ]
    },
    {
      "cell_type": "markdown",
      "metadata": {
        "id": "ojfEyLZ-l06r"
      },
      "source": [
        "First, I load the train and test datasets directly into Pandas dataframes. I load the data files directly from my Github as it allows me the flexibility to work from different computers.\r\n",
        "\r\n",
        "\r\n",
        "\r\n"
      ]
    },
    {
      "cell_type": "markdown",
      "metadata": {
        "id": "WRNy3jlGwGTj"
      },
      "source": [
        "I load the \"links\" csv into a pandas dataframe. "
      ]
    },
    {
      "cell_type": "code",
      "metadata": {
        "id": "01abd7uab4qQ",
        "colab": {
          "base_uri": "https://localhost:8080/",
          "height": 363
        },
        "outputId": "546255ef-d759-43cd-d89a-9d3f85100c24"
      },
      "source": [
        "url = 'https://raw.githubusercontent.com/villafue/Capstone_2_MovieLens/main/Data/links.csv'\n",
        "links_df = pd.read_csv(url)\n",
        "print(links_df.shape, '\\n' * 2, 'The Movie Lens links csv has: ', links_df.shape[0], 'rows and ', links_df.shape[1], 'columns.')\n",
        "# This makes a little barrier between printed outputs.\n",
        "print('\\n', '=' * 136, '\\n' * 2, 'links_df Set:', '\\n')\n",
        "display(links_df.head())\n",
        "print('\\n', '=' * 136)"
      ],
      "execution_count": 58,
      "outputs": [
        {
          "output_type": "stream",
          "text": [
            "(9742, 3) \n",
            "\n",
            " The Movie Lens links csv has:  9742 rows and  3 columns.\n",
            "\n",
            " ======================================================================================================================================== \n",
            "\n",
            " links_df Set: \n",
            "\n"
          ],
          "name": "stdout"
        },
        {
          "output_type": "display_data",
          "data": {
            "text/html": [
              "<div>\n",
              "<style scoped>\n",
              "    .dataframe tbody tr th:only-of-type {\n",
              "        vertical-align: middle;\n",
              "    }\n",
              "\n",
              "    .dataframe tbody tr th {\n",
              "        vertical-align: top;\n",
              "    }\n",
              "\n",
              "    .dataframe thead th {\n",
              "        text-align: right;\n",
              "    }\n",
              "</style>\n",
              "<table border=\"1\" class=\"dataframe\">\n",
              "  <thead>\n",
              "    <tr style=\"text-align: right;\">\n",
              "      <th></th>\n",
              "      <th>movieId</th>\n",
              "      <th>imdbId</th>\n",
              "      <th>tmdbId</th>\n",
              "    </tr>\n",
              "  </thead>\n",
              "  <tbody>\n",
              "    <tr>\n",
              "      <th>0</th>\n",
              "      <td>1</td>\n",
              "      <td>114709</td>\n",
              "      <td>862.0</td>\n",
              "    </tr>\n",
              "    <tr>\n",
              "      <th>1</th>\n",
              "      <td>2</td>\n",
              "      <td>113497</td>\n",
              "      <td>8844.0</td>\n",
              "    </tr>\n",
              "    <tr>\n",
              "      <th>2</th>\n",
              "      <td>3</td>\n",
              "      <td>113228</td>\n",
              "      <td>15602.0</td>\n",
              "    </tr>\n",
              "    <tr>\n",
              "      <th>3</th>\n",
              "      <td>4</td>\n",
              "      <td>114885</td>\n",
              "      <td>31357.0</td>\n",
              "    </tr>\n",
              "    <tr>\n",
              "      <th>4</th>\n",
              "      <td>5</td>\n",
              "      <td>113041</td>\n",
              "      <td>11862.0</td>\n",
              "    </tr>\n",
              "  </tbody>\n",
              "</table>\n",
              "</div>"
            ],
            "text/plain": [
              "   movieId  imdbId   tmdbId\n",
              "0        1  114709    862.0\n",
              "1        2  113497   8844.0\n",
              "2        3  113228  15602.0\n",
              "3        4  114885  31357.0\n",
              "4        5  113041  11862.0"
            ]
          },
          "metadata": {
            "tags": []
          }
        },
        {
          "output_type": "stream",
          "text": [
            "\n",
            " ========================================================================================================================================\n"
          ],
          "name": "stdout"
        }
      ]
    },
    {
      "cell_type": "markdown",
      "metadata": {
        "id": "aaHB-1HZwQWL"
      },
      "source": [
        "It has a little over 9,700 rows and three columns. The three columns correspond to Movie Lens identifier (MovieId), IMDb movie identifier (imdbId), and tmdbId (themoviedb.org). This could be used to link movies to their imdb database.  "
      ]
    },
    {
      "cell_type": "code",
      "metadata": {
        "id": "oN7dCemLvx6j",
        "outputId": "2649b93c-1aaf-419f-9c6b-3a9129dd2435",
        "colab": {
          "base_uri": "https://localhost:8080/"
        }
      },
      "source": [
        "links_df.info()"
      ],
      "execution_count": 59,
      "outputs": [
        {
          "output_type": "stream",
          "text": [
            "<class 'pandas.core.frame.DataFrame'>\n",
            "RangeIndex: 9742 entries, 0 to 9741\n",
            "Data columns (total 3 columns):\n",
            " #   Column   Non-Null Count  Dtype  \n",
            "---  ------   --------------  -----  \n",
            " 0   movieId  9742 non-null   int64  \n",
            " 1   imdbId   9742 non-null   int64  \n",
            " 2   tmdbId   9734 non-null   float64\n",
            "dtypes: float64(1), int64(2)\n",
            "memory usage: 228.5 KB\n"
          ],
          "name": "stdout"
        }
      ]
    },
    {
      "cell_type": "markdown",
      "metadata": {
        "id": "RYMkXJg5zIYf"
      },
      "source": [
        "There is only 8 missing values for the tmdbId column and I'm not going to worry about it right now. "
      ]
    },
    {
      "cell_type": "markdown",
      "metadata": {
        "id": "3D3yqX1tz2Oe"
      },
      "source": [
        "***"
      ]
    },
    {
      "cell_type": "markdown",
      "metadata": {
        "id": "Vkql6ThRz7OY"
      },
      "source": [
        "I will load the movies csv. "
      ]
    },
    {
      "cell_type": "code",
      "metadata": {
        "colab": {
          "base_uri": "https://localhost:8080/",
          "height": 363
        },
        "id": "48f1QUOzb2ft",
        "outputId": "2ca36243-9a46-46e1-d881-08cce9dedd23"
      },
      "source": [
        "url = 'https://raw.githubusercontent.com/villafue/Capstone_2_MovieLens/main/Data/movies.csv'\n",
        "movies_df = pd.read_csv(url)\n",
        "print(movies_df.shape, '\\n' * 2, 'The Movie Lens movies csv has: ', movies_df.shape[0], 'rows and ', movies_df.shape[1], 'columns.')\n",
        "# This makes a little barrier between printed outputs.\n",
        "print('\\n', '=' * 136, '\\n' * 2, 'movies_df Set:', '\\n')\n",
        "display(movies_df.head())\n",
        "print('\\n', '=' * 136)"
      ],
      "execution_count": 60,
      "outputs": [
        {
          "output_type": "stream",
          "text": [
            "(9742, 3) \n",
            "\n",
            " The Movie Lens movies csv has:  9742 rows and  3 columns.\n",
            "\n",
            " ======================================================================================================================================== \n",
            "\n",
            " movies_df Set: \n",
            "\n"
          ],
          "name": "stdout"
        },
        {
          "output_type": "display_data",
          "data": {
            "text/html": [
              "<div>\n",
              "<style scoped>\n",
              "    .dataframe tbody tr th:only-of-type {\n",
              "        vertical-align: middle;\n",
              "    }\n",
              "\n",
              "    .dataframe tbody tr th {\n",
              "        vertical-align: top;\n",
              "    }\n",
              "\n",
              "    .dataframe thead th {\n",
              "        text-align: right;\n",
              "    }\n",
              "</style>\n",
              "<table border=\"1\" class=\"dataframe\">\n",
              "  <thead>\n",
              "    <tr style=\"text-align: right;\">\n",
              "      <th></th>\n",
              "      <th>movieId</th>\n",
              "      <th>title</th>\n",
              "      <th>genres</th>\n",
              "    </tr>\n",
              "  </thead>\n",
              "  <tbody>\n",
              "    <tr>\n",
              "      <th>0</th>\n",
              "      <td>1</td>\n",
              "      <td>Toy Story (1995)</td>\n",
              "      <td>Adventure|Animation|Children|Comedy|Fantasy</td>\n",
              "    </tr>\n",
              "    <tr>\n",
              "      <th>1</th>\n",
              "      <td>2</td>\n",
              "      <td>Jumanji (1995)</td>\n",
              "      <td>Adventure|Children|Fantasy</td>\n",
              "    </tr>\n",
              "    <tr>\n",
              "      <th>2</th>\n",
              "      <td>3</td>\n",
              "      <td>Grumpier Old Men (1995)</td>\n",
              "      <td>Comedy|Romance</td>\n",
              "    </tr>\n",
              "    <tr>\n",
              "      <th>3</th>\n",
              "      <td>4</td>\n",
              "      <td>Waiting to Exhale (1995)</td>\n",
              "      <td>Comedy|Drama|Romance</td>\n",
              "    </tr>\n",
              "    <tr>\n",
              "      <th>4</th>\n",
              "      <td>5</td>\n",
              "      <td>Father of the Bride Part II (1995)</td>\n",
              "      <td>Comedy</td>\n",
              "    </tr>\n",
              "  </tbody>\n",
              "</table>\n",
              "</div>"
            ],
            "text/plain": [
              "   movieId                               title  \\\n",
              "0        1                    Toy Story (1995)   \n",
              "1        2                      Jumanji (1995)   \n",
              "2        3             Grumpier Old Men (1995)   \n",
              "3        4            Waiting to Exhale (1995)   \n",
              "4        5  Father of the Bride Part II (1995)   \n",
              "\n",
              "                                        genres  \n",
              "0  Adventure|Animation|Children|Comedy|Fantasy  \n",
              "1                   Adventure|Children|Fantasy  \n",
              "2                               Comedy|Romance  \n",
              "3                         Comedy|Drama|Romance  \n",
              "4                                       Comedy  "
            ]
          },
          "metadata": {
            "tags": []
          }
        },
        {
          "output_type": "stream",
          "text": [
            "\n",
            " ========================================================================================================================================\n"
          ],
          "name": "stdout"
        }
      ]
    },
    {
      "cell_type": "markdown",
      "metadata": {
        "id": "XmVc6l0P0ATQ"
      },
      "source": [
        "It has a little over 9700 rows and three columns. It contains the MovieLens movie Id column, the name of the movie and year (title), and it's corresponding list of genres."
      ]
    },
    {
      "cell_type": "code",
      "metadata": {
        "id": "8AFeoJWc0VU2",
        "outputId": "7fb65991-214a-47e1-8879-477250257997",
        "colab": {
          "base_uri": "https://localhost:8080/"
        }
      },
      "source": [
        "movies_df.info()"
      ],
      "execution_count": 61,
      "outputs": [
        {
          "output_type": "stream",
          "text": [
            "<class 'pandas.core.frame.DataFrame'>\n",
            "RangeIndex: 9742 entries, 0 to 9741\n",
            "Data columns (total 3 columns):\n",
            " #   Column   Non-Null Count  Dtype \n",
            "---  ------   --------------  ----- \n",
            " 0   movieId  9742 non-null   int64 \n",
            " 1   title    9742 non-null   object\n",
            " 2   genres   9742 non-null   object\n",
            "dtypes: int64(1), object(2)\n",
            "memory usage: 228.5+ KB\n"
          ],
          "name": "stdout"
        }
      ]
    },
    {
      "cell_type": "markdown",
      "metadata": {
        "id": "XKcyvAup0cTt"
      },
      "source": [
        "Thankfully, there are no missing values. "
      ]
    },
    {
      "cell_type": "markdown",
      "metadata": {
        "id": "omlIAMGr0kmL"
      },
      "source": [
        "***"
      ]
    },
    {
      "cell_type": "markdown",
      "metadata": {
        "id": "tNU77td80l0A"
      },
      "source": [
        "I will upload the ratings csv into a dataframe. "
      ]
    },
    {
      "cell_type": "code",
      "metadata": {
        "id": "YMHE2SL9dBut",
        "outputId": "d2e4ff0a-005e-402f-a0b2-85e4495212f5",
        "colab": {
          "base_uri": "https://localhost:8080/",
          "height": 363
        }
      },
      "source": [
        "url = 'https://raw.githubusercontent.com/villafue/Capstone_2_MovieLens/main/Data/ratings.csv'\r\n",
        "ratings_df = pd.read_csv(url)\r\n",
        "print(ratings_df.shape, '\\n' * 2, 'The Movie Lens ratings csv has: ', ratings_df.shape[0], 'rows and ', ratings_df.shape[1], 'columns.')\r\n",
        "# This makes a little barrier between printed outputs.\r\n",
        "print('\\n', '=' * 136, '\\n' * 2, 'ratings_df Set:', '\\n')\r\n",
        "display(ratings_df.head())\r\n",
        "print('\\n', '=' * 136)"
      ],
      "execution_count": 62,
      "outputs": [
        {
          "output_type": "stream",
          "text": [
            "(100836, 4) \n",
            "\n",
            " The Movie Lens ratings csv has:  100836 rows and  4 columns.\n",
            "\n",
            " ======================================================================================================================================== \n",
            "\n",
            " ratings_df Set: \n",
            "\n"
          ],
          "name": "stdout"
        },
        {
          "output_type": "display_data",
          "data": {
            "text/html": [
              "<div>\n",
              "<style scoped>\n",
              "    .dataframe tbody tr th:only-of-type {\n",
              "        vertical-align: middle;\n",
              "    }\n",
              "\n",
              "    .dataframe tbody tr th {\n",
              "        vertical-align: top;\n",
              "    }\n",
              "\n",
              "    .dataframe thead th {\n",
              "        text-align: right;\n",
              "    }\n",
              "</style>\n",
              "<table border=\"1\" class=\"dataframe\">\n",
              "  <thead>\n",
              "    <tr style=\"text-align: right;\">\n",
              "      <th></th>\n",
              "      <th>userId</th>\n",
              "      <th>movieId</th>\n",
              "      <th>rating</th>\n",
              "      <th>timestamp</th>\n",
              "    </tr>\n",
              "  </thead>\n",
              "  <tbody>\n",
              "    <tr>\n",
              "      <th>0</th>\n",
              "      <td>1</td>\n",
              "      <td>1</td>\n",
              "      <td>4.0</td>\n",
              "      <td>964982703</td>\n",
              "    </tr>\n",
              "    <tr>\n",
              "      <th>1</th>\n",
              "      <td>1</td>\n",
              "      <td>3</td>\n",
              "      <td>4.0</td>\n",
              "      <td>964981247</td>\n",
              "    </tr>\n",
              "    <tr>\n",
              "      <th>2</th>\n",
              "      <td>1</td>\n",
              "      <td>6</td>\n",
              "      <td>4.0</td>\n",
              "      <td>964982224</td>\n",
              "    </tr>\n",
              "    <tr>\n",
              "      <th>3</th>\n",
              "      <td>1</td>\n",
              "      <td>47</td>\n",
              "      <td>5.0</td>\n",
              "      <td>964983815</td>\n",
              "    </tr>\n",
              "    <tr>\n",
              "      <th>4</th>\n",
              "      <td>1</td>\n",
              "      <td>50</td>\n",
              "      <td>5.0</td>\n",
              "      <td>964982931</td>\n",
              "    </tr>\n",
              "  </tbody>\n",
              "</table>\n",
              "</div>"
            ],
            "text/plain": [
              "   userId  movieId  rating  timestamp\n",
              "0       1        1     4.0  964982703\n",
              "1       1        3     4.0  964981247\n",
              "2       1        6     4.0  964982224\n",
              "3       1       47     5.0  964983815\n",
              "4       1       50     5.0  964982931"
            ]
          },
          "metadata": {
            "tags": []
          }
        },
        {
          "output_type": "stream",
          "text": [
            "\n",
            " ========================================================================================================================================\n"
          ],
          "name": "stdout"
        }
      ]
    },
    {
      "cell_type": "markdown",
      "metadata": {
        "id": "eOeY9MTz2MuH"
      },
      "source": [
        "***"
      ]
    },
    {
      "cell_type": "markdown",
      "metadata": {
        "id": "cURMxwbq02-o"
      },
      "source": [
        "This one has over 100,800 rows and 4 columns. The first one corresponds to each individual (userId) who rated a specific movie (movieId) and his/her rating via the rating column. It also has a timestamp column that needs to be converted to be understood. "
      ]
    },
    {
      "cell_type": "code",
      "metadata": {
        "id": "eessz_bi1bHD",
        "outputId": "5deac7ae-287c-4cd0-d10f-04f6dacdc550",
        "colab": {
          "base_uri": "https://localhost:8080/"
        }
      },
      "source": [
        "ratings_df.info()"
      ],
      "execution_count": 63,
      "outputs": [
        {
          "output_type": "stream",
          "text": [
            "<class 'pandas.core.frame.DataFrame'>\n",
            "RangeIndex: 100836 entries, 0 to 100835\n",
            "Data columns (total 4 columns):\n",
            " #   Column     Non-Null Count   Dtype  \n",
            "---  ------     --------------   -----  \n",
            " 0   userId     100836 non-null  int64  \n",
            " 1   movieId    100836 non-null  int64  \n",
            " 2   rating     100836 non-null  float64\n",
            " 3   timestamp  100836 non-null  int64  \n",
            "dtypes: float64(1), int64(3)\n",
            "memory usage: 3.1 MB\n"
          ],
          "name": "stdout"
        }
      ]
    },
    {
      "cell_type": "markdown",
      "metadata": {
        "id": "XKbegi8C1edJ"
      },
      "source": [
        "There are zero missing values."
      ]
    },
    {
      "cell_type": "code",
      "metadata": {
        "id": "LDsbyojd1gTW",
        "outputId": "57d46e28-ab50-4fa1-f4e3-0712fcbfab9f",
        "colab": {
          "base_uri": "https://localhost:8080/"
        }
      },
      "source": [
        "ratings_df.userId.nunique()"
      ],
      "execution_count": 64,
      "outputs": [
        {
          "output_type": "execute_result",
          "data": {
            "text/plain": [
              "610"
            ]
          },
          "metadata": {
            "tags": []
          },
          "execution_count": 64
        }
      ]
    },
    {
      "cell_type": "markdown",
      "metadata": {
        "id": "ZdenEA8L1n0Y"
      },
      "source": [
        "Despite there being over 100k ratings, there are only 610 unique individuals. "
      ]
    },
    {
      "cell_type": "markdown",
      "metadata": {
        "id": "BFNDNa0R2QrM"
      },
      "source": [
        "***"
      ]
    },
    {
      "cell_type": "markdown",
      "metadata": {
        "id": "ykOSGiwp2elr"
      },
      "source": [
        "I will upload the tags csv into a pandas dataframe."
      ]
    },
    {
      "cell_type": "code",
      "metadata": {
        "id": "3I6kyfJCdc2L",
        "outputId": "534d51e6-e9be-42f9-809c-154a28f94365",
        "colab": {
          "base_uri": "https://localhost:8080/",
          "height": 363
        }
      },
      "source": [
        "url = 'https://raw.githubusercontent.com/villafue/Capstone_2_MovieLens/main/Data/tags.csv'\r\n",
        "tags_df = pd.read_csv(url)\r\n",
        "print(tags_df.shape, '\\n' * 2, 'The Movie Lens tags csv has: ', tags_df.shape[0], 'rows and ', tags_df.shape[1], 'columns.')\r\n",
        "# This makes a little barrier between printed outputs.\r\n",
        "print('\\n', '=' * 136, '\\n' * 2, 'tags_df Set:', '\\n')\r\n",
        "display(tags_df.head())\r\n",
        "print('\\n', '=' * 136)"
      ],
      "execution_count": 65,
      "outputs": [
        {
          "output_type": "stream",
          "text": [
            "(3683, 4) \n",
            "\n",
            " The Movie Lens tags csv has:  3683 rows and  4 columns.\n",
            "\n",
            " ======================================================================================================================================== \n",
            "\n",
            " tags_df Set: \n",
            "\n"
          ],
          "name": "stdout"
        },
        {
          "output_type": "display_data",
          "data": {
            "text/html": [
              "<div>\n",
              "<style scoped>\n",
              "    .dataframe tbody tr th:only-of-type {\n",
              "        vertical-align: middle;\n",
              "    }\n",
              "\n",
              "    .dataframe tbody tr th {\n",
              "        vertical-align: top;\n",
              "    }\n",
              "\n",
              "    .dataframe thead th {\n",
              "        text-align: right;\n",
              "    }\n",
              "</style>\n",
              "<table border=\"1\" class=\"dataframe\">\n",
              "  <thead>\n",
              "    <tr style=\"text-align: right;\">\n",
              "      <th></th>\n",
              "      <th>userId</th>\n",
              "      <th>movieId</th>\n",
              "      <th>tag</th>\n",
              "      <th>timestamp</th>\n",
              "    </tr>\n",
              "  </thead>\n",
              "  <tbody>\n",
              "    <tr>\n",
              "      <th>0</th>\n",
              "      <td>2</td>\n",
              "      <td>60756</td>\n",
              "      <td>funny</td>\n",
              "      <td>1445714994</td>\n",
              "    </tr>\n",
              "    <tr>\n",
              "      <th>1</th>\n",
              "      <td>2</td>\n",
              "      <td>60756</td>\n",
              "      <td>Highly quotable</td>\n",
              "      <td>1445714996</td>\n",
              "    </tr>\n",
              "    <tr>\n",
              "      <th>2</th>\n",
              "      <td>2</td>\n",
              "      <td>60756</td>\n",
              "      <td>will ferrell</td>\n",
              "      <td>1445714992</td>\n",
              "    </tr>\n",
              "    <tr>\n",
              "      <th>3</th>\n",
              "      <td>2</td>\n",
              "      <td>89774</td>\n",
              "      <td>Boxing story</td>\n",
              "      <td>1445715207</td>\n",
              "    </tr>\n",
              "    <tr>\n",
              "      <th>4</th>\n",
              "      <td>2</td>\n",
              "      <td>89774</td>\n",
              "      <td>MMA</td>\n",
              "      <td>1445715200</td>\n",
              "    </tr>\n",
              "  </tbody>\n",
              "</table>\n",
              "</div>"
            ],
            "text/plain": [
              "   userId  movieId              tag   timestamp\n",
              "0       2    60756            funny  1445714994\n",
              "1       2    60756  Highly quotable  1445714996\n",
              "2       2    60756     will ferrell  1445714992\n",
              "3       2    89774     Boxing story  1445715207\n",
              "4       2    89774              MMA  1445715200"
            ]
          },
          "metadata": {
            "tags": []
          }
        },
        {
          "output_type": "stream",
          "text": [
            "\n",
            " ========================================================================================================================================\n"
          ],
          "name": "stdout"
        }
      ]
    },
    {
      "cell_type": "markdown",
      "metadata": {
        "id": "IK7eBB6U2KG7"
      },
      "source": [
        "This dataset has almost 3700 rows and 4 columns. It has a userId for each individual and a movieId for the \"tags\" each user gave. The \"tag\" column represents a word or short phrase given by each user. The timestamp column represents seconds since midnight Coordinated Universal Time (UTC) of January 1, 1970. "
      ]
    },
    {
      "cell_type": "code",
      "metadata": {
        "id": "vrffOqyQ3kYh",
        "outputId": "fa2b88d5-de8e-487b-cfed-875152a1b207",
        "colab": {
          "base_uri": "https://localhost:8080/"
        }
      },
      "source": [
        "tags_df.info()"
      ],
      "execution_count": 66,
      "outputs": [
        {
          "output_type": "stream",
          "text": [
            "<class 'pandas.core.frame.DataFrame'>\n",
            "RangeIndex: 3683 entries, 0 to 3682\n",
            "Data columns (total 4 columns):\n",
            " #   Column     Non-Null Count  Dtype \n",
            "---  ------     --------------  ----- \n",
            " 0   userId     3683 non-null   int64 \n",
            " 1   movieId    3683 non-null   int64 \n",
            " 2   tag        3683 non-null   object\n",
            " 3   timestamp  3683 non-null   int64 \n",
            "dtypes: int64(3), object(1)\n",
            "memory usage: 115.2+ KB\n"
          ],
          "name": "stdout"
        }
      ]
    },
    {
      "cell_type": "markdown",
      "metadata": {
        "id": "vPNCH4A53pAY"
      },
      "source": [
        "There are no missing values. "
      ]
    },
    {
      "cell_type": "code",
      "metadata": {
        "id": "K-x-JsUs3xVs",
        "outputId": "e92d582f-104a-4325-df54-33da86de2543",
        "colab": {
          "base_uri": "https://localhost:8080/"
        }
      },
      "source": [
        "tags_df.userId.nunique()"
      ],
      "execution_count": 67,
      "outputs": [
        {
          "output_type": "execute_result",
          "data": {
            "text/plain": [
              "58"
            ]
          },
          "metadata": {
            "tags": []
          },
          "execution_count": 67
        }
      ]
    },
    {
      "cell_type": "code",
      "metadata": {
        "id": "SSEqQRqn39ci",
        "outputId": "dc5781ca-3522-462d-85fd-6d4b7bf11f08",
        "colab": {
          "base_uri": "https://localhost:8080/"
        }
      },
      "source": [
        "tags_df.movieId.nunique()"
      ],
      "execution_count": 68,
      "outputs": [
        {
          "output_type": "execute_result",
          "data": {
            "text/plain": [
              "1572"
            ]
          },
          "metadata": {
            "tags": []
          },
          "execution_count": 68
        }
      ]
    },
    {
      "cell_type": "markdown",
      "metadata": {
        "id": "X137pzWq3svJ"
      },
      "source": [
        "There are only 58 individuals to gave tags to a total of 1572 movies."
      ]
    },
    {
      "cell_type": "markdown",
      "metadata": {
        "id": "WLtuOXNZ4EkO"
      },
      "source": [
        "***"
      ]
    },
    {
      "cell_type": "markdown",
      "metadata": {
        "id": "jg55Z4Ne4GTB"
      },
      "source": [
        "Now, I am going to join ratings and the movies together into one dataframe. This would allow me to see which users rated what movies, as well as the title for each movieId."
      ]
    },
    {
      "cell_type": "code",
      "metadata": {
        "id": "kjE6-uYbtChR",
        "outputId": "de059741-fb89-4516-b629-bea275aeec4e",
        "colab": {
          "base_uri": "https://localhost:8080/",
          "height": 212
        }
      },
      "source": [
        "us_mov_df_unsorted = pd.merge(ratings_df, movies_df)\r\n",
        "print(us_mov_df_unsorted.shape)\r\n",
        "us_mov_df_unsorted.head()"
      ],
      "execution_count": 94,
      "outputs": [
        {
          "output_type": "stream",
          "text": [
            "(100836, 6)\n"
          ],
          "name": "stdout"
        },
        {
          "output_type": "execute_result",
          "data": {
            "text/html": [
              "<div>\n",
              "<style scoped>\n",
              "    .dataframe tbody tr th:only-of-type {\n",
              "        vertical-align: middle;\n",
              "    }\n",
              "\n",
              "    .dataframe tbody tr th {\n",
              "        vertical-align: top;\n",
              "    }\n",
              "\n",
              "    .dataframe thead th {\n",
              "        text-align: right;\n",
              "    }\n",
              "</style>\n",
              "<table border=\"1\" class=\"dataframe\">\n",
              "  <thead>\n",
              "    <tr style=\"text-align: right;\">\n",
              "      <th></th>\n",
              "      <th>userId</th>\n",
              "      <th>movieId</th>\n",
              "      <th>rating</th>\n",
              "      <th>timestamp</th>\n",
              "      <th>title</th>\n",
              "      <th>genres</th>\n",
              "    </tr>\n",
              "  </thead>\n",
              "  <tbody>\n",
              "    <tr>\n",
              "      <th>0</th>\n",
              "      <td>1</td>\n",
              "      <td>1</td>\n",
              "      <td>4.0</td>\n",
              "      <td>964982703</td>\n",
              "      <td>Toy Story (1995)</td>\n",
              "      <td>Adventure|Animation|Children|Comedy|Fantasy</td>\n",
              "    </tr>\n",
              "    <tr>\n",
              "      <th>1</th>\n",
              "      <td>5</td>\n",
              "      <td>1</td>\n",
              "      <td>4.0</td>\n",
              "      <td>847434962</td>\n",
              "      <td>Toy Story (1995)</td>\n",
              "      <td>Adventure|Animation|Children|Comedy|Fantasy</td>\n",
              "    </tr>\n",
              "    <tr>\n",
              "      <th>2</th>\n",
              "      <td>7</td>\n",
              "      <td>1</td>\n",
              "      <td>4.5</td>\n",
              "      <td>1106635946</td>\n",
              "      <td>Toy Story (1995)</td>\n",
              "      <td>Adventure|Animation|Children|Comedy|Fantasy</td>\n",
              "    </tr>\n",
              "    <tr>\n",
              "      <th>3</th>\n",
              "      <td>15</td>\n",
              "      <td>1</td>\n",
              "      <td>2.5</td>\n",
              "      <td>1510577970</td>\n",
              "      <td>Toy Story (1995)</td>\n",
              "      <td>Adventure|Animation|Children|Comedy|Fantasy</td>\n",
              "    </tr>\n",
              "    <tr>\n",
              "      <th>4</th>\n",
              "      <td>17</td>\n",
              "      <td>1</td>\n",
              "      <td>4.5</td>\n",
              "      <td>1305696483</td>\n",
              "      <td>Toy Story (1995)</td>\n",
              "      <td>Adventure|Animation|Children|Comedy|Fantasy</td>\n",
              "    </tr>\n",
              "  </tbody>\n",
              "</table>\n",
              "</div>"
            ],
            "text/plain": [
              "   userId  movieId  rating   timestamp             title  \\\n",
              "0       1        1     4.0   964982703  Toy Story (1995)   \n",
              "1       5        1     4.0   847434962  Toy Story (1995)   \n",
              "2       7        1     4.5  1106635946  Toy Story (1995)   \n",
              "3      15        1     2.5  1510577970  Toy Story (1995)   \n",
              "4      17        1     4.5  1305696483  Toy Story (1995)   \n",
              "\n",
              "                                        genres  \n",
              "0  Adventure|Animation|Children|Comedy|Fantasy  \n",
              "1  Adventure|Animation|Children|Comedy|Fantasy  \n",
              "2  Adventure|Animation|Children|Comedy|Fantasy  \n",
              "3  Adventure|Animation|Children|Comedy|Fantasy  \n",
              "4  Adventure|Animation|Children|Comedy|Fantasy  "
            ]
          },
          "metadata": {
            "tags": []
          },
          "execution_count": 94
        }
      ]
    },
    {
      "cell_type": "markdown",
      "metadata": {
        "id": "d5zqdOPH51F4"
      },
      "source": [
        "I'm happy that it worked, but I need to sort it to make sense. I will sort first by the userId and then by the movieId"
      ]
    },
    {
      "cell_type": "code",
      "metadata": {
        "id": "LX4gNLyn4-W8"
      },
      "source": [
        "us_move_df = us_mov_df_unsorted.sort_values(by=['userId', 'movieId'], inplace=True)"
      ],
      "execution_count": 95,
      "outputs": []
    },
    {
      "cell_type": "markdown",
      "metadata": {
        "id": "2V6dFnA8CSHs"
      },
      "source": [
        "Now, I'm going to export this dataframe so I can use excel to rapidly find a user who has movie tastes similar to my own. I will use this person to help qualitavely validate movies that are being recommended.\r\n",
        "\r\n",
        "First, I'm going to specify what directory to download the file into. "
      ]
    },
    {
      "cell_type": "code",
      "metadata": {
        "id": "YPWpbBmk6XKS",
        "outputId": "daaa334e-0e3b-43c3-acc7-c573b4be1bb8",
        "colab": {
          "base_uri": "https://localhost:8080/"
        }
      },
      "source": [
        "import os\r\n",
        "# print(os.listdir())\r\n",
        "# os.chdir('sample_data')\r\n",
        "os.listdir()"
      ],
      "execution_count": 71,
      "outputs": [
        {
          "output_type": "execute_result",
          "data": {
            "text/plain": [
              "<function posix.listdir>"
            ]
          },
          "metadata": {
            "tags": []
          },
          "execution_count": 71
        }
      ]
    },
    {
      "cell_type": "markdown",
      "metadata": {
        "id": "IJuXP9AzK-F6"
      },
      "source": [
        "Next, I'm going to [export](https://towardsdatascience.com/how-to-export-pandas-dataframe-to-csv-2038e43d9c03) the file and call it usmov."
      ]
    },
    {
      "cell_type": "code",
      "metadata": {
        "id": "VYgZy8ph7JCc"
      },
      "source": [
        "# us_mov_df.to_csv('usmov')"
      ],
      "execution_count": 72,
      "outputs": []
    },
    {
      "cell_type": "markdown",
      "metadata": {
        "id": "LCPCus_zLSin"
      },
      "source": [
        "It took me a few minutes but I found a suitable user who has similar tastes to my own. He/She is User 210.\r\n",
        "\r\n",
        "Here is a handy guide to filter pandas dataframes with [multiple conditions](https://kanoki.org/2020/01/21/pandas-dataframe-filter-with-multiple-conditions/)."
      ]
    },
    {
      "cell_type": "code",
      "metadata": {
        "id": "3822YffxLadp",
        "outputId": "954e6698-46da-4b78-f9e3-4f5085b9a5d6",
        "colab": {
          "base_uri": "https://localhost:8080/",
          "height": 195
        }
      },
      "source": [
        "user_210_df = us_mov_df[(us_mov_df.userId == 210) & (us_mov_df.rating >= 4)].sort_values(by='rating', ascending=False)\r\n",
        "user_210_df.head()"
      ],
      "execution_count": 79,
      "outputs": [
        {
          "output_type": "execute_result",
          "data": {
            "text/html": [
              "<div>\n",
              "<style scoped>\n",
              "    .dataframe tbody tr th:only-of-type {\n",
              "        vertical-align: middle;\n",
              "    }\n",
              "\n",
              "    .dataframe tbody tr th {\n",
              "        vertical-align: top;\n",
              "    }\n",
              "\n",
              "    .dataframe thead th {\n",
              "        text-align: right;\n",
              "    }\n",
              "</style>\n",
              "<table border=\"1\" class=\"dataframe\">\n",
              "  <thead>\n",
              "    <tr style=\"text-align: right;\">\n",
              "      <th></th>\n",
              "      <th>userId</th>\n",
              "      <th>movieId</th>\n",
              "      <th>rating</th>\n",
              "      <th>timestamp</th>\n",
              "      <th>title</th>\n",
              "      <th>genres</th>\n",
              "    </tr>\n",
              "  </thead>\n",
              "  <tbody>\n",
              "    <tr>\n",
              "      <th>1653</th>\n",
              "      <td>210</td>\n",
              "      <td>260</td>\n",
              "      <td>5.0</td>\n",
              "      <td>1473705468</td>\n",
              "      <td>Star Wars: Episode IV - A New Hope (1977)</td>\n",
              "      <td>Action|Adventure|Sci-Fi</td>\n",
              "    </tr>\n",
              "    <tr>\n",
              "      <th>36486</th>\n",
              "      <td>210</td>\n",
              "      <td>5378</td>\n",
              "      <td>5.0</td>\n",
              "      <td>1473705524</td>\n",
              "      <td>Star Wars: Episode II - Attack of the Clones (...</td>\n",
              "      <td>Action|Adventure|Sci-Fi|IMAX</td>\n",
              "    </tr>\n",
              "    <tr>\n",
              "      <th>86989</th>\n",
              "      <td>210</td>\n",
              "      <td>177765</td>\n",
              "      <td>5.0</td>\n",
              "      <td>1537632257</td>\n",
              "      <td>Coco (2017)</td>\n",
              "      <td>Adventure|Animation|Children</td>\n",
              "    </tr>\n",
              "    <tr>\n",
              "      <th>93505</th>\n",
              "      <td>210</td>\n",
              "      <td>146662</td>\n",
              "      <td>5.0</td>\n",
              "      <td>1513943333</td>\n",
              "      <td>Dragons: Gift of the Night Fury (2011)</td>\n",
              "      <td>Adventure|Animation|Comedy</td>\n",
              "    </tr>\n",
              "    <tr>\n",
              "      <th>57274</th>\n",
              "      <td>210</td>\n",
              "      <td>122918</td>\n",
              "      <td>5.0</td>\n",
              "      <td>1513943744</td>\n",
              "      <td>Guardians of the Galaxy 2 (2017)</td>\n",
              "      <td>Action|Adventure|Sci-Fi</td>\n",
              "    </tr>\n",
              "  </tbody>\n",
              "</table>\n",
              "</div>"
            ],
            "text/plain": [
              "       userId  movieId  rating   timestamp  \\\n",
              "1653      210      260     5.0  1473705468   \n",
              "36486     210     5378     5.0  1473705524   \n",
              "86989     210   177765     5.0  1537632257   \n",
              "93505     210   146662     5.0  1513943333   \n",
              "57274     210   122918     5.0  1513943744   \n",
              "\n",
              "                                                   title  \\\n",
              "1653           Star Wars: Episode IV - A New Hope (1977)   \n",
              "36486  Star Wars: Episode II - Attack of the Clones (...   \n",
              "86989                                        Coco (2017)   \n",
              "93505             Dragons: Gift of the Night Fury (2011)   \n",
              "57274                   Guardians of the Galaxy 2 (2017)   \n",
              "\n",
              "                             genres  \n",
              "1653        Action|Adventure|Sci-Fi  \n",
              "36486  Action|Adventure|Sci-Fi|IMAX  \n",
              "86989  Adventure|Animation|Children  \n",
              "93505    Adventure|Animation|Comedy  \n",
              "57274       Action|Adventure|Sci-Fi  "
            ]
          },
          "metadata": {
            "tags": []
          },
          "execution_count": 79
        }
      ]
    },
    {
      "cell_type": "markdown",
      "metadata": {
        "id": "wNVh_J0FOPAs"
      },
      "source": [
        "***"
      ]
    },
    {
      "cell_type": "markdown",
      "metadata": {
        "id": "BCtKMx-_6Wr8"
      },
      "source": [
        "Now I'm going to explore the data a little bit more. "
      ]
    },
    {
      "cell_type": "markdown",
      "metadata": {
        "id": "boY31YgRVkoU"
      },
      "source": [
        "I'm going to see which users rated the most movies."
      ]
    },
    {
      "cell_type": "code",
      "metadata": {
        "id": "uRk6cxIzSTgY",
        "outputId": "37db0674-4971-4b65-ff97-3e37c601965b",
        "colab": {
          "base_uri": "https://localhost:8080/",
          "height": 402
        }
      },
      "source": [
        "ratings_by_user = us_mov_df.drop('timestamp', axis=1)\r\n",
        "ratings_by_user = ratings_by_user.groupby('userId').agg([np.size, np.mean])"
      ],
      "execution_count": 86,
      "outputs": [
        {
          "output_type": "execute_result",
          "data": {
            "text/html": [
              "<div>\n",
              "<style scoped>\n",
              "    .dataframe tbody tr th:only-of-type {\n",
              "        vertical-align: middle;\n",
              "    }\n",
              "\n",
              "    .dataframe tbody tr th {\n",
              "        vertical-align: top;\n",
              "    }\n",
              "\n",
              "    .dataframe thead tr th {\n",
              "        text-align: left;\n",
              "    }\n",
              "\n",
              "    .dataframe thead tr:last-of-type th {\n",
              "        text-align: right;\n",
              "    }\n",
              "</style>\n",
              "<table border=\"1\" class=\"dataframe\">\n",
              "  <thead>\n",
              "    <tr>\n",
              "      <th></th>\n",
              "      <th colspan=\"2\" halign=\"left\">movieId</th>\n",
              "      <th colspan=\"2\" halign=\"left\">rating</th>\n",
              "    </tr>\n",
              "    <tr>\n",
              "      <th></th>\n",
              "      <th>size</th>\n",
              "      <th>mean</th>\n",
              "      <th>size</th>\n",
              "      <th>mean</th>\n",
              "    </tr>\n",
              "    <tr>\n",
              "      <th>userId</th>\n",
              "      <th></th>\n",
              "      <th></th>\n",
              "      <th></th>\n",
              "      <th></th>\n",
              "    </tr>\n",
              "  </thead>\n",
              "  <tbody>\n",
              "    <tr>\n",
              "      <th>1</th>\n",
              "      <td>232</td>\n",
              "      <td>1854.603448</td>\n",
              "      <td>232.0</td>\n",
              "      <td>4.366379</td>\n",
              "    </tr>\n",
              "    <tr>\n",
              "      <th>2</th>\n",
              "      <td>29</td>\n",
              "      <td>70350.275862</td>\n",
              "      <td>29.0</td>\n",
              "      <td>3.948276</td>\n",
              "    </tr>\n",
              "    <tr>\n",
              "      <th>3</th>\n",
              "      <td>39</td>\n",
              "      <td>7058.384615</td>\n",
              "      <td>39.0</td>\n",
              "      <td>2.435897</td>\n",
              "    </tr>\n",
              "    <tr>\n",
              "      <th>4</th>\n",
              "      <td>216</td>\n",
              "      <td>1982.129630</td>\n",
              "      <td>216.0</td>\n",
              "      <td>3.555556</td>\n",
              "    </tr>\n",
              "    <tr>\n",
              "      <th>5</th>\n",
              "      <td>44</td>\n",
              "      <td>343.840909</td>\n",
              "      <td>44.0</td>\n",
              "      <td>3.636364</td>\n",
              "    </tr>\n",
              "    <tr>\n",
              "      <th>6</th>\n",
              "      <td>314</td>\n",
              "      <td>389.041401</td>\n",
              "      <td>314.0</td>\n",
              "      <td>3.493631</td>\n",
              "    </tr>\n",
              "    <tr>\n",
              "      <th>7</th>\n",
              "      <td>152</td>\n",
              "      <td>10908.256579</td>\n",
              "      <td>152.0</td>\n",
              "      <td>3.230263</td>\n",
              "    </tr>\n",
              "    <tr>\n",
              "      <th>8</th>\n",
              "      <td>47</td>\n",
              "      <td>297.978723</td>\n",
              "      <td>47.0</td>\n",
              "      <td>3.574468</td>\n",
              "    </tr>\n",
              "    <tr>\n",
              "      <th>9</th>\n",
              "      <td>46</td>\n",
              "      <td>3707.043478</td>\n",
              "      <td>46.0</td>\n",
              "      <td>3.260870</td>\n",
              "    </tr>\n",
              "    <tr>\n",
              "      <th>10</th>\n",
              "      <td>140</td>\n",
              "      <td>51465.307143</td>\n",
              "      <td>140.0</td>\n",
              "      <td>3.278571</td>\n",
              "    </tr>\n",
              "  </tbody>\n",
              "</table>\n",
              "</div>"
            ],
            "text/plain": [
              "       movieId               rating          \n",
              "          size          mean   size      mean\n",
              "userId                                       \n",
              "1          232   1854.603448  232.0  4.366379\n",
              "2           29  70350.275862   29.0  3.948276\n",
              "3           39   7058.384615   39.0  2.435897\n",
              "4          216   1982.129630  216.0  3.555556\n",
              "5           44    343.840909   44.0  3.636364\n",
              "6          314    389.041401  314.0  3.493631\n",
              "7          152  10908.256579  152.0  3.230263\n",
              "8           47    297.978723   47.0  3.574468\n",
              "9           46   3707.043478   46.0  3.260870\n",
              "10         140  51465.307143  140.0  3.278571"
            ]
          },
          "metadata": {
            "tags": []
          },
          "execution_count": 86
        }
      ]
    },
    {
      "cell_type": "code",
      "metadata": {
        "id": "-zLoaaXCVMCd",
        "outputId": "d0367305-fe4d-425f-d8ba-69bd5987ce30",
        "colab": {
          "base_uri": "https://localhost:8080/",
          "height": 343
        }
      },
      "source": [
        "ratings_by_user.drop('movieId', axis=1)\r\n",
        "ratings_by_user['rating']['size'].head(40).sort_values(ascending=False).plot(kind='bar', figsize=(10,5));"
      ],
      "execution_count": 89,
      "outputs": [
        {
          "output_type": "display_data",
          "data": {
            "image/png": "[encoded data removed]",
            "text/plain": [
              "<Figure size 720x360 with 1 Axes>"
            ]
          },
          "metadata": {
            "tags": []
          }
        }
      ]
    },
    {
      "cell_type": "markdown",
      "metadata": {
        "id": "4fHDZGyeVrSW"
      },
      "source": [
        "It looks like User 19 gave over 700 movie ratings, and the top 20 users had at least 100 ratings each. "
      ]
    },
    {
      "cell_type": "code",
      "metadata": {
        "id": "ofcLnEy2Te2_",
        "outputId": "8005f2ae-64ab-4c25-be57-bb086a60518b",
        "colab": {
          "base_uri": "https://localhost:8080/"
        }
      },
      "source": [
        "ratings_by_movies = us_mov_df.groupby('movieId').agg([np.mean, np.size])\r\n",
        "print(ratings_by_movies.shape)"
      ],
      "execution_count": 90,
      "outputs": [
        {
          "output_type": "stream",
          "text": [
            "(9724, 6)\n"
          ],
          "name": "stdout"
        }
      ]
    },
    {
      "cell_type": "code",
      "metadata": {
        "id": "E-ZGlOViWx7Q"
      },
      "source": [
        "ratings_by_movies = ratings_by_movies.drop('userId', axis=1)"
      ],
      "execution_count": 91,
      "outputs": []
    },
    {
      "cell_type": "code",
      "metadata": {
        "id": "_WBMo4HRW3jA",
        "outputId": "52e668d8-3162-441d-c89e-a037aabca3a6",
        "colab": {
          "base_uri": "https://localhost:8080/",
          "height": 343
        }
      },
      "source": [
        "ratings_by_movies['rating']['mean'].head(40).sort_values(ascending=False).plot(kind='bar', figsize = (10,5));"
      ],
      "execution_count": 92,
      "outputs": [
        {
          "output_type": "display_data",
          "data": {
            "image/png": "[encoded data removed]",
            "text/plain": [
              "<Figure size 720x360 with 1 Axes>"
            ]
          },
          "metadata": {
            "tags": []
          }
        }
      ]
    },
    {
      "cell_type": "markdown",
      "metadata": {
        "id": "GTKTTxJ2Xdto"
      },
      "source": [
        "These are the highest average movie ratings. I wonder which ones were the highest rated?"
      ]
    },
    {
      "cell_type": "markdown",
      "metadata": {
        "id": "wxw2u6jzvOAG"
      },
      "source": [
        "The \"Test Set\" has one less column than my train set. This is because the dependent variable \"SalePrice,\" for the test set, is kept secret and is used as the final measure of the accuracy of my model.\r\n",
        "\r\n"
      ]
    },
    {
      "cell_type": "markdown",
      "metadata": {
        "id": "S40UdgEde1Od"
      },
      "source": [
        "Next, I want to see the column names."
      ]
    },
    {
      "cell_type": "code",
      "metadata": {
        "id": "JwdclCTHb4qU",
        "colab": {
          "base_uri": "https://localhost:8080/"
        },
        "outputId": "abc2e05e-38c5-4cb4-e273-42976ad22e0d"
      },
      "source": [
        "nf.columns"
      ],
      "execution_count": null,
      "outputs": [
        {
          "output_type": "execute_result",
          "data": {
            "text/plain": [
              "Index(['show_id', 'type', 'title', 'director', 'cast', 'country', 'date_added',\n",
              "       'release_year', 'rating', 'duration', 'listed_in', 'description'],\n",
              "      dtype='object')"
            ]
          },
          "metadata": {
            "tags": []
          },
          "execution_count": 6
        }
      ]
    },
    {
      "cell_type": "markdown",
      "metadata": {
        "id": "NF0Mx3JSwkVW"
      },
      "source": [
        "Now, I will save the 'Id' columns, from both datasets, as it's necessary for preparing the final submission data. I'll drop them from my training and test datasets as they are redundant for modeling."
      ]
    },
    {
      "cell_type": "markdown",
      "metadata": {
        "id": "q3Oo02KZyLkt"
      },
      "source": [
        "Here is a helpful link for \".format\" and strings. [Python Format Function](https://www.geeksforgeeks.org/python-format-function/#:~:text=Diamond%20star%20pattern-,Python%20%7C%20format()%20function,a%20string%20through%20positional%20formatting.)"
      ]
    },
    {
      "cell_type": "code",
      "metadata": {
        "id": "GGri70Gkwz64",
        "colab": {
          "base_uri": "https://localhost:8080/"
        },
        "outputId": "5d11a01c-c2c7-48d3-f774-ef3d179a6be0"
      },
      "source": [
        "train_ID = train['Id']\n",
        "test_ID = test['Id']\n",
        "\n",
        "train.drop(\"Id\", axis = 1, inplace = True)\n",
        "test.drop(\"Id\", axis = 1, inplace = True)\n",
        "\n",
        "print(\"The train data size after dropping Id feature is : {} \".format(train.shape)) \n",
        "print(\"The test data size after dropping Id feature is : {} \".format(test.shape))\n"
      ],
      "execution_count": null,
      "outputs": [
        {
          "output_type": "stream",
          "text": [
            "The train data size after dropping Id feature is : (1460, 80) \n",
            "The test data size after dropping Id feature is : (1459, 79) \n"
          ],
          "name": "stdout"
        }
      ]
    },
    {
      "cell_type": "markdown",
      "metadata": {
        "id": "HbGaZnOyLPi3"
      },
      "source": [
        "***"
      ]
    },
    {
      "cell_type": "markdown",
      "metadata": {
        "id": "-vNLo4npidel"
      },
      "source": [
        "I'll change my home directory because this is where I upload files, from my computer, into Colab."
      ]
    },
    {
      "cell_type": "code",
      "metadata": {
        "id": "vJqzfuV_b4qN"
      },
      "source": [
        "# os.chdir('sample_data')"
      ],
      "execution_count": null,
      "outputs": []
    },
    {
      "cell_type": "code",
      "metadata": {
        "id": "CYTzoTNQ_0o9"
      },
      "source": [
        ""
      ],
      "execution_count": null,
      "outputs": []
    }
  ]
}