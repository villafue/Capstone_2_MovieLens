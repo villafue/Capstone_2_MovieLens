{
  "nbformat": 4,
  "nbformat_minor": 0,
  "metadata": {
    "colab": {
      "name": "MovieLens.ipynb",
      "provenance": [],
      "toc_visible": true,
      "authorship_tag": "ABX9TyOt78IOmtkSOyWAL098ehEv",
      "include_colab_link": true
    },
    "kernelspec": {
      "name": "python3",
      "display_name": "Python 3"
    }
  },
  "cells": [
    {
      "cell_type": "markdown",
      "metadata": {
        "id": "view-in-github",
        "colab_type": "text"
      },
      "source": [
        "<a href=\"https://colab.research.google.com/github/villafue/Capstone_2_MovieLens/blob/main/MovieLens.ipynb\" target=\"_parent\"><img src=\"https://colab.research.google.com/assets/colab-badge.svg\" alt=\"Open In Colab\"/></a>"
      ]
    },
    {
      "cell_type": "markdown",
      "metadata": {
        "id": "SSFY9uUo7Mj_"
      },
      "source": [
        "# 1."
      ]
    },
    {
      "cell_type": "markdown",
      "metadata": {
        "id": "M1LCNKrko_aT"
      },
      "source": [
        "<a name=\"preface\"></a>\n",
        "## Preface"
      ]
    },
    {
      "cell_type": "markdown",
      "metadata": {
        "id": "YFIMfT75aW_6"
      },
      "source": [
        "\n",
        "Hello! My name is Roland and this is my second Data Science  Capstone project with Springboard. My goal was recommendation system exploration.\n",
        "\n",
        "I did my best to create a logical flow and organization to my notebook. Everything is categorized into sections and hyperlinked for easier navigation. As much as possible, I included markdowns inbetween the code to explain my thinking behind what I did. Please do not hesitate to contact me, and thank you for reading!\n",
        "\n",
        "Last, I am thankful and grateful to [Frank Kane](https://www.linkedin.com/in/fkane/?trk=lil_course) and his [Building Recommender Systems with Machine Learning and AI](https://sundog-education.com/course/building-recommender-systems-with-machine-learning-and-ai/) on LinkedIn Learning. My Recommender Systems were built and adapted from his framework. Him and others are referenced in section \"6.3.\"\n"
      ]
    },
    {
      "cell_type": "markdown",
      "metadata": {
        "id": "kOqmNQ3sIqKk"
      },
      "source": [
        "***"
      ]
    },
    {
      "cell_type": "markdown",
      "metadata": {
        "id": "PghWZOmEp91P"
      },
      "source": [
        "<a name=\"top\"></a>\n",
        "## Table of Contents"
      ]
    },
    {
      "cell_type": "markdown",
      "metadata": {
        "id": "_WasouTHJILH"
      },
      "source": [
        "Note: The internal links work in Google Colab.\n",
        "\n",
        "1. **[Preface](#preface)**\n",
        "2. **[Introduction](#introduction)**\n",
        "3. **[Exploratory Data Analysis](#eda)**\n",
        "    - 3.1 - [Import Packages](https://colab.research.google.com/github/villafue/Capstone_2_MovieLens/blob/main/Notebook/3_Exploratory_Data_Analysis.ipynb#import_packages)\n",
        "    - 3.2 - [Movie Lens Data](https://colab.research.google.com/github/villafue/Capstone_2_MovieLens/blob/main/Notebook/3_Exploratory_Data_Analysis.ipynb#data)\n",
        "        - 3.2.1 - [Links.csv](https://colab.research.google.com/github/villafue/Capstone_2_MovieLens/blob/main/Notebook/3_Exploratory_Data_Analysis.ipynb#links)\n",
        "        - 3.2.2 - [Tags.csv](https://colab.research.google.com/github/villafue/Capstone_2_MovieLens/blob/main/Notebook/3_Exploratory_Data_Analysis.ipynb#tags)\n",
        "        - 3.2.3 - [Movies.csv](https://colab.research.google.com/github/villafue/Capstone_2_MovieLens/blob/main/Notebook/3_Exploratory_Data_Analysis.ipynb#movies)\n",
        "        - 3.2.4 - [Ratings.csv](https://colab.research.google.com/github/villafue/Capstone_2_MovieLens/blob/main/Notebook/3_Exploratory_Data_Analysis.ipynb#ratings)\n",
        "    - 3.3 - [Movies and Ratings Analysis](https://colab.research.google.com/github/villafue/Capstone_2_MovieLens/blob/main/Notebook/3_Exploratory_Data_Analysis.ipynb#movies_ratings)\n",
        "        - 3.3.1 - [Merge Movies and Ratings](https://colab.research.google.com/github/villafue/Capstone_2_MovieLens/blob/main/Notebook/3_Exploratory_Data_Analysis.ipynb#merge)\n",
        "        - 3.3.2 - [Investigating Rating Count](https://colab.research.google.com/github/villafue/Capstone_2_MovieLens/blob/main/Notebook/3_Exploratory_Data_Analysis.ipynb#rating_count)\n",
        "        - 3.3.3 - [Highest Rated Movies](https://colab.research.google.com/github/villafue/Capstone_2_MovieLens/blob/main/Notebook/3_Exploratory_Data_Analysis.ipynb#highest_rated)\n",
        "    - 3.4 - [Genre](https://colab.research.google.com/github/villafue/Capstone_2_MovieLens/blob/main/Notebook/3_Exploratory_Data_Analysis.ipynb#genre)\n",
        "    - 3.5 - [User Rating Count](https://colab.research.google.com/github/villafue/Capstone_2_MovieLens/blob/main/Notebook/3_Exploratory_Data_Analysis.ipynb#user_rating_count)\n",
        "    - 3.6 - [User 25](https://colab.research.google.com/github/villafue/Capstone_2_MovieLens/blob/main/Notebook/3_Exploratory_Data_Analysis.ipynb#user_25)\n",
        "4. **[Framework](#framework)**\n",
        "    - 4.1 - [Introduction](https://colab.research.google.com/github/villafue/Capstone_2_MovieLens/blob/main/Notebook/4_Framework.ipynb#introduction)\n",
        "    - 4.2 - [RecommenderMetrics.py](https://colab.research.google.com/github/villafue/Capstone_2_MovieLens/blob/main/Notebook/4_Framework.ipynb#recommendermetrics)\n",
        "    - 4.3 - [MovieLens.py](https://colab.research.google.com/github/villafue/Capstone_2_MovieLens/blob/main/Notebook/4_Framework.ipynb#movielens)\n",
        "    - 4.4 - [EvaluatedAlgorithm.py](https://colab.research.google.com/github/villafue/Capstone_2_MovieLens/blob/main/Notebook/4_Framework.ipynb#evaluatedalgorithm)\n",
        "    - 4.5 - [EvaluationData.py](https://colab.research.google.com/github/villafue/Capstone_2_MovieLens/blob/main/Notebook/4_Framework.ipynb#evaluationdata)\n",
        "    - 4.6 - [Evaluator.py](https://colab.research.google.com/github/villafue/Capstone_2_MovieLens/blob/main/Notebook/4_Framework.ipynb#evaluator)\n",
        "    - 4.7 - [Summary](https://colab.research.google.com/github/villafue/Capstone_2_MovieLens/blob/main/Notebook/4_Framework.ipynb#summary)\n",
        "5. **[Content Based Recommenders](#content)**\n",
        "    - 5.1 - [Introduction](https://colab.research.google.com/github/villafue/Capstone_2_MovieLens/blob/main/Notebook/5_Content_Based_Recommenders.ipynb#introduction)\n",
        "    - 5.2 - [ContentKNNAlgorithm.py](https://colab.research.google.com/github/villafue/Capstone_2_MovieLens/blob/main/Notebook/5_Content_Based_Recommenders.ipynb#contentknnalgo)\n",
        "    - 5.3 - [Import Files](https://colab.research.google.com/github/villafue/Capstone_2_MovieLens/blob/main/Notebook/5_Content_Based_Recommenders.ipynb#import)\n",
        "    - 5.4 - [Models](https://colab.research.google.com/github/villafue/Capstone_2_MovieLens/blob/main/Notebook/5_Content_Based_Recommenders.ipynb#models)\n",
        "      - 5.4.1 - [Date & Genre](https://colab.research.google.com/github/villafue/Capstone_2_MovieLens/blob/main/Notebook/5_Content_Based_Recommenders.ipynb#date_genre)\n",
        "      - 5.4.2 - [Genre Only](https://colab.research.google.com/github/villafue/Capstone_2_MovieLens/blob/main/Notebook/5_Content_Based_Recommenders.ipynb#genre)\n",
        "      - 5.4.3 - [Date Only: Default](https://colab.research.google.com/github/villafue/Capstone_2_MovieLens/blob/main/Notebook/5_Content_Based_Recommenders.ipynb#date_default)\n",
        "      - 5.4.4 - [Date Only: Reverse](https://colab.research.google.com/github/villafue/Capstone_2_MovieLens/blob/main/Notebook/5_Content_Based_Recommenders.ipynb#date_reverse)\n",
        "      - 5.4.5 - [Date Sorted by Popularity](https://colab.research.google.com/github/villafue/Capstone_2_MovieLens/blob/main/Notebook/5_Content_Based_Recommenders.ipynb#date_popular)\n",
        "    - 5.5 - [Best Model](https://colab.research.google.com/github/villafue/Capstone_2_MovieLens/blob/main/Notebook/5_Content_Based_Recommenders.ipynb#best_model)\n",
        "5. **[Collaborative Based Recommenders](#collaborative)**\n",
        "    - 6.1 - [Introduction](https://colab.research.google.com/github/villafue/Capstone_2_MovieLens/blob/main/Notebook/6_Collaborative_Based_Recommenders.ipynb#introduction)\n",
        "    - 6.2 - [Import Files](https://colab.research.google.com/github/villafue/Capstone_2_MovieLens/blob/main/Notebook/6_Collaborative_Based_Recommenders.ipynb#import)\n",
        "    - 6.3 - [Models](https://colab.research.google.com/github/villafue/Capstone_2_MovieLens/blob/main/Notebook/6_Collaborative_Based_Recommenders.ipynb#models)\n",
        "    - 6.4 - [Results](https://colab.research.google.com/github/villafue/Capstone_2_MovieLens/blob/main/Notebook/6_Collaborative_Based_Recommenders.ipynb#results)\n",
        "7. **[Matrix Factorization Methods](#matrix)**\n",
        "    - 7.1 - [Introduction](https://colab.research.google.com/github/villafue/Capstone_2_MovieLens/blob/main/Notebook/7_Matrix_Factorization_Methods.ipynb#introduction)\n",
        "    - 7.2 - [Import Files](https://colab.research.google.com/github/villafue/Capstone_2_MovieLens/blob/main/Notebook/7_Matrix_Factorization_Methods.ipynb#import)\n",
        "    - 7.3 - [Models](https://colab.research.google.com/github/villafue/Capstone_2_MovieLens/blob/main/Notebook/7_Matrix_Factorization_Methods.ipynb#models)\n",
        "      - 7.3.1 - [SVD](https://colab.research.google.com/github/villafue/Capstone_2_MovieLens/blob/main/Notebook/7_Matrix_Factorization_Methods.ipynb#svd)\n",
        "      - 7.3.2 - [SVD++](https://colab.research.google.com/github/villafue/Capstone_2_MovieLens/blob/main/Notebook/7_Matrix_Factorization_Methods.ipynb#plusplus)\n",
        "    - 7.4 - [Results](https://colab.research.google.com/github/villafue/Capstone_2_MovieLens/blob/main/Notebook/7_Matrix_Factorization_Methods.ipynb#results)\n",
        "8. **[Deep Learning Recommenders](#deep_learning)**\n",
        "    - 8.1 - [Introduction](https://colab.research.google.com/github/villafue/Capstone_2_MovieLens/blob/main/Notebook/8_Deep_Learning.ipynb#introduction)\n",
        "    - 8.2 - [Import Files](https://colab.research.google.com/github/villafue/Capstone_2_MovieLens/blob/main/Notebook/8_Deep_Learning.ipynb#import)\n",
        "    - 8.3 - [Restricted Boltzmann Machines (RBM)](https://colab.research.google.com/github/villafue/Capstone_2_MovieLens/blob/main/Notebook/8_Deep_Learning.ipynb#rbm)\n",
        "      - 8.3.1 - [RBM.py](https://colab.research.google.com/github/villafue/Capstone_2_MovieLens/blob/main/Notebook/8_Deep_Learning.ipynb#rbm_py)\n",
        "      - 8.3.2 - [RBMAlgorithm.py](https://colab.research.google.com/github/villafue/Capstone_2_MovieLens/blob/main/Notebook/8_Deep_Learning.ipynb#rbm_algo)\n",
        "      - 8.3.3 - [RBM Model](https://colab.research.google.com/github/villafue/Capstone_2_MovieLens/blob/main/Notebook/8_Deep_Learning.ipynb#rbm_model)\n",
        "    - 8.4 - [Autoencoders for Recommendations](https://colab.research.google.com/github/villafue/Capstone_2_MovieLens/blob/main/Notebook/8_Deep_Learning.ipynb#autorec)\n",
        "      - 8.4.1 - [AutoRec.py](https://colab.research.google.com/github/villafue/Capstone_2_MovieLens/blob/main/Notebook/8_Deep_Learning.ipynb#autorec_py)\n",
        "      - 8.4.2 - [AutoRecAlgorithm.py](https://colab.research.google.com/github/villafue/Capstone_2_MovieLens/blob/main/Notebook/8_Deep_Learning.ipynb#autorec_algo)\n",
        "      - 8.4.3 - [AutoRec Model](https://colab.research.google.com/github/villafue/Capstone_2_MovieLens/blob/main/Notebook/8_Deep_Learning.ipynb#autorec_mod)\n",
        "    - 8.5 - [Best Model](https://colab.research.google.com/github/villafue/Capstone_2_MovieLens/blob/main/Notebook/8_Deep_Learning.ipynb#best_model)\n",
        "9. **[Hybrid Recommenders](#hybrid)**\n",
        "    - 9.1 - [Introduction](https://colab.research.google.com/github/villafue/Capstone_2_MovieLens/blob/main/Notebook/9_Hybrid.ipynb#introduction)\n",
        "    - 9.2 - [HybridAlgorithm.py](https://colab.research.google.com/github/villafue/Capstone_2_MovieLens/blob/main/Notebook/9_Hybrid.ipynb#hybrid_algo)\n",
        "    - 9.3 - [Import Files](https://colab.research.google.com/github/villafue/Capstone_2_MovieLens/blob/main/Notebook/9_Hybrid.ipynb#import)\n",
        "    - 9.4 - [Models](https://colab.research.google.com/github/villafue/Capstone_2_MovieLens/blob/main/Notebook/9_Hybrid.ipynb#models)\n",
        "      - 9.4.01 - [RBM | ContentKNN = 50/50](https://colab.research.google.com/github/villafue/Capstone_2_MovieLens/blob/main/Notebook/9_Hybrid.ipynb#941)\n",
        "      - 9.4.02 - [ContentKNN (Reverse=True) | Random = 50/50](https://colab.research.google.com/github/villafue/Capstone_2_MovieLens/blob/main/Notebook/9_Hybrid.ipynb#942)\n",
        "      - 9.4.03 - [ContentKNN (Reverse=False) | Random = 50/50](https://colab.research.google.com/github/villafue/Capstone_2_MovieLens/blob/main/Notebook/9_Hybrid.ipynb#943)\n",
        "      - 9.4.04 - [RBM | SVD++Untuned | SVDTuned | Random = 30/30/30/10](https://colab.research.google.com/github/villafue/Capstone_2_MovieLens/blob/main/Notebook/9_Hybrid.ipynb#944)\n",
        "      - 9.4.05 - [RBM | SVD++Untuned | SVDTuned | ContentKNN | AutoRec = 20/20/20/20/20](https://colab.research.google.com/github/villafue/Capstone_2_MovieLens/blob/main/Notebook/9_Hybrid.ipynb#945)\n",
        "      - 9.4.06 - [RBM | SVD++Untuned | SVDTuned = 33/34/33](https://colab.research.google.com/github/villafue/Capstone_2_MovieLens/blob/main/Notebook/9_Hybrid.ipynb#946)\n",
        "      - 9.4.07 - [SVD++Untuned | SVDTuned = 50/50](https://colab.research.google.com/github/villafue/Capstone_2_MovieLens/blob/main/Notebook/9_Hybrid.ipynb#947)\n",
        "      - 9.4.08 - [SVD++Untuned | SVDTuned | Random = 33/34/33](https://colab.research.google.com/github/villafue/Capstone_2_MovieLens/blob/main/Notebook/9_Hybrid.ipynb#948)\n",
        "      - 9.4.09 - [SVD++Untuned | SVDTuned | Random = 33/34/33](https://colab.research.google.com/github/villafue/Capstone_2_MovieLens/blob/main/Notebook/9_Hybrid.ipynb#949)\n",
        "      - 9.4.10 - [RBM | SVD++Untuned | SVDTuned | ContentKNN | AutoRec | Random = 10/10/10/10/10/50](https://colab.research.google.com/github/villafue/Capstone_2_MovieLens/blob/main/Notebook/9_Hybrid.ipynb#9410)\n",
        "      - 9.4.11 - [ContentKNN | Random = 90/10](https://colab.research.google.com/github/villafue/Capstone_2_MovieLens/blob/main/Notebook/9_Hybrid.ipynb#9411)\n",
        "      - 9.4.12 - [RBM | SVD++Untuned | ContentKNN | Random = 25/25/25/25](https://colab.research.google.com/github/villafue/Capstone_2_MovieLens/blob/main/Notebook/9_Hybrid.ipynb#9412)\n",
        "      - 9.4.13 - [SVDUntuned | SVDTuned  = 50/50](https://colab.research.google.com/github/villafue/Capstone_2_MovieLens/blob/main/Notebook/9_Hybrid.ipynb#9413)\n",
        "      - 9.4.14 - [SVDTuned | SVDUntuned | Random = 34/33/33](https://colab.research.google.com/github/villafue/Capstone_2_MovieLens/blob/main/Notebook/9_Hybrid.ipynb#9414)\n",
        "      - 9.4.15 - [RBM | SVDUntuned | SVDTuned | ContentKNN = 25/25/25/25](https://colab.research.google.com/github/villafue/Capstone_2_MovieLens/blob/main/Notebook/9_Hybrid.ipynb#9415)\n",
        "      - 9.4.16 - [RBM | SVD++Untuned | SVDTuned | Random = 25/25/25/25](https://colab.research.google.com/github/villafue/Capstone_2_MovieLens/blob/main/Notebook/9_Hybrid.ipynb#9416)\n",
        "      - 9.4.17 - [SVD++Untuned | SVD++Tuned | SVDUntuned | SVDTuned | = 25/25/25/25](https://colab.research.google.com/github/villafue/Capstone_2_MovieLens/blob/main/Notebook/9_Hybrid.ipynb#9417)\n",
        "    - 9.5 - [Best Model](https://colab.research.google.com/github/villafue/Capstone_2_MovieLens/blob/main/Notebook/9_Hybrid.ipynb#best_model)\n",
        "10. **[Best Model](#best_model)**\n",
        "11. **[Conclusion](#conclusion)**\n",
        "    - 11.1 - [Afterward](#afterward)\n",
        "    - 11.2 - [Avenues for Further Exploration](#exploration)\n",
        "    - 11.3 - [Acknowledgements and References](#references)\n"
      ]
    },
    {
      "cell_type": "markdown",
      "metadata": {
        "id": "6VKCO-vkc01v"
      },
      "source": [
        "---"
      ]
    },
    {
      "cell_type": "markdown",
      "metadata": {
        "id": "o_JzxarZstKm"
      },
      "source": [
        "**[Back to Top](#top)**"
      ]
    },
    {
      "cell_type": "markdown",
      "metadata": {
        "id": "uRqFkIDPstmO"
      },
      "source": [
        "***"
      ]
    },
    {
      "cell_type": "markdown",
      "metadata": {
        "id": "Piwer-tZuuxc"
      },
      "source": [
        "# 2. "
      ]
    },
    {
      "cell_type": "markdown",
      "metadata": {
        "id": "XvAbcYIAuuxc"
      },
      "source": [
        "<a name=\"introduction\"></a>\n",
        "## Introduction"
      ]
    },
    {
      "cell_type": "markdown",
      "metadata": {
        "id": "tAhbj_dau8zV"
      },
      "source": [
        "Why Recommendation Systems? They're everywhere. Whether it's Netflix, Amazon, or Spotify what we experience digitally is the culmination of many algorithms analyzing factors such as users' demographics, interests, and even how much time they spend on a page. If one pays attention, it's hard not to run into a recommendation system online.\n",
        "\n",
        "I also love that it's both a scientific and psychological challenge. There are many metrics data scientists use to measure the efficacy of a recommender system, yet none of it matters if the target audience doesn't like the content that's displayed to them. \n",
        "\n",
        "This conundrum is part of why I loved Frank's recommendation course. He not only taught the different types of popular recommendation algorithms, but also balanced it against real-world problems and issues. It opened my eyes from just optimizing metrics to taking a holistic view of how my recommendation system brings value to both the employer and the customer.\n",
        "\n",
        "As mentioned in the **[Preface](#preface)**, my recommender systems are built around Frank's framework in his recommendation system course. He uses the small [Movie Lens](https://grouplens.org/datasets/movielens/latest/) dataset which consist of 100k ratings for movies. More will be explained in the EDA section of this notebook. \n",
        "\n",
        "After EDA, I will go over Frank's core framework and then show the recommendation systems I built using the different methods described in his course. Links will be provided to those Notebooks. \n",
        "\n",
        "Last, I will showcase my final recommender system and go over areas for further improvement."
      ]
    },
    {
      "cell_type": "markdown",
      "metadata": {
        "id": "lZ_IUY_wuxRn"
      },
      "source": [
        "***"
      ]
    },
    {
      "cell_type": "markdown",
      "metadata": {
        "id": "mR-icWtwghny"
      },
      "source": [
        "**[Back to Top](#top)**"
      ]
    },
    {
      "cell_type": "markdown",
      "metadata": {
        "id": "zYvHDd1XgiiZ"
      },
      "source": [
        "***"
      ]
    },
    {
      "cell_type": "markdown",
      "metadata": {
        "id": "yvPqtR8xfIDf"
      },
      "source": [
        "# 3. "
      ]
    },
    {
      "cell_type": "markdown",
      "metadata": {
        "id": "f_umwFPF31n6"
      },
      "source": [
        "<a name=\"eda\"></a>\n",
        "## Exploratory Data Analysis"
      ]
    },
    {
      "cell_type": "markdown",
      "metadata": {
        "id": "ZyiO2iBUFBzL"
      },
      "source": [
        "Frank used the small [Movie Lens](https://grouplens.org/datasets/movielens/latest/) dataset. It contains 100,000 ratings and 3,600 tags for to 9,000 movies by 600 users. Here is a link to the [Readme](https://github.com/villafue/Capstone_2_MovieLens/tree/main/Data) and the dataset I used. Frank used the 2016 version during his course, but I downloaded the most recent 2018 version. It's essentially the same dataset but it's updated to include movies up to 2018. \n",
        "\n",
        "As part of his framework, Frank also prints out the top 10 recommendations, for a specific user, for each of his recommendation systems. I chose **User 25** as he/she has similar movie tastes to my own. This adds a qualitative dimension on top of the other metrics used to judge the models. Below is a list of User 25's top rated movies:"
      ]
    },
    {
      "cell_type": "code",
      "metadata": {
        "colab": {
          "base_uri": "https://localhost:8080/",
          "height": 867
        },
        "id": "YaF1FUi0NIm1",
        "outputId": "715b213f-230a-4e21-fe85-c8239b8a9166"
      },
      "source": [
        "user_25_df_top = us_mov_df[(us_mov_df.userId == 25) & (us_mov_df.rating >= 4)].sort_values(by='rating', ascending=False)[:50]\n",
        "print('Total amount of movies with ratings of 4.0 and higher is ', len(user_25_df))\n",
        "print('\\n', '-' * 136)\n",
        "user_25_df_top"
      ],
      "execution_count": null,
      "outputs": [
        {
          "output_type": "stream",
          "text": [
            "Total amount of movies with ratings of 4.0 and higher is  26\n",
            "\n",
            " ----------------------------------------------------------------------------------------------------------------------------------------\n"
          ],
          "name": "stdout"
        },
        {
          "output_type": "execute_result",
          "data": {
            "text/html": [
              "<div>\n",
              "<style scoped>\n",
              "    .dataframe tbody tr th:only-of-type {\n",
              "        vertical-align: middle;\n",
              "    }\n",
              "\n",
              "    .dataframe tbody tr th {\n",
              "        vertical-align: top;\n",
              "    }\n",
              "\n",
              "    .dataframe thead th {\n",
              "        text-align: right;\n",
              "    }\n",
              "</style>\n",
              "<table border=\"1\" class=\"dataframe\">\n",
              "  <thead>\n",
              "    <tr style=\"text-align: right;\">\n",
              "      <th></th>\n",
              "      <th>userId</th>\n",
              "      <th>movieId</th>\n",
              "      <th>rating</th>\n",
              "      <th>timestamp</th>\n",
              "      <th>title</th>\n",
              "      <th>genres</th>\n",
              "    </tr>\n",
              "  </thead>\n",
              "  <tbody>\n",
              "    <tr>\n",
              "      <th>37040</th>\n",
              "      <td>25</td>\n",
              "      <td>5952</td>\n",
              "      <td>5.0</td>\n",
              "      <td>1535470419</td>\n",
              "      <td>Lord of the Rings: The Two Towers, The (2002)</td>\n",
              "      <td>Adventure|Fantasy</td>\n",
              "    </tr>\n",
              "    <tr>\n",
              "      <th>17666</th>\n",
              "      <td>25</td>\n",
              "      <td>91529</td>\n",
              "      <td>5.0</td>\n",
              "      <td>1535470498</td>\n",
              "      <td>Dark Knight Rises, The (2012)</td>\n",
              "      <td>Action|Adventure|Crime|IMAX</td>\n",
              "    </tr>\n",
              "    <tr>\n",
              "      <th>70944</th>\n",
              "      <td>25</td>\n",
              "      <td>122912</td>\n",
              "      <td>5.0</td>\n",
              "      <td>1535470461</td>\n",
              "      <td>Avengers: Infinity War - Part I (2018)</td>\n",
              "      <td>Action|Adventure|Sci-Fi</td>\n",
              "    </tr>\n",
              "    <tr>\n",
              "      <th>57573</th>\n",
              "      <td>25</td>\n",
              "      <td>180095</td>\n",
              "      <td>5.0</td>\n",
              "      <td>1535470476</td>\n",
              "      <td>Wonder (2017)</td>\n",
              "      <td>Drama</td>\n",
              "    </tr>\n",
              "    <tr>\n",
              "      <th>57565</th>\n",
              "      <td>25</td>\n",
              "      <td>177593</td>\n",
              "      <td>5.0</td>\n",
              "      <td>1535470532</td>\n",
              "      <td>Three Billboards Outside Ebbing, Missouri (2017)</td>\n",
              "      <td>Crime|Drama</td>\n",
              "    </tr>\n",
              "    <tr>\n",
              "      <th>57119</th>\n",
              "      <td>25</td>\n",
              "      <td>116797</td>\n",
              "      <td>5.0</td>\n",
              "      <td>1535470507</td>\n",
              "      <td>The Imitation Game (2014)</td>\n",
              "      <td>Drama|Thriller|War</td>\n",
              "    </tr>\n",
              "    <tr>\n",
              "      <th>47206</th>\n",
              "      <td>25</td>\n",
              "      <td>60069</td>\n",
              "      <td>5.0</td>\n",
              "      <td>1535470523</td>\n",
              "      <td>WALL·E (2008)</td>\n",
              "      <td>Adventure|Animation|Children|Romance|Sci-Fi</td>\n",
              "    </tr>\n",
              "    <tr>\n",
              "      <th>42328</th>\n",
              "      <td>25</td>\n",
              "      <td>68954</td>\n",
              "      <td>5.0</td>\n",
              "      <td>1535470493</td>\n",
              "      <td>Up (2009)</td>\n",
              "      <td>Adventure|Animation|Children|Drama</td>\n",
              "    </tr>\n",
              "    <tr>\n",
              "      <th>37951</th>\n",
              "      <td>25</td>\n",
              "      <td>7153</td>\n",
              "      <td>5.0</td>\n",
              "      <td>1535470418</td>\n",
              "      <td>Lord of the Rings: The Return of the King, The...</td>\n",
              "      <td>Action|Adventure|Drama|Fantasy</td>\n",
              "    </tr>\n",
              "    <tr>\n",
              "      <th>1577</th>\n",
              "      <td>25</td>\n",
              "      <td>260</td>\n",
              "      <td>5.0</td>\n",
              "      <td>1535470429</td>\n",
              "      <td>Star Wars: Episode IV - A New Hope (1977)</td>\n",
              "      <td>Action|Adventure|Sci-Fi</td>\n",
              "    </tr>\n",
              "    <tr>\n",
              "      <th>35939</th>\n",
              "      <td>25</td>\n",
              "      <td>4993</td>\n",
              "      <td>5.0</td>\n",
              "      <td>1535470421</td>\n",
              "      <td>Lord of the Rings: The Fellowship of the Ring,...</td>\n",
              "      <td>Adventure|Fantasy</td>\n",
              "    </tr>\n",
              "    <tr>\n",
              "      <th>70999</th>\n",
              "      <td>25</td>\n",
              "      <td>187593</td>\n",
              "      <td>5.0</td>\n",
              "      <td>1535470534</td>\n",
              "      <td>Deadpool 2 (2018)</td>\n",
              "      <td>Action|Comedy|Sci-Fi</td>\n",
              "    </tr>\n",
              "    <tr>\n",
              "      <th>17469</th>\n",
              "      <td>25</td>\n",
              "      <td>79132</td>\n",
              "      <td>5.0</td>\n",
              "      <td>1535470428</td>\n",
              "      <td>Inception (2010)</td>\n",
              "      <td>Action|Crime|Drama|Mystery|Sci-Fi|Thriller|IMAX</td>\n",
              "    </tr>\n",
              "    <tr>\n",
              "      <th>17246</th>\n",
              "      <td>25</td>\n",
              "      <td>68157</td>\n",
              "      <td>5.0</td>\n",
              "      <td>1535470515</td>\n",
              "      <td>Inglourious Basterds (2009)</td>\n",
              "      <td>Action|Drama|War</td>\n",
              "    </tr>\n",
              "    <tr>\n",
              "      <th>17073</th>\n",
              "      <td>25</td>\n",
              "      <td>58559</td>\n",
              "      <td>5.0</td>\n",
              "      <td>1535470524</td>\n",
              "      <td>Dark Knight, The (2008)</td>\n",
              "      <td>Action|Crime|Drama|IMAX</td>\n",
              "    </tr>\n",
              "    <tr>\n",
              "      <th>15668</th>\n",
              "      <td>25</td>\n",
              "      <td>3578</td>\n",
              "      <td>5.0</td>\n",
              "      <td>1535470497</td>\n",
              "      <td>Gladiator (2000)</td>\n",
              "      <td>Action|Adventure|Drama</td>\n",
              "    </tr>\n",
              "    <tr>\n",
              "      <th>12653</th>\n",
              "      <td>25</td>\n",
              "      <td>2571</td>\n",
              "      <td>5.0</td>\n",
              "      <td>1535470427</td>\n",
              "      <td>Matrix, The (1999)</td>\n",
              "      <td>Action|Sci-Fi|Thriller</td>\n",
              "    </tr>\n",
              "    <tr>\n",
              "      <th>10784</th>\n",
              "      <td>25</td>\n",
              "      <td>2028</td>\n",
              "      <td>5.0</td>\n",
              "      <td>1535470505</td>\n",
              "      <td>Saving Private Ryan (1998)</td>\n",
              "      <td>Action|Drama|War</td>\n",
              "    </tr>\n",
              "    <tr>\n",
              "      <th>7141</th>\n",
              "      <td>25</td>\n",
              "      <td>1198</td>\n",
              "      <td>5.0</td>\n",
              "      <td>1535470495</td>\n",
              "      <td>Raiders of the Lost Ark (Indiana Jones and the...</td>\n",
              "      <td>Action|Adventure</td>\n",
              "    </tr>\n",
              "    <tr>\n",
              "      <th>3580</th>\n",
              "      <td>25</td>\n",
              "      <td>527</td>\n",
              "      <td>5.0</td>\n",
              "      <td>1535470432</td>\n",
              "      <td>Schindler's List (1993)</td>\n",
              "      <td>Drama|War</td>\n",
              "    </tr>\n",
              "    <tr>\n",
              "      <th>17384</th>\n",
              "      <td>25</td>\n",
              "      <td>74458</td>\n",
              "      <td>4.5</td>\n",
              "      <td>1535470529</td>\n",
              "      <td>Shutter Island (2010)</td>\n",
              "      <td>Drama|Mystery|Thriller</td>\n",
              "    </tr>\n",
              "    <tr>\n",
              "      <th>70957</th>\n",
              "      <td>25</td>\n",
              "      <td>122916</td>\n",
              "      <td>4.5</td>\n",
              "      <td>1535470504</td>\n",
              "      <td>Thor: Ragnarok (2017)</td>\n",
              "      <td>Action|Adventure|Sci-Fi</td>\n",
              "    </tr>\n",
              "    <tr>\n",
              "      <th>47112</th>\n",
              "      <td>25</td>\n",
              "      <td>59315</td>\n",
              "      <td>4.0</td>\n",
              "      <td>1535470521</td>\n",
              "      <td>Iron Man (2008)</td>\n",
              "      <td>Action|Adventure|Sci-Fi</td>\n",
              "    </tr>\n",
              "    <tr>\n",
              "      <th>70977</th>\n",
              "      <td>25</td>\n",
              "      <td>176371</td>\n",
              "      <td>4.0</td>\n",
              "      <td>1535470469</td>\n",
              "      <td>Blade Runner 2049 (2017)</td>\n",
              "      <td>Sci-Fi</td>\n",
              "    </tr>\n",
              "    <tr>\n",
              "      <th>70995</th>\n",
              "      <td>25</td>\n",
              "      <td>187541</td>\n",
              "      <td>4.0</td>\n",
              "      <td>1535470472</td>\n",
              "      <td>Incredibles 2 (2018)</td>\n",
              "      <td>Action|Adventure|Animation|Children</td>\n",
              "    </tr>\n",
              "    <tr>\n",
              "      <th>1371</th>\n",
              "      <td>25</td>\n",
              "      <td>231</td>\n",
              "      <td>4.0</td>\n",
              "      <td>1535470451</td>\n",
              "      <td>Dumb &amp; Dumber (Dumb and Dumber) (1994)</td>\n",
              "      <td>Adventure|Comedy</td>\n",
              "    </tr>\n",
              "  </tbody>\n",
              "</table>\n",
              "</div>"
            ],
            "text/plain": [
              "       userId  movieId  rating   timestamp  \\\n",
              "37040      25     5952     5.0  1535470419   \n",
              "17666      25    91529     5.0  1535470498   \n",
              "70944      25   122912     5.0  1535470461   \n",
              "57573      25   180095     5.0  1535470476   \n",
              "57565      25   177593     5.0  1535470532   \n",
              "57119      25   116797     5.0  1535470507   \n",
              "47206      25    60069     5.0  1535470523   \n",
              "42328      25    68954     5.0  1535470493   \n",
              "37951      25     7153     5.0  1535470418   \n",
              "1577       25      260     5.0  1535470429   \n",
              "35939      25     4993     5.0  1535470421   \n",
              "70999      25   187593     5.0  1535470534   \n",
              "17469      25    79132     5.0  1535470428   \n",
              "17246      25    68157     5.0  1535470515   \n",
              "17073      25    58559     5.0  1535470524   \n",
              "15668      25     3578     5.0  1535470497   \n",
              "12653      25     2571     5.0  1535470427   \n",
              "10784      25     2028     5.0  1535470505   \n",
              "7141       25     1198     5.0  1535470495   \n",
              "3580       25      527     5.0  1535470432   \n",
              "17384      25    74458     4.5  1535470529   \n",
              "70957      25   122916     4.5  1535470504   \n",
              "47112      25    59315     4.0  1535470521   \n",
              "70977      25   176371     4.0  1535470469   \n",
              "70995      25   187541     4.0  1535470472   \n",
              "1371       25      231     4.0  1535470451   \n",
              "\n",
              "                                                   title  \\\n",
              "37040      Lord of the Rings: The Two Towers, The (2002)   \n",
              "17666                      Dark Knight Rises, The (2012)   \n",
              "70944             Avengers: Infinity War - Part I (2018)   \n",
              "57573                                      Wonder (2017)   \n",
              "57565   Three Billboards Outside Ebbing, Missouri (2017)   \n",
              "57119                          The Imitation Game (2014)   \n",
              "47206                                      WALL·E (2008)   \n",
              "42328                                          Up (2009)   \n",
              "37951  Lord of the Rings: The Return of the King, The...   \n",
              "1577           Star Wars: Episode IV - A New Hope (1977)   \n",
              "35939  Lord of the Rings: The Fellowship of the Ring,...   \n",
              "70999                                  Deadpool 2 (2018)   \n",
              "17469                                   Inception (2010)   \n",
              "17246                        Inglourious Basterds (2009)   \n",
              "17073                            Dark Knight, The (2008)   \n",
              "15668                                   Gladiator (2000)   \n",
              "12653                                 Matrix, The (1999)   \n",
              "10784                         Saving Private Ryan (1998)   \n",
              "7141   Raiders of the Lost Ark (Indiana Jones and the...   \n",
              "3580                             Schindler's List (1993)   \n",
              "17384                              Shutter Island (2010)   \n",
              "70957                              Thor: Ragnarok (2017)   \n",
              "47112                                    Iron Man (2008)   \n",
              "70977                           Blade Runner 2049 (2017)   \n",
              "70995                               Incredibles 2 (2018)   \n",
              "1371              Dumb & Dumber (Dumb and Dumber) (1994)   \n",
              "\n",
              "                                                genres  \n",
              "37040                                Adventure|Fantasy  \n",
              "17666                      Action|Adventure|Crime|IMAX  \n",
              "70944                          Action|Adventure|Sci-Fi  \n",
              "57573                                            Drama  \n",
              "57565                                      Crime|Drama  \n",
              "57119                               Drama|Thriller|War  \n",
              "47206      Adventure|Animation|Children|Romance|Sci-Fi  \n",
              "42328               Adventure|Animation|Children|Drama  \n",
              "37951                   Action|Adventure|Drama|Fantasy  \n",
              "1577                           Action|Adventure|Sci-Fi  \n",
              "35939                                Adventure|Fantasy  \n",
              "70999                             Action|Comedy|Sci-Fi  \n",
              "17469  Action|Crime|Drama|Mystery|Sci-Fi|Thriller|IMAX  \n",
              "17246                                 Action|Drama|War  \n",
              "17073                          Action|Crime|Drama|IMAX  \n",
              "15668                           Action|Adventure|Drama  \n",
              "12653                           Action|Sci-Fi|Thriller  \n",
              "10784                                 Action|Drama|War  \n",
              "7141                                  Action|Adventure  \n",
              "3580                                         Drama|War  \n",
              "17384                           Drama|Mystery|Thriller  \n",
              "70957                          Action|Adventure|Sci-Fi  \n",
              "47112                          Action|Adventure|Sci-Fi  \n",
              "70977                                           Sci-Fi  \n",
              "70995              Action|Adventure|Animation|Children  \n",
              "1371                                  Adventure|Comedy  "
            ]
          },
          "metadata": {
            "tags": []
          },
          "execution_count": 26
        }
      ]
    },
    {
      "cell_type": "markdown",
      "metadata": {
        "id": "Wo1ZYQJpH_eV"
      },
      "source": [
        "***"
      ]
    },
    {
      "cell_type": "markdown",
      "metadata": {
        "id": "XgfTz-mN8jz6"
      },
      "source": [
        "[Full EDA Notebook](https://colab.research.google.com/github/villafue/Capstone_2_MovieLens/blob/main/Notebook/3_Exploratory_Data_Analysis.ipynb)"
      ]
    },
    {
      "cell_type": "markdown",
      "metadata": {
        "id": "1wE6NCfQIBa7"
      },
      "source": [
        "***"
      ]
    },
    {
      "cell_type": "markdown",
      "metadata": {
        "id": "pnTlBn5D4fKx"
      },
      "source": [
        "**[Back to Top](#top)**"
      ]
    },
    {
      "cell_type": "markdown",
      "metadata": {
        "id": "gmeZ9lKTzs7D"
      },
      "source": [
        "***"
      ]
    },
    {
      "cell_type": "markdown",
      "metadata": {
        "id": "sRb5Pl6ozxwy"
      },
      "source": [
        "# 4."
      ]
    },
    {
      "cell_type": "markdown",
      "metadata": {
        "id": "WQQrsEzHzu51"
      },
      "source": [
        "<a name=\"framework\"></a>\n",
        "## Framework"
      ]
    },
    {
      "cell_type": "markdown",
      "metadata": {
        "id": "hxESwMIRI-qX"
      },
      "source": [
        "Frank's recommendation architecture includes 5 classes. Some of the functions are imported from [Surpriselib](https://surprise.readthedocs.io/en/stable/index.html) and some are written from scratch, but all are interdependent to make building and testing a recommendation system easier. `RecommenderMetrics.py` holds all the functions of metrics used to assess our models. `MovieLens.py` loads up the raw MovieLens files and converts them into datasets our models can use. `EvaluatedAlgorithm.py` is the class that applies all the metrics to a given algorithm, and `EvaluationData.py` is what pre-processes the data for training and testing in our models. Last, the `Evaluator` class allows us to quickly add algorithms to train and compare with each other at the same time. When used all together, this framework makes learning and building recommendation systems easier and fun!  "
      ]
    },
    {
      "cell_type": "markdown",
      "metadata": {
        "id": "TZz7ug8EK6Og"
      },
      "source": [
        "***"
      ]
    },
    {
      "cell_type": "markdown",
      "metadata": {
        "id": "Nmi1xPF-zu51"
      },
      "source": [
        "[Full Framework Notebook](https://colab.research.google.com/github/villafue/Capstone_2_MovieLens/blob/main/Notebook/3_Exploratory_Data_Analysis.ipynb)"
      ]
    },
    {
      "cell_type": "markdown",
      "metadata": {
        "id": "NLe1ccJyzu52"
      },
      "source": [
        "***"
      ]
    },
    {
      "cell_type": "markdown",
      "metadata": {
        "id": "wHbdm_i4zu52"
      },
      "source": [
        "**[Back to Top](#top)**"
      ]
    },
    {
      "cell_type": "markdown",
      "metadata": {
        "id": "07XtYJuYzu53"
      },
      "source": [
        "***"
      ]
    },
    {
      "cell_type": "markdown",
      "metadata": {
        "id": "CGjYkNvtLAE0"
      },
      "source": [
        "# 5."
      ]
    },
    {
      "cell_type": "markdown",
      "metadata": {
        "id": "AMLu6lMCLAE1"
      },
      "source": [
        "<a name=\"content\"></a>\n",
        "## Content Based Recommenders"
      ]
    },
    {
      "cell_type": "markdown",
      "metadata": {
        "id": "s3DbEWcPLAE1"
      },
      "source": [
        "Content based models recommend stuff based on the attributes of those items themselves. For example in this dataset, this means recommending movies in the same genre and/or year, as movies we know somebody enjoys. The movielens dataset doesn't give us much to work with, but one thing it does tell us is which movie genres(s) each movie belongs to. For every movie, we're given a list of genres like science fiction, comedy, drama et cetera, that might apply to that movie. So if we know a given user likes drama movies, it's reasonable to recommend other drama movies to that user. \n",
        "\n",
        "\n"
      ]
    },
    {
      "cell_type": "markdown",
      "metadata": {
        "id": "d8Av-WE81LC_"
      },
      "source": [
        "My favorite model was sorting based on date alone. This is what prints out. Notice the `Random` algorithm calculated alongside to serve as a baseline. \n",
        "\n",
        "```\n",
        "Algorithm  RMSE       MAE        HR         cHR        ARHR       Coverage   Diversity  Novelty   \n",
        "ContentKNN 0.9336     0.7224     0.0049     0.0049     0.0012     0.5492     0.3442     2981.5376 \n",
        "Random     1.4206     1.1336     0.0180     0.0180     0.0072     1.0000     0.0522     854.7062  \n",
        "\n",
        "Legend:\n",
        "\n",
        "RMSE:      Root Mean Squared Error. Lower values mean better accuracy.\n",
        "MAE:       Mean Absolute Error. Lower values mean better accuracy.\n",
        "HR:        Hit Rate; how often we are able to recommend a left-out rating. Higher is better.\n",
        "cHR:       Cumulative Hit Rate; hit rate, confined to ratings above a certain threshold. Higher is better.\n",
        "ARHR:      Average Reciprocal Hit Rank - Hit rate that takes the ranking into account. Higher is better.\n",
        "Coverage:  Ratio of users for whom recommendations above a certain threshold exist. Higher is better.\n",
        "Diversity: 1-S, where S is the average similarity score between every possible pair of recommendations\n",
        "           for a given user. Higher means more diverse.\n",
        "Novelty:   Average popularity rank of recommended items. Higher means more novel.\n",
        "\n",
        "-------------------\n",
        "\n",
        "Using recommender  ContentKNN\n",
        "\n",
        "We recommend:\n",
        "Ant-Man and the Wasp (2018) 4.7450497998793395\n",
        "The Darkest Minds (2018) 4.7450497998793395\n",
        "Annihilation (2018) 4.7450497998793395\n",
        "Game Night (2018) 4.7450497998793395\n",
        "Tomb Raider (2018) 4.7450497998793395\n",
        "Alpha (2018) 4.7450497998793395\n",
        "Solo: A Star Wars Story (2018) 4.7450497998793395\n",
        "Fred Armisen: Standup for Drummers (2018) 4.7450497998793395\n",
        "Tom Segura: Disgraceful (2018) 4.7450497998793395\n",
        "When We First Met (2018) 4.7450497998793395\n",
        "\n",
        "Using recommender  Random\n",
        "\n",
        "We recommend:\n",
        "Star Wars: Episode V - The Empire Strikes Back (1980) 1\n",
        "Warrior (2011) 1\n",
        "Corrina, Corrina (1994) 1\n",
        "It Could Happen to You (1994) 1\n",
        "Hot Shots! Part Deux (1993) 1\n",
        "Up in the Air (2009) 1\n",
        "Life of Pi (2012) 1\n",
        "Amistad (1997) 1\n",
        "Johnny Mnemonic (1995) 1\n",
        "The Hunger Games (2012) 1\n",
        "```"
      ]
    },
    {
      "cell_type": "markdown",
      "metadata": {
        "id": "H4R1jN5XLAE1"
      },
      "source": [
        "***"
      ]
    },
    {
      "cell_type": "markdown",
      "metadata": {
        "id": "GEwhiw80LAE1"
      },
      "source": [
        "[Full Content Based Recommender Notebook](https://colab.research.google.com/github/villafue/Capstone_2_MovieLens/blob/main/Notebook/5_Content_Based_Recommenders.ipynb)"
      ]
    },
    {
      "cell_type": "markdown",
      "metadata": {
        "id": "3Iq-F3sPLAE2"
      },
      "source": [
        "***"
      ]
    },
    {
      "cell_type": "markdown",
      "metadata": {
        "id": "yhJHQQcpLAE2"
      },
      "source": [
        "**[Back to Top](#top)**"
      ]
    },
    {
      "cell_type": "markdown",
      "metadata": {
        "id": "ErOTwHczLAE2"
      },
      "source": [
        "***"
      ]
    },
    {
      "cell_type": "markdown",
      "metadata": {
        "id": "UzxDoRoMs6fY"
      },
      "source": [
        "# 6."
      ]
    },
    {
      "cell_type": "markdown",
      "metadata": {
        "id": "FBKzK5MIs6fY"
      },
      "source": [
        "<a name=\"collaborative\"></a>\n",
        "## Collaborative Based Recommenders"
      ]
    },
    {
      "cell_type": "markdown",
      "metadata": {
        "id": "scLMCk-suiHV"
      },
      "source": [
        "Neighborhood based (KNN) collaborative filtering is taking cues from people like me, my neighborhood, and recommending movies based on the things they like that I haven't seen yet. It's recommending stuff based on other people's collaborative behavior. \n",
        "\n",
        "There are two types of collaborative filtering: user-based and item-based. The idea behind user-based collaborative filtering is to find other users similar to myself, based on their ratings history, and then recommend movies they liked that I haven't seen yet. Item-based collaborative filtering is essentially flipping the problem on its head. Instead of looking for other people similar to myself, and recommending stuff they liked, I instead look at the things I liked, and recommend stuff that's similar to those things."
      ]
    },
    {
      "cell_type": "markdown",
      "metadata": {
        "id": "MtVzcHtNxNW6"
      },
      "source": [
        "Based purely on the metrics, the `ItemKNNZBaseline` would be my model of choice:"
      ]
    },
    {
      "cell_type": "markdown",
      "metadata": {
        "id": "vpRX2DrLQ5B_"
      },
      "source": [
        "| Algorithm | RMSE | MAE | HR | cHR | ARHR | Coverage | Diversity | Novelty |\n",
        "|--|--|--|--|--|--|--|--|--|   \n",
        "| Item KNNZBaseline | 0.8931 | 0.6866 | 0.0246 | 0.0246 | 0.0094 | 0.9525 | 0.5054 | 4512.4656 |\n",
        "| Random | 1.4206 | 1.1336 | 0.0180 | 0.0180 | 0.0072 | 1.0000 | 0.0522 | 854.7062 | "
      ]
    },
    {
      "cell_type": "markdown",
      "metadata": {
        "id": "roCe2sxYxj1O"
      },
      "source": [
        "However, based on the top 10 recommendations, I would not recommend  this model live A/B Testing:\n",
        "\n",
        "```\n",
        "Using recommender  Item KNNZBaseline\n",
        "\n",
        "We recommend:\n",
        "Awfully Big Adventure, An (1995) 4.925100503405479\n",
        "What Happened Was... (1994) 4.925100503405479\n",
        "Alice (2009) 4.869229031846505\n",
        "Librarian: Quest for the Spear, The (2004) 4.840694735562784\n",
        "Librarian, The: The Curse of the Judas Chalice (2008) 4.840694735562784\n",
        "FairyTale: A True Story (1997) 4.82377448639196\n",
        "Dead Like Me: Life After Death (2009) 4.82377448639196\n",
        "Librarian: Return to King Solomon's Mines, The (2006) 4.799028068896117\n",
        "Merlin (1998) 4.778319940937414\n",
        "Last Legion, The (2007) 4.778319940937414\n",
        "```"
      ]
    },
    {
      "cell_type": "markdown",
      "metadata": {
        "id": "YB9NZ0Pvx5lM"
      },
      "source": [
        "Unfortunately, none of the other algorithms performed any better nor recommended better movies.\n",
        "\n",
        "\n",
        "\n"
      ]
    },
    {
      "cell_type": "markdown",
      "metadata": {
        "id": "LgkgzKE2ukE_"
      },
      "source": [
        "***"
      ]
    },
    {
      "cell_type": "markdown",
      "metadata": {
        "id": "45q77IiTukFA"
      },
      "source": [
        "[Full Collaborative Based Recommender Notebook](https://colab.research.google.com/github/villafue/Capstone_2_MovieLens/blob/main/Notebook/6_Collaborative_Based_Recommenders.ipynb)"
      ]
    },
    {
      "cell_type": "markdown",
      "metadata": {
        "id": "q5lkYhqdukFA"
      },
      "source": [
        "***"
      ]
    },
    {
      "cell_type": "markdown",
      "metadata": {
        "id": "8j8bMgmHukFA"
      },
      "source": [
        "**[Back to Top](#top)**"
      ]
    },
    {
      "cell_type": "markdown",
      "metadata": {
        "id": "l_-KNtW5ukFB"
      },
      "source": [
        "***"
      ]
    },
    {
      "cell_type": "markdown",
      "metadata": {
        "id": "o89fL_rqyMkQ"
      },
      "source": [
        "# 7."
      ]
    },
    {
      "cell_type": "markdown",
      "metadata": {
        "id": "3Ns5wMz0yMkQ"
      },
      "source": [
        "<a name=\"matrix\"></a>\n",
        "## Matrix Factorization Methods"
      ]
    },
    {
      "cell_type": "markdown",
      "metadata": {
        "id": "dx-_-vD-yPvD"
      },
      "source": [
        "Collaborative filtering is sensitive to noisy and sparse data. This is because not every user rates or reviews a movie. Unfortunately, this sparsity negatively affects recommender systems. Machine learning techniques were soon used tackle the sparsity problem by using [matrix factorization](https://en.wikipedia.org/wiki/Matrix_factorization_(recommender_systems) to impute the missing values. To do this, I used two popular algorithms known as Singular Value Decomposition (SVD) and it's cousin SVD++ for my recommender systems."
      ]
    },
    {
      "cell_type": "markdown",
      "metadata": {
        "id": "StZvLAYe9Go-"
      },
      "source": [
        "This was my best model due to it's recommendations.\n",
        "\n",
        "| Algorithm | RMSE | MAE | HR | cHR | ARHR | Coverage | Diversity |Novelty |  \n",
        "|-|-|-|-|-|-|-|-|-|\n",
        "| SVD - Tuned | 0.8665 | 0.6626 | 0.0262 | 0.0262 | 0.0076 | 0.9672 | 0.2945 | 2030.2127 |\n",
        "\n",
        "```\n",
        "Using recommender  SVD - Tuned\n",
        " \n",
        "We recommend:\n",
        "Pulp Fiction (1994) 5\n",
        "Star Wars: Episode V - The Empire Strikes Back (1980) 5\n",
        "Goodfellas (1990) 5\n",
        "Fight Club (1999) 5\n",
        "Shawshank Redemption, The (1994) 5\n",
        "Departed, The (2006) 5\n",
        "Philadelphia Story, The (1940) 5\n",
        "Rear Window (1954) 5\n",
        "Life Is Beautiful (La Vita Ã¨ bella) (1997) 5\n",
        "Dr. Strangelove or: How I Learned to Stop Worrying and Love the Bomb (1964) 5\n",
        "```"
      ]
    },
    {
      "cell_type": "markdown",
      "metadata": {
        "id": "k3pwKaaOyMkO"
      },
      "source": [
        "***"
      ]
    },
    {
      "cell_type": "markdown",
      "metadata": {
        "id": "sVm87nBwyMkP"
      },
      "source": [
        "[Full Matrix Factorization Methods Notebook](https://colab.research.google.com/github/villafue/Capstone_2_MovieLens/blob/main/Notebook/7_Matrix_Factorization_Methods.ipynb)"
      ]
    },
    {
      "cell_type": "markdown",
      "metadata": {
        "id": "uixCl4VdyMkP"
      },
      "source": [
        "***"
      ]
    },
    {
      "cell_type": "markdown",
      "metadata": {
        "id": "KcUiZ25ZyMkP"
      },
      "source": [
        "**[Back to Top](#top)**"
      ]
    },
    {
      "cell_type": "markdown",
      "metadata": {
        "id": "8YBS5XCiyMkQ"
      },
      "source": [
        "***"
      ]
    },
    {
      "cell_type": "markdown",
      "metadata": {
        "id": "OlUN8aQrJ5hQ"
      },
      "source": [
        "# 8."
      ]
    },
    {
      "cell_type": "markdown",
      "metadata": {
        "id": "sxVc5wIaJ5hR"
      },
      "source": [
        "<a name=\"deep_learning\"></a>\n",
        "## Deep Learning Recommenders"
      ]
    },
    {
      "cell_type": "markdown",
      "metadata": {
        "id": "aW26zh5lJ5hR"
      },
      "source": [
        "In this section, I'm going to try two neural networks coded by Frank. The first is [Restricted Boltzmann Machines (RBM)](https://wiki.pathmind.com/restricted-boltzmann-machine) and the second [Autoencoders for Recommendations (AutoRec)](https://medium.com/@connectwithghosh/recommender-system-on-the-movielens-using-an-autoencoder-using-tensorflow-in-python-f13d3e8d600d). Deep Learning recommenders allow us take advantage of all the rapid advances in the fields of AI and deep learning. Furthermore, Neural networks (deep learning models) have the potential to find complex patterns that more traditional machine learning techniques may miss. It can also handle larger datasets especially when using TensorFlow along clusters of GPUs."
      ]
    },
    {
      "cell_type": "markdown",
      "metadata": {
        "id": "ltIamVurHzfM"
      },
      "source": [
        "Below is my best model:\n",
        "\n",
        "| Algorithm | RMSE | MAE | HR | cHR | ARHR | Coverage | Diversity |Novelty |  \n",
        "|-|-|-|-|-|-|-|-|-|\n",
        "| RBM - Tuned | 1.2797 | 1.0856 | 0.0230 | 0.0230 | 0.0089 | 0.0000 | 0.0574 | 965.0569 |\n",
        "\n",
        "```\n",
        "Using recommender  RBM - Tuned\n",
        "\n",
        "We recommend:\n",
        "Departed, The (2006) 2.892468\n",
        "Howl's Moving Castle (Hauru no ugoku shiro) (2004) 2.8908362\n",
        "Fight Club (1999) 2.8869665\n",
        "Memento (2000) 2.8868942\n",
        "Inside Out (2015) 2.8860178\n",
        "Monsters, Inc. (2001) 2.8839574\n",
        "Spirited Away (Sen to Chihiro no kamikakushi) (2001) 2.8832886\n",
        "Finding Nemo (2003) 2.8820338\n",
        "Godfather, The (1972) 2.8793077\n",
        "How to Train Your Dragon (2010) 2.8788555\n",
        "```"
      ]
    },
    {
      "cell_type": "markdown",
      "metadata": {
        "id": "JsEAxDKPJ5hS"
      },
      "source": [
        "***"
      ]
    },
    {
      "cell_type": "markdown",
      "metadata": {
        "id": "dIJaC-ZcJ5hS"
      },
      "source": [
        "[Full Deep Learning Recommenders Notebook](https://colab.research.google.com/github/villafue/Capstone_2_MovieLens/blob/main/Notebook/7_Matrix_Factorization_Methods.ipynb)"
      ]
    },
    {
      "cell_type": "markdown",
      "metadata": {
        "id": "cEqD0wwFJ5hT"
      },
      "source": [
        "***"
      ]
    },
    {
      "cell_type": "markdown",
      "metadata": {
        "id": "oVgyrKjoJ5hT"
      },
      "source": [
        "**[Back to Top](#top)**"
      ]
    },
    {
      "cell_type": "markdown",
      "metadata": {
        "id": "mmsOxgpcJ5hT"
      },
      "source": [
        "***"
      ]
    },
    {
      "cell_type": "markdown",
      "metadata": {
        "id": "BBibVaLuIV5j"
      },
      "source": [
        "# 9."
      ]
    },
    {
      "cell_type": "markdown",
      "metadata": {
        "id": "aLW07lURIV5k"
      },
      "source": [
        "<a name=\"hybrid\"></a>\n",
        "## Hybrid Recommenders"
      ]
    },
    {
      "cell_type": "markdown",
      "metadata": {
        "id": "brtat5PsKXWZ"
      },
      "source": [
        "In the real world, there's no need to choose a single algorithm for a recommender system. Each algorithm has its own strengths and weaknesses and it's possible to create a better system by combining many models together in a hybrid system. Developing recommender systems sometimes feels like more of an art than a science, and choosing how to combine different algorithms can feel like choosing different colors, in a painting, that complement each other. "
      ]
    },
    {
      "cell_type": "markdown",
      "metadata": {
        "id": "UiJHHC6WHkEa"
      },
      "source": [
        "After experimenting with 17 different Hybrid models, this is my Hybrid recommender of choice:\n",
        "\n",
        "```\n",
        "Algorithm     RMSE       MAE        HR         cHR        ARHR       Coverage   Diversity  Novelty   \n",
        "Hybrid9407    0.8577     0.6594     0.0328     0.0328     0.0137     0.9295     0.1716     1372.1110\n",
        "\n",
        "------\n",
        "\n",
        "Using recommender  Hybrid - 9.4.07\n",
        "We recommend:\n",
        "Usual Suspects, The (1995) 5\n",
        "Pulp Fiction (1994) 5\n",
        "Star Wars: Episode V - The Empire Strikes Back (1980) 5\n",
        "Princess Bride, The (1987) 5\n",
        "Fight Club (1999) 5\n",
        "Shawshank Redemption, The (1994) 5\n",
        "Departed, The (2006) 5\n",
        "Philadelphia Story, The (1940) 5\n",
        "Life Is Beautiful (La Vita Ã¨ bella) (1997) 5\n",
        "In the Mood For Love (Fa yeung nin wa) (2000) 5\n",
        "```\n",
        "\n",
        "It's `RSME` is among the lowest of any model I've trained, has decent Hit Rates, and `Novelty` score is not too high. Furthermore, it has my favorite movie recommendations of all the Hybrid models.\n"
      ]
    },
    {
      "cell_type": "markdown",
      "metadata": {
        "id": "u-fB1V3SIV5k"
      },
      "source": [
        "***"
      ]
    },
    {
      "cell_type": "markdown",
      "metadata": {
        "id": "l4hIVt0cIV5l"
      },
      "source": [
        "[Full Hybrid Recommenders Notebook](https://colab.research.google.com/github/villafue/Capstone_2_MovieLens/blob/main/Notebook/9_Hybrid.ipynb)"
      ]
    },
    {
      "cell_type": "markdown",
      "metadata": {
        "id": "Eo8z5i9NIV5l"
      },
      "source": [
        "***"
      ]
    },
    {
      "cell_type": "markdown",
      "metadata": {
        "id": "U-3wuDJtIV5l"
      },
      "source": [
        "**[Back to Top](#top)**"
      ]
    },
    {
      "cell_type": "markdown",
      "metadata": {
        "id": "OBSTAsjZIV5l"
      },
      "source": [
        "***"
      ]
    },
    {
      "cell_type": "markdown",
      "metadata": {
        "id": "Jl6Q-ExnMU_I"
      },
      "source": [
        "# 10."
      ]
    },
    {
      "cell_type": "markdown",
      "metadata": {
        "id": "gogDyZSOMU_I"
      },
      "source": [
        "<a name=\"best_model\"></a>\n",
        "## Best Model"
      ]
    },
    {
      "cell_type": "markdown",
      "metadata": {
        "id": "LdKpxSYDMU_J"
      },
      "source": [
        "I chose my favorite model from each type of recommendation system. They are showcased below:"
      ]
    },
    {
      "cell_type": "markdown",
      "metadata": {
        "id": "3gGReKusPZeQ"
      },
      "source": [
        "```\n",
        "Algorithm         RMSE       MAE        HR         cHR        ARHR       Coverage   Diversity  Novelty   \n",
        "RBM - Tuned       1.2797     1.0856     0.0230     0.0230     0.0089     0.0000     0.0574     965.0569\n",
        "ContentKNN        0.9336     0.7224     0.0049     0.0049     0.0012     0.5492     0.3442     2981.5376\n",
        "Item KNNZBaseline 0.8931     0.6866     0.0246     0.0246     0.0094     0.9525     0.5054     4512.4656\n",
        "SVD - Tuned       0.8665     0.6626     0.0262     0.0262     0.0076     0.9672     0.2945     2030.2127\n",
        "Hybrid - 9.4.07   0.8577     0.6594     0.0328     0.0328     0.0137     0.9295     0.1716     1372.1110\n",
        "\n",
        "Legend:\n",
        "\n",
        "RMSE:      Root Mean Squared Error. Lower values mean better accuracy.\n",
        "MAE:       Mean Absolute Error. Lower values mean better accuracy.\n",
        "HR:        Hit Rate; how often we are able to recommend a left-out rating. Higher is better.\n",
        "cHR:       Cumulative Hit Rate; hit rate, confined to ratings above a certain threshold. Higher is better.\n",
        "ARHR:      Average Reciprocal Hit Rank - Hit rate that takes the ranking into account. Higher is better.\n",
        "Coverage:  Ratio of users for whom recommendations above a certain threshold exist. Higher is better.\n",
        "Diversity: 1-S, where S is the average similarity score between every possible pair of recommendations\n",
        "           for a given user. Higher means more diverse.\n",
        "Novelty:   Average popularity rank of recommended items. Higher means more novel.\n",
        "```\n",
        "\n",
        "\n",
        "\n"
      ]
    },
    {
      "cell_type": "markdown",
      "metadata": {
        "id": "O7ZH-ZhBhY7X"
      },
      "source": [
        "Based on metrics alone, I would choose [`Hybrid - 9.4.07`](https://colab.research.google.com/github/villafue/Capstone_2_MovieLens/blob/main/Notebook/9_Hybrid.ipynb#947) because it has the lowest `RMSE`, highest hit rates, and decent `Novelty` score. This Hybrid model is equally weighted between an untuned SVD++ algorithm and a tuned SVD algorithm.\n",
        "\n",
        "Now, I'm going to look at the top 10 recommendations. "
      ]
    },
    {
      "cell_type": "markdown",
      "metadata": {
        "id": "pgzitE9zPutj"
      },
      "source": [
        "```\n",
        "Using recommender  RBM - Tuned\n",
        " \n",
        "We recommend:\n",
        "Departed, The (2006) 2.892468\n",
        "Howl's Moving Castle (Hauru no ugoku shiro) (2004) 2.8908362\n",
        "Fight Club (1999) 2.8869665\n",
        "Memento (2000) 2.8868942\n",
        "Inside Out (2015) 2.8860178\n",
        "Monsters, Inc. (2001) 2.8839574\n",
        "Spirited Away (Sen to Chihiro no kamikakushi) (2001) 2.8832886\n",
        "Finding Nemo (2003) 2.8820338\n",
        "Godfather, The (1972) 2.8793077\n",
        "How to Train Your Dragon (2010) 2.8788555\n",
        "\n",
        "--------------\n",
        "\n",
        "Using recommender  ContentKNN\n",
        "We recommend:\n",
        "Ant-Man and the Wasp (2018) 4.7450497998793395\n",
        "The Darkest Minds (2018) 4.7450497998793395\n",
        "Annihilation (2018) 4.7450497998793395\n",
        "Game Night (2018) 4.7450497998793395\n",
        "Tomb Raider (2018) 4.7450497998793395\n",
        "Alpha (2018) 4.7450497998793395\n",
        "Solo: A Star Wars Story (2018) 4.7450497998793395\n",
        "Fred Armisen: Standup for Drummers (2018) 4.7450497998793395\n",
        "Tom Segura: Disgraceful (2018) 4.7450497998793395\n",
        "When We First Met (2018) 4.7450497998793395\n",
        "\n",
        "--------------\n",
        "\n",
        "Using recommender  Item KNNZBaseline\n",
        "We recommend:\n",
        "Awfully Big Adventure, An (1995) 4.925100503405479\n",
        "What Happened Was... (1994) 4.925100503405479\n",
        "Alice (2009) 4.869229031846505\n",
        "Librarian: Quest for the Spear, The (2004) 4.840694735562784\n",
        "Librarian, The: The Curse of the Judas Chalice (2008) 4.840694735562784\n",
        "FairyTale: A True Story (1997) 4.82377448639196\n",
        "Dead Like Me: Life After Death (2009) 4.82377448639196\n",
        "Librarian: Return to King Solomon's Mines, The (2006) 4.799028068896117\n",
        "Merlin (1998) 4.778319940937414\n",
        "Last Legion, The (2007) 4.778319940937414\n",
        "\n",
        "--------------\n",
        "\n",
        "Using recommender  SVD - Tuned\n",
        " We recommend:\n",
        "Pulp Fiction (1994) 5\n",
        "Star Wars: Episode V - The Empire Strikes Back (1980) 5\n",
        "Goodfellas (1990) 5\n",
        "Fight Club (1999) 5\n",
        "Shawshank Redemption, The (1994) 5\n",
        "Departed, The (2006) 5\n",
        "Philadelphia Story, The (1940) 5\n",
        "Rear Window (1954) 5\n",
        "Life Is Beautiful (La Vita Ã¨ bella) (1997) 5\n",
        "Dr. Strangelove or: How I Learned to Stop Worrying and Love the Bomb (1964) 5\n",
        "\n",
        "--------------\n",
        "\n",
        "Using recommender  Hybrid - 9.4.07\n",
        "We recommend:\n",
        "Usual Suspects, The (1995) 5\n",
        "Pulp Fiction (1994) 5\n",
        "Star Wars: Episode V - The Empire Strikes Back (1980) 5\n",
        "Princess Bride, The (1987) 5\n",
        "Fight Club (1999) 5\n",
        "Shawshank Redemption, The (1994) 5\n",
        "Departed, The (2006) 5\n",
        "Philadelphia Story, The (1940) 5\n",
        "Life Is Beautiful (La Vita Ã¨ bella) (1997) 5\n",
        "In the Mood For Love (Fa yeung nin wa) (2000) 5\n",
        "```"
      ]
    },
    {
      "cell_type": "markdown",
      "metadata": {
        "id": "cAmonZ7sihdH"
      },
      "source": [
        "Based solely on the top 10 recommendations, I would choose the `RBM` model because it has a good mix of recent and older movies. Although, half of the recommendations seem to be children's adventure cartoons, I would actually enjoy those movies. Also, the other half of the recommendations are a mix of drama and action, which I like too.\n",
        "\n",
        "I don't like the idea of only choosing one recommender system, but I had to I would choose:"
      ]
    },
    {
      "cell_type": "markdown",
      "metadata": {
        "id": "dOxH-VXfjbD6"
      },
      "source": [
        "```\n",
        "Algorithm         RMSE       MAE        HR         cHR        ARHR       Coverage   Diversity  Novelty   \n",
        "Hybrid - 9.4.07   0.8577     0.6594     0.0328     0.0328     0.0137     0.9295     0.1716     1372.1110\n",
        "\n",
        "-----\n",
        "\n",
        "Using recommender  Hybrid - 9.4.07\n",
        "We recommend:\n",
        "Usual Suspects, The (1995) 5\n",
        "Pulp Fiction (1994) 5\n",
        "Star Wars: Episode V - The Empire Strikes Back (1980) 5\n",
        "Princess Bride, The (1987) 5\n",
        "Fight Club (1999) 5\n",
        "Shawshank Redemption, The (1994) 5\n",
        "Departed, The (2006) 5\n",
        "Philadelphia Story, The (1940) 5\n",
        "Life Is Beautiful (La Vita Ã¨ bella) (1997) 5\n",
        "In the Mood For Love (Fa yeung nin wa) (2000) 5\n",
        "\n",
        "```"
      ]
    },
    {
      "cell_type": "markdown",
      "metadata": {
        "id": "OVUnd4fWjpl4"
      },
      "source": [
        "I actually really love 6-7 of these movies, but I'm worried that the recommendations are mostly 20 years old. That being said, I think this would be a good algorithm to perform an A/B test online."
      ]
    },
    {
      "cell_type": "markdown",
      "metadata": {
        "id": "mduaDbKPMU_J"
      },
      "source": [
        "***"
      ]
    },
    {
      "cell_type": "markdown",
      "metadata": {
        "id": "zl3AXw_CMU_K"
      },
      "source": [
        "**[Back to Top](#top)**"
      ]
    },
    {
      "cell_type": "markdown",
      "metadata": {
        "id": "XOLO692xMU_K"
      },
      "source": [
        "***"
      ]
    },
    {
      "cell_type": "markdown",
      "metadata": {
        "id": "zwznT-TykE6l"
      },
      "source": [
        "# 11."
      ]
    },
    {
      "cell_type": "markdown",
      "metadata": {
        "id": "gF_rMyE1kE6l"
      },
      "source": [
        "<a name=\"conclusion\"></a>\n",
        "## Conclusion"
      ]
    },
    {
      "cell_type": "markdown",
      "metadata": {
        "id": "SID246JlsTeh"
      },
      "source": [
        "<a name=\"afterward\"></a>\n",
        "### 11.1 - Afterward"
      ]
    },
    {
      "cell_type": "markdown",
      "metadata": {
        "id": "mFieaIMBkKK1"
      },
      "source": [
        "This was a real labor of love. I spent countless hours pouring through tutorials, websites, and videos all to try and comprehend this amazing system that somehow magically recommends content that we like. I'm very thankful to have found Frank's course. I learned and built content-based, collaborative-based, and machine-learning (SVD, etc.) recommenders. Then, I got to dissect and tune Deep Learning models, and experiment and explore creating hybrid ensembles. \n",
        "\n",
        "During this time, I paid more attention to the recommender systems in my own life. I regularly use Netflix, HBOMax, and Disney+ and what I notice is that they do not use just one recommender. On my home screen, I see multiple rows of recommendations, some based on popularity, another from my preferences, and even recommendations from my watch history. If I had a say in how I would build my own movie recommender system, I would follow a similar pattern. I would use my `ContentKNN` algorithm to recommend popular movies, my `Hybrid - 9.4.07` algorithm for recommendations based upon my interests and watch history, and I would definitely include the `Random` algorithm to give users the opportunity to explore movies the other two algorithms would otherwise overlook. \n",
        "\n",
        "I will give further avenues for exploration in the section below."
      ]
    },
    {
      "cell_type": "markdown",
      "metadata": {
        "id": "dVDTsQnAmf25"
      },
      "source": [
        "***"
      ]
    },
    {
      "cell_type": "markdown",
      "metadata": {
        "id": "lZ-D4V2smf26"
      },
      "source": [
        "**[Back to Top](#top)**"
      ]
    },
    {
      "cell_type": "markdown",
      "metadata": {
        "id": "2GuQbR2Fmf26"
      },
      "source": [
        "***"
      ]
    },
    {
      "cell_type": "markdown",
      "metadata": {
        "id": "CMt2qLMfmdcy"
      },
      "source": [
        "<a name=\"exploration\"></a>\n",
        "### 11.2 - Avenues for Further Exploration"
      ]
    },
    {
      "cell_type": "markdown",
      "metadata": {
        "id": "bs-GTMh7mg7E"
      },
      "source": [
        "In this section, I'm going to include a list of ideas for further exploration and improvement:\n",
        "\n",
        "\n",
        "\n",
        "1.   Frank said one of the biggest issues was data sparsity, and admitted that 100k ratings is not enough information. Because of this, some models did not perform as well or as optimal as possible. One avenue I would like to take is to use the full 27 million rating dataset from [GroupLens.org](https://grouplens.org/datasets/movielens/). \n",
        "2.   Exploring the full 27 million dataset would probably require me to use a platform like Apache Spark to spread all the data among clusters. Using this platform would be a worthy endeavor in and of itself.\n",
        "\n",
        "3. The MovieLens dataset has a links.csv which contain movie identifiers for movie databases such as IMDB. By using the identifiers, I can download matching information, for a movie, such as directors, actors, synopses, etc. These added features would allow higher avenues of exploration.\n",
        "\n",
        "4. I did not use any sort of [TF-IDF](https://en.wikipedia.org/wiki/Tf%E2%80%93idf) algorithms as there were no summaries, movie reviews, or synopses to analyze for a recommender system. If I had that information, I could use those as part of an algorithm.\n",
        "\n",
        "5. Other areas of improvement stems from technical issues. I could only use RandomizedSearchCV with one of my algorithms. With the exception of SVD, I'm not confident in my hyperparameter tuning as it took all day to run and I could only use GridSearchCV. Also, Frank admitted the Hybrid algorithm was rather simple. I had to input the weights of each algorithm and that was how my Hybrid recommender was created. I would like to one day partner with a programmer or do it myself where the weights are learned for each Hybrid model.\n",
        "\n",
        "6. Instead of an algorithm recommending top ten movies, I would like to customize it by maybe having it only recommend the top eight or nine movies instead. The last two slots could be reserved with random movies or popular movies. Furthermore, Frank's framework did not allow an algorithm to recommend a movie a user has already seen. This meant that favorite movies such as Avengers or Star Wars would never be recommended again. I think allowing a recommendation of at least one watched movie would establish user trust in the recommender system, which could give the user peace-of-mind that the recommendations are relevant for him or her.\n",
        "\n"
      ]
    },
    {
      "cell_type": "markdown",
      "metadata": {
        "id": "oNQTgMKAmhEM"
      },
      "source": [
        "***"
      ]
    },
    {
      "cell_type": "markdown",
      "metadata": {
        "id": "Uilk2NQGmhEM"
      },
      "source": [
        "**[Back to Top](#top)**"
      ]
    },
    {
      "cell_type": "markdown",
      "metadata": {
        "id": "VRb1r0S9mhEN"
      },
      "source": [
        "***"
      ]
    },
    {
      "cell_type": "markdown",
      "metadata": {
        "id": "Htuw_yKvmdm1"
      },
      "source": [
        "<a name=\"references\"></a>\n",
        "### 11.3 - Acknowledgements and References"
      ]
    },
    {
      "cell_type": "markdown",
      "metadata": {
        "id": "QLaCUIOXmiHF"
      },
      "source": [
        "This project would not have come to pass without the help or knowledge from the following people:\n",
        "\n",
        "\n",
        "\n",
        "1.   Kenneth Gil-Pasquel, my Springboard Data Science Advisor, was essential in the quality and timely completion of this project.  \n",
        "2.   [Frank Kane](https://www.linkedin.com/in/fkane/?trk=lil_course) and his [Building Recommender Systems with Machine Learning and AI](https://sundog-education.com/course/building-recommender-systems-with-machine-learning-and-ai/) is the framework my recommender systems were built upon. Furthermore, I loved how he explained recommendation systems from a practical and business standpoint, rather than just a scientific one (i.e. just trying to achieve the lowest RMSE possible).\n",
        "3. Tamas Bakos and his [Movie Recommendation Algorithm](https://www.kaggle.com/bakostamas/movie-recommendation-algorithm) notebook on Kaggle. It helped while I was doing my EDA.\n",
        "4. Jagannath Neupane and his [Analysis of MovieLens Dataset (Beginner's Analysis)](https://www.kaggle.com/jneupane12/analysis-of-movielens-dataset-beginner-sanalysis) notebook on Kaggle. His EDA was very helpful and I used his code to create the WordCount visual.\n",
        "\n"
      ]
    },
    {
      "cell_type": "markdown",
      "metadata": {
        "id": "sFCnRARPkE6k"
      },
      "source": [
        "***"
      ]
    },
    {
      "cell_type": "markdown",
      "metadata": {
        "id": "_gKv7_5dkE6k"
      },
      "source": [
        "**[Back to Top](#top)**"
      ]
    },
    {
      "cell_type": "markdown",
      "metadata": {
        "id": "cqPTTEkNkE6l"
      },
      "source": [
        "***"
      ]
    }
  ]
}